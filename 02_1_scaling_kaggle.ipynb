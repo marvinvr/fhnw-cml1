{
 "cells": [
  {
   "cell_type": "markdown",
   "metadata": {
    "collapsed": false
   },
   "source": [
    "# Data Wrangling and explorative data analysis"
   ]
  },
  {
   "attachments": {},
   "cell_type": "markdown",
   "metadata": {
    "collapsed": false
   },
   "source": [
    "### Imports"
   ]
  },
  {
   "cell_type": "code",
   "execution_count": 152,
   "metadata": {
    "collapsed": true
   },
   "outputs": [],
   "source": [
    "import pandas as pd\n",
    "import numpy as np\n",
    "\n",
    "from pathlib import Path\n",
    "from joblib import load\n",
    "\n",
    "import warnings\n",
    "warnings.filterwarnings('ignore')"
   ]
  },
  {
   "attachments": {},
   "cell_type": "markdown",
   "metadata": {
    "collapsed": false
   },
   "source": [
    "### CSV Import"
   ]
  },
  {
   "cell_type": "code",
   "execution_count": 153,
   "metadata": {
    "collapsed": false
   },
   "outputs": [],
   "source": [
    "source_path = Path('./data/kaggle/immoscout_daw.csv')\n",
    "df = pd.read_csv(source_path)"
   ]
  },
  {
   "cell_type": "code",
   "execution_count": 154,
   "metadata": {
    "collapsed": false
   },
   "outputs": [
    {
     "data": {
      "text/plain": "   Living space  Plot area  Floor  ForestDensityL  ForestDensityM  \\\n0         220.0      733.0    3.4        0.164382        0.100030   \n1         230.0      702.0    3.4        0.260855        0.170434   \n2         131.0      310.8    1.2        0.434114        0.357984   \n3         140.0      206.0    3.0        0.148190        0.076610   \n4         156.0      222.0    1.2        0.511176        0.286451   \n\n   ForestDensityS   Latitude  Longitude  NoisePollutionRailwayL  \\\n0        0.063548  47.372110   8.075858                0.003811   \n1        0.083253  47.371558   8.073110                0.002623   \n2        0.125505  47.413754   8.082318                0.000000   \n3        0.000000  47.373327   8.076892                0.005193   \n4        0.090908  47.415927   8.085840                0.000000   \n\n   NoisePollutionRailwayM  ...  type_unified_penthouse  type_unified_rustico  \\\n0                     0.0  ...                     0.0                   0.0   \n1                     0.0  ...                     0.0                   0.0   \n2                     0.0  ...                     0.0                   0.0   \n3                     0.0  ...                     0.0                   0.0   \n4                     0.0  ...                     0.0                   0.0   \n\n   type_unified_secondary-suite  type_unified_semi-detached-house  \\\n0                           0.0                               0.0   \n1                           0.0                               0.0   \n2                           0.0                               0.0   \n3                           0.0                               0.0   \n4                           0.0                               0.0   \n\n   type_unified_single-room  type_unified_stepped-apartment  \\\n0                       0.0                             0.0   \n1                       0.0                             0.0   \n2                       0.0                             0.0   \n3                       0.0                             0.0   \n4                       0.0                             0.0   \n\n   type_unified_stepped-house  type_unified_studio  \\\n0                         0.0                  0.0   \n1                         0.0                  0.0   \n2                         1.0                  0.0   \n3                         0.0                  0.0   \n4                         0.0                  0.0   \n\n   type_unified_terrace-house  type_unified_villa  \n0                         0.0                 1.0  \n1                         0.0                 0.0  \n2                         0.0                 0.0  \n3                         1.0                 0.0  \n4                         1.0                 0.0  \n\n[5 rows x 69 columns]",
      "text/html": "<div>\n<style scoped>\n    .dataframe tbody tr th:only-of-type {\n        vertical-align: middle;\n    }\n\n    .dataframe tbody tr th {\n        vertical-align: top;\n    }\n\n    .dataframe thead th {\n        text-align: right;\n    }\n</style>\n<table border=\"1\" class=\"dataframe\">\n  <thead>\n    <tr style=\"text-align: right;\">\n      <th></th>\n      <th>Living space</th>\n      <th>Plot area</th>\n      <th>Floor</th>\n      <th>ForestDensityL</th>\n      <th>ForestDensityM</th>\n      <th>ForestDensityS</th>\n      <th>Latitude</th>\n      <th>Longitude</th>\n      <th>NoisePollutionRailwayL</th>\n      <th>NoisePollutionRailwayM</th>\n      <th>...</th>\n      <th>type_unified_penthouse</th>\n      <th>type_unified_rustico</th>\n      <th>type_unified_secondary-suite</th>\n      <th>type_unified_semi-detached-house</th>\n      <th>type_unified_single-room</th>\n      <th>type_unified_stepped-apartment</th>\n      <th>type_unified_stepped-house</th>\n      <th>type_unified_studio</th>\n      <th>type_unified_terrace-house</th>\n      <th>type_unified_villa</th>\n    </tr>\n  </thead>\n  <tbody>\n    <tr>\n      <th>0</th>\n      <td>220.0</td>\n      <td>733.0</td>\n      <td>3.4</td>\n      <td>0.164382</td>\n      <td>0.100030</td>\n      <td>0.063548</td>\n      <td>47.372110</td>\n      <td>8.075858</td>\n      <td>0.003811</td>\n      <td>0.0</td>\n      <td>...</td>\n      <td>0.0</td>\n      <td>0.0</td>\n      <td>0.0</td>\n      <td>0.0</td>\n      <td>0.0</td>\n      <td>0.0</td>\n      <td>0.0</td>\n      <td>0.0</td>\n      <td>0.0</td>\n      <td>1.0</td>\n    </tr>\n    <tr>\n      <th>1</th>\n      <td>230.0</td>\n      <td>702.0</td>\n      <td>3.4</td>\n      <td>0.260855</td>\n      <td>0.170434</td>\n      <td>0.083253</td>\n      <td>47.371558</td>\n      <td>8.073110</td>\n      <td>0.002623</td>\n      <td>0.0</td>\n      <td>...</td>\n      <td>0.0</td>\n      <td>0.0</td>\n      <td>0.0</td>\n      <td>0.0</td>\n      <td>0.0</td>\n      <td>0.0</td>\n      <td>0.0</td>\n      <td>0.0</td>\n      <td>0.0</td>\n      <td>0.0</td>\n    </tr>\n    <tr>\n      <th>2</th>\n      <td>131.0</td>\n      <td>310.8</td>\n      <td>1.2</td>\n      <td>0.434114</td>\n      <td>0.357984</td>\n      <td>0.125505</td>\n      <td>47.413754</td>\n      <td>8.082318</td>\n      <td>0.000000</td>\n      <td>0.0</td>\n      <td>...</td>\n      <td>0.0</td>\n      <td>0.0</td>\n      <td>0.0</td>\n      <td>0.0</td>\n      <td>0.0</td>\n      <td>0.0</td>\n      <td>1.0</td>\n      <td>0.0</td>\n      <td>0.0</td>\n      <td>0.0</td>\n    </tr>\n    <tr>\n      <th>3</th>\n      <td>140.0</td>\n      <td>206.0</td>\n      <td>3.0</td>\n      <td>0.148190</td>\n      <td>0.076610</td>\n      <td>0.000000</td>\n      <td>47.373327</td>\n      <td>8.076892</td>\n      <td>0.005193</td>\n      <td>0.0</td>\n      <td>...</td>\n      <td>0.0</td>\n      <td>0.0</td>\n      <td>0.0</td>\n      <td>0.0</td>\n      <td>0.0</td>\n      <td>0.0</td>\n      <td>0.0</td>\n      <td>0.0</td>\n      <td>1.0</td>\n      <td>0.0</td>\n    </tr>\n    <tr>\n      <th>4</th>\n      <td>156.0</td>\n      <td>222.0</td>\n      <td>1.2</td>\n      <td>0.511176</td>\n      <td>0.286451</td>\n      <td>0.090908</td>\n      <td>47.415927</td>\n      <td>8.085840</td>\n      <td>0.000000</td>\n      <td>0.0</td>\n      <td>...</td>\n      <td>0.0</td>\n      <td>0.0</td>\n      <td>0.0</td>\n      <td>0.0</td>\n      <td>0.0</td>\n      <td>0.0</td>\n      <td>0.0</td>\n      <td>0.0</td>\n      <td>1.0</td>\n      <td>0.0</td>\n    </tr>\n  </tbody>\n</table>\n<p>5 rows × 69 columns</p>\n</div>"
     },
     "execution_count": 154,
     "metadata": {},
     "output_type": "execute_result"
    }
   ],
   "source": [
    "df.head()"
   ]
  },
  {
   "attachments": {},
   "cell_type": "markdown",
   "metadata": {},
   "source": [
    "### Scaling\n",
    "Using the Min-Max-Method"
   ]
  },
  {
   "cell_type": "code",
   "execution_count": 155,
   "metadata": {},
   "outputs": [
    {
     "data": {
      "text/plain": "   Living space  Plot area     Floor  ForestDensityL  ForestDensityM  \\\n0      0.022119   0.002043  0.264286        0.183264        0.100085   \n1      0.023152   0.001955  0.264286        0.290820        0.170527   \n2      0.012920   0.000840  0.185714        0.483981        0.358180   \n3      0.013850   0.000541  0.250000        0.165213        0.076652   \n4      0.015504   0.000587  0.185714        0.569894        0.286608   \n\n   ForestDensityS  Latitude  Longitude  NoisePollutionRailwayL  \\\n0        0.063548  0.786382   0.475555                0.014734   \n1        0.083253  0.786102   0.474934                0.010139   \n2        0.125505  0.807571   0.477015                0.000000   \n3        0.000000  0.787002   0.475789                0.020076   \n4        0.090908  0.808677   0.477811                0.000000   \n\n   NoisePollutionRailwayM  ...  type_unified_penthouse  type_unified_rustico  \\\n0                     0.0  ...                     0.0                   0.0   \n1                     0.0  ...                     0.0                   0.0   \n2                     0.0  ...                     0.0                   0.0   \n3                     0.0  ...                     0.0                   0.0   \n4                     0.0  ...                     0.0                   0.0   \n\n   type_unified_secondary-suite  type_unified_semi-detached-house  \\\n0                           0.0                               0.0   \n1                           0.0                               0.0   \n2                           0.0                               0.0   \n3                           0.0                               0.0   \n4                           0.0                               0.0   \n\n   type_unified_single-room  type_unified_stepped-apartment  \\\n0                       0.0                             0.0   \n1                       0.0                             0.0   \n2                       0.0                             0.0   \n3                       0.0                             0.0   \n4                       0.0                             0.0   \n\n   type_unified_stepped-house  type_unified_studio  \\\n0                         0.0                  0.0   \n1                         0.0                  0.0   \n2                         1.0                  0.0   \n3                         0.0                  0.0   \n4                         0.0                  0.0   \n\n   type_unified_terrace-house  type_unified_villa  \n0                         0.0                 1.0  \n1                         0.0                 0.0  \n2                         0.0                 0.0  \n3                         1.0                 0.0  \n4                         1.0                 0.0  \n\n[5 rows x 69 columns]",
      "text/html": "<div>\n<style scoped>\n    .dataframe tbody tr th:only-of-type {\n        vertical-align: middle;\n    }\n\n    .dataframe tbody tr th {\n        vertical-align: top;\n    }\n\n    .dataframe thead th {\n        text-align: right;\n    }\n</style>\n<table border=\"1\" class=\"dataframe\">\n  <thead>\n    <tr style=\"text-align: right;\">\n      <th></th>\n      <th>Living space</th>\n      <th>Plot area</th>\n      <th>Floor</th>\n      <th>ForestDensityL</th>\n      <th>ForestDensityM</th>\n      <th>ForestDensityS</th>\n      <th>Latitude</th>\n      <th>Longitude</th>\n      <th>NoisePollutionRailwayL</th>\n      <th>NoisePollutionRailwayM</th>\n      <th>...</th>\n      <th>type_unified_penthouse</th>\n      <th>type_unified_rustico</th>\n      <th>type_unified_secondary-suite</th>\n      <th>type_unified_semi-detached-house</th>\n      <th>type_unified_single-room</th>\n      <th>type_unified_stepped-apartment</th>\n      <th>type_unified_stepped-house</th>\n      <th>type_unified_studio</th>\n      <th>type_unified_terrace-house</th>\n      <th>type_unified_villa</th>\n    </tr>\n  </thead>\n  <tbody>\n    <tr>\n      <th>0</th>\n      <td>0.022119</td>\n      <td>0.002043</td>\n      <td>0.264286</td>\n      <td>0.183264</td>\n      <td>0.100085</td>\n      <td>0.063548</td>\n      <td>0.786382</td>\n      <td>0.475555</td>\n      <td>0.014734</td>\n      <td>0.0</td>\n      <td>...</td>\n      <td>0.0</td>\n      <td>0.0</td>\n      <td>0.0</td>\n      <td>0.0</td>\n      <td>0.0</td>\n      <td>0.0</td>\n      <td>0.0</td>\n      <td>0.0</td>\n      <td>0.0</td>\n      <td>1.0</td>\n    </tr>\n    <tr>\n      <th>1</th>\n      <td>0.023152</td>\n      <td>0.001955</td>\n      <td>0.264286</td>\n      <td>0.290820</td>\n      <td>0.170527</td>\n      <td>0.083253</td>\n      <td>0.786102</td>\n      <td>0.474934</td>\n      <td>0.010139</td>\n      <td>0.0</td>\n      <td>...</td>\n      <td>0.0</td>\n      <td>0.0</td>\n      <td>0.0</td>\n      <td>0.0</td>\n      <td>0.0</td>\n      <td>0.0</td>\n      <td>0.0</td>\n      <td>0.0</td>\n      <td>0.0</td>\n      <td>0.0</td>\n    </tr>\n    <tr>\n      <th>2</th>\n      <td>0.012920</td>\n      <td>0.000840</td>\n      <td>0.185714</td>\n      <td>0.483981</td>\n      <td>0.358180</td>\n      <td>0.125505</td>\n      <td>0.807571</td>\n      <td>0.477015</td>\n      <td>0.000000</td>\n      <td>0.0</td>\n      <td>...</td>\n      <td>0.0</td>\n      <td>0.0</td>\n      <td>0.0</td>\n      <td>0.0</td>\n      <td>0.0</td>\n      <td>0.0</td>\n      <td>1.0</td>\n      <td>0.0</td>\n      <td>0.0</td>\n      <td>0.0</td>\n    </tr>\n    <tr>\n      <th>3</th>\n      <td>0.013850</td>\n      <td>0.000541</td>\n      <td>0.250000</td>\n      <td>0.165213</td>\n      <td>0.076652</td>\n      <td>0.000000</td>\n      <td>0.787002</td>\n      <td>0.475789</td>\n      <td>0.020076</td>\n      <td>0.0</td>\n      <td>...</td>\n      <td>0.0</td>\n      <td>0.0</td>\n      <td>0.0</td>\n      <td>0.0</td>\n      <td>0.0</td>\n      <td>0.0</td>\n      <td>0.0</td>\n      <td>0.0</td>\n      <td>1.0</td>\n      <td>0.0</td>\n    </tr>\n    <tr>\n      <th>4</th>\n      <td>0.015504</td>\n      <td>0.000587</td>\n      <td>0.185714</td>\n      <td>0.569894</td>\n      <td>0.286608</td>\n      <td>0.090908</td>\n      <td>0.808677</td>\n      <td>0.477811</td>\n      <td>0.000000</td>\n      <td>0.0</td>\n      <td>...</td>\n      <td>0.0</td>\n      <td>0.0</td>\n      <td>0.0</td>\n      <td>0.0</td>\n      <td>0.0</td>\n      <td>0.0</td>\n      <td>0.0</td>\n      <td>0.0</td>\n      <td>1.0</td>\n      <td>0.0</td>\n    </tr>\n  </tbody>\n</table>\n<p>5 rows × 69 columns</p>\n</div>"
     },
     "execution_count": 155,
     "metadata": {},
     "output_type": "execute_result"
    }
   ],
   "source": [
    "scaled_df = df.copy()\n",
    "source_path = Path('data/model/train_data.pkl')\n",
    "scaler = load(source_path)['scaler']\n",
    "\n",
    "columns = scaled_df.columns\n",
    "\n",
    "scaled_df[columns] = scaler.transform(scaled_df[columns])\n",
    "\n",
    "scaled_df.head()"
   ]
  },
  {
   "attachments": {},
   "cell_type": "markdown",
   "metadata": {},
   "source": [
    "### Enhancing the dataset with additional columns with the power of an existing column"
   ]
  },
  {
   "cell_type": "code",
   "execution_count": 156,
   "metadata": {},
   "outputs": [],
   "source": [
    "numeric_columns = scaled_df.select_dtypes(include=np.number).columns.tolist()\n",
    "\n",
    "numeric_df = scaled_df[numeric_columns]\n",
    "\n",
    "numeric_df = numeric_df.drop(columns=[\n",
    "    col\n",
    "    for col in numeric_columns\n",
    "    if 'type_' in col\n",
    "])\n",
    "\n",
    "numeric_columns = numeric_df.columns.tolist()"
   ]
  },
  {
   "cell_type": "code",
   "execution_count": 157,
   "metadata": {},
   "outputs": [],
   "source": [
    "clean_df = scaled_df.copy()\n",
    "\n",
    "for col in numeric_columns:\n",
    "    for p in range(2,7):\n",
    "        clean_df[f'{col}_{p}'] = numeric_df[col]**p\n"
   ]
  },
  {
   "cell_type": "markdown",
   "source": [
    "## Convert everything to float32"
   ],
   "metadata": {
    "collapsed": false
   }
  },
  {
   "cell_type": "code",
   "execution_count": 158,
   "outputs": [],
   "source": [
    "final_df = clean_df.copy()\n",
    "\n",
    "columns = final_df.columns\n",
    "\n",
    "final_df[columns] = np.float32(final_df[columns])"
   ],
   "metadata": {
    "collapsed": false
   }
  },
  {
   "attachments": {},
   "cell_type": "markdown",
   "metadata": {},
   "source": [
    "### Export csv"
   ]
  },
  {
   "cell_type": "code",
   "execution_count": 159,
   "metadata": {},
   "outputs": [],
   "source": [
    "target_path = Path('./data/kaggle/model_data.pkl')\n",
    "clean_df.to_csv(target_path, index=False)"
   ]
  },
  {
   "cell_type": "code",
   "execution_count": 159,
   "outputs": [],
   "source": [],
   "metadata": {
    "collapsed": false
   }
  }
 ],
 "metadata": {
  "kernelspec": {
   "display_name": "Python 3.10.4 64-bit",
   "language": "python",
   "name": "python3"
  },
  "language_info": {
   "codemirror_mode": {
    "name": "ipython",
    "version": 3
   },
   "file_extension": ".py",
   "mimetype": "text/x-python",
   "name": "python",
   "nbconvert_exporter": "python",
   "pygments_lexer": "ipython3",
   "version": "3.10.4"
  },
  "vscode": {
   "interpreter": {
    "hash": "369f2c481f4da34e4445cda3fffd2e751bd1c4d706f27375911949ba6bb62e1c"
   }
  }
 },
 "nbformat": 4,
 "nbformat_minor": 0
}
