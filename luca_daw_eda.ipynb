{
 "cells": [
  {
   "cell_type": "markdown",
   "metadata": {
    "collapsed": false
   },
   "source": [
    "# Data Wrangling and explorative data analysis"
   ]
  },
  {
   "cell_type": "markdown",
   "metadata": {
    "collapsed": false
   },
   "source": [
    "## Imports"
   ]
  },
  {
   "cell_type": "code",
   "execution_count": 53,
   "metadata": {
    "collapsed": true
   },
   "outputs": [],
   "source": [
    "import pandas as pd\n",
    "from pathlib import Path\n",
    "import numpy as np"
   ]
  },
  {
   "cell_type": "markdown",
   "metadata": {
    "collapsed": false
   },
   "source": [
    "## CSV Import"
   ]
  },
  {
   "cell_type": "code",
   "execution_count": 54,
   "metadata": {
    "collapsed": false
   },
   "outputs": [
    {
     "name": "stderr",
     "output_type": "stream",
     "text": [
      "/var/folders/00/d026dxr1001fd8rphxcfdzb40000gn/T/ipykernel_18327/1292576271.py:2: DtypeWarning: Columns (34) have mixed types. Specify dtype option on import or set low_memory=False.\n",
      "  source_df = pd.read_csv(source_path)\n"
     ]
    }
   ],
   "source": [
    "source_path = Path('data/original/immoscout.csv')\n",
    "source_df = pd.read_csv(source_path)\n",
    "clean_df = source_df.copy()"
   ]
  },
  {
   "cell_type": "code",
   "execution_count": 55,
   "metadata": {
    "collapsed": false
   },
   "outputs": [
    {
     "data": {
      "text/plain": "   Unnamed: 0.1  Unnamed: 0 Municipality Living space Plot area Floor space  \\\n0             0           0   Biberstein       100 m²       NaN         NaN   \n1             1           1   Biberstein       156 m²    222 m²      242 m²   \n2             2           2          NaN          NaN       NaN         NaN   \n3             3           3   Biberstein       154 m²    370 m²      257 m²   \n4             4           4     Küttigen       142 m²       NaN         NaN   \n\n  Availability                               location  \\\n0   On request                    5023 Biberstein, AG   \n1   On request   Buhldenstrasse 8d5023 Biberstein, AG   \n2          NaN                       5022 Rombach, AG   \n3   On request  Buhaldenstrasse 8A5023 Biberstein, AG   \n4   On request                       5022 Rombach, AG   \n\n                                         description  \\\n0  3.5 rooms, 100 m²«Luxuriöse Attika-Wohnung mit...   \n1  4.5 rooms, 156 m²«Stilvolle Liegenschaft - ruh...   \n2  2.5 rooms, 93 m²«Moderne, lichtdurchflutete At...   \n3  4.5 rooms, 154 m²«AgentSelly - Luxuriöses Eckh...   \n4  4.5 rooms, 142 m²«MIT GARTENSITZPLATZ UND VIEL...   \n\n                                detailed_description  ...  \\\n0  DescriptionLuxuriöse Attika-Wohnung direkt an ...  ...   \n1  DescriptionStilvolle Liegenschaft an ruhiger L...  ...   \n2  detail_responsive#description_title2,5 Zimmerw...  ...   \n3  DescriptionDieses äusserst grosszügige Minergi...  ...   \n4  DescriptionAus ehemals zwei Wohnungen wurde ei...  ...   \n\n  gde_social_help_quota gde_tax gde_workers_sector1 gde_workers_sector2  \\\n0              2.234259    5.89                14.0                 9.0   \n1              2.234259    5.89                14.0                 9.0   \n2              3.549010    6.05                37.0              3092.0   \n3              2.234259    5.89                14.0                 9.0   \n4              1.708126    6.30                65.0               349.0   \n\n  gde_workers_sector3 gde_workers_total price_cleaned            type  \\\n0               308.0             331.0     1150000.0       penthouse   \n1               308.0             331.0     1420000.0   terrace-house   \n2             30364.0           33493.0      720000.0       penthouse   \n3               308.0             331.0     1430000.0  detached-house   \n4               941.0            1355.0      995000.0            flat   \n\n  Space extracted rooms  \n0           100.0   5.0  \n1           156.0   5.0  \n2            93.0   5.0  \n3           154.0   5.0  \n4           142.0   5.0  \n\n[5 rows x 108 columns]",
      "text/html": "<div>\n<style scoped>\n    .dataframe tbody tr th:only-of-type {\n        vertical-align: middle;\n    }\n\n    .dataframe tbody tr th {\n        vertical-align: top;\n    }\n\n    .dataframe thead th {\n        text-align: right;\n    }\n</style>\n<table border=\"1\" class=\"dataframe\">\n  <thead>\n    <tr style=\"text-align: right;\">\n      <th></th>\n      <th>Unnamed: 0.1</th>\n      <th>Unnamed: 0</th>\n      <th>Municipality</th>\n      <th>Living space</th>\n      <th>Plot area</th>\n      <th>Floor space</th>\n      <th>Availability</th>\n      <th>location</th>\n      <th>description</th>\n      <th>detailed_description</th>\n      <th>...</th>\n      <th>gde_social_help_quota</th>\n      <th>gde_tax</th>\n      <th>gde_workers_sector1</th>\n      <th>gde_workers_sector2</th>\n      <th>gde_workers_sector3</th>\n      <th>gde_workers_total</th>\n      <th>price_cleaned</th>\n      <th>type</th>\n      <th>Space extracted</th>\n      <th>rooms</th>\n    </tr>\n  </thead>\n  <tbody>\n    <tr>\n      <th>0</th>\n      <td>0</td>\n      <td>0</td>\n      <td>Biberstein</td>\n      <td>100 m²</td>\n      <td>NaN</td>\n      <td>NaN</td>\n      <td>On request</td>\n      <td>5023 Biberstein, AG</td>\n      <td>3.5 rooms, 100 m²«Luxuriöse Attika-Wohnung mit...</td>\n      <td>DescriptionLuxuriöse Attika-Wohnung direkt an ...</td>\n      <td>...</td>\n      <td>2.234259</td>\n      <td>5.89</td>\n      <td>14.0</td>\n      <td>9.0</td>\n      <td>308.0</td>\n      <td>331.0</td>\n      <td>1150000.0</td>\n      <td>penthouse</td>\n      <td>100.0</td>\n      <td>5.0</td>\n    </tr>\n    <tr>\n      <th>1</th>\n      <td>1</td>\n      <td>1</td>\n      <td>Biberstein</td>\n      <td>156 m²</td>\n      <td>222 m²</td>\n      <td>242 m²</td>\n      <td>On request</td>\n      <td>Buhldenstrasse 8d5023 Biberstein, AG</td>\n      <td>4.5 rooms, 156 m²«Stilvolle Liegenschaft - ruh...</td>\n      <td>DescriptionStilvolle Liegenschaft an ruhiger L...</td>\n      <td>...</td>\n      <td>2.234259</td>\n      <td>5.89</td>\n      <td>14.0</td>\n      <td>9.0</td>\n      <td>308.0</td>\n      <td>331.0</td>\n      <td>1420000.0</td>\n      <td>terrace-house</td>\n      <td>156.0</td>\n      <td>5.0</td>\n    </tr>\n    <tr>\n      <th>2</th>\n      <td>2</td>\n      <td>2</td>\n      <td>NaN</td>\n      <td>NaN</td>\n      <td>NaN</td>\n      <td>NaN</td>\n      <td>NaN</td>\n      <td>5022 Rombach, AG</td>\n      <td>2.5 rooms, 93 m²«Moderne, lichtdurchflutete At...</td>\n      <td>detail_responsive#description_title2,5 Zimmerw...</td>\n      <td>...</td>\n      <td>3.549010</td>\n      <td>6.05</td>\n      <td>37.0</td>\n      <td>3092.0</td>\n      <td>30364.0</td>\n      <td>33493.0</td>\n      <td>720000.0</td>\n      <td>penthouse</td>\n      <td>93.0</td>\n      <td>5.0</td>\n    </tr>\n    <tr>\n      <th>3</th>\n      <td>3</td>\n      <td>3</td>\n      <td>Biberstein</td>\n      <td>154 m²</td>\n      <td>370 m²</td>\n      <td>257 m²</td>\n      <td>On request</td>\n      <td>Buhaldenstrasse 8A5023 Biberstein, AG</td>\n      <td>4.5 rooms, 154 m²«AgentSelly - Luxuriöses Eckh...</td>\n      <td>DescriptionDieses äusserst grosszügige Minergi...</td>\n      <td>...</td>\n      <td>2.234259</td>\n      <td>5.89</td>\n      <td>14.0</td>\n      <td>9.0</td>\n      <td>308.0</td>\n      <td>331.0</td>\n      <td>1430000.0</td>\n      <td>detached-house</td>\n      <td>154.0</td>\n      <td>5.0</td>\n    </tr>\n    <tr>\n      <th>4</th>\n      <td>4</td>\n      <td>4</td>\n      <td>Küttigen</td>\n      <td>142 m²</td>\n      <td>NaN</td>\n      <td>NaN</td>\n      <td>On request</td>\n      <td>5022 Rombach, AG</td>\n      <td>4.5 rooms, 142 m²«MIT GARTENSITZPLATZ UND VIEL...</td>\n      <td>DescriptionAus ehemals zwei Wohnungen wurde ei...</td>\n      <td>...</td>\n      <td>1.708126</td>\n      <td>6.30</td>\n      <td>65.0</td>\n      <td>349.0</td>\n      <td>941.0</td>\n      <td>1355.0</td>\n      <td>995000.0</td>\n      <td>flat</td>\n      <td>142.0</td>\n      <td>5.0</td>\n    </tr>\n  </tbody>\n</table>\n<p>5 rows × 108 columns</p>\n</div>"
     },
     "execution_count": 55,
     "metadata": {},
     "output_type": "execute_result"
    }
   ],
   "source": [
    "source_df.head()"
   ]
  },
  {
   "cell_type": "markdown",
   "metadata": {
    "collapsed": false
   },
   "source": [
    "### Delete Unnamed Columns"
   ]
  },
  {
   "cell_type": "code",
   "execution_count": 56,
   "metadata": {
    "collapsed": false
   },
   "outputs": [],
   "source": [
    "clean_df = clean_df.loc[:, ~clean_df.columns.str.contains('^Unnamed')]"
   ]
  },
  {
   "cell_type": "markdown",
   "metadata": {
    "collapsed": false
   },
   "source": [
    "### Delete Mostly Empty Columns"
   ]
  },
  {
   "cell_type": "code",
   "execution_count": 57,
   "metadata": {
    "collapsed": false
   },
   "outputs": [
    {
     "data": {
      "text/plain": "      Municipality Living space Plot area Floor space Availability  \\\n0       Biberstein       100 m²       NaN         NaN   On request   \n1       Biberstein       156 m²    222 m²      242 m²   On request   \n2              NaN          NaN       NaN         NaN          NaN   \n3       Biberstein       154 m²    370 m²      257 m²   On request   \n4         Küttigen       142 m²       NaN         NaN   On request   \n...            ...          ...       ...         ...          ...   \n13373        Uster        70 m²       NaN         NaN   On request   \n13374   Volketswil          NaN    284 m²         NaN   On request   \n13375      Seuzach       150 m²    160 m²         NaN   On request   \n13376    Zell (ZH)       145 m²    853 m²      140 m²  Immediately   \n13377   Winterthur       385 m²   1306 m²         NaN  Immediately   \n\n                                         location  \\\n0                             5023 Biberstein, AG   \n1            Buhldenstrasse 8d5023 Biberstein, AG   \n2                                5022 Rombach, AG   \n3           Buhaldenstrasse 8A5023 Biberstein, AG   \n4                                5022 Rombach, AG   \n...                                           ...   \n13373          Tägerackerstrasse 138610 Uster, ZH   \n13374                         8604 Volketswil, ZH   \n13375                            8472 Seuzach, ZH   \n13376  Vordere Bähntalstrasse 18483 Kollbrunn, ZH   \n13377           Im Eichbühl 508405 Winterthur, ZH   \n\n                                             description  \\\n0      3.5 rooms, 100 m²«Luxuriöse Attika-Wohnung mit...   \n1      4.5 rooms, 156 m²«Stilvolle Liegenschaft - ruh...   \n2      2.5 rooms, 93 m²«Moderne, lichtdurchflutete At...   \n3      4.5 rooms, 154 m²«AgentSelly - Luxuriöses Eckh...   \n4      4.5 rooms, 142 m²«MIT GARTENSITZPLATZ UND VIEL...   \n...                                                  ...   \n13373  2.5 rooms, 70 m²«Wunderschöne Attikawohnung an...   \n13374  8 rooms«Charmantes 2-Familienhaus im idyllisch...   \n13375  6.5 rooms, 150 m²«EIN PARADIES IM GRÜNEN FÜR G...   \n13376  6 rooms, 145 m²«Freistehendes 6.0 Zimmer . Ein...   \n13377  7.5 rooms, 385 m²«Wohnen an ruhiger, sonniger ...   \n\n                                    detailed_description  \\\n0      DescriptionLuxuriöse Attika-Wohnung direkt an ...   \n1      DescriptionStilvolle Liegenschaft an ruhiger L...   \n2      detail_responsive#description_title2,5 Zimmerw...   \n3      DescriptionDieses äusserst grosszügige Minergi...   \n4      DescriptionAus ehemals zwei Wohnungen wurde ei...   \n...                                                  ...   \n13373  DescriptionIn einem der schönsten Quartiere Us...   \n13374  DescriptionWillkommen im Herzen von Volketswil...   \n13375  DescriptionWir verkaufen dieses unglaublich to...   \n13376  Description####Freistehendes 6.0 Zimmer . Einf...   \n13377  DescriptionDas freistehende Einfamilienhaus an...   \n\n                                                     url  \\\n0      https://www.immoscout24.ch//en/d/penthouse-buy...   \n1      https://www.immoscout24.ch//en/d/terrace-house...   \n2      https://www.immoscout24.ch//en/d/penthouse-buy...   \n3      https://www.immoscout24.ch//en/d/detached-hous...   \n4      https://www.immoscout24.ch//en/d/flat-buy-romb...   \n...                                                  ...   \n13373  https://www.immoscout24.ch//en/d/flat-buy-uste...   \n13374  https://www.immoscout24.ch//en/d/semi-detached...   \n13375  https://www.immoscout24.ch//en/d/terrace-house...   \n13376  https://www.immoscout24.ch//en/d/detached-hous...   \n13377  https://www.immoscout24.ch//en/d/detached-hous...   \n\n                                                   table  ...  \\\n0      b <article class=####Box-cYFBPY hKrxoH####><h2...  ...   \n1      b <article class=####Box-cYFBPY hKrxoH####><h2...  ...   \n2      b <article class=####Box-cYFBPY hKrxoH####><h2...  ...   \n3      b <article class=####Box-cYFBPY hKrxoH####><h2...  ...   \n4      b <article class=####Box-cYFBPY hKrxoH####><h2...  ...   \n...                                                  ...  ...   \n13373  b <article class=####Box-cYFBPY hKrxoH####><h2...  ...   \n13374  b <article class=####Box-cYFBPY hKrxoH####><h2...  ...   \n13375  b <article class=####Box-cYFBPY hKrxoH####><h2...  ...   \n13376  b <article class=####Box-cYFBPY hKrxoH####><h2...  ...   \n13377  b <article class=####Box-cYFBPY hKrxoH####><h2...  ...   \n\n      gde_social_help_quota gde_tax gde_workers_sector1 gde_workers_sector2  \\\n0                  2.234259    5.89                14.0                 9.0   \n1                  2.234259    5.89                14.0                 9.0   \n2                  3.549010    6.05                37.0              3092.0   \n3                  2.234259    5.89                14.0                 9.0   \n4                  1.708126    6.30                65.0               349.0   \n...                     ...     ...                 ...                 ...   \n13373              1.567019    4.52               181.0              3218.0   \n13374              2.368364    4.23                74.0              3406.0   \n13375              1.991008    4.33                56.0               212.0   \n13376              1.257283    4.35                66.0               167.0   \n13377              5.510400    4.88               244.0             12090.0   \n\n      gde_workers_sector3 gde_workers_total price_cleaned  \\\n0                   308.0             331.0     1150000.0   \n1                   308.0             331.0     1420000.0   \n2                 30364.0           33493.0      720000.0   \n3                   308.0             331.0     1430000.0   \n4                   941.0            1355.0      995000.0   \n...                   ...               ...           ...   \n13373             12931.0           16330.0     1101000.0   \n13374              7644.0           11124.0     1750000.0   \n13375               358.0             626.0     1415000.0   \n13376               624.0             857.0     1465000.0   \n13377             58299.0           70633.0     2750000.0   \n\n                      type Space extracted rooms  \n0                penthouse           100.0   5.0  \n1            terrace-house           156.0   5.0  \n2                penthouse            93.0   5.0  \n3           detached-house           154.0   5.0  \n4                     flat           142.0   5.0  \n...                    ...             ...   ...  \n13373                 flat            70.0   5.0  \n13374  semi-detached-house             NaN   8.0  \n13375        terrace-house           150.0   5.0  \n13376       detached-house           145.0   6.0  \n13377       detached-house           385.0   5.0  \n\n[13378 rows x 81 columns]",
      "text/html": "<div>\n<style scoped>\n    .dataframe tbody tr th:only-of-type {\n        vertical-align: middle;\n    }\n\n    .dataframe tbody tr th {\n        vertical-align: top;\n    }\n\n    .dataframe thead th {\n        text-align: right;\n    }\n</style>\n<table border=\"1\" class=\"dataframe\">\n  <thead>\n    <tr style=\"text-align: right;\">\n      <th></th>\n      <th>Municipality</th>\n      <th>Living space</th>\n      <th>Plot area</th>\n      <th>Floor space</th>\n      <th>Availability</th>\n      <th>location</th>\n      <th>description</th>\n      <th>detailed_description</th>\n      <th>url</th>\n      <th>table</th>\n      <th>...</th>\n      <th>gde_social_help_quota</th>\n      <th>gde_tax</th>\n      <th>gde_workers_sector1</th>\n      <th>gde_workers_sector2</th>\n      <th>gde_workers_sector3</th>\n      <th>gde_workers_total</th>\n      <th>price_cleaned</th>\n      <th>type</th>\n      <th>Space extracted</th>\n      <th>rooms</th>\n    </tr>\n  </thead>\n  <tbody>\n    <tr>\n      <th>0</th>\n      <td>Biberstein</td>\n      <td>100 m²</td>\n      <td>NaN</td>\n      <td>NaN</td>\n      <td>On request</td>\n      <td>5023 Biberstein, AG</td>\n      <td>3.5 rooms, 100 m²«Luxuriöse Attika-Wohnung mit...</td>\n      <td>DescriptionLuxuriöse Attika-Wohnung direkt an ...</td>\n      <td>https://www.immoscout24.ch//en/d/penthouse-buy...</td>\n      <td>b &lt;article class=####Box-cYFBPY hKrxoH####&gt;&lt;h2...</td>\n      <td>...</td>\n      <td>2.234259</td>\n      <td>5.89</td>\n      <td>14.0</td>\n      <td>9.0</td>\n      <td>308.0</td>\n      <td>331.0</td>\n      <td>1150000.0</td>\n      <td>penthouse</td>\n      <td>100.0</td>\n      <td>5.0</td>\n    </tr>\n    <tr>\n      <th>1</th>\n      <td>Biberstein</td>\n      <td>156 m²</td>\n      <td>222 m²</td>\n      <td>242 m²</td>\n      <td>On request</td>\n      <td>Buhldenstrasse 8d5023 Biberstein, AG</td>\n      <td>4.5 rooms, 156 m²«Stilvolle Liegenschaft - ruh...</td>\n      <td>DescriptionStilvolle Liegenschaft an ruhiger L...</td>\n      <td>https://www.immoscout24.ch//en/d/terrace-house...</td>\n      <td>b &lt;article class=####Box-cYFBPY hKrxoH####&gt;&lt;h2...</td>\n      <td>...</td>\n      <td>2.234259</td>\n      <td>5.89</td>\n      <td>14.0</td>\n      <td>9.0</td>\n      <td>308.0</td>\n      <td>331.0</td>\n      <td>1420000.0</td>\n      <td>terrace-house</td>\n      <td>156.0</td>\n      <td>5.0</td>\n    </tr>\n    <tr>\n      <th>2</th>\n      <td>NaN</td>\n      <td>NaN</td>\n      <td>NaN</td>\n      <td>NaN</td>\n      <td>NaN</td>\n      <td>5022 Rombach, AG</td>\n      <td>2.5 rooms, 93 m²«Moderne, lichtdurchflutete At...</td>\n      <td>detail_responsive#description_title2,5 Zimmerw...</td>\n      <td>https://www.immoscout24.ch//en/d/penthouse-buy...</td>\n      <td>b &lt;article class=####Box-cYFBPY hKrxoH####&gt;&lt;h2...</td>\n      <td>...</td>\n      <td>3.549010</td>\n      <td>6.05</td>\n      <td>37.0</td>\n      <td>3092.0</td>\n      <td>30364.0</td>\n      <td>33493.0</td>\n      <td>720000.0</td>\n      <td>penthouse</td>\n      <td>93.0</td>\n      <td>5.0</td>\n    </tr>\n    <tr>\n      <th>3</th>\n      <td>Biberstein</td>\n      <td>154 m²</td>\n      <td>370 m²</td>\n      <td>257 m²</td>\n      <td>On request</td>\n      <td>Buhaldenstrasse 8A5023 Biberstein, AG</td>\n      <td>4.5 rooms, 154 m²«AgentSelly - Luxuriöses Eckh...</td>\n      <td>DescriptionDieses äusserst grosszügige Minergi...</td>\n      <td>https://www.immoscout24.ch//en/d/detached-hous...</td>\n      <td>b &lt;article class=####Box-cYFBPY hKrxoH####&gt;&lt;h2...</td>\n      <td>...</td>\n      <td>2.234259</td>\n      <td>5.89</td>\n      <td>14.0</td>\n      <td>9.0</td>\n      <td>308.0</td>\n      <td>331.0</td>\n      <td>1430000.0</td>\n      <td>detached-house</td>\n      <td>154.0</td>\n      <td>5.0</td>\n    </tr>\n    <tr>\n      <th>4</th>\n      <td>Küttigen</td>\n      <td>142 m²</td>\n      <td>NaN</td>\n      <td>NaN</td>\n      <td>On request</td>\n      <td>5022 Rombach, AG</td>\n      <td>4.5 rooms, 142 m²«MIT GARTENSITZPLATZ UND VIEL...</td>\n      <td>DescriptionAus ehemals zwei Wohnungen wurde ei...</td>\n      <td>https://www.immoscout24.ch//en/d/flat-buy-romb...</td>\n      <td>b &lt;article class=####Box-cYFBPY hKrxoH####&gt;&lt;h2...</td>\n      <td>...</td>\n      <td>1.708126</td>\n      <td>6.30</td>\n      <td>65.0</td>\n      <td>349.0</td>\n      <td>941.0</td>\n      <td>1355.0</td>\n      <td>995000.0</td>\n      <td>flat</td>\n      <td>142.0</td>\n      <td>5.0</td>\n    </tr>\n    <tr>\n      <th>...</th>\n      <td>...</td>\n      <td>...</td>\n      <td>...</td>\n      <td>...</td>\n      <td>...</td>\n      <td>...</td>\n      <td>...</td>\n      <td>...</td>\n      <td>...</td>\n      <td>...</td>\n      <td>...</td>\n      <td>...</td>\n      <td>...</td>\n      <td>...</td>\n      <td>...</td>\n      <td>...</td>\n      <td>...</td>\n      <td>...</td>\n      <td>...</td>\n      <td>...</td>\n      <td>...</td>\n    </tr>\n    <tr>\n      <th>13373</th>\n      <td>Uster</td>\n      <td>70 m²</td>\n      <td>NaN</td>\n      <td>NaN</td>\n      <td>On request</td>\n      <td>Tägerackerstrasse 138610 Uster, ZH</td>\n      <td>2.5 rooms, 70 m²«Wunderschöne Attikawohnung an...</td>\n      <td>DescriptionIn einem der schönsten Quartiere Us...</td>\n      <td>https://www.immoscout24.ch//en/d/flat-buy-uste...</td>\n      <td>b &lt;article class=####Box-cYFBPY hKrxoH####&gt;&lt;h2...</td>\n      <td>...</td>\n      <td>1.567019</td>\n      <td>4.52</td>\n      <td>181.0</td>\n      <td>3218.0</td>\n      <td>12931.0</td>\n      <td>16330.0</td>\n      <td>1101000.0</td>\n      <td>flat</td>\n      <td>70.0</td>\n      <td>5.0</td>\n    </tr>\n    <tr>\n      <th>13374</th>\n      <td>Volketswil</td>\n      <td>NaN</td>\n      <td>284 m²</td>\n      <td>NaN</td>\n      <td>On request</td>\n      <td>8604 Volketswil, ZH</td>\n      <td>8 rooms«Charmantes 2-Familienhaus im idyllisch...</td>\n      <td>DescriptionWillkommen im Herzen von Volketswil...</td>\n      <td>https://www.immoscout24.ch//en/d/semi-detached...</td>\n      <td>b &lt;article class=####Box-cYFBPY hKrxoH####&gt;&lt;h2...</td>\n      <td>...</td>\n      <td>2.368364</td>\n      <td>4.23</td>\n      <td>74.0</td>\n      <td>3406.0</td>\n      <td>7644.0</td>\n      <td>11124.0</td>\n      <td>1750000.0</td>\n      <td>semi-detached-house</td>\n      <td>NaN</td>\n      <td>8.0</td>\n    </tr>\n    <tr>\n      <th>13375</th>\n      <td>Seuzach</td>\n      <td>150 m²</td>\n      <td>160 m²</td>\n      <td>NaN</td>\n      <td>On request</td>\n      <td>8472 Seuzach, ZH</td>\n      <td>6.5 rooms, 150 m²«EIN PARADIES IM GRÜNEN FÜR G...</td>\n      <td>DescriptionWir verkaufen dieses unglaublich to...</td>\n      <td>https://www.immoscout24.ch//en/d/terrace-house...</td>\n      <td>b &lt;article class=####Box-cYFBPY hKrxoH####&gt;&lt;h2...</td>\n      <td>...</td>\n      <td>1.991008</td>\n      <td>4.33</td>\n      <td>56.0</td>\n      <td>212.0</td>\n      <td>358.0</td>\n      <td>626.0</td>\n      <td>1415000.0</td>\n      <td>terrace-house</td>\n      <td>150.0</td>\n      <td>5.0</td>\n    </tr>\n    <tr>\n      <th>13376</th>\n      <td>Zell (ZH)</td>\n      <td>145 m²</td>\n      <td>853 m²</td>\n      <td>140 m²</td>\n      <td>Immediately</td>\n      <td>Vordere Bähntalstrasse 18483 Kollbrunn, ZH</td>\n      <td>6 rooms, 145 m²«Freistehendes 6.0 Zimmer . Ein...</td>\n      <td>Description####Freistehendes 6.0 Zimmer . Einf...</td>\n      <td>https://www.immoscout24.ch//en/d/detached-hous...</td>\n      <td>b &lt;article class=####Box-cYFBPY hKrxoH####&gt;&lt;h2...</td>\n      <td>...</td>\n      <td>1.257283</td>\n      <td>4.35</td>\n      <td>66.0</td>\n      <td>167.0</td>\n      <td>624.0</td>\n      <td>857.0</td>\n      <td>1465000.0</td>\n      <td>detached-house</td>\n      <td>145.0</td>\n      <td>6.0</td>\n    </tr>\n    <tr>\n      <th>13377</th>\n      <td>Winterthur</td>\n      <td>385 m²</td>\n      <td>1306 m²</td>\n      <td>NaN</td>\n      <td>Immediately</td>\n      <td>Im Eichbühl 508405 Winterthur, ZH</td>\n      <td>7.5 rooms, 385 m²«Wohnen an ruhiger, sonniger ...</td>\n      <td>DescriptionDas freistehende Einfamilienhaus an...</td>\n      <td>https://www.immoscout24.ch//en/d/detached-hous...</td>\n      <td>b &lt;article class=####Box-cYFBPY hKrxoH####&gt;&lt;h2...</td>\n      <td>...</td>\n      <td>5.510400</td>\n      <td>4.88</td>\n      <td>244.0</td>\n      <td>12090.0</td>\n      <td>58299.0</td>\n      <td>70633.0</td>\n      <td>2750000.0</td>\n      <td>detached-house</td>\n      <td>385.0</td>\n      <td>5.0</td>\n    </tr>\n  </tbody>\n</table>\n<p>13378 rows × 81 columns</p>\n</div>"
     },
     "execution_count": 57,
     "metadata": {},
     "output_type": "execute_result"
    }
   ],
   "source": [
    "mostly_empty_columns = [\n",
    "    \"detail_responsive#municipality\",\n",
    "    \"detail_responsive#surface_living\",\n",
    "    \"detail_responsive#floor\",\n",
    "    \"detail_responsive#available_from\",\n",
    "    \"Gemeinde\",\n",
    "    \"Wohnfläche\",\n",
    "    \"Stockwerk\",\n",
    "    \"Nutzfläche\",\n",
    "    \"Verfügbarkeit\",\n",
    "    \"Grundstücksfläche\",\n",
    "    \"detail_responsive#surface_property\",\n",
    "    \"detail_responsive#surface_usable\",\n",
    "    \"Commune\",\n",
    "    \"Surface habitable\",\n",
    "    \"Surface du terrain\",\n",
    "    \"Surface utile\",\n",
    "    \"Disponibilité\",\n",
    "    \"Étage\",\n",
    "    \"Comune\",\n",
    "    \"Superficie abitabile\",\n",
    "    \"Disponibilità\",\n",
    "    \"Gross return\",\n",
    "    \"Piano\",\n",
    "    \"Superficie del terreno\",\n",
    "    \"Superficie utile\"\n",
    "]\n",
    "\n",
    "clean_df = clean_df.drop(mostly_empty_columns, axis=1)\n",
    "clean_df"
   ]
  },
  {
   "cell_type": "markdown",
   "metadata": {},
   "source": [
    "### Take Informations from Column \"details\""
   ]
  },
  {
   "cell_type": "code",
   "execution_count": 58,
   "metadata": {},
   "outputs": [],
   "source": [
    "clean_df[\"rooms_from_details\"] = (clean_df[\"details\"].str.extract(r'(\\d+) rooms')).astype(float)\n",
    "clean_df[\"space_from_details\"] = (clean_df[\"details\"].str.extract(r'(\\d+) m²')).astype(float)"
   ]
  },
  {
   "cell_type": "markdown",
   "metadata": {},
   "source": [
    "### Put the Information from column \"details\" into \"rooms\" and \"Space extracted\" if they are nan or 0.0"
   ]
  },
  {
   "cell_type": "code",
   "execution_count": 59,
   "metadata": {},
   "outputs": [],
   "source": [
    "clean_df[\"rooms\"] = clean_df[\"rooms\"].mask(clean_df[\"rooms\"] == 0.0, clean_df[\"rooms_from_details\"])\n",
    "clean_df[\"rooms\"] = clean_df[\"rooms\"].fillna(clean_df[\"rooms_from_details\"])\n",
    "\n",
    "clean_df[\"Space extracted\"] = clean_df[\"Space extracted\"].fillna(clean_df[\"space_from_details\"])"
   ]
  },
  {
   "cell_type": "markdown",
   "metadata": {
    "collapsed": false
   },
   "source": [
    "### Move m2 to column header"
   ]
  },
  {
   "cell_type": "code",
   "execution_count": 60,
   "metadata": {
    "collapsed": false
   },
   "outputs": [],
   "source": [
    "m2_columns = [\"Floor_space_merged\", \"Plot_area_merged\"]\n",
    "\n",
    "for col in m2_columns:\n",
    "    clean_df[col + \"_m2\"] = clean_df[col].str[:-3]"
   ]
  },
  {
   "cell_type": "markdown",
   "metadata": {
    "collapsed": false
   },
   "source": [
    "### Extract floor information"
   ]
  },
  {
   "cell_type": "code",
   "execution_count": 61,
   "metadata": {
    "collapsed": false
   },
   "outputs": [],
   "source": [
    "floor_col = clean_df[\"Floor_merged\"]\n",
    "floor_col = floor_col.str.replace(\"Ground\", \"0.\")\n",
    "floor_col = floor_col.str[:-7]\n",
    "\n",
    "clean_df[\"floor\"] = floor_col"
   ]
  },
  {
   "cell_type": "markdown",
   "metadata": {
    "collapsed": false
   },
   "source": [
    "### Remove redundant columns"
   ]
  },
  {
   "cell_type": "code",
   "execution_count": 62,
   "metadata": {
    "collapsed": false
   },
   "outputs": [],
   "source": [
    "redundant_columns = [\n",
    "    \"Municipality\",\n",
    "    \"Living space\",\n",
    "    \"Plot area\",\n",
    "    \"Floor space\",\n",
    "    \"Availability\",\n",
    "    \"Floor\",\n",
    "    \"Living_space_merged\",\n",
    "    \"location_parsed\",\n",
    "    \"details\",\n",
    "    \"price\",\n",
    "    \"details_structured\",\n",
    "    \"index\",\n",
    "    \"Floor_space_merged\",\n",
    "    \"Plot_area_merged\",\n",
    "    \"lat\",\n",
    "    \"lon\",\n",
    "    \"Floor_merged\",\n",
    "    \"space_from_details\",\n",
    "    \"rooms_from_details\"\n",
    "]\n",
    "\n",
    "clean_df = clean_df.drop(redundant_columns, axis=1)"
   ]
  },
  {
   "cell_type": "markdown",
   "metadata": {
    "collapsed": false
   },
   "source": [
    "### Make naming more consistent"
   ]
  },
  {
   "cell_type": "code",
   "execution_count": 63,
   "metadata": {
    "collapsed": false
   },
   "outputs": [],
   "source": [
    "name_mapping = [\n",
    "    [\"Space extracted\", \"living_space_m2\"],\n",
    "    [\"Floor_space_merged_m2\", \"floor_space_m2\"],\n",
    "    [\"Plot_area_merged_m2\", \"plot_area_m2\"],\n",
    "    [\"Availability_merged\", \"availability\"],\n",
    "    [\"Municipality_merged\", \"municipality\"],\n",
    "    [\"price_cleaned\", \"price\"]\n",
    "]\n",
    "\n",
    "for name in name_mapping:\n",
    "    if name[0] not in clean_df.columns:\n",
    "        continue\n",
    "    clean_df[name[1]] = clean_df[name[0]].copy()\n",
    "    clean_df = clean_df.drop(name[0], axis=1)"
   ]
  },
  {
   "cell_type": "markdown",
   "metadata": {},
   "source": [
    "### Column which are numeric as float"
   ]
  },
  {
   "cell_type": "code",
   "execution_count": 64,
   "metadata": {},
   "outputs": [],
   "source": [
    "clean_df[\"floor_space_m2\"] = clean_df[\"floor_space_m2\"].astype(float)\n",
    "clean_df[\"plot_area_m2\"] = clean_df[\"plot_area_m2\"].str.replace(\",\", \".\").astype(float)"
   ]
  },
  {
   "cell_type": "markdown",
   "metadata": {},
   "source": [
    "### \"floor\" has to much nan's --> drop"
   ]
  },
  {
   "cell_type": "code",
   "execution_count": 65,
   "metadata": {},
   "outputs": [
    {
     "data": {
      "text/plain": "7964"
     },
     "execution_count": 65,
     "metadata": {},
     "output_type": "execute_result"
    }
   ],
   "source": [
    "clean_df[\"floor\"].isna().sum()"
   ]
  },
  {
   "cell_type": "code",
   "execution_count": 66,
   "metadata": {},
   "outputs": [],
   "source": [
    "clean_df = clean_df.drop(\"floor\", axis=1)"
   ]
  },
  {
   "cell_type": "markdown",
   "metadata": {},
   "source": [
    "### \"type\" is a categorical variable, so let's map it with dummy variables"
   ]
  },
  {
   "cell_type": "code",
   "execution_count": 67,
   "metadata": {},
   "outputs": [
    {
     "data": {
      "text/plain": "array(['penthouse', 'terrace-house', 'detached-house', 'flat',\n       'stepped-house', 'farmhouse', 'semi-detached-house',\n       'stepped-apartment', 'duplex-maisonette', 'attic-flat', 'loft',\n       'chalet', 'villa', 'attic-room', 'secondary-suite', 'castle',\n       'detached-secondary-suite', 'studio',\n       'furnished-residential-property', 'rustico', 'single-room'],\n      dtype=object)"
     },
     "execution_count": 67,
     "metadata": {},
     "output_type": "execute_result"
    }
   ],
   "source": [
    "clean_df[\"type\"].unique()"
   ]
  },
  {
   "cell_type": "code",
   "execution_count": 68,
   "metadata": {},
   "outputs": [],
   "source": [
    "clean_df = pd.get_dummies(clean_df, columns=['type'])"
   ]
  },
  {
   "cell_type": "markdown",
   "metadata": {},
   "source": [
    "### Make a new df with only numeric data, for the correlation matrix"
   ]
  },
  {
   "cell_type": "code",
   "execution_count": 69,
   "metadata": {},
   "outputs": [
    {
     "data": {
      "text/plain": "       ForestDensityL  ForestDensityM  ForestDensityS   Latitude  Longitude  \\\n0            0.511176        0.286451        0.090908  47.415927   8.085840   \n1            0.511176        0.286451        0.090908  47.415927   8.085840   \n2            0.163362        0.095877        0.001911  47.397416   8.043150   \n3            0.511176        0.286451        0.090908  47.415927   8.085840   \n4            0.333865        0.279276        0.145835  47.404870   8.052781   \n...               ...             ...             ...        ...        ...   \n13373        0.089304        0.000000        0.000000  47.341095   8.719508   \n13374        0.120618        0.054523        0.000000  47.387817   8.692746   \n13375        0.007178        0.000000        0.000000  47.545958   8.708230   \n13376        0.249841        0.112081        0.000000  47.433114   8.762768   \n13377        0.271372        0.163193        0.044070  47.486889   8.772853   \n\n       NoisePollutionRailwayL  NoisePollutionRailwayM  NoisePollutionRailwayS  \\\n0                    0.000000                     0.0                     0.0   \n1                    0.000000                     0.0                     0.0   \n2                    0.000000                     0.0                     0.0   \n3                    0.000000                     0.0                     0.0   \n4                    0.000000                     0.0                     0.0   \n...                       ...                     ...                     ...   \n13373                0.000000                     0.0                     0.0   \n13374                0.000000                     0.0                     0.0   \n13375                0.000000                     0.0                     0.0   \n13376                0.000000                     0.0                     0.0   \n13377                0.008657                     0.0                     0.0   \n\n       NoisePollutionRoadL  NoisePollutionRoadM  ...  type_penthouse  \\\n0                 0.058298             0.067048  ...               1   \n1                 0.058298             0.067048  ...               0   \n2                 0.334957             0.381257  ...               1   \n3                 0.058298             0.067048  ...               0   \n4                 0.133498             0.132933  ...               0   \n...                    ...                  ...  ...             ...   \n13373             0.306013             0.248198  ...               0   \n13374             0.330695             0.376048  ...               0   \n13375             0.164688             0.258562  ...               0   \n13376             0.203866             0.269818  ...               0   \n13377             0.069172             0.063837  ...               0   \n\n       type_rustico  type_secondary-suite  type_semi-detached-house  \\\n0                 0                     0                         0   \n1                 0                     0                         0   \n2                 0                     0                         0   \n3                 0                     0                         0   \n4                 0                     0                         0   \n...             ...                   ...                       ...   \n13373             0                     0                         0   \n13374             0                     0                         1   \n13375             0                     0                         0   \n13376             0                     0                         0   \n13377             0                     0                         0   \n\n       type_single-room  type_stepped-apartment  type_stepped-house  \\\n0                     0                       0                   0   \n1                     0                       0                   0   \n2                     0                       0                   0   \n3                     0                       0                   0   \n4                     0                       0                   0   \n...                 ...                     ...                 ...   \n13373                 0                       0                   0   \n13374                 0                       0                   0   \n13375                 0                       0                   0   \n13376                 0                       0                   0   \n13377                 0                       0                   0   \n\n       type_studio  type_terrace-house  type_villa  \n0                0                   0           0  \n1                0                   1           0  \n2                0                   0           0  \n3                0                   0           0  \n4                0                   0           0  \n...            ...                 ...         ...  \n13373            0                   0           0  \n13374            0                   0           0  \n13375            0                   1           0  \n13376            0                   0           0  \n13377            0                   0           0  \n\n[13378 rows x 75 columns]",
      "text/html": "<div>\n<style scoped>\n    .dataframe tbody tr th:only-of-type {\n        vertical-align: middle;\n    }\n\n    .dataframe tbody tr th {\n        vertical-align: top;\n    }\n\n    .dataframe thead th {\n        text-align: right;\n    }\n</style>\n<table border=\"1\" class=\"dataframe\">\n  <thead>\n    <tr style=\"text-align: right;\">\n      <th></th>\n      <th>ForestDensityL</th>\n      <th>ForestDensityM</th>\n      <th>ForestDensityS</th>\n      <th>Latitude</th>\n      <th>Longitude</th>\n      <th>NoisePollutionRailwayL</th>\n      <th>NoisePollutionRailwayM</th>\n      <th>NoisePollutionRailwayS</th>\n      <th>NoisePollutionRoadL</th>\n      <th>NoisePollutionRoadM</th>\n      <th>...</th>\n      <th>type_penthouse</th>\n      <th>type_rustico</th>\n      <th>type_secondary-suite</th>\n      <th>type_semi-detached-house</th>\n      <th>type_single-room</th>\n      <th>type_stepped-apartment</th>\n      <th>type_stepped-house</th>\n      <th>type_studio</th>\n      <th>type_terrace-house</th>\n      <th>type_villa</th>\n    </tr>\n  </thead>\n  <tbody>\n    <tr>\n      <th>0</th>\n      <td>0.511176</td>\n      <td>0.286451</td>\n      <td>0.090908</td>\n      <td>47.415927</td>\n      <td>8.085840</td>\n      <td>0.000000</td>\n      <td>0.0</td>\n      <td>0.0</td>\n      <td>0.058298</td>\n      <td>0.067048</td>\n      <td>...</td>\n      <td>1</td>\n      <td>0</td>\n      <td>0</td>\n      <td>0</td>\n      <td>0</td>\n      <td>0</td>\n      <td>0</td>\n      <td>0</td>\n      <td>0</td>\n      <td>0</td>\n    </tr>\n    <tr>\n      <th>1</th>\n      <td>0.511176</td>\n      <td>0.286451</td>\n      <td>0.090908</td>\n      <td>47.415927</td>\n      <td>8.085840</td>\n      <td>0.000000</td>\n      <td>0.0</td>\n      <td>0.0</td>\n      <td>0.058298</td>\n      <td>0.067048</td>\n      <td>...</td>\n      <td>0</td>\n      <td>0</td>\n      <td>0</td>\n      <td>0</td>\n      <td>0</td>\n      <td>0</td>\n      <td>0</td>\n      <td>0</td>\n      <td>1</td>\n      <td>0</td>\n    </tr>\n    <tr>\n      <th>2</th>\n      <td>0.163362</td>\n      <td>0.095877</td>\n      <td>0.001911</td>\n      <td>47.397416</td>\n      <td>8.043150</td>\n      <td>0.000000</td>\n      <td>0.0</td>\n      <td>0.0</td>\n      <td>0.334957</td>\n      <td>0.381257</td>\n      <td>...</td>\n      <td>1</td>\n      <td>0</td>\n      <td>0</td>\n      <td>0</td>\n      <td>0</td>\n      <td>0</td>\n      <td>0</td>\n      <td>0</td>\n      <td>0</td>\n      <td>0</td>\n    </tr>\n    <tr>\n      <th>3</th>\n      <td>0.511176</td>\n      <td>0.286451</td>\n      <td>0.090908</td>\n      <td>47.415927</td>\n      <td>8.085840</td>\n      <td>0.000000</td>\n      <td>0.0</td>\n      <td>0.0</td>\n      <td>0.058298</td>\n      <td>0.067048</td>\n      <td>...</td>\n      <td>0</td>\n      <td>0</td>\n      <td>0</td>\n      <td>0</td>\n      <td>0</td>\n      <td>0</td>\n      <td>0</td>\n      <td>0</td>\n      <td>0</td>\n      <td>0</td>\n    </tr>\n    <tr>\n      <th>4</th>\n      <td>0.333865</td>\n      <td>0.279276</td>\n      <td>0.145835</td>\n      <td>47.404870</td>\n      <td>8.052781</td>\n      <td>0.000000</td>\n      <td>0.0</td>\n      <td>0.0</td>\n      <td>0.133498</td>\n      <td>0.132933</td>\n      <td>...</td>\n      <td>0</td>\n      <td>0</td>\n      <td>0</td>\n      <td>0</td>\n      <td>0</td>\n      <td>0</td>\n      <td>0</td>\n      <td>0</td>\n      <td>0</td>\n      <td>0</td>\n    </tr>\n    <tr>\n      <th>...</th>\n      <td>...</td>\n      <td>...</td>\n      <td>...</td>\n      <td>...</td>\n      <td>...</td>\n      <td>...</td>\n      <td>...</td>\n      <td>...</td>\n      <td>...</td>\n      <td>...</td>\n      <td>...</td>\n      <td>...</td>\n      <td>...</td>\n      <td>...</td>\n      <td>...</td>\n      <td>...</td>\n      <td>...</td>\n      <td>...</td>\n      <td>...</td>\n      <td>...</td>\n      <td>...</td>\n    </tr>\n    <tr>\n      <th>13373</th>\n      <td>0.089304</td>\n      <td>0.000000</td>\n      <td>0.000000</td>\n      <td>47.341095</td>\n      <td>8.719508</td>\n      <td>0.000000</td>\n      <td>0.0</td>\n      <td>0.0</td>\n      <td>0.306013</td>\n      <td>0.248198</td>\n      <td>...</td>\n      <td>0</td>\n      <td>0</td>\n      <td>0</td>\n      <td>0</td>\n      <td>0</td>\n      <td>0</td>\n      <td>0</td>\n      <td>0</td>\n      <td>0</td>\n      <td>0</td>\n    </tr>\n    <tr>\n      <th>13374</th>\n      <td>0.120618</td>\n      <td>0.054523</td>\n      <td>0.000000</td>\n      <td>47.387817</td>\n      <td>8.692746</td>\n      <td>0.000000</td>\n      <td>0.0</td>\n      <td>0.0</td>\n      <td>0.330695</td>\n      <td>0.376048</td>\n      <td>...</td>\n      <td>0</td>\n      <td>0</td>\n      <td>0</td>\n      <td>1</td>\n      <td>0</td>\n      <td>0</td>\n      <td>0</td>\n      <td>0</td>\n      <td>0</td>\n      <td>0</td>\n    </tr>\n    <tr>\n      <th>13375</th>\n      <td>0.007178</td>\n      <td>0.000000</td>\n      <td>0.000000</td>\n      <td>47.545958</td>\n      <td>8.708230</td>\n      <td>0.000000</td>\n      <td>0.0</td>\n      <td>0.0</td>\n      <td>0.164688</td>\n      <td>0.258562</td>\n      <td>...</td>\n      <td>0</td>\n      <td>0</td>\n      <td>0</td>\n      <td>0</td>\n      <td>0</td>\n      <td>0</td>\n      <td>0</td>\n      <td>0</td>\n      <td>1</td>\n      <td>0</td>\n    </tr>\n    <tr>\n      <th>13376</th>\n      <td>0.249841</td>\n      <td>0.112081</td>\n      <td>0.000000</td>\n      <td>47.433114</td>\n      <td>8.762768</td>\n      <td>0.000000</td>\n      <td>0.0</td>\n      <td>0.0</td>\n      <td>0.203866</td>\n      <td>0.269818</td>\n      <td>...</td>\n      <td>0</td>\n      <td>0</td>\n      <td>0</td>\n      <td>0</td>\n      <td>0</td>\n      <td>0</td>\n      <td>0</td>\n      <td>0</td>\n      <td>0</td>\n      <td>0</td>\n    </tr>\n    <tr>\n      <th>13377</th>\n      <td>0.271372</td>\n      <td>0.163193</td>\n      <td>0.044070</td>\n      <td>47.486889</td>\n      <td>8.772853</td>\n      <td>0.008657</td>\n      <td>0.0</td>\n      <td>0.0</td>\n      <td>0.069172</td>\n      <td>0.063837</td>\n      <td>...</td>\n      <td>0</td>\n      <td>0</td>\n      <td>0</td>\n      <td>0</td>\n      <td>0</td>\n      <td>0</td>\n      <td>0</td>\n      <td>0</td>\n      <td>0</td>\n      <td>0</td>\n    </tr>\n  </tbody>\n</table>\n<p>13378 rows × 75 columns</p>\n</div>"
     },
     "execution_count": 69,
     "metadata": {},
     "output_type": "execute_result"
    }
   ],
   "source": [
    "#only numeric df\n",
    "numeric_df = clean_df.select_dtypes(include=['float64', 'int64', \"uint8\"])\n",
    "numeric_df"
   ]
  },
  {
   "cell_type": "code",
   "execution_count": 70,
   "metadata": {},
   "outputs": [
    {
     "name": "stderr",
     "output_type": "stream",
     "text": [
      "/var/folders/00/d026dxr1001fd8rphxcfdzb40000gn/T/ipykernel_18327/1371071309.py:2: DeprecationWarning: `np.bool` is a deprecated alias for the builtin `bool`. To silence this warning, use `bool` by itself. Doing this will not modify any behavior and is safe. If you specifically wanted the numpy scalar type, use `np.bool_` here.\n",
      "Deprecated in NumPy 1.20; for more details and guidance: https://numpy.org/devdocs/release/1.20.0-notes.html#deprecations\n",
      "  corrMatrix = corrMatrix.where(np.tril(np.ones(corrMatrix.shape)).astype(np.bool)) #only lower triangle --> no duplicates\n"
     ]
    },
    {
     "data": {
      "text/plain": "                        ForestDensityL  ForestDensityM  ForestDensityS  \\\nForestDensityL                1.000000             NaN             NaN   \nForestDensityM                0.911491        1.000000             NaN   \nForestDensityS                0.710585        0.867609        1.000000   \nLatitude                     -0.291478       -0.287520       -0.227517   \nLongitude                     0.273650        0.203794        0.138276   \n...                                ...             ...             ...   \ntype_stepped-apartment       -0.018379       -0.014465       -0.004462   \ntype_stepped-house            0.026723        0.017659        0.020498   \ntype_studio                   0.015922        0.018866        0.018865   \ntype_terrace-house           -0.033460       -0.034042       -0.022782   \ntype_villa                    0.033496        0.045640        0.035872   \n\n                        Latitude  Longitude  NoisePollutionRailwayL  \\\nForestDensityL               NaN        NaN                     NaN   \nForestDensityM               NaN        NaN                     NaN   \nForestDensityS               NaN        NaN                     NaN   \nLatitude                1.000000        NaN                     NaN   \nLongitude               0.058665   1.000000                     NaN   \n...                          ...        ...                     ...   \ntype_stepped-apartment  0.054592   0.008223               -0.012829   \ntype_stepped-house      0.024310  -0.005025               -0.005131   \ntype_studio            -0.022263  -0.023972               -0.001872   \ntype_terrace-house      0.057873  -0.021312                0.021318   \ntype_villa             -0.152334   0.014831               -0.044022   \n\n                        NoisePollutionRailwayM  NoisePollutionRailwayS  \\\nForestDensityL                             NaN                     NaN   \nForestDensityM                             NaN                     NaN   \nForestDensityS                             NaN                     NaN   \nLatitude                                   NaN                     NaN   \nLongitude                                  NaN                     NaN   \n...                                        ...                     ...   \ntype_stepped-apartment               -0.012335               -0.008849   \ntype_stepped-house                    0.000797                0.008599   \ntype_studio                          -0.009201               -0.009533   \ntype_terrace-house                    0.020566                0.014079   \ntype_villa                           -0.030391               -0.012289   \n\n                        NoisePollutionRoadL  NoisePollutionRoadM  ...  \\\nForestDensityL                          NaN                  NaN  ...   \nForestDensityM                          NaN                  NaN  ...   \nForestDensityS                          NaN                  NaN  ...   \nLatitude                                NaN                  NaN  ...   \nLongitude                               NaN                  NaN  ...   \n...                                     ...                  ...  ...   \ntype_stepped-apartment             0.002007             0.000306  ...   \ntype_stepped-house                -0.021506            -0.014233  ...   \ntype_studio                       -0.031229            -0.029519  ...   \ntype_terrace-house                 0.005222            -0.000929  ...   \ntype_villa                         0.020314             0.012356  ...   \n\n                        type_penthouse  type_rustico  type_secondary-suite  \\\nForestDensityL                     NaN           NaN                   NaN   \nForestDensityM                     NaN           NaN                   NaN   \nForestDensityS                     NaN           NaN                   NaN   \nLatitude                           NaN           NaN                   NaN   \nLongitude                          NaN           NaN                   NaN   \n...                                ...           ...                   ...   \ntype_stepped-apartment       -0.021374     -0.007186             -0.000889   \ntype_stepped-house           -0.014635     -0.004920             -0.000609   \ntype_studio                  -0.009347     -0.003142             -0.000389   \ntype_terrace-house           -0.042049     -0.014136             -0.001749   \ntype_villa                   -0.049498     -0.016640             -0.002059   \n\n                        type_semi-detached-house  type_single-room  \\\nForestDensityL                               NaN               NaN   \nForestDensityM                               NaN               NaN   \nForestDensityS                               NaN               NaN   \nLatitude                                     NaN               NaN   \nLongitude                                    NaN               NaN   \n...                                          ...               ...   \ntype_stepped-apartment                 -0.022128         -0.000889   \ntype_stepped-house                     -0.015151         -0.000609   \ntype_studio                            -0.009677         -0.000389   \ntype_terrace-house                     -0.043531         -0.001749   \ntype_villa                             -0.051244         -0.002059   \n\n                        type_stepped-apartment  type_stepped-house  \\\nForestDensityL                             NaN                 NaN   \nForestDensityM                             NaN                 NaN   \nForestDensityS                             NaN                 NaN   \nLatitude                                   NaN                 NaN   \nLongitude                                  NaN                 NaN   \n...                                        ...                 ...   \ntype_stepped-apartment                1.000000                 NaN   \ntype_stepped-house                   -0.007241            1.000000   \ntype_studio                          -0.004625           -0.003166   \ntype_terrace-house                   -0.020805           -0.014245   \ntype_villa                           -0.024491           -0.016769   \n\n                        type_studio  type_terrace-house  type_villa  \nForestDensityL                  NaN                 NaN         NaN  \nForestDensityM                  NaN                 NaN         NaN  \nForestDensityS                  NaN                 NaN         NaN  \nLatitude                        NaN                 NaN         NaN  \nLongitude                       NaN                 NaN         NaN  \n...                             ...                 ...         ...  \ntype_stepped-apartment          NaN                 NaN         NaN  \ntype_stepped-house              NaN                 NaN         NaN  \ntype_studio                1.000000                 NaN         NaN  \ntype_terrace-house        -0.009098            1.000000         NaN  \ntype_villa                -0.010710           -0.048178         1.0  \n\n[75 rows x 75 columns]",
      "text/html": "<div>\n<style scoped>\n    .dataframe tbody tr th:only-of-type {\n        vertical-align: middle;\n    }\n\n    .dataframe tbody tr th {\n        vertical-align: top;\n    }\n\n    .dataframe thead th {\n        text-align: right;\n    }\n</style>\n<table border=\"1\" class=\"dataframe\">\n  <thead>\n    <tr style=\"text-align: right;\">\n      <th></th>\n      <th>ForestDensityL</th>\n      <th>ForestDensityM</th>\n      <th>ForestDensityS</th>\n      <th>Latitude</th>\n      <th>Longitude</th>\n      <th>NoisePollutionRailwayL</th>\n      <th>NoisePollutionRailwayM</th>\n      <th>NoisePollutionRailwayS</th>\n      <th>NoisePollutionRoadL</th>\n      <th>NoisePollutionRoadM</th>\n      <th>...</th>\n      <th>type_penthouse</th>\n      <th>type_rustico</th>\n      <th>type_secondary-suite</th>\n      <th>type_semi-detached-house</th>\n      <th>type_single-room</th>\n      <th>type_stepped-apartment</th>\n      <th>type_stepped-house</th>\n      <th>type_studio</th>\n      <th>type_terrace-house</th>\n      <th>type_villa</th>\n    </tr>\n  </thead>\n  <tbody>\n    <tr>\n      <th>ForestDensityL</th>\n      <td>1.000000</td>\n      <td>NaN</td>\n      <td>NaN</td>\n      <td>NaN</td>\n      <td>NaN</td>\n      <td>NaN</td>\n      <td>NaN</td>\n      <td>NaN</td>\n      <td>NaN</td>\n      <td>NaN</td>\n      <td>...</td>\n      <td>NaN</td>\n      <td>NaN</td>\n      <td>NaN</td>\n      <td>NaN</td>\n      <td>NaN</td>\n      <td>NaN</td>\n      <td>NaN</td>\n      <td>NaN</td>\n      <td>NaN</td>\n      <td>NaN</td>\n    </tr>\n    <tr>\n      <th>ForestDensityM</th>\n      <td>0.911491</td>\n      <td>1.000000</td>\n      <td>NaN</td>\n      <td>NaN</td>\n      <td>NaN</td>\n      <td>NaN</td>\n      <td>NaN</td>\n      <td>NaN</td>\n      <td>NaN</td>\n      <td>NaN</td>\n      <td>...</td>\n      <td>NaN</td>\n      <td>NaN</td>\n      <td>NaN</td>\n      <td>NaN</td>\n      <td>NaN</td>\n      <td>NaN</td>\n      <td>NaN</td>\n      <td>NaN</td>\n      <td>NaN</td>\n      <td>NaN</td>\n    </tr>\n    <tr>\n      <th>ForestDensityS</th>\n      <td>0.710585</td>\n      <td>0.867609</td>\n      <td>1.000000</td>\n      <td>NaN</td>\n      <td>NaN</td>\n      <td>NaN</td>\n      <td>NaN</td>\n      <td>NaN</td>\n      <td>NaN</td>\n      <td>NaN</td>\n      <td>...</td>\n      <td>NaN</td>\n      <td>NaN</td>\n      <td>NaN</td>\n      <td>NaN</td>\n      <td>NaN</td>\n      <td>NaN</td>\n      <td>NaN</td>\n      <td>NaN</td>\n      <td>NaN</td>\n      <td>NaN</td>\n    </tr>\n    <tr>\n      <th>Latitude</th>\n      <td>-0.291478</td>\n      <td>-0.287520</td>\n      <td>-0.227517</td>\n      <td>1.000000</td>\n      <td>NaN</td>\n      <td>NaN</td>\n      <td>NaN</td>\n      <td>NaN</td>\n      <td>NaN</td>\n      <td>NaN</td>\n      <td>...</td>\n      <td>NaN</td>\n      <td>NaN</td>\n      <td>NaN</td>\n      <td>NaN</td>\n      <td>NaN</td>\n      <td>NaN</td>\n      <td>NaN</td>\n      <td>NaN</td>\n      <td>NaN</td>\n      <td>NaN</td>\n    </tr>\n    <tr>\n      <th>Longitude</th>\n      <td>0.273650</td>\n      <td>0.203794</td>\n      <td>0.138276</td>\n      <td>0.058665</td>\n      <td>1.000000</td>\n      <td>NaN</td>\n      <td>NaN</td>\n      <td>NaN</td>\n      <td>NaN</td>\n      <td>NaN</td>\n      <td>...</td>\n      <td>NaN</td>\n      <td>NaN</td>\n      <td>NaN</td>\n      <td>NaN</td>\n      <td>NaN</td>\n      <td>NaN</td>\n      <td>NaN</td>\n      <td>NaN</td>\n      <td>NaN</td>\n      <td>NaN</td>\n    </tr>\n    <tr>\n      <th>...</th>\n      <td>...</td>\n      <td>...</td>\n      <td>...</td>\n      <td>...</td>\n      <td>...</td>\n      <td>...</td>\n      <td>...</td>\n      <td>...</td>\n      <td>...</td>\n      <td>...</td>\n      <td>...</td>\n      <td>...</td>\n      <td>...</td>\n      <td>...</td>\n      <td>...</td>\n      <td>...</td>\n      <td>...</td>\n      <td>...</td>\n      <td>...</td>\n      <td>...</td>\n      <td>...</td>\n    </tr>\n    <tr>\n      <th>type_stepped-apartment</th>\n      <td>-0.018379</td>\n      <td>-0.014465</td>\n      <td>-0.004462</td>\n      <td>0.054592</td>\n      <td>0.008223</td>\n      <td>-0.012829</td>\n      <td>-0.012335</td>\n      <td>-0.008849</td>\n      <td>0.002007</td>\n      <td>0.000306</td>\n      <td>...</td>\n      <td>-0.021374</td>\n      <td>-0.007186</td>\n      <td>-0.000889</td>\n      <td>-0.022128</td>\n      <td>-0.000889</td>\n      <td>1.000000</td>\n      <td>NaN</td>\n      <td>NaN</td>\n      <td>NaN</td>\n      <td>NaN</td>\n    </tr>\n    <tr>\n      <th>type_stepped-house</th>\n      <td>0.026723</td>\n      <td>0.017659</td>\n      <td>0.020498</td>\n      <td>0.024310</td>\n      <td>-0.005025</td>\n      <td>-0.005131</td>\n      <td>0.000797</td>\n      <td>0.008599</td>\n      <td>-0.021506</td>\n      <td>-0.014233</td>\n      <td>...</td>\n      <td>-0.014635</td>\n      <td>-0.004920</td>\n      <td>-0.000609</td>\n      <td>-0.015151</td>\n      <td>-0.000609</td>\n      <td>-0.007241</td>\n      <td>1.000000</td>\n      <td>NaN</td>\n      <td>NaN</td>\n      <td>NaN</td>\n    </tr>\n    <tr>\n      <th>type_studio</th>\n      <td>0.015922</td>\n      <td>0.018866</td>\n      <td>0.018865</td>\n      <td>-0.022263</td>\n      <td>-0.023972</td>\n      <td>-0.001872</td>\n      <td>-0.009201</td>\n      <td>-0.009533</td>\n      <td>-0.031229</td>\n      <td>-0.029519</td>\n      <td>...</td>\n      <td>-0.009347</td>\n      <td>-0.003142</td>\n      <td>-0.000389</td>\n      <td>-0.009677</td>\n      <td>-0.000389</td>\n      <td>-0.004625</td>\n      <td>-0.003166</td>\n      <td>1.000000</td>\n      <td>NaN</td>\n      <td>NaN</td>\n    </tr>\n    <tr>\n      <th>type_terrace-house</th>\n      <td>-0.033460</td>\n      <td>-0.034042</td>\n      <td>-0.022782</td>\n      <td>0.057873</td>\n      <td>-0.021312</td>\n      <td>0.021318</td>\n      <td>0.020566</td>\n      <td>0.014079</td>\n      <td>0.005222</td>\n      <td>-0.000929</td>\n      <td>...</td>\n      <td>-0.042049</td>\n      <td>-0.014136</td>\n      <td>-0.001749</td>\n      <td>-0.043531</td>\n      <td>-0.001749</td>\n      <td>-0.020805</td>\n      <td>-0.014245</td>\n      <td>-0.009098</td>\n      <td>1.000000</td>\n      <td>NaN</td>\n    </tr>\n    <tr>\n      <th>type_villa</th>\n      <td>0.033496</td>\n      <td>0.045640</td>\n      <td>0.035872</td>\n      <td>-0.152334</td>\n      <td>0.014831</td>\n      <td>-0.044022</td>\n      <td>-0.030391</td>\n      <td>-0.012289</td>\n      <td>0.020314</td>\n      <td>0.012356</td>\n      <td>...</td>\n      <td>-0.049498</td>\n      <td>-0.016640</td>\n      <td>-0.002059</td>\n      <td>-0.051244</td>\n      <td>-0.002059</td>\n      <td>-0.024491</td>\n      <td>-0.016769</td>\n      <td>-0.010710</td>\n      <td>-0.048178</td>\n      <td>1.0</td>\n    </tr>\n  </tbody>\n</table>\n<p>75 rows × 75 columns</p>\n</div>"
     },
     "execution_count": 70,
     "metadata": {},
     "output_type": "execute_result"
    }
   ],
   "source": [
    "corrMatrix = numeric_df.corr(method = \"pearson\")\n",
    "corrMatrix = corrMatrix.where(np.tril(np.ones(corrMatrix.shape)).astype(np.bool)) #only lower triangle --> no duplicates\n",
    "corrMatrix"
   ]
  },
  {
   "cell_type": "markdown",
   "metadata": {},
   "source": [
    "### Print all strong correlation (over 0.7 or under -0.7)"
   ]
  },
  {
   "cell_type": "code",
   "execution_count": 71,
   "metadata": {},
   "outputs": [
    {
     "name": "stderr",
     "output_type": "stream",
     "text": [
      "/var/folders/00/d026dxr1001fd8rphxcfdzb40000gn/T/ipykernel_18327/3568800886.py:5: FutureWarning: elementwise comparison failed; returning scalar instead, but in the future will perform elementwise comparison\n",
      "  if abs(corrMatrix.iloc[i,j] > 0.7) and corrMatrix.iloc[i,j] != 1 and corrMatrix.iloc[i,j] not in high_correlation:\n"
     ]
    },
    {
     "data": {
      "text/plain": "[['ForestDensityM', 'ForestDensityL', 0.9114909095381499],\n ['ForestDensityS', 'ForestDensityL', 0.710585008742777],\n ['ForestDensityS', 'ForestDensityM', 0.8676090226762789],\n ['NoisePollutionRailwayM', 'NoisePollutionRailwayL', 0.8343790570503911],\n ['NoisePollutionRailwayS', 'NoisePollutionRailwayM', 0.7864027031797696],\n ['NoisePollutionRoadM', 'NoisePollutionRoadL', 0.9040623034427968],\n ['NoisePollutionRoadS', 'NoisePollutionRoadM', 0.8430971070480482],\n ['PopulationDensityM', 'PopulationDensityL', 0.9202544032244113],\n ['PopulationDensityS', 'PopulationDensityL', 0.72993618794267],\n ['PopulationDensityS', 'PopulationDensityM', 0.8658392151152488],\n ['RiversAndLakesM', 'RiversAndLakesL', 0.8335660032373315],\n ['WorkplaceDensityL', 'PopulationDensityL', 0.8014977199828],\n ['WorkplaceDensityL', 'PopulationDensityM', 0.716422074016624],\n ['WorkplaceDensityM', 'PopulationDensityL', 0.7289775256184324],\n ['WorkplaceDensityM', 'PopulationDensityM', 0.7267595628767942],\n ['WorkplaceDensityM', 'WorkplaceDensityL', 0.9172937518399222],\n ['WorkplaceDensityS', 'WorkplaceDensityL', 0.7427578371190027],\n ['WorkplaceDensityS', 'WorkplaceDensityM', 0.8960052083272559],\n ['Zip', 'Longitude', 0.9460298367288767],\n ['gde_pop_per_km2', 'gde_area_settlement_percentage', 0.8649664284073533],\n ['gde_private_apartments', 'gde_population', 0.9985761629757739],\n ['gde_workers_sector2', 'gde_population', 0.8197945465791054],\n ['gde_workers_sector2', 'gde_private_apartments', 0.8208401691223466],\n ['gde_workers_sector3', 'gde_population', 0.9663947601886869],\n ['gde_workers_sector3', 'gde_private_apartments', 0.9718937858664228],\n ['gde_workers_sector3', 'gde_workers_sector2', 0.8053082173346408],\n ['gde_workers_total', 'gde_population', 0.9691241616393017],\n ['gde_workers_total', 'gde_private_apartments', 0.9740840355761041],\n ['gde_workers_total', 'gde_workers_sector2', 0.8505637996041837],\n ['gde_workers_total', 'gde_workers_sector3', 0.9967212015892075]]"
     },
     "execution_count": 71,
     "metadata": {},
     "output_type": "execute_result"
    }
   ],
   "source": [
    "high_correlation = []\n",
    "\n",
    "for i in range(len(corrMatrix)):\n",
    "    for j in range(len(corrMatrix)):\n",
    "        if abs(corrMatrix.iloc[i,j] > 0.7) and corrMatrix.iloc[i,j] != 1 and corrMatrix.iloc[i,j] not in high_correlation:\n",
    "            high_correlation.append([corrMatrix.index[i], corrMatrix.columns[j], corrMatrix.iloc[i,j]])\n",
    "\n",
    "high_correlation"
   ]
  },
  {
   "cell_type": "markdown",
   "metadata": {},
   "source": [
    "### For the Models: If two columns have a high correlation --> have the same effect on the output --> So we can drop one of them"
   ]
  },
  {
   "cell_type": "code",
   "execution_count": 72,
   "metadata": {},
   "outputs": [
    {
     "data": {
      "text/plain": "       ForestDensityM   Latitude  Longitude  NoisePollutionRailwayM  \\\n0            0.286451  47.415927   8.085840                     0.0   \n1            0.286451  47.415927   8.085840                     0.0   \n2            0.095877  47.397416   8.043150                     0.0   \n3            0.286451  47.415927   8.085840                     0.0   \n4            0.279276  47.404870   8.052781                     0.0   \n...               ...        ...        ...                     ...   \n13373        0.000000  47.341095   8.719508                     0.0   \n13374        0.054523  47.387817   8.692746                     0.0   \n13375        0.000000  47.545958   8.708230                     0.0   \n13376        0.112081  47.433114   8.762768                     0.0   \n13377        0.163193  47.486889   8.772853                     0.0   \n\n       NoisePollutionRoadM  PopulationDensityM  RiversAndLakesM  \\\n0                 0.067048            0.209530         0.001811   \n1                 0.067048            0.209530         0.001811   \n2                 0.381257            0.393783         0.188229   \n3                 0.067048            0.209530         0.001811   \n4                 0.132933            0.136984         0.141473   \n...                    ...                 ...              ...   \n13373             0.248198            0.398929         0.000000   \n13374             0.376048            0.332250         0.016351   \n13375             0.258562            0.374555         0.000000   \n13376             0.269818            0.264024         0.000000   \n13377             0.063837            0.266676         0.000000   \n\n       RiversAndLakesS  distanceToTrainStation  \\\n0             0.011871                3.038467   \n1             0.011871                3.038467   \n2             0.000000                0.909587   \n3             0.011871                3.038467   \n4             0.091805                1.460245   \n...                ...                     ...   \n13373         0.000000                1.032783   \n13374         0.000000                2.107159   \n13375         0.000000                1.007680   \n13376         0.000000                2.848786   \n13377         0.000000                0.458705   \n\n       gde_area_agriculture_percentage  ...  type_penthouse  type_rustico  \\\n0                            30.676329  ...               1             0   \n1                            30.676329  ...               0             0   \n2                            11.354420  ...               1             0   \n3                            30.676329  ...               0             0   \n4                            33.137090  ...               0             0   \n...                                ...  ...             ...           ...   \n13373                        40.749825  ...               0             0   \n13374                        37.473233  ...               0             0   \n13375                        59.067358  ...               0             0   \n13376                        42.823529  ...               0             0   \n13377                        24.809160  ...               0             0   \n\n       type_secondary-suite  type_semi-detached-house  type_single-room  \\\n0                         0                         0                 0   \n1                         0                         0                 0   \n2                         0                         0                 0   \n3                         0                         0                 0   \n4                         0                         0                 0   \n...                     ...                       ...               ...   \n13373                     0                         0                 0   \n13374                     0                         1                 0   \n13375                     0                         0                 0   \n13376                     0                         0                 0   \n13377                     0                         0                 0   \n\n       type_stepped-apartment  type_stepped-house  type_studio  \\\n0                           0                   0            0   \n1                           0                   0            0   \n2                           0                   0            0   \n3                           0                   0            0   \n4                           0                   0            0   \n...                       ...                 ...          ...   \n13373                       0                   0            0   \n13374                       0                   0            0   \n13375                       0                   0            0   \n13376                       0                   0            0   \n13377                       0                   0            0   \n\n       type_terrace-house  type_villa  \n0                       0           0  \n1                       1           0  \n2                       0           0  \n3                       0           0  \n4                       0           0  \n...                   ...         ...  \n13373                   0           0  \n13374                   0           0  \n13375                   1           0  \n13376                   0           0  \n13377                   0           0  \n\n[13378 rows x 57 columns]",
      "text/html": "<div>\n<style scoped>\n    .dataframe tbody tr th:only-of-type {\n        vertical-align: middle;\n    }\n\n    .dataframe tbody tr th {\n        vertical-align: top;\n    }\n\n    .dataframe thead th {\n        text-align: right;\n    }\n</style>\n<table border=\"1\" class=\"dataframe\">\n  <thead>\n    <tr style=\"text-align: right;\">\n      <th></th>\n      <th>ForestDensityM</th>\n      <th>Latitude</th>\n      <th>Longitude</th>\n      <th>NoisePollutionRailwayM</th>\n      <th>NoisePollutionRoadM</th>\n      <th>PopulationDensityM</th>\n      <th>RiversAndLakesM</th>\n      <th>RiversAndLakesS</th>\n      <th>distanceToTrainStation</th>\n      <th>gde_area_agriculture_percentage</th>\n      <th>...</th>\n      <th>type_penthouse</th>\n      <th>type_rustico</th>\n      <th>type_secondary-suite</th>\n      <th>type_semi-detached-house</th>\n      <th>type_single-room</th>\n      <th>type_stepped-apartment</th>\n      <th>type_stepped-house</th>\n      <th>type_studio</th>\n      <th>type_terrace-house</th>\n      <th>type_villa</th>\n    </tr>\n  </thead>\n  <tbody>\n    <tr>\n      <th>0</th>\n      <td>0.286451</td>\n      <td>47.415927</td>\n      <td>8.085840</td>\n      <td>0.0</td>\n      <td>0.067048</td>\n      <td>0.209530</td>\n      <td>0.001811</td>\n      <td>0.011871</td>\n      <td>3.038467</td>\n      <td>30.676329</td>\n      <td>...</td>\n      <td>1</td>\n      <td>0</td>\n      <td>0</td>\n      <td>0</td>\n      <td>0</td>\n      <td>0</td>\n      <td>0</td>\n      <td>0</td>\n      <td>0</td>\n      <td>0</td>\n    </tr>\n    <tr>\n      <th>1</th>\n      <td>0.286451</td>\n      <td>47.415927</td>\n      <td>8.085840</td>\n      <td>0.0</td>\n      <td>0.067048</td>\n      <td>0.209530</td>\n      <td>0.001811</td>\n      <td>0.011871</td>\n      <td>3.038467</td>\n      <td>30.676329</td>\n      <td>...</td>\n      <td>0</td>\n      <td>0</td>\n      <td>0</td>\n      <td>0</td>\n      <td>0</td>\n      <td>0</td>\n      <td>0</td>\n      <td>0</td>\n      <td>1</td>\n      <td>0</td>\n    </tr>\n    <tr>\n      <th>2</th>\n      <td>0.095877</td>\n      <td>47.397416</td>\n      <td>8.043150</td>\n      <td>0.0</td>\n      <td>0.381257</td>\n      <td>0.393783</td>\n      <td>0.188229</td>\n      <td>0.000000</td>\n      <td>0.909587</td>\n      <td>11.354420</td>\n      <td>...</td>\n      <td>1</td>\n      <td>0</td>\n      <td>0</td>\n      <td>0</td>\n      <td>0</td>\n      <td>0</td>\n      <td>0</td>\n      <td>0</td>\n      <td>0</td>\n      <td>0</td>\n    </tr>\n    <tr>\n      <th>3</th>\n      <td>0.286451</td>\n      <td>47.415927</td>\n      <td>8.085840</td>\n      <td>0.0</td>\n      <td>0.067048</td>\n      <td>0.209530</td>\n      <td>0.001811</td>\n      <td>0.011871</td>\n      <td>3.038467</td>\n      <td>30.676329</td>\n      <td>...</td>\n      <td>0</td>\n      <td>0</td>\n      <td>0</td>\n      <td>0</td>\n      <td>0</td>\n      <td>0</td>\n      <td>0</td>\n      <td>0</td>\n      <td>0</td>\n      <td>0</td>\n    </tr>\n    <tr>\n      <th>4</th>\n      <td>0.279276</td>\n      <td>47.404870</td>\n      <td>8.052781</td>\n      <td>0.0</td>\n      <td>0.132933</td>\n      <td>0.136984</td>\n      <td>0.141473</td>\n      <td>0.091805</td>\n      <td>1.460245</td>\n      <td>33.137090</td>\n      <td>...</td>\n      <td>0</td>\n      <td>0</td>\n      <td>0</td>\n      <td>0</td>\n      <td>0</td>\n      <td>0</td>\n      <td>0</td>\n      <td>0</td>\n      <td>0</td>\n      <td>0</td>\n    </tr>\n    <tr>\n      <th>...</th>\n      <td>...</td>\n      <td>...</td>\n      <td>...</td>\n      <td>...</td>\n      <td>...</td>\n      <td>...</td>\n      <td>...</td>\n      <td>...</td>\n      <td>...</td>\n      <td>...</td>\n      <td>...</td>\n      <td>...</td>\n      <td>...</td>\n      <td>...</td>\n      <td>...</td>\n      <td>...</td>\n      <td>...</td>\n      <td>...</td>\n      <td>...</td>\n      <td>...</td>\n      <td>...</td>\n    </tr>\n    <tr>\n      <th>13373</th>\n      <td>0.000000</td>\n      <td>47.341095</td>\n      <td>8.719508</td>\n      <td>0.0</td>\n      <td>0.248198</td>\n      <td>0.398929</td>\n      <td>0.000000</td>\n      <td>0.000000</td>\n      <td>1.032783</td>\n      <td>40.749825</td>\n      <td>...</td>\n      <td>0</td>\n      <td>0</td>\n      <td>0</td>\n      <td>0</td>\n      <td>0</td>\n      <td>0</td>\n      <td>0</td>\n      <td>0</td>\n      <td>0</td>\n      <td>0</td>\n    </tr>\n    <tr>\n      <th>13374</th>\n      <td>0.054523</td>\n      <td>47.387817</td>\n      <td>8.692746</td>\n      <td>0.0</td>\n      <td>0.376048</td>\n      <td>0.332250</td>\n      <td>0.016351</td>\n      <td>0.000000</td>\n      <td>2.107159</td>\n      <td>37.473233</td>\n      <td>...</td>\n      <td>0</td>\n      <td>0</td>\n      <td>0</td>\n      <td>1</td>\n      <td>0</td>\n      <td>0</td>\n      <td>0</td>\n      <td>0</td>\n      <td>0</td>\n      <td>0</td>\n    </tr>\n    <tr>\n      <th>13375</th>\n      <td>0.000000</td>\n      <td>47.545958</td>\n      <td>8.708230</td>\n      <td>0.0</td>\n      <td>0.258562</td>\n      <td>0.374555</td>\n      <td>0.000000</td>\n      <td>0.000000</td>\n      <td>1.007680</td>\n      <td>59.067358</td>\n      <td>...</td>\n      <td>0</td>\n      <td>0</td>\n      <td>0</td>\n      <td>0</td>\n      <td>0</td>\n      <td>0</td>\n      <td>0</td>\n      <td>0</td>\n      <td>1</td>\n      <td>0</td>\n    </tr>\n    <tr>\n      <th>13376</th>\n      <td>0.112081</td>\n      <td>47.433114</td>\n      <td>8.762768</td>\n      <td>0.0</td>\n      <td>0.269818</td>\n      <td>0.264024</td>\n      <td>0.000000</td>\n      <td>0.000000</td>\n      <td>2.848786</td>\n      <td>42.823529</td>\n      <td>...</td>\n      <td>0</td>\n      <td>0</td>\n      <td>0</td>\n      <td>0</td>\n      <td>0</td>\n      <td>0</td>\n      <td>0</td>\n      <td>0</td>\n      <td>0</td>\n      <td>0</td>\n    </tr>\n    <tr>\n      <th>13377</th>\n      <td>0.163193</td>\n      <td>47.486889</td>\n      <td>8.772853</td>\n      <td>0.0</td>\n      <td>0.063837</td>\n      <td>0.266676</td>\n      <td>0.000000</td>\n      <td>0.000000</td>\n      <td>0.458705</td>\n      <td>24.809160</td>\n      <td>...</td>\n      <td>0</td>\n      <td>0</td>\n      <td>0</td>\n      <td>0</td>\n      <td>0</td>\n      <td>0</td>\n      <td>0</td>\n      <td>0</td>\n      <td>0</td>\n      <td>0</td>\n    </tr>\n  </tbody>\n</table>\n<p>13378 rows × 57 columns</p>\n</div>"
     },
     "execution_count": 72,
     "metadata": {},
     "output_type": "execute_result"
    }
   ],
   "source": [
    "model_df = numeric_df.copy()\n",
    "\n",
    "columns_to_drop = [\"ForestDensityS\", \"ForestDensityL\",\n",
    "                   \"NoisePollutionRailwayS\", \"NoisePollutionRailwayL\",\n",
    "                   \"NoisePollutionRoadS\", \"NoisePollutionRoadL\",\n",
    "                   \"PopulationDensityS\", \"PopulationDensityL\",\n",
    "                   \"RiversAndLakesL\",\n",
    "                   \"WorkplaceDensityS\", \"WorkplaceDensityM\", \"WorkplaceDensityL\",\n",
    "                   \"gde_private_apartments\",\n",
    "                   \"gde_workers_sector2\", \"gde_workers_sector3\",\n",
    "                   \"gde_workers_total\",\n",
    "                   \"gde_area_settlement_percentage\",\n",
    "                   \"Zip\"]\n",
    "\n",
    "model_df = model_df.drop(columns_to_drop, axis=1)\n",
    "model_df"
   ]
  },
  {
   "cell_type": "markdown",
   "metadata": {},
   "source": [
    "### So now we have a numeric-df without strong correlations between each other --> for the models"
   ]
  },
  {
   "cell_type": "markdown",
   "metadata": {},
   "source": [
    "### Let's make multiple df, with different methods of scaling, to see which of them perform best"
   ]
  },
  {
   "cell_type": "markdown",
   "metadata": {},
   "source": [
    "#### Min Max Scaling (prone to outliers)"
   ]
  },
  {
   "cell_type": "code",
   "execution_count": 73,
   "metadata": {},
   "outputs": [
    {
     "data": {
      "text/plain": "   ForestDensityM  Latitude  Longitude  NoisePollutionRailwayM  \\\n0        0.286608  0.808677   0.477811                     0.0   \n1        0.286608  0.808677   0.477811                     0.0   \n2        0.095930  0.799258   0.468164                     0.0   \n3        0.286608  0.808677   0.477811                     0.0   \n4        0.279429  0.803051   0.470341                     0.0   \n\n   NoisePollutionRoadM  PopulationDensityM  RiversAndLakesM  RiversAndLakesS  \\\n0             0.095327            0.218913         0.003596         0.032255   \n1             0.095327            0.218913         0.003596         0.032255   \n2             0.542063            0.411418         0.373727         0.000000   \n3             0.095327            0.218913         0.003596         0.032255   \n4             0.189001            0.143119         0.280894         0.249448   \n\n   distanceToTrainStation  gde_area_agriculture_percentage  ...  \\\n0                0.114247                         0.349452  ...   \n1                0.114247                         0.349452  ...   \n2                0.033815                         0.129345  ...   \n3                0.114247                         0.349452  ...   \n4                0.054619                         0.377484  ...   \n\n   type_penthouse  type_rustico  type_secondary-suite  \\\n0               1             0                     0   \n1               0             0                     0   \n2               1             0                     0   \n3               0             0                     0   \n4               0             0                     0   \n\n   type_semi-detached-house  type_single-room  type_stepped-apartment  \\\n0                         0                 0                       0   \n1                         0                 0                       0   \n2                         0                 0                       0   \n3                         0                 0                       0   \n4                         0                 0                       0   \n\n   type_stepped-house  type_studio  type_terrace-house  type_villa  \n0                   0            0                   0           0  \n1                   0            0                   1           0  \n2                   0            0                   0           0  \n3                   0            0                   0           0  \n4                   0            0                   0           0  \n\n[5 rows x 57 columns]",
      "text/html": "<div>\n<style scoped>\n    .dataframe tbody tr th:only-of-type {\n        vertical-align: middle;\n    }\n\n    .dataframe tbody tr th {\n        vertical-align: top;\n    }\n\n    .dataframe thead th {\n        text-align: right;\n    }\n</style>\n<table border=\"1\" class=\"dataframe\">\n  <thead>\n    <tr style=\"text-align: right;\">\n      <th></th>\n      <th>ForestDensityM</th>\n      <th>Latitude</th>\n      <th>Longitude</th>\n      <th>NoisePollutionRailwayM</th>\n      <th>NoisePollutionRoadM</th>\n      <th>PopulationDensityM</th>\n      <th>RiversAndLakesM</th>\n      <th>RiversAndLakesS</th>\n      <th>distanceToTrainStation</th>\n      <th>gde_area_agriculture_percentage</th>\n      <th>...</th>\n      <th>type_penthouse</th>\n      <th>type_rustico</th>\n      <th>type_secondary-suite</th>\n      <th>type_semi-detached-house</th>\n      <th>type_single-room</th>\n      <th>type_stepped-apartment</th>\n      <th>type_stepped-house</th>\n      <th>type_studio</th>\n      <th>type_terrace-house</th>\n      <th>type_villa</th>\n    </tr>\n  </thead>\n  <tbody>\n    <tr>\n      <th>0</th>\n      <td>0.286608</td>\n      <td>0.808677</td>\n      <td>0.477811</td>\n      <td>0.0</td>\n      <td>0.095327</td>\n      <td>0.218913</td>\n      <td>0.003596</td>\n      <td>0.032255</td>\n      <td>0.114247</td>\n      <td>0.349452</td>\n      <td>...</td>\n      <td>1</td>\n      <td>0</td>\n      <td>0</td>\n      <td>0</td>\n      <td>0</td>\n      <td>0</td>\n      <td>0</td>\n      <td>0</td>\n      <td>0</td>\n      <td>0</td>\n    </tr>\n    <tr>\n      <th>1</th>\n      <td>0.286608</td>\n      <td>0.808677</td>\n      <td>0.477811</td>\n      <td>0.0</td>\n      <td>0.095327</td>\n      <td>0.218913</td>\n      <td>0.003596</td>\n      <td>0.032255</td>\n      <td>0.114247</td>\n      <td>0.349452</td>\n      <td>...</td>\n      <td>0</td>\n      <td>0</td>\n      <td>0</td>\n      <td>0</td>\n      <td>0</td>\n      <td>0</td>\n      <td>0</td>\n      <td>0</td>\n      <td>1</td>\n      <td>0</td>\n    </tr>\n    <tr>\n      <th>2</th>\n      <td>0.095930</td>\n      <td>0.799258</td>\n      <td>0.468164</td>\n      <td>0.0</td>\n      <td>0.542063</td>\n      <td>0.411418</td>\n      <td>0.373727</td>\n      <td>0.000000</td>\n      <td>0.033815</td>\n      <td>0.129345</td>\n      <td>...</td>\n      <td>1</td>\n      <td>0</td>\n      <td>0</td>\n      <td>0</td>\n      <td>0</td>\n      <td>0</td>\n      <td>0</td>\n      <td>0</td>\n      <td>0</td>\n      <td>0</td>\n    </tr>\n    <tr>\n      <th>3</th>\n      <td>0.286608</td>\n      <td>0.808677</td>\n      <td>0.477811</td>\n      <td>0.0</td>\n      <td>0.095327</td>\n      <td>0.218913</td>\n      <td>0.003596</td>\n      <td>0.032255</td>\n      <td>0.114247</td>\n      <td>0.349452</td>\n      <td>...</td>\n      <td>0</td>\n      <td>0</td>\n      <td>0</td>\n      <td>0</td>\n      <td>0</td>\n      <td>0</td>\n      <td>0</td>\n      <td>0</td>\n      <td>0</td>\n      <td>0</td>\n    </tr>\n    <tr>\n      <th>4</th>\n      <td>0.279429</td>\n      <td>0.803051</td>\n      <td>0.470341</td>\n      <td>0.0</td>\n      <td>0.189001</td>\n      <td>0.143119</td>\n      <td>0.280894</td>\n      <td>0.249448</td>\n      <td>0.054619</td>\n      <td>0.377484</td>\n      <td>...</td>\n      <td>0</td>\n      <td>0</td>\n      <td>0</td>\n      <td>0</td>\n      <td>0</td>\n      <td>0</td>\n      <td>0</td>\n      <td>0</td>\n      <td>0</td>\n      <td>0</td>\n    </tr>\n  </tbody>\n</table>\n<p>5 rows × 57 columns</p>\n</div>"
     },
     "execution_count": 73,
     "metadata": {},
     "output_type": "execute_result"
    }
   ],
   "source": [
    "model_df_min_max = model_df.copy()\n",
    "\n",
    "for col in model_df_min_max.columns:\n",
    "    if col == \"price\":\n",
    "        continue\n",
    "    elif col.startswith(\"type_\"):\n",
    "        continue\n",
    "    model_df_min_max[col] = (model_df_min_max[col] - model_df_min_max[col].min()) / (model_df_min_max[col].max() - model_df_min_max[col].min())\n",
    "\n",
    "model_df_min_max.head()"
   ]
  },
  {
   "cell_type": "markdown",
   "metadata": {},
   "source": [
    "#### Normalization (actually you change the distribution of your data)"
   ]
  },
  {
   "cell_type": "code",
   "execution_count": 74,
   "metadata": {},
   "outputs": [
    {
     "data": {
      "text/plain": "   ForestDensityM  Latitude  Longitude  NoisePollutionRailwayM  \\\n0        0.153933  0.344257   0.040907               -0.037157   \n1        0.153933  0.344257   0.040907               -0.037157   \n2       -0.036745  0.334839   0.031260               -0.037157   \n3        0.153933  0.344257   0.040907               -0.037157   \n4        0.146755  0.338632   0.033436               -0.037157   \n\n   NoisePollutionRoadM  PopulationDensityM  RiversAndLakesM  RiversAndLakesS  \\\n0            -0.279696           -0.040741        -0.025666         0.019334   \n1            -0.279696           -0.040741        -0.025666         0.019334   \n2             0.167040            0.151764         0.344464        -0.012922   \n3            -0.279696           -0.040741        -0.025666         0.019334   \n4            -0.186021           -0.116536         0.251632         0.236526   \n\n   distanceToTrainStation  gde_area_agriculture_percentage  ...  \\\n0                0.044746                        -0.039176  ...   \n1                0.044746                        -0.039176  ...   \n2               -0.035686                        -0.259283  ...   \n3                0.044746                        -0.039176  ...   \n4               -0.014882                        -0.011144  ...   \n\n   type_penthouse  type_rustico  type_secondary-suite  \\\n0               1             0                     0   \n1               0             0                     0   \n2               1             0                     0   \n3               0             0                     0   \n4               0             0                     0   \n\n   type_semi-detached-house  type_single-room  type_stepped-apartment  \\\n0                         0                 0                       0   \n1                         0                 0                       0   \n2                         0                 0                       0   \n3                         0                 0                       0   \n4                         0                 0                       0   \n\n   type_stepped-house  type_studio  type_terrace-house  type_villa  \n0                   0            0                   0           0  \n1                   0            0                   1           0  \n2                   0            0                   0           0  \n3                   0            0                   0           0  \n4                   0            0                   0           0  \n\n[5 rows x 57 columns]",
      "text/html": "<div>\n<style scoped>\n    .dataframe tbody tr th:only-of-type {\n        vertical-align: middle;\n    }\n\n    .dataframe tbody tr th {\n        vertical-align: top;\n    }\n\n    .dataframe thead th {\n        text-align: right;\n    }\n</style>\n<table border=\"1\" class=\"dataframe\">\n  <thead>\n    <tr style=\"text-align: right;\">\n      <th></th>\n      <th>ForestDensityM</th>\n      <th>Latitude</th>\n      <th>Longitude</th>\n      <th>NoisePollutionRailwayM</th>\n      <th>NoisePollutionRoadM</th>\n      <th>PopulationDensityM</th>\n      <th>RiversAndLakesM</th>\n      <th>RiversAndLakesS</th>\n      <th>distanceToTrainStation</th>\n      <th>gde_area_agriculture_percentage</th>\n      <th>...</th>\n      <th>type_penthouse</th>\n      <th>type_rustico</th>\n      <th>type_secondary-suite</th>\n      <th>type_semi-detached-house</th>\n      <th>type_single-room</th>\n      <th>type_stepped-apartment</th>\n      <th>type_stepped-house</th>\n      <th>type_studio</th>\n      <th>type_terrace-house</th>\n      <th>type_villa</th>\n    </tr>\n  </thead>\n  <tbody>\n    <tr>\n      <th>0</th>\n      <td>0.153933</td>\n      <td>0.344257</td>\n      <td>0.040907</td>\n      <td>-0.037157</td>\n      <td>-0.279696</td>\n      <td>-0.040741</td>\n      <td>-0.025666</td>\n      <td>0.019334</td>\n      <td>0.044746</td>\n      <td>-0.039176</td>\n      <td>...</td>\n      <td>1</td>\n      <td>0</td>\n      <td>0</td>\n      <td>0</td>\n      <td>0</td>\n      <td>0</td>\n      <td>0</td>\n      <td>0</td>\n      <td>0</td>\n      <td>0</td>\n    </tr>\n    <tr>\n      <th>1</th>\n      <td>0.153933</td>\n      <td>0.344257</td>\n      <td>0.040907</td>\n      <td>-0.037157</td>\n      <td>-0.279696</td>\n      <td>-0.040741</td>\n      <td>-0.025666</td>\n      <td>0.019334</td>\n      <td>0.044746</td>\n      <td>-0.039176</td>\n      <td>...</td>\n      <td>0</td>\n      <td>0</td>\n      <td>0</td>\n      <td>0</td>\n      <td>0</td>\n      <td>0</td>\n      <td>0</td>\n      <td>0</td>\n      <td>1</td>\n      <td>0</td>\n    </tr>\n    <tr>\n      <th>2</th>\n      <td>-0.036745</td>\n      <td>0.334839</td>\n      <td>0.031260</td>\n      <td>-0.037157</td>\n      <td>0.167040</td>\n      <td>0.151764</td>\n      <td>0.344464</td>\n      <td>-0.012922</td>\n      <td>-0.035686</td>\n      <td>-0.259283</td>\n      <td>...</td>\n      <td>1</td>\n      <td>0</td>\n      <td>0</td>\n      <td>0</td>\n      <td>0</td>\n      <td>0</td>\n      <td>0</td>\n      <td>0</td>\n      <td>0</td>\n      <td>0</td>\n    </tr>\n    <tr>\n      <th>3</th>\n      <td>0.153933</td>\n      <td>0.344257</td>\n      <td>0.040907</td>\n      <td>-0.037157</td>\n      <td>-0.279696</td>\n      <td>-0.040741</td>\n      <td>-0.025666</td>\n      <td>0.019334</td>\n      <td>0.044746</td>\n      <td>-0.039176</td>\n      <td>...</td>\n      <td>0</td>\n      <td>0</td>\n      <td>0</td>\n      <td>0</td>\n      <td>0</td>\n      <td>0</td>\n      <td>0</td>\n      <td>0</td>\n      <td>0</td>\n      <td>0</td>\n    </tr>\n    <tr>\n      <th>4</th>\n      <td>0.146755</td>\n      <td>0.338632</td>\n      <td>0.033436</td>\n      <td>-0.037157</td>\n      <td>-0.186021</td>\n      <td>-0.116536</td>\n      <td>0.251632</td>\n      <td>0.236526</td>\n      <td>-0.014882</td>\n      <td>-0.011144</td>\n      <td>...</td>\n      <td>0</td>\n      <td>0</td>\n      <td>0</td>\n      <td>0</td>\n      <td>0</td>\n      <td>0</td>\n      <td>0</td>\n      <td>0</td>\n      <td>0</td>\n      <td>0</td>\n    </tr>\n  </tbody>\n</table>\n<p>5 rows × 57 columns</p>\n</div>"
     },
     "execution_count": 74,
     "metadata": {},
     "output_type": "execute_result"
    }
   ],
   "source": [
    "model_df_norm = model_df.copy()\n",
    "\n",
    "for col in model_df_norm.columns:\n",
    "    if col == \"price\":\n",
    "        continue\n",
    "    elif col.startswith(\"type_\"):\n",
    "        continue\n",
    "    model_df_norm[col] = (model_df_norm[col] - model_df_norm[col].mean()) / (model_df_norm[col].max() - model_df_norm[col].min())\n",
    "\n",
    "\n",
    "model_df_norm.head()"
   ]
  },
  {
   "cell_type": "markdown",
   "metadata": {},
   "source": [
    "#### Standardization (best method to use if the deature is normally distributed)"
   ]
  },
  {
   "cell_type": "code",
   "execution_count": 75,
   "metadata": {},
   "outputs": [
    {
     "data": {
      "text/plain": "   ForestDensityM  Latitude  Longitude  NoisePollutionRailwayM  \\\n0        0.888240  1.242636   0.190171               -0.371367   \n1        0.888240  1.242636   0.190171               -0.371367   \n2       -0.212026  1.208638   0.145324               -0.371367   \n3        0.888240  1.242636   0.190171               -0.371367   \n4        0.846816  1.222329   0.155442               -0.371367   \n\n   NoisePollutionRoadM  PopulationDensityM  RiversAndLakesM  RiversAndLakesS  \\\n0            -1.604049           -0.234829        -0.278031         0.273363   \n1            -1.604049           -0.234829        -0.278031         0.273363   \n2             0.957971            0.874749         3.731423        -0.182707   \n3            -1.604049           -0.234829        -0.278031         0.273363   \n4            -1.066828           -0.671698         2.725811         3.344332   \n\n   distanceToTrainStation  gde_area_agriculture_percentage  ...  \\\n0                0.498842                        -0.178127  ...   \n1                0.498842                        -0.178127  ...   \n2               -0.397846                        -1.178926  ...   \n3                0.498842                        -0.178127  ...   \n4               -0.165908                        -0.050669  ...   \n\n   type_penthouse  type_rustico  type_secondary-suite  \\\n0               1             0                     0   \n1               0             0                     0   \n2               1             0                     0   \n3               0             0                     0   \n4               0             0                     0   \n\n   type_semi-detached-house  type_single-room  type_stepped-apartment  \\\n0                         0                 0                       0   \n1                         0                 0                       0   \n2                         0                 0                       0   \n3                         0                 0                       0   \n4                         0                 0                       0   \n\n   type_stepped-house  type_studio  type_terrace-house  type_villa  \n0                   0            0                   0           0  \n1                   0            0                   1           0  \n2                   0            0                   0           0  \n3                   0            0                   0           0  \n4                   0            0                   0           0  \n\n[5 rows x 57 columns]",
      "text/html": "<div>\n<style scoped>\n    .dataframe tbody tr th:only-of-type {\n        vertical-align: middle;\n    }\n\n    .dataframe tbody tr th {\n        vertical-align: top;\n    }\n\n    .dataframe thead th {\n        text-align: right;\n    }\n</style>\n<table border=\"1\" class=\"dataframe\">\n  <thead>\n    <tr style=\"text-align: right;\">\n      <th></th>\n      <th>ForestDensityM</th>\n      <th>Latitude</th>\n      <th>Longitude</th>\n      <th>NoisePollutionRailwayM</th>\n      <th>NoisePollutionRoadM</th>\n      <th>PopulationDensityM</th>\n      <th>RiversAndLakesM</th>\n      <th>RiversAndLakesS</th>\n      <th>distanceToTrainStation</th>\n      <th>gde_area_agriculture_percentage</th>\n      <th>...</th>\n      <th>type_penthouse</th>\n      <th>type_rustico</th>\n      <th>type_secondary-suite</th>\n      <th>type_semi-detached-house</th>\n      <th>type_single-room</th>\n      <th>type_stepped-apartment</th>\n      <th>type_stepped-house</th>\n      <th>type_studio</th>\n      <th>type_terrace-house</th>\n      <th>type_villa</th>\n    </tr>\n  </thead>\n  <tbody>\n    <tr>\n      <th>0</th>\n      <td>0.888240</td>\n      <td>1.242636</td>\n      <td>0.190171</td>\n      <td>-0.371367</td>\n      <td>-1.604049</td>\n      <td>-0.234829</td>\n      <td>-0.278031</td>\n      <td>0.273363</td>\n      <td>0.498842</td>\n      <td>-0.178127</td>\n      <td>...</td>\n      <td>1</td>\n      <td>0</td>\n      <td>0</td>\n      <td>0</td>\n      <td>0</td>\n      <td>0</td>\n      <td>0</td>\n      <td>0</td>\n      <td>0</td>\n      <td>0</td>\n    </tr>\n    <tr>\n      <th>1</th>\n      <td>0.888240</td>\n      <td>1.242636</td>\n      <td>0.190171</td>\n      <td>-0.371367</td>\n      <td>-1.604049</td>\n      <td>-0.234829</td>\n      <td>-0.278031</td>\n      <td>0.273363</td>\n      <td>0.498842</td>\n      <td>-0.178127</td>\n      <td>...</td>\n      <td>0</td>\n      <td>0</td>\n      <td>0</td>\n      <td>0</td>\n      <td>0</td>\n      <td>0</td>\n      <td>0</td>\n      <td>0</td>\n      <td>1</td>\n      <td>0</td>\n    </tr>\n    <tr>\n      <th>2</th>\n      <td>-0.212026</td>\n      <td>1.208638</td>\n      <td>0.145324</td>\n      <td>-0.371367</td>\n      <td>0.957971</td>\n      <td>0.874749</td>\n      <td>3.731423</td>\n      <td>-0.182707</td>\n      <td>-0.397846</td>\n      <td>-1.178926</td>\n      <td>...</td>\n      <td>1</td>\n      <td>0</td>\n      <td>0</td>\n      <td>0</td>\n      <td>0</td>\n      <td>0</td>\n      <td>0</td>\n      <td>0</td>\n      <td>0</td>\n      <td>0</td>\n    </tr>\n    <tr>\n      <th>3</th>\n      <td>0.888240</td>\n      <td>1.242636</td>\n      <td>0.190171</td>\n      <td>-0.371367</td>\n      <td>-1.604049</td>\n      <td>-0.234829</td>\n      <td>-0.278031</td>\n      <td>0.273363</td>\n      <td>0.498842</td>\n      <td>-0.178127</td>\n      <td>...</td>\n      <td>0</td>\n      <td>0</td>\n      <td>0</td>\n      <td>0</td>\n      <td>0</td>\n      <td>0</td>\n      <td>0</td>\n      <td>0</td>\n      <td>0</td>\n      <td>0</td>\n    </tr>\n    <tr>\n      <th>4</th>\n      <td>0.846816</td>\n      <td>1.222329</td>\n      <td>0.155442</td>\n      <td>-0.371367</td>\n      <td>-1.066828</td>\n      <td>-0.671698</td>\n      <td>2.725811</td>\n      <td>3.344332</td>\n      <td>-0.165908</td>\n      <td>-0.050669</td>\n      <td>...</td>\n      <td>0</td>\n      <td>0</td>\n      <td>0</td>\n      <td>0</td>\n      <td>0</td>\n      <td>0</td>\n      <td>0</td>\n      <td>0</td>\n      <td>0</td>\n      <td>0</td>\n    </tr>\n  </tbody>\n</table>\n<p>5 rows × 57 columns</p>\n</div>"
     },
     "execution_count": 75,
     "metadata": {},
     "output_type": "execute_result"
    }
   ],
   "source": [
    "model_df_std = model_df.copy()\n",
    "\n",
    "for col in model_df_std.columns:\n",
    "    if col == \"price\":\n",
    "        continue\n",
    "    elif col.startswith(\"type_\"):\n",
    "        continue\n",
    "    model_df_std[col] = (model_df_std[col] - model_df_std[col].mean()) / model_df_std[col].std()\n",
    "\n",
    "model_df_std.head()"
   ]
  },
  {
   "cell_type": "markdown",
   "metadata": {},
   "source": [
    "#### Robust Scaling (robust to outliers)"
   ]
  },
  {
   "cell_type": "code",
   "execution_count": 76,
   "metadata": {},
   "outputs": [
    {
     "data": {
      "text/plain": "   ForestDensityM  Latitude  Longitude  NoisePollutionRailwayM  \\\n0        1.067960  0.686833   0.130463                     0.0   \n1        1.067960  0.686833   0.130463                     0.0   \n2        0.215740  0.668920   0.106747                     0.0   \n3        1.067960  0.686833   0.130463                     0.0   \n4        1.035876  0.676133   0.112097                     0.0   \n\n   NoisePollutionRoadM  PopulationDensityM  RiversAndLakesM  RiversAndLakesS  \\\n0            -1.129839            0.010313        18.218171         0.011871   \n1            -1.129839            0.010313        18.218171         0.011871   \n2             0.715909            0.804150      1893.128856         0.000000   \n3            -1.129839            0.010313        18.218171         0.011871   \n4            -0.742810           -0.302241      1422.882194         0.091805   \n\n   distanceToTrainStation  gde_area_agriculture_percentage  ...  \\\n0                0.987703                        -0.102607  ...   \n1                0.987703                        -0.102607  ...   \n2               -0.071577                        -0.709981  ...   \n3                0.987703                        -0.102607  ...   \n4                0.202417                        -0.025255  ...   \n\n   type_penthouse  type_rustico  type_secondary-suite  \\\n0               1             0                     0   \n1               0             0                     0   \n2               1             0                     0   \n3               0             0                     0   \n4               0             0                     0   \n\n   type_semi-detached-house  type_single-room  type_stepped-apartment  \\\n0                         0                 0                       0   \n1                         0                 0                       0   \n2                         0                 0                       0   \n3                         0                 0                       0   \n4                         0                 0                       0   \n\n   type_stepped-house  type_studio  type_terrace-house  type_villa  \n0                   0            0                   0           0  \n1                   0            0                   1           0  \n2                   0            0                   0           0  \n3                   0            0                   0           0  \n4                   0            0                   0           0  \n\n[5 rows x 57 columns]",
      "text/html": "<div>\n<style scoped>\n    .dataframe tbody tr th:only-of-type {\n        vertical-align: middle;\n    }\n\n    .dataframe tbody tr th {\n        vertical-align: top;\n    }\n\n    .dataframe thead th {\n        text-align: right;\n    }\n</style>\n<table border=\"1\" class=\"dataframe\">\n  <thead>\n    <tr style=\"text-align: right;\">\n      <th></th>\n      <th>ForestDensityM</th>\n      <th>Latitude</th>\n      <th>Longitude</th>\n      <th>NoisePollutionRailwayM</th>\n      <th>NoisePollutionRoadM</th>\n      <th>PopulationDensityM</th>\n      <th>RiversAndLakesM</th>\n      <th>RiversAndLakesS</th>\n      <th>distanceToTrainStation</th>\n      <th>gde_area_agriculture_percentage</th>\n      <th>...</th>\n      <th>type_penthouse</th>\n      <th>type_rustico</th>\n      <th>type_secondary-suite</th>\n      <th>type_semi-detached-house</th>\n      <th>type_single-room</th>\n      <th>type_stepped-apartment</th>\n      <th>type_stepped-house</th>\n      <th>type_studio</th>\n      <th>type_terrace-house</th>\n      <th>type_villa</th>\n    </tr>\n  </thead>\n  <tbody>\n    <tr>\n      <th>0</th>\n      <td>1.067960</td>\n      <td>0.686833</td>\n      <td>0.130463</td>\n      <td>0.0</td>\n      <td>-1.129839</td>\n      <td>0.010313</td>\n      <td>18.218171</td>\n      <td>0.011871</td>\n      <td>0.987703</td>\n      <td>-0.102607</td>\n      <td>...</td>\n      <td>1</td>\n      <td>0</td>\n      <td>0</td>\n      <td>0</td>\n      <td>0</td>\n      <td>0</td>\n      <td>0</td>\n      <td>0</td>\n      <td>0</td>\n      <td>0</td>\n    </tr>\n    <tr>\n      <th>1</th>\n      <td>1.067960</td>\n      <td>0.686833</td>\n      <td>0.130463</td>\n      <td>0.0</td>\n      <td>-1.129839</td>\n      <td>0.010313</td>\n      <td>18.218171</td>\n      <td>0.011871</td>\n      <td>0.987703</td>\n      <td>-0.102607</td>\n      <td>...</td>\n      <td>0</td>\n      <td>0</td>\n      <td>0</td>\n      <td>0</td>\n      <td>0</td>\n      <td>0</td>\n      <td>0</td>\n      <td>0</td>\n      <td>1</td>\n      <td>0</td>\n    </tr>\n    <tr>\n      <th>2</th>\n      <td>0.215740</td>\n      <td>0.668920</td>\n      <td>0.106747</td>\n      <td>0.0</td>\n      <td>0.715909</td>\n      <td>0.804150</td>\n      <td>1893.128856</td>\n      <td>0.000000</td>\n      <td>-0.071577</td>\n      <td>-0.709981</td>\n      <td>...</td>\n      <td>1</td>\n      <td>0</td>\n      <td>0</td>\n      <td>0</td>\n      <td>0</td>\n      <td>0</td>\n      <td>0</td>\n      <td>0</td>\n      <td>0</td>\n      <td>0</td>\n    </tr>\n    <tr>\n      <th>3</th>\n      <td>1.067960</td>\n      <td>0.686833</td>\n      <td>0.130463</td>\n      <td>0.0</td>\n      <td>-1.129839</td>\n      <td>0.010313</td>\n      <td>18.218171</td>\n      <td>0.011871</td>\n      <td>0.987703</td>\n      <td>-0.102607</td>\n      <td>...</td>\n      <td>0</td>\n      <td>0</td>\n      <td>0</td>\n      <td>0</td>\n      <td>0</td>\n      <td>0</td>\n      <td>0</td>\n      <td>0</td>\n      <td>0</td>\n      <td>0</td>\n    </tr>\n    <tr>\n      <th>4</th>\n      <td>1.035876</td>\n      <td>0.676133</td>\n      <td>0.112097</td>\n      <td>0.0</td>\n      <td>-0.742810</td>\n      <td>-0.302241</td>\n      <td>1422.882194</td>\n      <td>0.091805</td>\n      <td>0.202417</td>\n      <td>-0.025255</td>\n      <td>...</td>\n      <td>0</td>\n      <td>0</td>\n      <td>0</td>\n      <td>0</td>\n      <td>0</td>\n      <td>0</td>\n      <td>0</td>\n      <td>0</td>\n      <td>0</td>\n      <td>0</td>\n    </tr>\n  </tbody>\n</table>\n<p>5 rows × 57 columns</p>\n</div>"
     },
     "execution_count": 76,
     "metadata": {},
     "output_type": "execute_result"
    }
   ],
   "source": [
    "model_df_robust = model_df.copy()\n",
    "\n",
    "for col in model_df_robust.columns:\n",
    "    if col == \"price\":\n",
    "        continue\n",
    "    elif col.startswith(\"type_\"):\n",
    "        continue\n",
    "    elif col == \"RiversAndLakesS\" or col == \"rooms\":\n",
    "        # TO BE REVIEWED, generated inf values\n",
    "        continue\n",
    "    model_df_robust[col] = (model_df_robust[col] - model_df_robust[col].median()) / (model_df_robust[col].quantile(0.75) - model_df_robust[col].quantile(0.25))\n",
    "\n",
    "model_df_robust.head()"
   ]
  },
  {
   "cell_type": "code",
   "execution_count": 77,
   "outputs": [],
   "source": [
    "target_path = Path(\"./data/clean/immoscount_model.csv\")\n",
    "model_df_robust.to_csv(target_path, index=False)"
   ],
   "metadata": {
    "collapsed": false
   }
  },
  {
   "cell_type": "markdown",
   "metadata": {},
   "source": [
    "<font color='red'>\n",
    "\n",
    "#### Fragen die wir klären müssen:\n",
    "- Müssen alle featuren gleich normalisiert werden? Oder können verschiedene Features, verschieden normalisiert werden?\n",
    "- Dummy-Spalten ebenfalls normalisieren? (wurde hier jetzt nicht gemacht)\n",
    "- Können wir Daten löschen, die \"unmöglich\" sind? (bsp: Wo \"price\" 1.- ist)\n",
    "\n",
    "</font>"
   ]
  },
  {
   "cell_type": "code",
   "execution_count": 77,
   "metadata": {},
   "outputs": [],
   "source": []
  }
 ],
 "metadata": {
  "kernelspec": {
   "display_name": "Python 3.10.7 64-bit",
   "language": "python",
   "name": "python3"
  },
  "language_info": {
   "codemirror_mode": {
    "name": "ipython",
    "version": 3
   },
   "file_extension": ".py",
   "mimetype": "text/x-python",
   "name": "python",
   "nbconvert_exporter": "python",
   "pygments_lexer": "ipython3",
   "version": "3.10.7"
  },
  "vscode": {
   "interpreter": {
    "hash": "aee8b7b246df8f9039afb4144a1f6fd8d2ca17a180786b69acc140d282b71a49"
   }
  }
 },
 "nbformat": 4,
 "nbformat_minor": 0
}
