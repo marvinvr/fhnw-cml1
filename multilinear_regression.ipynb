{
 "cells": [
  {
   "cell_type": "code",
   "execution_count": 2,
   "metadata": {},
   "outputs": [],
   "source": [
    "from sklearn.linear_model import LinearRegression, LogisticRegression\n",
    "from sklearn.model_selection import train_test_split\n",
    "from sklearn.metrics import mean_squared_error\n",
    "import numpy as np\n",
    "import pandas as pd\n",
    "import matplotlib.pyplot as plt\n",
    "import seaborn as sns"
   ]
  },
  {
   "cell_type": "code",
   "execution_count": 3,
   "metadata": {},
   "outputs": [
    {
     "data": {
      "text/html": [
       "<div>\n",
       "<style scoped>\n",
       "    .dataframe tbody tr th:only-of-type {\n",
       "        vertical-align: middle;\n",
       "    }\n",
       "\n",
       "    .dataframe tbody tr th {\n",
       "        vertical-align: top;\n",
       "    }\n",
       "\n",
       "    .dataframe thead th {\n",
       "        text-align: right;\n",
       "    }\n",
       "</style>\n",
       "<table border=\"1\" class=\"dataframe\">\n",
       "  <thead>\n",
       "    <tr style=\"text-align: right;\">\n",
       "      <th></th>\n",
       "      <th>Unnamed: 0</th>\n",
       "      <th>ForestDensityL</th>\n",
       "      <th>ForestDensityM</th>\n",
       "      <th>ForestDensityS</th>\n",
       "      <th>Latitude</th>\n",
       "      <th>Longitude</th>\n",
       "      <th>NoisePollutionRailwayL</th>\n",
       "      <th>NoisePollutionRailwayM</th>\n",
       "      <th>NoisePollutionRailwayS</th>\n",
       "      <th>NoisePollutionRoadL</th>\n",
       "      <th>...</th>\n",
       "      <th>gde_workers_total</th>\n",
       "      <th>type</th>\n",
       "      <th>rooms</th>\n",
       "      <th>floor</th>\n",
       "      <th>living_space_m2</th>\n",
       "      <th>floor_space_m2</th>\n",
       "      <th>plot_area_m2</th>\n",
       "      <th>availability</th>\n",
       "      <th>municipality</th>\n",
       "      <th>price</th>\n",
       "    </tr>\n",
       "  </thead>\n",
       "  <tbody>\n",
       "    <tr>\n",
       "      <th>0</th>\n",
       "      <td>0</td>\n",
       "      <td>0.511176</td>\n",
       "      <td>0.286451</td>\n",
       "      <td>0.090908</td>\n",
       "      <td>47.415927</td>\n",
       "      <td>8.085840</td>\n",
       "      <td>0.0</td>\n",
       "      <td>0.0</td>\n",
       "      <td>0.0</td>\n",
       "      <td>0.058298</td>\n",
       "      <td>...</td>\n",
       "      <td>331.0</td>\n",
       "      <td>penthouse</td>\n",
       "      <td>5.0</td>\n",
       "      <td>4</td>\n",
       "      <td>100.0</td>\n",
       "      <td>NaN</td>\n",
       "      <td>NaN</td>\n",
       "      <td>On request</td>\n",
       "      <td>Biberstein</td>\n",
       "      <td>1150000.0</td>\n",
       "    </tr>\n",
       "    <tr>\n",
       "      <th>1</th>\n",
       "      <td>1</td>\n",
       "      <td>0.511176</td>\n",
       "      <td>0.286451</td>\n",
       "      <td>0.090908</td>\n",
       "      <td>47.415927</td>\n",
       "      <td>8.085840</td>\n",
       "      <td>0.0</td>\n",
       "      <td>0.0</td>\n",
       "      <td>0.0</td>\n",
       "      <td>0.058298</td>\n",
       "      <td>...</td>\n",
       "      <td>331.0</td>\n",
       "      <td>terrace-house</td>\n",
       "      <td>5.0</td>\n",
       "      <td>NaN</td>\n",
       "      <td>156.0</td>\n",
       "      <td>242.0</td>\n",
       "      <td>222</td>\n",
       "      <td>On request</td>\n",
       "      <td>Biberstein</td>\n",
       "      <td>1420000.0</td>\n",
       "    </tr>\n",
       "    <tr>\n",
       "      <th>2</th>\n",
       "      <td>2</td>\n",
       "      <td>0.163362</td>\n",
       "      <td>0.095877</td>\n",
       "      <td>0.001911</td>\n",
       "      <td>47.397416</td>\n",
       "      <td>8.043150</td>\n",
       "      <td>0.0</td>\n",
       "      <td>0.0</td>\n",
       "      <td>0.0</td>\n",
       "      <td>0.334957</td>\n",
       "      <td>...</td>\n",
       "      <td>33493.0</td>\n",
       "      <td>penthouse</td>\n",
       "      <td>5.0</td>\n",
       "      <td>NaN</td>\n",
       "      <td>93.0</td>\n",
       "      <td>NaN</td>\n",
       "      <td>NaN</td>\n",
       "      <td>NaN</td>\n",
       "      <td>NaN</td>\n",
       "      <td>720000.0</td>\n",
       "    </tr>\n",
       "    <tr>\n",
       "      <th>3</th>\n",
       "      <td>3</td>\n",
       "      <td>0.511176</td>\n",
       "      <td>0.286451</td>\n",
       "      <td>0.090908</td>\n",
       "      <td>47.415927</td>\n",
       "      <td>8.085840</td>\n",
       "      <td>0.0</td>\n",
       "      <td>0.0</td>\n",
       "      <td>0.0</td>\n",
       "      <td>0.058298</td>\n",
       "      <td>...</td>\n",
       "      <td>331.0</td>\n",
       "      <td>detached-house</td>\n",
       "      <td>5.0</td>\n",
       "      <td>NaN</td>\n",
       "      <td>154.0</td>\n",
       "      <td>257.0</td>\n",
       "      <td>370</td>\n",
       "      <td>On request</td>\n",
       "      <td>Biberstein</td>\n",
       "      <td>1430000.0</td>\n",
       "    </tr>\n",
       "    <tr>\n",
       "      <th>4</th>\n",
       "      <td>4</td>\n",
       "      <td>0.333865</td>\n",
       "      <td>0.279276</td>\n",
       "      <td>0.145835</td>\n",
       "      <td>47.404870</td>\n",
       "      <td>8.052781</td>\n",
       "      <td>0.0</td>\n",
       "      <td>0.0</td>\n",
       "      <td>0.0</td>\n",
       "      <td>0.133498</td>\n",
       "      <td>...</td>\n",
       "      <td>1355.0</td>\n",
       "      <td>flat</td>\n",
       "      <td>5.0</td>\n",
       "      <td>0</td>\n",
       "      <td>142.0</td>\n",
       "      <td>NaN</td>\n",
       "      <td>NaN</td>\n",
       "      <td>On request</td>\n",
       "      <td>Küttigen</td>\n",
       "      <td>995000.0</td>\n",
       "    </tr>\n",
       "  </tbody>\n",
       "</table>\n",
       "<p>5 rows × 59 columns</p>\n",
       "</div>"
      ],
      "text/plain": [
       "   Unnamed: 0  ForestDensityL  ForestDensityM  ForestDensityS   Latitude  \\\n",
       "0           0        0.511176        0.286451        0.090908  47.415927   \n",
       "1           1        0.511176        0.286451        0.090908  47.415927   \n",
       "2           2        0.163362        0.095877        0.001911  47.397416   \n",
       "3           3        0.511176        0.286451        0.090908  47.415927   \n",
       "4           4        0.333865        0.279276        0.145835  47.404870   \n",
       "\n",
       "   Longitude  NoisePollutionRailwayL  NoisePollutionRailwayM  \\\n",
       "0   8.085840                     0.0                     0.0   \n",
       "1   8.085840                     0.0                     0.0   \n",
       "2   8.043150                     0.0                     0.0   \n",
       "3   8.085840                     0.0                     0.0   \n",
       "4   8.052781                     0.0                     0.0   \n",
       "\n",
       "   NoisePollutionRailwayS  NoisePollutionRoadL  ...  gde_workers_total  \\\n",
       "0                     0.0             0.058298  ...              331.0   \n",
       "1                     0.0             0.058298  ...              331.0   \n",
       "2                     0.0             0.334957  ...            33493.0   \n",
       "3                     0.0             0.058298  ...              331.0   \n",
       "4                     0.0             0.133498  ...             1355.0   \n",
       "\n",
       "             type  rooms  floor  living_space_m2  floor_space_m2  \\\n",
       "0       penthouse    5.0      4            100.0             NaN   \n",
       "1   terrace-house    5.0    NaN            156.0           242.0   \n",
       "2       penthouse    5.0    NaN             93.0             NaN   \n",
       "3  detached-house    5.0    NaN            154.0           257.0   \n",
       "4            flat    5.0      0            142.0             NaN   \n",
       "\n",
       "   plot_area_m2  availability  municipality      price  \n",
       "0           NaN    On request    Biberstein  1150000.0  \n",
       "1           222    On request    Biberstein  1420000.0  \n",
       "2           NaN           NaN           NaN   720000.0  \n",
       "3           370    On request    Biberstein  1430000.0  \n",
       "4           NaN    On request      Küttigen   995000.0  \n",
       "\n",
       "[5 rows x 59 columns]"
      ]
     },
     "execution_count": 3,
     "metadata": {},
     "output_type": "execute_result"
    }
   ],
   "source": [
    "df = pd.read_csv('data/clean/immoscout_only_numeric.csv')\n",
    "df.head()"
   ]
  },
  {
   "cell_type": "code",
   "execution_count": 4,
   "metadata": {},
   "outputs": [],
   "source": [
    "x = df['rooms'].values.reshape(1,-1)\n",
    "x1 = df['living_space_m2'].values.reshape(1,-1)\n",
    "x2 = df['distanceToTrainStation'].values.reshape(1,-1)\n",
    "y = df['price'].values.reshape(1,-1)"
   ]
  },
  {
   "cell_type": "code",
   "execution_count": 5,
   "metadata": {},
   "outputs": [
    {
     "data": {
      "text/plain": [
       "(True, True, True, False)"
      ]
     },
     "execution_count": 5,
     "metadata": {},
     "output_type": "execute_result"
    }
   ],
   "source": [
    "#Hat es Np.any(np.isnan()) in den Daten?\n",
    "np.any(np.isnan(x)), np.any(np.isnan(y)), np.any(np.isnan(x1)), np.any(np.isnan(x2))"
   ]
  },
  {
   "cell_type": "code",
   "execution_count": 6,
   "metadata": {},
   "outputs": [],
   "source": [
    "#NANs entfernen\n",
    "mask = ~pd.isna(x) & ~pd.isna(x1) & ~pd.isna(x2) & ~pd.isna(y)\n",
    "x = x[mask]\n",
    "x1 = x1[mask]\n",
    "x2 = x2[mask]\n",
    "y = y[mask]\n",
    "x = x.reshape(-1,1)\n",
    "x1 = x1.reshape(-1,1)\n",
    "x2 = x2.reshape(-1,1)\n",
    "y = y.reshape(-1,1)"
   ]
  },
  {
   "cell_type": "code",
   "execution_count": 7,
   "metadata": {},
   "outputs": [
    {
     "data": {
      "text/html": [
       "<div>\n",
       "<style scoped>\n",
       "    .dataframe tbody tr th:only-of-type {\n",
       "        vertical-align: middle;\n",
       "    }\n",
       "\n",
       "    .dataframe tbody tr th {\n",
       "        vertical-align: top;\n",
       "    }\n",
       "\n",
       "    .dataframe thead th {\n",
       "        text-align: right;\n",
       "    }\n",
       "</style>\n",
       "<table border=\"1\" class=\"dataframe\">\n",
       "  <thead>\n",
       "    <tr style=\"text-align: right;\">\n",
       "      <th></th>\n",
       "      <th>x</th>\n",
       "      <th>x1</th>\n",
       "      <th>x2</th>\n",
       "      <th>y</th>\n",
       "    </tr>\n",
       "  </thead>\n",
       "  <tbody>\n",
       "    <tr>\n",
       "      <th>0</th>\n",
       "      <td>5.0</td>\n",
       "      <td>100.0</td>\n",
       "      <td>3.038467</td>\n",
       "      <td>1150000.0</td>\n",
       "    </tr>\n",
       "    <tr>\n",
       "      <th>1</th>\n",
       "      <td>5.0</td>\n",
       "      <td>156.0</td>\n",
       "      <td>3.038467</td>\n",
       "      <td>1420000.0</td>\n",
       "    </tr>\n",
       "    <tr>\n",
       "      <th>2</th>\n",
       "      <td>5.0</td>\n",
       "      <td>93.0</td>\n",
       "      <td>0.909587</td>\n",
       "      <td>720000.0</td>\n",
       "    </tr>\n",
       "    <tr>\n",
       "      <th>3</th>\n",
       "      <td>5.0</td>\n",
       "      <td>154.0</td>\n",
       "      <td>3.038467</td>\n",
       "      <td>1430000.0</td>\n",
       "    </tr>\n",
       "    <tr>\n",
       "      <th>4</th>\n",
       "      <td>5.0</td>\n",
       "      <td>142.0</td>\n",
       "      <td>1.460245</td>\n",
       "      <td>995000.0</td>\n",
       "    </tr>\n",
       "  </tbody>\n",
       "</table>\n",
       "</div>"
      ],
      "text/plain": [
       "     x     x1        x2          y\n",
       "0  5.0  100.0  3.038467  1150000.0\n",
       "1  5.0  156.0  3.038467  1420000.0\n",
       "2  5.0   93.0  0.909587   720000.0\n",
       "3  5.0  154.0  3.038467  1430000.0\n",
       "4  5.0  142.0  1.460245   995000.0"
      ]
     },
     "execution_count": 7,
     "metadata": {},
     "output_type": "execute_result"
    }
   ],
   "source": [
    "# dataframe with x,x1,x2,y\n",
    "df_model = pd.DataFrame({'x':x[:,0], 'x1':x1[:,0], 'x2':x2[:,0], 'y':y[:,0]})\n",
    "df_model.head()"
   ]
  },
  {
   "cell_type": "code",
   "execution_count": 24,
   "metadata": {},
   "outputs": [
    {
     "name": "stdout",
     "output_type": "stream",
     "text": [
      "Train data shape:  (10395, 4)\n",
      "Test data shape:  (1156, 4)\n"
     ]
    }
   ],
   "source": [
    "# splitting dataframe into train and test data\n",
    "train, test = train_test_split(df_model, test_size=0.1, random_state=42)\n",
    "print(\"Train data shape: \", train.shape)\n",
    "print(\"Test data shape: \", test.shape)"
   ]
  },
  {
   "cell_type": "code",
   "execution_count": 25,
   "metadata": {},
   "outputs": [],
   "source": [
    "# select label and features\n",
    "train_X = train[[\"x\", \"x1\", \"x2\"]]\n",
    "train_y = train[\"y\"]\n",
    "\n",
    "test_X = test[[\"x\", \"x1\", \"x2\"]]\n",
    "test_y = test[\"y\"]"
   ]
  },
  {
   "cell_type": "code",
   "execution_count": 26,
   "metadata": {},
   "outputs": [
    {
     "name": "stdout",
     "output_type": "stream",
     "text": [
      "Test score:  0.2922285531806884\n"
     ]
    }
   ],
   "source": [
    "# Model Linear Regression\n",
    "model = LinearRegression()\n",
    "model.fit(train_X, train_y)\n",
    "\n",
    "# Model evaluation\n",
    "test_pred = np.round(model.predict(test_X))\n",
    "\n",
    "# Score calculation\n",
    "test_score = model.score(test_X, test_y)\n",
    "\n",
    "# get test_score result\n",
    "print(\"Test score: \", test_score)"
   ]
  },
  {
   "cell_type": "code",
   "execution_count": 27,
   "metadata": {},
   "outputs": [
    {
     "data": {
      "image/png": "[encoded data removed]",
      "text/plain": [
       "<Figure size 432x288 with 2 Axes>"
      ]
     },
     "metadata": {
      "needs_background": "light"
     },
     "output_type": "display_data"
    }
   ],
   "source": [
    "# create correlation plot\n",
    "corr = df_model.corr()\n",
    "sns.heatmap(corr, annot=True, cmap=plt.cm.Reds)\n",
    "plt.show()"
   ]
  },
  {
   "cell_type": "code",
   "execution_count": 32,
   "metadata": {},
   "outputs": [
    {
     "data": {
      "image/png": "[encoded data removed]",
      "text/plain": [
       "<Figure size 504x504 with 3 Axes>"
      ]
     },
     "metadata": {},
     "output_type": "display_data"
    }
   ],
   "source": [
    "sns.set()\n",
    "ax = sns.jointplot(x='x1', y='y', data=df_model, kind='reg', color='r', height=7, ratio=3)\n",
    "plt.show()"
   ]
  }
 ],
 "metadata": {
  "kernelspec": {
   "display_name": "Python 3.10.4 64-bit",
   "language": "python",
   "name": "python3"
  },
  "language_info": {
   "codemirror_mode": {
    "name": "ipython",
    "version": 3
   },
   "file_extension": ".py",
   "mimetype": "text/x-python",
   "name": "python",
   "nbconvert_exporter": "python",
   "pygments_lexer": "ipython3",
   "version": "3.10.4"
  },
  "orig_nbformat": 4,
  "vscode": {
   "interpreter": {
    "hash": "369f2c481f4da34e4445cda3fffd2e751bd1c4d706f27375911949ba6bb62e1c"
   }
  }
 },
 "nbformat": 4,
 "nbformat_minor": 2
}
