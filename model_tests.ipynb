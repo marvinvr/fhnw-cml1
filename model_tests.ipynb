{
 "cells": [
  {
   "cell_type": "markdown",
   "source": [
    "# Model Tests"
   ],
   "metadata": {
    "collapsed": false
   }
  },
  {
   "cell_type": "markdown",
   "source": [
    "## General"
   ],
   "metadata": {
    "collapsed": false
   }
  },
  {
   "cell_type": "markdown",
   "source": [
    "### Imports"
   ],
   "metadata": {
    "collapsed": false
   }
  },
  {
   "cell_type": "code",
   "execution_count": 147,
   "metadata": {
    "collapsed": true
   },
   "outputs": [],
   "source": [
    "import pandas as pd\n",
    "from sklearn import linear_model, model_selection\n",
    "from pathlib import Path\n",
    "import random"
   ]
  },
  {
   "cell_type": "markdown",
   "source": [
    "### Dataset"
   ],
   "metadata": {
    "collapsed": false
   }
  },
  {
   "cell_type": "code",
   "execution_count": 148,
   "outputs": [
    {
     "data": {
      "text/plain": "   ForestDensityM  Latitude  Longitude  NoisePollutionRailwayM  \\\n0        1.067960  0.686833   0.130463                0.000000   \n1        1.067960  0.686833   0.130463                0.000000   \n2        0.215740  0.668920   0.106747                0.000000   \n3        1.067960  0.686833   0.130463                0.000000   \n4        1.035876  0.676133   0.112097                0.000000   \n5        0.515181  0.672546   0.089462                0.000000   \n6        1.067960  0.686833   0.130463                0.000000   \n7       -0.213010  0.660603   0.106216              103.826366   \n8        1.747204  0.672320   0.122047                6.816164   \n9        0.413429  0.666867   0.089861                0.000000   \n\n   NoisePollutionRoadM  PopulationDensityM  RiversAndLakesM  RiversAndLakesS  \\\n0            -1.129839            0.010313        18.218171         0.011871   \n1            -1.129839            0.010313        18.218171         0.011871   \n2             0.715909            0.804150      1893.128856         0.000000   \n3            -1.129839            0.010313        18.218171         0.011871   \n4            -0.742810           -0.302241      1422.882194         0.091805   \n5            -0.682468            0.137930         0.000000         0.000000   \n6            -1.129839            0.010313        18.218171         0.011871   \n7             0.677604            0.186520         0.000000         0.000000   \n8             0.882613            0.141751       391.719036         0.034402   \n9            -0.236134            0.007740         0.000000         0.000000   \n\n   distanceToTrainStation  gde_area_agriculture_percentage  ...  \\\n0                0.987703                        -0.102607  ...   \n1                0.987703                        -0.102607  ...   \n2               -0.071577                        -0.709981  ...   \n3                0.987703                        -0.102607  ...   \n4                0.202417                        -0.025255  ...   \n5                1.042194                        -0.029724  ...   \n6                0.987703                        -0.102607  ...   \n7               -0.156544                        -0.709981  ...   \n8               -0.017196                        -0.709981  ...   \n9                0.878246                        -0.029724  ...   \n\n   type_penthouse  type_rustico  type_secondary-suite  \\\n0               1             0                     0   \n1               0             0                     0   \n2               1             0                     0   \n3               0             0                     0   \n4               0             0                     0   \n5               0             0                     0   \n6               0             0                     0   \n7               0             0                     0   \n8               0             0                     0   \n9               0             0                     0   \n\n   type_semi-detached-house  type_single-room  type_stepped-apartment  \\\n0                         0                 0                       0   \n1                         0                 0                       0   \n2                         0                 0                       0   \n3                         0                 0                       0   \n4                         0                 0                       0   \n5                         0                 0                       0   \n6                         0                 0                       0   \n7                         0                 0                       0   \n8                         0                 0                       0   \n9                         0                 0                       0   \n\n   type_stepped-house  type_studio  type_terrace-house  type_villa  \n0                   0            0                   0           0  \n1                   0            0                   1           0  \n2                   0            0                   0           0  \n3                   0            0                   0           0  \n4                   0            0                   0           0  \n5                   0            0                   0           0  \n6                   0            0                   1           0  \n7                   0            0                   0           0  \n8                   0            0                   0           0  \n9                   1            0                   0           0  \n\n[10 rows x 57 columns]",
      "text/html": "<div>\n<style scoped>\n    .dataframe tbody tr th:only-of-type {\n        vertical-align: middle;\n    }\n\n    .dataframe tbody tr th {\n        vertical-align: top;\n    }\n\n    .dataframe thead th {\n        text-align: right;\n    }\n</style>\n<table border=\"1\" class=\"dataframe\">\n  <thead>\n    <tr style=\"text-align: right;\">\n      <th></th>\n      <th>ForestDensityM</th>\n      <th>Latitude</th>\n      <th>Longitude</th>\n      <th>NoisePollutionRailwayM</th>\n      <th>NoisePollutionRoadM</th>\n      <th>PopulationDensityM</th>\n      <th>RiversAndLakesM</th>\n      <th>RiversAndLakesS</th>\n      <th>distanceToTrainStation</th>\n      <th>gde_area_agriculture_percentage</th>\n      <th>...</th>\n      <th>type_penthouse</th>\n      <th>type_rustico</th>\n      <th>type_secondary-suite</th>\n      <th>type_semi-detached-house</th>\n      <th>type_single-room</th>\n      <th>type_stepped-apartment</th>\n      <th>type_stepped-house</th>\n      <th>type_studio</th>\n      <th>type_terrace-house</th>\n      <th>type_villa</th>\n    </tr>\n  </thead>\n  <tbody>\n    <tr>\n      <th>0</th>\n      <td>1.067960</td>\n      <td>0.686833</td>\n      <td>0.130463</td>\n      <td>0.000000</td>\n      <td>-1.129839</td>\n      <td>0.010313</td>\n      <td>18.218171</td>\n      <td>0.011871</td>\n      <td>0.987703</td>\n      <td>-0.102607</td>\n      <td>...</td>\n      <td>1</td>\n      <td>0</td>\n      <td>0</td>\n      <td>0</td>\n      <td>0</td>\n      <td>0</td>\n      <td>0</td>\n      <td>0</td>\n      <td>0</td>\n      <td>0</td>\n    </tr>\n    <tr>\n      <th>1</th>\n      <td>1.067960</td>\n      <td>0.686833</td>\n      <td>0.130463</td>\n      <td>0.000000</td>\n      <td>-1.129839</td>\n      <td>0.010313</td>\n      <td>18.218171</td>\n      <td>0.011871</td>\n      <td>0.987703</td>\n      <td>-0.102607</td>\n      <td>...</td>\n      <td>0</td>\n      <td>0</td>\n      <td>0</td>\n      <td>0</td>\n      <td>0</td>\n      <td>0</td>\n      <td>0</td>\n      <td>0</td>\n      <td>1</td>\n      <td>0</td>\n    </tr>\n    <tr>\n      <th>2</th>\n      <td>0.215740</td>\n      <td>0.668920</td>\n      <td>0.106747</td>\n      <td>0.000000</td>\n      <td>0.715909</td>\n      <td>0.804150</td>\n      <td>1893.128856</td>\n      <td>0.000000</td>\n      <td>-0.071577</td>\n      <td>-0.709981</td>\n      <td>...</td>\n      <td>1</td>\n      <td>0</td>\n      <td>0</td>\n      <td>0</td>\n      <td>0</td>\n      <td>0</td>\n      <td>0</td>\n      <td>0</td>\n      <td>0</td>\n      <td>0</td>\n    </tr>\n    <tr>\n      <th>3</th>\n      <td>1.067960</td>\n      <td>0.686833</td>\n      <td>0.130463</td>\n      <td>0.000000</td>\n      <td>-1.129839</td>\n      <td>0.010313</td>\n      <td>18.218171</td>\n      <td>0.011871</td>\n      <td>0.987703</td>\n      <td>-0.102607</td>\n      <td>...</td>\n      <td>0</td>\n      <td>0</td>\n      <td>0</td>\n      <td>0</td>\n      <td>0</td>\n      <td>0</td>\n      <td>0</td>\n      <td>0</td>\n      <td>0</td>\n      <td>0</td>\n    </tr>\n    <tr>\n      <th>4</th>\n      <td>1.035876</td>\n      <td>0.676133</td>\n      <td>0.112097</td>\n      <td>0.000000</td>\n      <td>-0.742810</td>\n      <td>-0.302241</td>\n      <td>1422.882194</td>\n      <td>0.091805</td>\n      <td>0.202417</td>\n      <td>-0.025255</td>\n      <td>...</td>\n      <td>0</td>\n      <td>0</td>\n      <td>0</td>\n      <td>0</td>\n      <td>0</td>\n      <td>0</td>\n      <td>0</td>\n      <td>0</td>\n      <td>0</td>\n      <td>0</td>\n    </tr>\n    <tr>\n      <th>5</th>\n      <td>0.515181</td>\n      <td>0.672546</td>\n      <td>0.089462</td>\n      <td>0.000000</td>\n      <td>-0.682468</td>\n      <td>0.137930</td>\n      <td>0.000000</td>\n      <td>0.000000</td>\n      <td>1.042194</td>\n      <td>-0.029724</td>\n      <td>...</td>\n      <td>0</td>\n      <td>0</td>\n      <td>0</td>\n      <td>0</td>\n      <td>0</td>\n      <td>0</td>\n      <td>0</td>\n      <td>0</td>\n      <td>0</td>\n      <td>0</td>\n    </tr>\n    <tr>\n      <th>6</th>\n      <td>1.067960</td>\n      <td>0.686833</td>\n      <td>0.130463</td>\n      <td>0.000000</td>\n      <td>-1.129839</td>\n      <td>0.010313</td>\n      <td>18.218171</td>\n      <td>0.011871</td>\n      <td>0.987703</td>\n      <td>-0.102607</td>\n      <td>...</td>\n      <td>0</td>\n      <td>0</td>\n      <td>0</td>\n      <td>0</td>\n      <td>0</td>\n      <td>0</td>\n      <td>0</td>\n      <td>0</td>\n      <td>1</td>\n      <td>0</td>\n    </tr>\n    <tr>\n      <th>7</th>\n      <td>-0.213010</td>\n      <td>0.660603</td>\n      <td>0.106216</td>\n      <td>103.826366</td>\n      <td>0.677604</td>\n      <td>0.186520</td>\n      <td>0.000000</td>\n      <td>0.000000</td>\n      <td>-0.156544</td>\n      <td>-0.709981</td>\n      <td>...</td>\n      <td>0</td>\n      <td>0</td>\n      <td>0</td>\n      <td>0</td>\n      <td>0</td>\n      <td>0</td>\n      <td>0</td>\n      <td>0</td>\n      <td>0</td>\n      <td>0</td>\n    </tr>\n    <tr>\n      <th>8</th>\n      <td>1.747204</td>\n      <td>0.672320</td>\n      <td>0.122047</td>\n      <td>6.816164</td>\n      <td>0.882613</td>\n      <td>0.141751</td>\n      <td>391.719036</td>\n      <td>0.034402</td>\n      <td>-0.017196</td>\n      <td>-0.709981</td>\n      <td>...</td>\n      <td>0</td>\n      <td>0</td>\n      <td>0</td>\n      <td>0</td>\n      <td>0</td>\n      <td>0</td>\n      <td>0</td>\n      <td>0</td>\n      <td>0</td>\n      <td>0</td>\n    </tr>\n    <tr>\n      <th>9</th>\n      <td>0.413429</td>\n      <td>0.666867</td>\n      <td>0.089861</td>\n      <td>0.000000</td>\n      <td>-0.236134</td>\n      <td>0.007740</td>\n      <td>0.000000</td>\n      <td>0.000000</td>\n      <td>0.878246</td>\n      <td>-0.029724</td>\n      <td>...</td>\n      <td>0</td>\n      <td>0</td>\n      <td>0</td>\n      <td>0</td>\n      <td>0</td>\n      <td>0</td>\n      <td>1</td>\n      <td>0</td>\n      <td>0</td>\n      <td>0</td>\n    </tr>\n  </tbody>\n</table>\n<p>10 rows × 57 columns</p>\n</div>"
     },
     "execution_count": 148,
     "metadata": {},
     "output_type": "execute_result"
    }
   ],
   "source": [
    "df = pd.read_csv(Path('./data/clean/immoscount_model.csv'))\n",
    "\n",
    "df.head(10)"
   ],
   "metadata": {
    "collapsed": false
   }
  },
  {
   "cell_type": "markdown",
   "source": [
    "### Helpers"
   ],
   "metadata": {
    "collapsed": false
   }
  },
  {
   "cell_type": "code",
   "execution_count": 149,
   "outputs": [],
   "source": [
    "def train_test_split(X, y):\n",
    "    return model_selection.train_test_split(X, y, train_size=0.6, random_state=42)"
   ],
   "metadata": {
    "collapsed": false
   }
  },
  {
   "cell_type": "code",
   "execution_count": 150,
   "outputs": [],
   "source": [
    "def get_random_column_names(columns: list, percentage: float):\n",
    "    return [c for c in columns if random.random() > percentage]"
   ],
   "metadata": {
    "collapsed": false
   }
  },
  {
   "cell_type": "markdown",
   "source": [
    "## Model Functions"
   ],
   "metadata": {
    "collapsed": false
   }
  },
  {
   "cell_type": "markdown",
   "source": [
    "### Linear Models"
   ],
   "metadata": {
    "collapsed": false
   }
  },
  {
   "cell_type": "code",
   "execution_count": 151,
   "outputs": [],
   "source": [
    "# Linear Regression\n",
    "def train_linear_regression(X_train: pd.DataFrame, X_test: pd.DataFrame, y_train: pd.Series, y_test: pd.Series) -> dict:\n",
    "    model = linear_model.LinearRegression()\n",
    "    model.fit(X_train, y_train)\n",
    "\n",
    "    return {\n",
    "        \"type\": \"LinearRegression\",\n",
    "        \"columns\": X_train.columns,\n",
    "        \"num_columns\": len(X_train.columns),\n",
    "        \"score\": model.score(X_test, y_test)\n",
    "    }"
   ],
   "metadata": {
    "collapsed": false
   }
  },
  {
   "cell_type": "code",
   "execution_count": 152,
   "outputs": [],
   "source": [
    "# Ridge\n",
    "def train_ridge(X_train: pd.DataFrame, X_test: pd.DataFrame, y_train: pd.Series, y_test: pd.Series) -> dict:\n",
    "    model = linear_model.Ridge()\n",
    "    model.fit(X_train, y_train, 100)\n",
    "\n",
    "    return {\n",
    "        \"type\": \"Ridge\",\n",
    "        \"columns\": X_train.columns,\n",
    "        \"num_columns\": len(X_train.columns),\n",
    "        \"score\": model.score(X_test, y_test)\n",
    "    }"
   ],
   "metadata": {
    "collapsed": false
   }
  },
  {
   "cell_type": "markdown",
   "source": [
    "## Execution function"
   ],
   "metadata": {
    "collapsed": false
   }
  },
  {
   "cell_type": "code",
   "execution_count": 154,
   "outputs": [],
   "source": [
    "# Constants\n",
    "NUM_ITERATIONS = 1_000\n",
    "MIN_PERCENTAGE_COLUMNS = 0.2\n",
    "MAX_PERCENTAGE_COLUMNS = 1\n",
    "TRAINING_FUNCTIONS = [train_linear_regression, train_ridge]\n",
    "VERBOSE = True"
   ],
   "metadata": {
    "collapsed": false
   }
  },
  {
   "cell_type": "code",
   "execution_count": 155,
   "outputs": [],
   "source": [
    "# should be reviewed\n",
    "df = df.dropna(axis=0)\n",
    "\n",
    "# Data preparation\n",
    "X = df.drop(\"price\", axis=1)\n",
    "y = df[\"price\"]\n",
    "\n",
    "X_train, X_test, y_train, y_test = train_test_split(X, y)"
   ],
   "metadata": {
    "collapsed": false
   }
  },
  {
   "cell_type": "code",
   "execution_count": 156,
   "outputs": [
    {
     "data": {
      "text/plain": "                  type                                            columns  \\\n1775             Ridge  Index(['ForestDensityM', 'Longitude', 'NoisePo...   \n1774  LinearRegression  Index(['ForestDensityM', 'Longitude', 'NoisePo...   \n1293             Ridge  Index(['ForestDensityM', 'Latitude', 'Longitud...   \n1292  LinearRegression  Index(['ForestDensityM', 'Latitude', 'Longitud...   \n1872  LinearRegression  Index(['ForestDensityM', 'Latitude', 'Longitud...   \n...                ...                                                ...   \n1734  LinearRegression  Index(['ForestDensityM', 'Latitude', 'Longitud...   \n453              Ridge  Index(['ForestDensityM', 'Latitude', 'Longitud...   \n452   LinearRegression  Index(['ForestDensityM', 'Latitude', 'Longitud...   \n1919             Ridge  Index(['Longitude', 'NoisePollutionRailwayM', ...   \n1918  LinearRegression  Index(['Longitude', 'NoisePollutionRailwayM', ...   \n\n      num_columns     score  \n1775           44  0.500094  \n1774           44  0.499871  \n1293           48  0.494821  \n1292           48  0.494800  \n1872           50  0.494664  \n...           ...       ...  \n1734           42  0.121216  \n453            44  0.083049  \n452            44  0.074290  \n1919           44  0.073383  \n1918           44  0.062019  \n\n[2000 rows x 4 columns]",
      "text/html": "<div>\n<style scoped>\n    .dataframe tbody tr th:only-of-type {\n        vertical-align: middle;\n    }\n\n    .dataframe tbody tr th {\n        vertical-align: top;\n    }\n\n    .dataframe thead th {\n        text-align: right;\n    }\n</style>\n<table border=\"1\" class=\"dataframe\">\n  <thead>\n    <tr style=\"text-align: right;\">\n      <th></th>\n      <th>type</th>\n      <th>columns</th>\n      <th>num_columns</th>\n      <th>score</th>\n    </tr>\n  </thead>\n  <tbody>\n    <tr>\n      <th>1775</th>\n      <td>Ridge</td>\n      <td>Index(['ForestDensityM', 'Longitude', 'NoisePo...</td>\n      <td>44</td>\n      <td>0.500094</td>\n    </tr>\n    <tr>\n      <th>1774</th>\n      <td>LinearRegression</td>\n      <td>Index(['ForestDensityM', 'Longitude', 'NoisePo...</td>\n      <td>44</td>\n      <td>0.499871</td>\n    </tr>\n    <tr>\n      <th>1293</th>\n      <td>Ridge</td>\n      <td>Index(['ForestDensityM', 'Latitude', 'Longitud...</td>\n      <td>48</td>\n      <td>0.494821</td>\n    </tr>\n    <tr>\n      <th>1292</th>\n      <td>LinearRegression</td>\n      <td>Index(['ForestDensityM', 'Latitude', 'Longitud...</td>\n      <td>48</td>\n      <td>0.494800</td>\n    </tr>\n    <tr>\n      <th>1872</th>\n      <td>LinearRegression</td>\n      <td>Index(['ForestDensityM', 'Latitude', 'Longitud...</td>\n      <td>50</td>\n      <td>0.494664</td>\n    </tr>\n    <tr>\n      <th>...</th>\n      <td>...</td>\n      <td>...</td>\n      <td>...</td>\n      <td>...</td>\n    </tr>\n    <tr>\n      <th>1734</th>\n      <td>LinearRegression</td>\n      <td>Index(['ForestDensityM', 'Latitude', 'Longitud...</td>\n      <td>42</td>\n      <td>0.121216</td>\n    </tr>\n    <tr>\n      <th>453</th>\n      <td>Ridge</td>\n      <td>Index(['ForestDensityM', 'Latitude', 'Longitud...</td>\n      <td>44</td>\n      <td>0.083049</td>\n    </tr>\n    <tr>\n      <th>452</th>\n      <td>LinearRegression</td>\n      <td>Index(['ForestDensityM', 'Latitude', 'Longitud...</td>\n      <td>44</td>\n      <td>0.074290</td>\n    </tr>\n    <tr>\n      <th>1919</th>\n      <td>Ridge</td>\n      <td>Index(['Longitude', 'NoisePollutionRailwayM', ...</td>\n      <td>44</td>\n      <td>0.073383</td>\n    </tr>\n    <tr>\n      <th>1918</th>\n      <td>LinearRegression</td>\n      <td>Index(['Longitude', 'NoisePollutionRailwayM', ...</td>\n      <td>44</td>\n      <td>0.062019</td>\n    </tr>\n  </tbody>\n</table>\n<p>2000 rows × 4 columns</p>\n</div>"
     },
     "execution_count": 156,
     "metadata": {},
     "output_type": "execute_result"
    }
   ],
   "source": [
    "results = []\n",
    "for _ in range(NUM_ITERATIONS):\n",
    "    column_names = get_random_column_names(X_train.columns, random.random() / MAX_PERCENTAGE_COLUMNS * MIN_PERCENTAGE_COLUMNS)\n",
    "    temp_X_train, temp_X_test = X_train[column_names], X_test[column_names]\n",
    "\n",
    "    for func in TRAINING_FUNCTIONS:\n",
    "        results.append(func(temp_X_train, temp_X_test, y_train, y_test))\n",
    "\n",
    "pd.DataFrame(results).sort_values(\"score\", ascending=False)"
   ],
   "metadata": {
    "collapsed": false
   }
  },
  {
   "cell_type": "code",
   "execution_count": 156,
   "outputs": [],
   "source": [],
   "metadata": {
    "collapsed": false
   }
  }
 ],
 "metadata": {
  "kernelspec": {
   "display_name": "Python 3",
   "language": "python",
   "name": "python3"
  },
  "language_info": {
   "codemirror_mode": {
    "name": "ipython",
    "version": 2
   },
   "file_extension": ".py",
   "mimetype": "text/x-python",
   "name": "python",
   "nbconvert_exporter": "python",
   "pygments_lexer": "ipython2",
   "version": "2.7.6"
  }
 },
 "nbformat": 4,
 "nbformat_minor": 0
}
