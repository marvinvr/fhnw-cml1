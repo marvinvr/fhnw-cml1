{
 "cells": [
  {
   "cell_type": "code",
   "execution_count": 1,
   "metadata": {},
   "outputs": [],
   "source": [
    "import pandas as pd\n",
    "import matplotlib.pyplot as plt\n",
    "import numpy as np\n",
    "from sklearn.linear_model import LinearRegression\n",
    "from scipy.stats import norm\n",
    "import seaborn as sns\n",
    " "
   ]
  },
  {
   "cell_type": "code",
   "execution_count": 2,
   "metadata": {},
   "outputs": [
    {
     "data": {
      "text/html": [
       "<div>\n",
       "<style scoped>\n",
       "    .dataframe tbody tr th:only-of-type {\n",
       "        vertical-align: middle;\n",
       "    }\n",
       "\n",
       "    .dataframe tbody tr th {\n",
       "        vertical-align: top;\n",
       "    }\n",
       "\n",
       "    .dataframe thead th {\n",
       "        text-align: right;\n",
       "    }\n",
       "</style>\n",
       "<table border=\"1\" class=\"dataframe\">\n",
       "  <thead>\n",
       "    <tr style=\"text-align: right;\">\n",
       "      <th></th>\n",
       "      <th>ForestDensityL</th>\n",
       "      <th>ForestDensityM</th>\n",
       "      <th>ForestDensityS</th>\n",
       "      <th>Latitude</th>\n",
       "      <th>Longitude</th>\n",
       "      <th>NoisePollutionRailwayL</th>\n",
       "      <th>NoisePollutionRailwayM</th>\n",
       "      <th>NoisePollutionRailwayS</th>\n",
       "      <th>NoisePollutionRoadL</th>\n",
       "      <th>NoisePollutionRoadM</th>\n",
       "      <th>...</th>\n",
       "      <th>gde_workers_total</th>\n",
       "      <th>type</th>\n",
       "      <th>rooms</th>\n",
       "      <th>floor</th>\n",
       "      <th>living_space_m2</th>\n",
       "      <th>floor_space_m2</th>\n",
       "      <th>plot_area_m2</th>\n",
       "      <th>availability</th>\n",
       "      <th>municipality</th>\n",
       "      <th>price</th>\n",
       "    </tr>\n",
       "  </thead>\n",
       "  <tbody>\n",
       "    <tr>\n",
       "      <th>0</th>\n",
       "      <td>0.511176</td>\n",
       "      <td>0.286451</td>\n",
       "      <td>0.090908</td>\n",
       "      <td>47.415927</td>\n",
       "      <td>8.085840</td>\n",
       "      <td>0.0</td>\n",
       "      <td>0.0</td>\n",
       "      <td>0.0</td>\n",
       "      <td>0.058298</td>\n",
       "      <td>0.067048</td>\n",
       "      <td>...</td>\n",
       "      <td>331.0</td>\n",
       "      <td>penthouse</td>\n",
       "      <td>5.0</td>\n",
       "      <td>4</td>\n",
       "      <td>100.0</td>\n",
       "      <td>NaN</td>\n",
       "      <td>NaN</td>\n",
       "      <td>On request</td>\n",
       "      <td>Biberstein</td>\n",
       "      <td>1150000.0</td>\n",
       "    </tr>\n",
       "    <tr>\n",
       "      <th>1</th>\n",
       "      <td>0.511176</td>\n",
       "      <td>0.286451</td>\n",
       "      <td>0.090908</td>\n",
       "      <td>47.415927</td>\n",
       "      <td>8.085840</td>\n",
       "      <td>0.0</td>\n",
       "      <td>0.0</td>\n",
       "      <td>0.0</td>\n",
       "      <td>0.058298</td>\n",
       "      <td>0.067048</td>\n",
       "      <td>...</td>\n",
       "      <td>331.0</td>\n",
       "      <td>terrace-house</td>\n",
       "      <td>5.0</td>\n",
       "      <td>NaN</td>\n",
       "      <td>156.0</td>\n",
       "      <td>242.0</td>\n",
       "      <td>222</td>\n",
       "      <td>On request</td>\n",
       "      <td>Biberstein</td>\n",
       "      <td>1420000.0</td>\n",
       "    </tr>\n",
       "    <tr>\n",
       "      <th>2</th>\n",
       "      <td>0.163362</td>\n",
       "      <td>0.095877</td>\n",
       "      <td>0.001911</td>\n",
       "      <td>47.397416</td>\n",
       "      <td>8.043150</td>\n",
       "      <td>0.0</td>\n",
       "      <td>0.0</td>\n",
       "      <td>0.0</td>\n",
       "      <td>0.334957</td>\n",
       "      <td>0.381257</td>\n",
       "      <td>...</td>\n",
       "      <td>33493.0</td>\n",
       "      <td>penthouse</td>\n",
       "      <td>5.0</td>\n",
       "      <td>NaN</td>\n",
       "      <td>93.0</td>\n",
       "      <td>NaN</td>\n",
       "      <td>NaN</td>\n",
       "      <td>NaN</td>\n",
       "      <td>NaN</td>\n",
       "      <td>720000.0</td>\n",
       "    </tr>\n",
       "    <tr>\n",
       "      <th>3</th>\n",
       "      <td>0.511176</td>\n",
       "      <td>0.286451</td>\n",
       "      <td>0.090908</td>\n",
       "      <td>47.415927</td>\n",
       "      <td>8.085840</td>\n",
       "      <td>0.0</td>\n",
       "      <td>0.0</td>\n",
       "      <td>0.0</td>\n",
       "      <td>0.058298</td>\n",
       "      <td>0.067048</td>\n",
       "      <td>...</td>\n",
       "      <td>331.0</td>\n",
       "      <td>detached-house</td>\n",
       "      <td>5.0</td>\n",
       "      <td>NaN</td>\n",
       "      <td>154.0</td>\n",
       "      <td>257.0</td>\n",
       "      <td>370</td>\n",
       "      <td>On request</td>\n",
       "      <td>Biberstein</td>\n",
       "      <td>1430000.0</td>\n",
       "    </tr>\n",
       "    <tr>\n",
       "      <th>4</th>\n",
       "      <td>0.333865</td>\n",
       "      <td>0.279276</td>\n",
       "      <td>0.145835</td>\n",
       "      <td>47.404870</td>\n",
       "      <td>8.052781</td>\n",
       "      <td>0.0</td>\n",
       "      <td>0.0</td>\n",
       "      <td>0.0</td>\n",
       "      <td>0.133498</td>\n",
       "      <td>0.132933</td>\n",
       "      <td>...</td>\n",
       "      <td>1355.0</td>\n",
       "      <td>flat</td>\n",
       "      <td>5.0</td>\n",
       "      <td>0</td>\n",
       "      <td>142.0</td>\n",
       "      <td>NaN</td>\n",
       "      <td>NaN</td>\n",
       "      <td>On request</td>\n",
       "      <td>Küttigen</td>\n",
       "      <td>995000.0</td>\n",
       "    </tr>\n",
       "  </tbody>\n",
       "</table>\n",
       "<p>5 rows × 58 columns</p>\n",
       "</div>"
      ],
      "text/plain": [
       "   ForestDensityL  ForestDensityM  ForestDensityS   Latitude  Longitude  \\\n",
       "0        0.511176        0.286451        0.090908  47.415927   8.085840   \n",
       "1        0.511176        0.286451        0.090908  47.415927   8.085840   \n",
       "2        0.163362        0.095877        0.001911  47.397416   8.043150   \n",
       "3        0.511176        0.286451        0.090908  47.415927   8.085840   \n",
       "4        0.333865        0.279276        0.145835  47.404870   8.052781   \n",
       "\n",
       "   NoisePollutionRailwayL  NoisePollutionRailwayM  NoisePollutionRailwayS  \\\n",
       "0                     0.0                     0.0                     0.0   \n",
       "1                     0.0                     0.0                     0.0   \n",
       "2                     0.0                     0.0                     0.0   \n",
       "3                     0.0                     0.0                     0.0   \n",
       "4                     0.0                     0.0                     0.0   \n",
       "\n",
       "   NoisePollutionRoadL  NoisePollutionRoadM  ...  gde_workers_total  \\\n",
       "0             0.058298             0.067048  ...              331.0   \n",
       "1             0.058298             0.067048  ...              331.0   \n",
       "2             0.334957             0.381257  ...            33493.0   \n",
       "3             0.058298             0.067048  ...              331.0   \n",
       "4             0.133498             0.132933  ...             1355.0   \n",
       "\n",
       "             type  rooms  floor  living_space_m2  floor_space_m2  \\\n",
       "0       penthouse    5.0      4            100.0             NaN   \n",
       "1   terrace-house    5.0    NaN            156.0           242.0   \n",
       "2       penthouse    5.0    NaN             93.0             NaN   \n",
       "3  detached-house    5.0    NaN            154.0           257.0   \n",
       "4            flat    5.0      0            142.0             NaN   \n",
       "\n",
       "   plot_area_m2  availability  municipality      price  \n",
       "0           NaN    On request    Biberstein  1150000.0  \n",
       "1           222    On request    Biberstein  1420000.0  \n",
       "2           NaN           NaN           NaN   720000.0  \n",
       "3           370    On request    Biberstein  1430000.0  \n",
       "4           NaN    On request      Küttigen   995000.0  \n",
       "\n",
       "[5 rows x 58 columns]"
      ]
     },
     "execution_count": 2,
     "metadata": {},
     "output_type": "execute_result"
    }
   ],
   "source": [
    "df = pd.read_csv('data/clean/immoscout_only_numeric.csv')\n",
    "df.head(5)"
   ]
  },
  {
   "cell_type": "code",
   "execution_count": 5,
   "metadata": {},
   "outputs": [],
   "source": [
    "# reshape Column to a row-vector\n",
    "x = df['price'].values.reshape(1,-1)\n",
    "y = df['living_space_m2'].values.reshape(1,-1)"
   ]
  },
  {
   "cell_type": "code",
   "execution_count": 6,
   "metadata": {},
   "outputs": [
    {
     "data": {
      "image/png": "[encoded data removed]",
      "text/plain": [
       "<Figure size 432x288 with 1 Axes>"
      ]
     },
     "metadata": {
      "needs_background": "light"
     },
     "output_type": "display_data"
    }
   ],
   "source": [
    "plt.scatter(x,y)\n",
    "plt.xlabel('Preis in CHF')\n",
    "plt.ylabel('Living Space')\n",
    "plt.show()"
   ]
  },
  {
   "cell_type": "code",
   "execution_count": 7,
   "metadata": {},
   "outputs": [
    {
     "data": {
      "text/plain": [
       "(True, True)"
      ]
     },
     "execution_count": 7,
     "metadata": {},
     "output_type": "execute_result"
    }
   ],
   "source": [
    "#Hat es Np.any(np.isnan()) in den Daten?\n",
    "np.any(np.isnan(x)), np.any(np.isnan(y))"
   ]
  },
  {
   "cell_type": "code",
   "execution_count": 9,
   "metadata": {},
   "outputs": [],
   "source": [
    "def LinearModel(x, y):\n",
    "    #cleaning Data\n",
    "    if np.any(np.isnan(x)) or np.any(np.isnan(y)):\n",
    "        mask = ~pd.isna(x) & ~pd.isna(y)\n",
    "        x = x[mask]\n",
    "        y = y[mask]\n",
    "        x = x.reshape(-1,1)\n",
    "        y = y.reshape(-1,1)\n",
    "    #Linear Regression\n",
    "    model = LinearRegression(fit_intercept= True).fit(x, y)\n",
    "    x_new = np.arange(x.min(),x.max()).reshape(-1,1)\n",
    "    y_new = model.predict(x_new)\n",
    "    #Test Score\n",
    "    r_2 = model.score(x,y)\n",
    "    print('R^2: ', r_2)"
   ]
  },
  {
   "cell_type": "code",
   "execution_count": 21,
   "metadata": {},
   "outputs": [],
   "source": [
    "#NANs entfernen\n",
    "mask = ~pd.isna(x) & ~pd.isna(y)\n",
    "x = x[mask]\n",
    "y = y[mask]\n",
    "x = x.reshape(-1,1)\n",
    "y = y.reshape(-1,1)"
   ]
  },
  {
   "cell_type": "code",
   "execution_count": 22,
   "metadata": {},
   "outputs": [],
   "source": [
    "#Lineare Regression wird berechnet\n",
    "model = LinearRegression(fit_intercept= True).fit(x, y)\n",
    "x_new = np.arange(0,30000000).reshape(-1,1)\n",
    "y_new = model.predict(x_new) "
   ]
  },
  {
   "cell_type": "code",
   "execution_count": 23,
   "metadata": {},
   "outputs": [
    {
     "data": {
      "text/plain": [
       "0.13992979209936462"
      ]
     },
     "execution_count": 23,
     "metadata": {},
     "output_type": "execute_result"
    }
   ],
   "source": [
    "# Modelscore berechnen\n",
    "'''Score bleibt gleich bei vertauschten x und y Achsen'''\n",
    "r_2 = model.score(x,y)\n",
    "r_2"
   ]
  },
  {
   "cell_type": "code",
   "execution_count": 24,
   "metadata": {},
   "outputs": [
    {
     "data": {
      "text/plain": [
       "Text(0, 0.5, 'Fläche in m2')"
      ]
     },
     "execution_count": 24,
     "metadata": {},
     "output_type": "execute_result"
    },
    {
     "data": {
      "image/png": "[encoded data removed]",
      "text/plain": [
       "<Figure size 432x288 with 1 Axes>"
      ]
     },
     "metadata": {
      "needs_background": "light"
     },
     "output_type": "display_data"
    }
   ],
   "source": [
    "#Hier sehen wir die modellierte Lineare Regression mit den Realen Anzahl Punkten\n",
    "plt.scatter(x,y)\n",
    "plt.plot(x_new,y_new, color = 'r')\n",
    "plt.xlabel('Preis in CHF')\n",
    "plt.ylabel('Fläche in m2')"
   ]
  },
  {
   "cell_type": "code",
   "execution_count": 35,
   "metadata": {},
   "outputs": [
    {
     "data": {
      "text/plain": [
       "(0.0, 1000.0)"
      ]
     },
     "execution_count": 35,
     "metadata": {},
     "output_type": "execute_result"
    },
    {
     "data": {
      "image/png": "[encoded data removed]",
      "text/plain": [
       "<Figure size 432x288 with 1 Axes>"
      ]
     },
     "metadata": {
      "needs_background": "light"
     },
     "output_type": "display_data"
    }
   ],
   "source": [
    "plt.scatter(x,y)\n",
    "plt.plot(x_new,y_new, color = 'r')\n",
    "plt.xlabel('Preis in CHF')\n",
    "plt.ylabel('Fläche in m2')\n",
    "plt.xlim(0,15000000)\n",
    "plt.ylim(0,1000)"
   ]
  },
  {
   "cell_type": "code",
   "execution_count": 26,
   "metadata": {},
   "outputs": [
    {
     "data": {
      "text/plain": [
       "array([[195.53206553]])"
      ]
     },
     "execution_count": 26,
     "metadata": {},
     "output_type": "execute_result"
    }
   ],
   "source": [
    "#Anzahl Quadrahtmeter für 1'500'000 CHF\n",
    "model.predict([[1500000]])"
   ]
  },
  {
   "cell_type": "code",
   "execution_count": 27,
   "metadata": {},
   "outputs": [
    {
     "data": {
      "text/plain": [
       "array([[92.95689131]])"
      ]
     },
     "execution_count": 27,
     "metadata": {},
     "output_type": "execute_result"
    }
   ],
   "source": [
    "#Anzahl Quadrahtmeter für 100CHF\n",
    "'''Modell funktioniert bei kleinen Geldbeträgen sehr schlecht'''\n",
    "model.predict([[100]])"
   ]
  },
  {
   "cell_type": "code",
   "execution_count": 28,
   "metadata": {},
   "outputs": [
    {
     "data": {
      "text/plain": [
       "<matplotlib.collections.PathCollection at 0x272fac864a0>"
      ]
     },
     "execution_count": 28,
     "metadata": {},
     "output_type": "execute_result"
    },
    {
     "data": {
      "image/png": "[encoded data removed]",
      "text/plain": [
       "<Figure size 432x288 with 1 Axes>"
      ]
     },
     "metadata": {
      "needs_background": "light"
     },
     "output_type": "display_data"
    }
   ],
   "source": [
    "#Residuen werden berechnet\n",
    "'''Residuentest:\n",
    "1. Residuen müssen um 0 gleichverteilt sein\n",
    "2. Residuen dürfen keinen systematischen Fehler aufweisen\n",
    "3. Residuen müssen annährend Normalverteilt sein'''\n",
    "predict= model.predict(x)\n",
    "resid = y-predict \n",
    "plt.scatter(x,resid)"
   ]
  },
  {
   "cell_type": "code",
   "execution_count": 29,
   "metadata": {},
   "outputs": [
    {
     "data": {
      "text/plain": [
       "[<matplotlib.lines.Line2D at 0x272989f4670>]"
      ]
     },
     "execution_count": 29,
     "metadata": {},
     "output_type": "execute_result"
    },
    {
     "data": {
      "image/png": "[encoded data removed]",
      "text/plain": [
       "<Figure size 432x288 with 1 Axes>"
      ]
     },
     "metadata": {
      "needs_background": "light"
     },
     "output_type": "display_data"
    }
   ],
   "source": [
    "n, bins, patches = plt.hist(resid, bins=100, facecolor='blue',stacked=True,density=True)\n",
    "plt.xlabel('Residuen')\n",
    "plt.ylabel('Hauefigkeiten')\n",
    "\n",
    "mu = np.average(resid)\n",
    "sigma = np.std(resid)\n",
    "\n",
    "y_norm = norm.pdf(bins, mu, sigma)\n",
    "plt.plot(bins, y_norm)\n"
   ]
  }
 ],
 "metadata": {
  "kernelspec": {
   "display_name": "Python 3.10.4 64-bit",
   "language": "python",
   "name": "python3"
  },
  "language_info": {
   "codemirror_mode": {
    "name": "ipython",
    "version": 3
   },
   "file_extension": ".py",
   "mimetype": "text/x-python",
   "name": "python",
   "nbconvert_exporter": "python",
   "pygments_lexer": "ipython3",
   "version": "3.10.4"
  },
  "orig_nbformat": 4,
  "vscode": {
   "interpreter": {
    "hash": "369f2c481f4da34e4445cda3fffd2e751bd1c4d706f27375911949ba6bb62e1c"
   }
  }
 },
 "nbformat": 4,
 "nbformat_minor": 2
}
