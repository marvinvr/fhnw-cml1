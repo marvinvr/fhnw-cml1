{
 "cells": [
  {
   "cell_type": "markdown",
   "metadata": {
    "collapsed": false
   },
   "source": [
    "# Data Wrangling and explorative data analysis"
   ]
  },
  {
   "attachments": {},
   "cell_type": "markdown",
   "metadata": {
    "collapsed": false
   },
   "source": [
    "### Imports"
   ]
  },
  {
   "cell_type": "code",
   "execution_count": 11,
   "metadata": {
    "collapsed": true
   },
   "outputs": [],
   "source": [
    "import numpy as np\n",
    "import __main__ as main\n",
    "\n",
    "from helpers.paths import Paths\n",
    "from sklearn.preprocessing import MinMaxScaler as Scaler\n",
    "from joblib import dump, load\n",
    "from helpers.is_interactive import is_interactive\n",
    "\n",
    "import warnings\n",
    "warnings.filterwarnings('ignore')"
   ]
  },
  {
   "cell_type": "markdown",
   "metadata": {
    "collapsed": false
   },
   "source": [
    "### Run dependency notebooks"
   ]
  },
  {
   "cell_type": "code",
   "execution_count": 12,
   "metadata": {
    "collapsed": false
   },
   "outputs": [
    {
     "name": "stdout",
     "output_type": "stream",
     "text": [
      "Running previous notebooks...\n"
     ]
    }
   ],
   "source": [
    "if is_interactive(main):\n",
    "    %run 01_2_data_wrangling_classifier.ipynb -p"
   ]
  },
  {
   "attachments": {},
   "cell_type": "markdown",
   "metadata": {
    "collapsed": false
   },
   "source": [
    "### Data Import"
   ]
  },
  {
   "cell_type": "code",
   "execution_count": 13,
   "metadata": {
    "collapsed": false
   },
   "outputs": [],
   "source": [
    "source_data = load(Paths.CLASSIFIER_DATA_WRANGLING_DATA)\n",
    "\n",
    "df = source_data['dataset']"
   ]
  },
  {
   "cell_type": "code",
   "execution_count": 14,
   "metadata": {
    "collapsed": false
   },
   "outputs": [
    {
     "data": {
      "text/plain": "   Living space    Plot area    Floor   Latitude  Longitude   Zip  \\\n0         100.0   964.462853  4.00000  47.415927   8.085840  5023   \n1         156.0   222.000000  2.92054  47.415927   8.085840  5023   \n2          93.0   903.562312  2.00000  47.397416   8.043150  5000   \n3         154.0   370.000000  0.00000  47.415927   8.085840  5023   \n4         142.0  1149.735642  0.00000  47.404870   8.052781  5022   \n\n   distanceToTrainStation  gde_area_agriculture_percentage  \\\n0                3.038467                        30.676329   \n1                3.038467                        30.676329   \n2                0.909587                        11.354420   \n3                3.038467                        30.676329   \n4                1.460245                        33.137090   \n\n   gde_area_forest_percentage  gde_area_nonproductive_percentage  ...  \\\n0                   51.449275                           4.589372  ...   \n1                   51.449275                           4.589372  ...   \n2                   32.197891                           7.137064  ...   \n3                   51.449275                           4.589372  ...   \n4                   49.705635                           1.177460  ...   \n\n   gde_workers_total  price_cleaned  rooms    type_unified  \\\n0              331.0      1150000.0    5.0       penthouse   \n1              331.0      1420000.0    5.0   terrace-house   \n2            33493.0       720000.0    5.0       penthouse   \n3              331.0      1430000.0    5.0  detached-house   \n4             1355.0       995000.0    5.0            flat   \n\n   NoisePollutionRailway  NoisePollutionRoad  PopulationDensity  \\\n0                    0.0            0.076399           0.223039   \n1                    0.0            0.076399           0.223039   \n2                    0.0            0.337930           0.451622   \n3                    0.0            0.076399           0.223039   \n4                    0.0            0.167450           0.177506   \n\n   RiversAndLakes  WorkplaceDensity  ForestDensity  \n0        0.031951          0.060414       0.296178  \n1        0.031951          0.060414       0.296178  \n2        0.114168          0.167442       0.087050  \n3        0.031951          0.060414       0.296178  \n4        0.114288          0.046822       0.252992  \n\n[5 rows x 38 columns]",
      "text/html": "<div>\n<style scoped>\n    .dataframe tbody tr th:only-of-type {\n        vertical-align: middle;\n    }\n\n    .dataframe tbody tr th {\n        vertical-align: top;\n    }\n\n    .dataframe thead th {\n        text-align: right;\n    }\n</style>\n<table border=\"1\" class=\"dataframe\">\n  <thead>\n    <tr style=\"text-align: right;\">\n      <th></th>\n      <th>Living space</th>\n      <th>Plot area</th>\n      <th>Floor</th>\n      <th>Latitude</th>\n      <th>Longitude</th>\n      <th>Zip</th>\n      <th>distanceToTrainStation</th>\n      <th>gde_area_agriculture_percentage</th>\n      <th>gde_area_forest_percentage</th>\n      <th>gde_area_nonproductive_percentage</th>\n      <th>...</th>\n      <th>gde_workers_total</th>\n      <th>price_cleaned</th>\n      <th>rooms</th>\n      <th>type_unified</th>\n      <th>NoisePollutionRailway</th>\n      <th>NoisePollutionRoad</th>\n      <th>PopulationDensity</th>\n      <th>RiversAndLakes</th>\n      <th>WorkplaceDensity</th>\n      <th>ForestDensity</th>\n    </tr>\n  </thead>\n  <tbody>\n    <tr>\n      <th>0</th>\n      <td>100.0</td>\n      <td>964.462853</td>\n      <td>4.00000</td>\n      <td>47.415927</td>\n      <td>8.085840</td>\n      <td>5023</td>\n      <td>3.038467</td>\n      <td>30.676329</td>\n      <td>51.449275</td>\n      <td>4.589372</td>\n      <td>...</td>\n      <td>331.0</td>\n      <td>1150000.0</td>\n      <td>5.0</td>\n      <td>penthouse</td>\n      <td>0.0</td>\n      <td>0.076399</td>\n      <td>0.223039</td>\n      <td>0.031951</td>\n      <td>0.060414</td>\n      <td>0.296178</td>\n    </tr>\n    <tr>\n      <th>1</th>\n      <td>156.0</td>\n      <td>222.000000</td>\n      <td>2.92054</td>\n      <td>47.415927</td>\n      <td>8.085840</td>\n      <td>5023</td>\n      <td>3.038467</td>\n      <td>30.676329</td>\n      <td>51.449275</td>\n      <td>4.589372</td>\n      <td>...</td>\n      <td>331.0</td>\n      <td>1420000.0</td>\n      <td>5.0</td>\n      <td>terrace-house</td>\n      <td>0.0</td>\n      <td>0.076399</td>\n      <td>0.223039</td>\n      <td>0.031951</td>\n      <td>0.060414</td>\n      <td>0.296178</td>\n    </tr>\n    <tr>\n      <th>2</th>\n      <td>93.0</td>\n      <td>903.562312</td>\n      <td>2.00000</td>\n      <td>47.397416</td>\n      <td>8.043150</td>\n      <td>5000</td>\n      <td>0.909587</td>\n      <td>11.354420</td>\n      <td>32.197891</td>\n      <td>7.137064</td>\n      <td>...</td>\n      <td>33493.0</td>\n      <td>720000.0</td>\n      <td>5.0</td>\n      <td>penthouse</td>\n      <td>0.0</td>\n      <td>0.337930</td>\n      <td>0.451622</td>\n      <td>0.114168</td>\n      <td>0.167442</td>\n      <td>0.087050</td>\n    </tr>\n    <tr>\n      <th>3</th>\n      <td>154.0</td>\n      <td>370.000000</td>\n      <td>0.00000</td>\n      <td>47.415927</td>\n      <td>8.085840</td>\n      <td>5023</td>\n      <td>3.038467</td>\n      <td>30.676329</td>\n      <td>51.449275</td>\n      <td>4.589372</td>\n      <td>...</td>\n      <td>331.0</td>\n      <td>1430000.0</td>\n      <td>5.0</td>\n      <td>detached-house</td>\n      <td>0.0</td>\n      <td>0.076399</td>\n      <td>0.223039</td>\n      <td>0.031951</td>\n      <td>0.060414</td>\n      <td>0.296178</td>\n    </tr>\n    <tr>\n      <th>4</th>\n      <td>142.0</td>\n      <td>1149.735642</td>\n      <td>0.00000</td>\n      <td>47.404870</td>\n      <td>8.052781</td>\n      <td>5022</td>\n      <td>1.460245</td>\n      <td>33.137090</td>\n      <td>49.705635</td>\n      <td>1.177460</td>\n      <td>...</td>\n      <td>1355.0</td>\n      <td>995000.0</td>\n      <td>5.0</td>\n      <td>flat</td>\n      <td>0.0</td>\n      <td>0.167450</td>\n      <td>0.177506</td>\n      <td>0.114288</td>\n      <td>0.046822</td>\n      <td>0.252992</td>\n    </tr>\n  </tbody>\n</table>\n<p>5 rows × 38 columns</p>\n</div>"
     },
     "execution_count": 14,
     "metadata": {},
     "output_type": "execute_result"
    }
   ],
   "source": [
    "df.head()"
   ]
  },
  {
   "cell_type": "markdown",
   "metadata": {},
   "source": [
    "### Scaling\n",
    "Using the Min-Max-Method"
   ]
  },
  {
   "cell_type": "code",
   "execution_count": 15,
   "metadata": {},
   "outputs": [
    {
     "data": {
      "text/plain": "   Living space  Plot area     Floor  Latitude  Longitude       Zip  \\\n0      0.010330   0.002748  0.363636  0.808677   0.477811  0.464657   \n1      0.016114   0.000633  0.314570  0.808677   0.477811  0.464657   \n2      0.009606   0.002575  0.272727  0.799258   0.468164  0.462000   \n3      0.015907   0.001054  0.181818  0.808677   0.477811  0.464657   \n4      0.014668   0.003276  0.181818  0.803051   0.470341  0.464541   \n\n   distanceToTrainStation  gde_area_agriculture_percentage  \\\n0                0.114461                         0.349443   \n1                0.114461                         0.349443   \n2                0.034049                         0.129342   \n3                0.114461                         0.349443   \n4                0.054848                         0.377475   \n\n   gde_area_forest_percentage  gde_area_nonproductive_percentage  ...  \\\n0                    0.586349                           0.051803  ...   \n1                    0.586349                           0.051803  ...   \n2                    0.366948                           0.080560  ...   \n3                    0.586349                           0.051803  ...   \n4                    0.566478                           0.013291  ...   \n\n   gde_workers_total  price_cleaned     rooms    type_unified  \\\n0           0.000670       0.023201  0.142857       penthouse   \n1           0.000670       0.028712  0.142857   terrace-house   \n2           0.071436       0.014423  0.142857       penthouse   \n3           0.000670       0.028917  0.142857  detached-house   \n4           0.002855       0.020037  0.142857            flat   \n\n   NoisePollutionRailway  NoisePollutionRoad  PopulationDensity  \\\n0                    0.0            0.112937           0.236697   \n1                    0.0            0.112937           0.236697   \n2                    0.0            0.499547           0.480581   \n3                    0.0            0.112937           0.236697   \n4                    0.0            0.247534           0.188117   \n\n   RiversAndLakes  WorkplaceDensity  ForestDensity  \n0        0.069723          0.069131       0.306770  \n1        0.069723          0.069131       0.306770  \n2        0.249137          0.191605       0.090163  \n3        0.069723          0.069131       0.306770  \n4        0.249400          0.053579       0.262039  \n\n[5 rows x 38 columns]",
      "text/html": "<div>\n<style scoped>\n    .dataframe tbody tr th:only-of-type {\n        vertical-align: middle;\n    }\n\n    .dataframe tbody tr th {\n        vertical-align: top;\n    }\n\n    .dataframe thead th {\n        text-align: right;\n    }\n</style>\n<table border=\"1\" class=\"dataframe\">\n  <thead>\n    <tr style=\"text-align: right;\">\n      <th></th>\n      <th>Living space</th>\n      <th>Plot area</th>\n      <th>Floor</th>\n      <th>Latitude</th>\n      <th>Longitude</th>\n      <th>Zip</th>\n      <th>distanceToTrainStation</th>\n      <th>gde_area_agriculture_percentage</th>\n      <th>gde_area_forest_percentage</th>\n      <th>gde_area_nonproductive_percentage</th>\n      <th>...</th>\n      <th>gde_workers_total</th>\n      <th>price_cleaned</th>\n      <th>rooms</th>\n      <th>type_unified</th>\n      <th>NoisePollutionRailway</th>\n      <th>NoisePollutionRoad</th>\n      <th>PopulationDensity</th>\n      <th>RiversAndLakes</th>\n      <th>WorkplaceDensity</th>\n      <th>ForestDensity</th>\n    </tr>\n  </thead>\n  <tbody>\n    <tr>\n      <th>0</th>\n      <td>0.010330</td>\n      <td>0.002748</td>\n      <td>0.363636</td>\n      <td>0.808677</td>\n      <td>0.477811</td>\n      <td>0.464657</td>\n      <td>0.114461</td>\n      <td>0.349443</td>\n      <td>0.586349</td>\n      <td>0.051803</td>\n      <td>...</td>\n      <td>0.000670</td>\n      <td>0.023201</td>\n      <td>0.142857</td>\n      <td>penthouse</td>\n      <td>0.0</td>\n      <td>0.112937</td>\n      <td>0.236697</td>\n      <td>0.069723</td>\n      <td>0.069131</td>\n      <td>0.306770</td>\n    </tr>\n    <tr>\n      <th>1</th>\n      <td>0.016114</td>\n      <td>0.000633</td>\n      <td>0.314570</td>\n      <td>0.808677</td>\n      <td>0.477811</td>\n      <td>0.464657</td>\n      <td>0.114461</td>\n      <td>0.349443</td>\n      <td>0.586349</td>\n      <td>0.051803</td>\n      <td>...</td>\n      <td>0.000670</td>\n      <td>0.028712</td>\n      <td>0.142857</td>\n      <td>terrace-house</td>\n      <td>0.0</td>\n      <td>0.112937</td>\n      <td>0.236697</td>\n      <td>0.069723</td>\n      <td>0.069131</td>\n      <td>0.306770</td>\n    </tr>\n    <tr>\n      <th>2</th>\n      <td>0.009606</td>\n      <td>0.002575</td>\n      <td>0.272727</td>\n      <td>0.799258</td>\n      <td>0.468164</td>\n      <td>0.462000</td>\n      <td>0.034049</td>\n      <td>0.129342</td>\n      <td>0.366948</td>\n      <td>0.080560</td>\n      <td>...</td>\n      <td>0.071436</td>\n      <td>0.014423</td>\n      <td>0.142857</td>\n      <td>penthouse</td>\n      <td>0.0</td>\n      <td>0.499547</td>\n      <td>0.480581</td>\n      <td>0.249137</td>\n      <td>0.191605</td>\n      <td>0.090163</td>\n    </tr>\n    <tr>\n      <th>3</th>\n      <td>0.015907</td>\n      <td>0.001054</td>\n      <td>0.181818</td>\n      <td>0.808677</td>\n      <td>0.477811</td>\n      <td>0.464657</td>\n      <td>0.114461</td>\n      <td>0.349443</td>\n      <td>0.586349</td>\n      <td>0.051803</td>\n      <td>...</td>\n      <td>0.000670</td>\n      <td>0.028917</td>\n      <td>0.142857</td>\n      <td>detached-house</td>\n      <td>0.0</td>\n      <td>0.112937</td>\n      <td>0.236697</td>\n      <td>0.069723</td>\n      <td>0.069131</td>\n      <td>0.306770</td>\n    </tr>\n    <tr>\n      <th>4</th>\n      <td>0.014668</td>\n      <td>0.003276</td>\n      <td>0.181818</td>\n      <td>0.803051</td>\n      <td>0.470341</td>\n      <td>0.464541</td>\n      <td>0.054848</td>\n      <td>0.377475</td>\n      <td>0.566478</td>\n      <td>0.013291</td>\n      <td>...</td>\n      <td>0.002855</td>\n      <td>0.020037</td>\n      <td>0.142857</td>\n      <td>flat</td>\n      <td>0.0</td>\n      <td>0.247534</td>\n      <td>0.188117</td>\n      <td>0.249400</td>\n      <td>0.053579</td>\n      <td>0.262039</td>\n    </tr>\n  </tbody>\n</table>\n<p>5 rows × 38 columns</p>\n</div>"
     },
     "execution_count": 15,
     "metadata": {},
     "output_type": "execute_result"
    }
   ],
   "source": [
    "scaled_df = df.copy()\n",
    "scaler = Scaler()\n",
    "\n",
    "all_columns = scaled_df.columns\n",
    "columns = [col for col in all_columns if col != 'type_unified']\n",
    "\n",
    "scaler.fit(scaled_df[columns])\n",
    "\n",
    "scaled_df[columns] = scaler.transform(scaled_df[columns])\n",
    "\n",
    "scaled_df.head()"
   ]
  },
  {
   "attachments": {},
   "cell_type": "markdown",
   "metadata": {},
   "source": [
    "### Enhancing the dataset with additional columns with the power of an existing column"
   ]
  },
  {
   "cell_type": "code",
   "execution_count": 16,
   "metadata": {},
   "outputs": [],
   "source": [
    "numeric_columns = scaled_df.select_dtypes(include=np.number).columns.tolist()\n",
    "\n",
    "numeric_df = scaled_df[numeric_columns]\n",
    "\n",
    "numeric_columns = numeric_df.columns"
   ]
  },
  {
   "cell_type": "code",
   "execution_count": 17,
   "metadata": {},
   "outputs": [
    {
     "data": {
      "text/plain": "37"
     },
     "execution_count": 17,
     "metadata": {},
     "output_type": "execute_result"
    }
   ],
   "source": [
    "len(numeric_columns)"
   ]
  },
  {
   "cell_type": "code",
   "execution_count": 18,
   "metadata": {},
   "outputs": [],
   "source": [
    "clean_df = scaled_df.copy()\n",
    "\n",
    "for col in numeric_columns:\n",
    "    for p in range(2,7):\n",
    "        clean_df[f'{col}_{p}'] = numeric_df[col]**p\n"
   ]
  },
  {
   "cell_type": "code",
   "execution_count": 19,
   "metadata": {},
   "outputs": [
    {
     "data": {
      "text/plain": "   Living space  Plot area     Floor  Latitude  Longitude       Zip  \\\n0      0.010330   0.002748  0.363636  0.808677   0.477811  0.464657   \n1      0.016114   0.000633  0.314570  0.808677   0.477811  0.464657   \n2      0.009606   0.002575  0.272727  0.799258   0.468164  0.462000   \n3      0.015907   0.001054  0.181818  0.808677   0.477811  0.464657   \n4      0.014668   0.003276  0.181818  0.803051   0.470341  0.464541   \n\n   distanceToTrainStation  gde_area_agriculture_percentage  \\\n0                0.114461                         0.349443   \n1                0.114461                         0.349443   \n2                0.034049                         0.129342   \n3                0.114461                         0.349443   \n4                0.054848                         0.377475   \n\n   gde_area_forest_percentage  gde_area_nonproductive_percentage  ...  \\\n0                    0.586349                           0.051803  ...   \n1                    0.586349                           0.051803  ...   \n2                    0.366948                           0.080560  ...   \n3                    0.586349                           0.051803  ...   \n4                    0.566478                           0.013291  ...   \n\n   WorkplaceDensity_2  WorkplaceDensity_3  WorkplaceDensity_4  \\\n0            0.004779            0.000330            0.000023   \n1            0.004779            0.000330            0.000023   \n2            0.036712            0.007034            0.001348   \n3            0.004779            0.000330            0.000023   \n4            0.002871            0.000154            0.000008   \n\n   WorkplaceDensity_5  WorkplaceDensity_6  ForestDensity_2  ForestDensity_3  \\\n0        1.578986e-06        1.091576e-07         0.094108         0.028869   \n1        1.578986e-06        1.091576e-07         0.094108         0.028869   \n2        2.582432e-04        4.948057e-05         0.008129         0.000733   \n3        1.578986e-06        1.091576e-07         0.094108         0.028869   \n4        4.415364e-07        2.365700e-08         0.068665         0.017993   \n\n   ForestDensity_4  ForestDensity_5  ForestDensity_6  \n0         0.008856         0.002717     8.334470e-04  \n1         0.008856         0.002717     8.334470e-04  \n2         0.000066         0.000006     5.372472e-07  \n3         0.008856         0.002717     8.334470e-04  \n4         0.004715         0.001235     3.237430e-04  \n\n[5 rows x 223 columns]",
      "text/html": "<div>\n<style scoped>\n    .dataframe tbody tr th:only-of-type {\n        vertical-align: middle;\n    }\n\n    .dataframe tbody tr th {\n        vertical-align: top;\n    }\n\n    .dataframe thead th {\n        text-align: right;\n    }\n</style>\n<table border=\"1\" class=\"dataframe\">\n  <thead>\n    <tr style=\"text-align: right;\">\n      <th></th>\n      <th>Living space</th>\n      <th>Plot area</th>\n      <th>Floor</th>\n      <th>Latitude</th>\n      <th>Longitude</th>\n      <th>Zip</th>\n      <th>distanceToTrainStation</th>\n      <th>gde_area_agriculture_percentage</th>\n      <th>gde_area_forest_percentage</th>\n      <th>gde_area_nonproductive_percentage</th>\n      <th>...</th>\n      <th>WorkplaceDensity_2</th>\n      <th>WorkplaceDensity_3</th>\n      <th>WorkplaceDensity_4</th>\n      <th>WorkplaceDensity_5</th>\n      <th>WorkplaceDensity_6</th>\n      <th>ForestDensity_2</th>\n      <th>ForestDensity_3</th>\n      <th>ForestDensity_4</th>\n      <th>ForestDensity_5</th>\n      <th>ForestDensity_6</th>\n    </tr>\n  </thead>\n  <tbody>\n    <tr>\n      <th>0</th>\n      <td>0.010330</td>\n      <td>0.002748</td>\n      <td>0.363636</td>\n      <td>0.808677</td>\n      <td>0.477811</td>\n      <td>0.464657</td>\n      <td>0.114461</td>\n      <td>0.349443</td>\n      <td>0.586349</td>\n      <td>0.051803</td>\n      <td>...</td>\n      <td>0.004779</td>\n      <td>0.000330</td>\n      <td>0.000023</td>\n      <td>1.578986e-06</td>\n      <td>1.091576e-07</td>\n      <td>0.094108</td>\n      <td>0.028869</td>\n      <td>0.008856</td>\n      <td>0.002717</td>\n      <td>8.334470e-04</td>\n    </tr>\n    <tr>\n      <th>1</th>\n      <td>0.016114</td>\n      <td>0.000633</td>\n      <td>0.314570</td>\n      <td>0.808677</td>\n      <td>0.477811</td>\n      <td>0.464657</td>\n      <td>0.114461</td>\n      <td>0.349443</td>\n      <td>0.586349</td>\n      <td>0.051803</td>\n      <td>...</td>\n      <td>0.004779</td>\n      <td>0.000330</td>\n      <td>0.000023</td>\n      <td>1.578986e-06</td>\n      <td>1.091576e-07</td>\n      <td>0.094108</td>\n      <td>0.028869</td>\n      <td>0.008856</td>\n      <td>0.002717</td>\n      <td>8.334470e-04</td>\n    </tr>\n    <tr>\n      <th>2</th>\n      <td>0.009606</td>\n      <td>0.002575</td>\n      <td>0.272727</td>\n      <td>0.799258</td>\n      <td>0.468164</td>\n      <td>0.462000</td>\n      <td>0.034049</td>\n      <td>0.129342</td>\n      <td>0.366948</td>\n      <td>0.080560</td>\n      <td>...</td>\n      <td>0.036712</td>\n      <td>0.007034</td>\n      <td>0.001348</td>\n      <td>2.582432e-04</td>\n      <td>4.948057e-05</td>\n      <td>0.008129</td>\n      <td>0.000733</td>\n      <td>0.000066</td>\n      <td>0.000006</td>\n      <td>5.372472e-07</td>\n    </tr>\n    <tr>\n      <th>3</th>\n      <td>0.015907</td>\n      <td>0.001054</td>\n      <td>0.181818</td>\n      <td>0.808677</td>\n      <td>0.477811</td>\n      <td>0.464657</td>\n      <td>0.114461</td>\n      <td>0.349443</td>\n      <td>0.586349</td>\n      <td>0.051803</td>\n      <td>...</td>\n      <td>0.004779</td>\n      <td>0.000330</td>\n      <td>0.000023</td>\n      <td>1.578986e-06</td>\n      <td>1.091576e-07</td>\n      <td>0.094108</td>\n      <td>0.028869</td>\n      <td>0.008856</td>\n      <td>0.002717</td>\n      <td>8.334470e-04</td>\n    </tr>\n    <tr>\n      <th>4</th>\n      <td>0.014668</td>\n      <td>0.003276</td>\n      <td>0.181818</td>\n      <td>0.803051</td>\n      <td>0.470341</td>\n      <td>0.464541</td>\n      <td>0.054848</td>\n      <td>0.377475</td>\n      <td>0.566478</td>\n      <td>0.013291</td>\n      <td>...</td>\n      <td>0.002871</td>\n      <td>0.000154</td>\n      <td>0.000008</td>\n      <td>4.415364e-07</td>\n      <td>2.365700e-08</td>\n      <td>0.068665</td>\n      <td>0.017993</td>\n      <td>0.004715</td>\n      <td>0.001235</td>\n      <td>3.237430e-04</td>\n    </tr>\n  </tbody>\n</table>\n<p>5 rows × 223 columns</p>\n</div>"
     },
     "execution_count": 19,
     "metadata": {},
     "output_type": "execute_result"
    }
   ],
   "source": [
    "clean_df.head()"
   ]
  },
  {
   "attachments": {},
   "cell_type": "markdown",
   "metadata": {},
   "source": [
    "### Export the object"
   ]
  },
  {
   "cell_type": "code",
   "execution_count": 20,
   "metadata": {},
   "outputs": [
    {
     "data": {
      "text/plain": "['data/classifier/02_0_scaling.dump']"
     },
     "execution_count": 20,
     "metadata": {},
     "output_type": "execute_result"
    }
   ],
   "source": [
    "dump({\n",
    "    'scaler': scaler,\n",
    "    'imputers': source_data['imputers'],\n",
    "    'dataset': clean_df\n",
    "}, Paths.CLASSIFIER_SCALING_DATA)"
   ]
  },
  {
   "cell_type": "code",
   "execution_count": 20,
   "metadata": {
    "collapsed": false
   },
   "outputs": [],
   "source": []
  }
 ],
 "metadata": {
  "kernelspec": {
   "display_name": "Python 3",
   "language": "python",
   "name": "python3"
  },
  "language_info": {
   "codemirror_mode": {
    "name": "ipython",
    "version": 3
   },
   "file_extension": ".py",
   "mimetype": "text/x-python",
   "name": "python",
   "nbconvert_exporter": "python",
   "pygments_lexer": "ipython3",
   "version": "3.11.1 (v3.11.1:a7a450f84a, Dec  6 2022, 15:24:06) [Clang 13.0.0 (clang-1300.0.29.30)]"
  },
  "vscode": {
   "interpreter": {
    "hash": "aee8b7b246df8f9039afb4144a1f6fd8d2ca17a180786b69acc140d282b71a49"
   }
  }
 },
 "nbformat": 4,
 "nbformat_minor": 0
}
