{
 "cells": [
  {
   "cell_type": "markdown",
   "metadata": {
    "collapsed": false
   },
   "source": [
    "# Data Wrangling"
   ]
  },
  {
   "cell_type": "markdown",
   "metadata": {
    "collapsed": false
   },
   "source": [
    "### Imports"
   ]
  },
  {
   "cell_type": "code",
   "execution_count": 1,
   "metadata": {
    "collapsed": true
   },
   "outputs": [],
   "source": [
    "import pandas as pd\n",
    "import __main__ as main\n",
    "\n",
    "from helpers.paths import Paths\n",
    "from joblib import load, dump\n",
    "from helpers.is_interactive import is_interactive"
   ]
  },
  {
   "cell_type": "markdown",
   "metadata": {
    "collapsed": false
   },
   "source": [
    "### Run dependency notebooks"
   ]
  },
  {
   "cell_type": "code",
   "execution_count": 2,
   "metadata": {
    "collapsed": false
   },
   "outputs": [
    {
     "name": "stdout",
     "output_type": "stream",
     "text": [
      "Running previous notebooks...\n"
     ]
    }
   ],
   "source": [
    "if is_interactive(main):\n",
    "    %run 01_0_data_wrangling.ipynb -p"
   ]
  },
  {
   "cell_type": "markdown",
   "metadata": {
    "collapsed": false
   },
   "source": [
    "## ZIP Import"
   ]
  },
  {
   "cell_type": "code",
   "execution_count": 3,
   "metadata": {},
   "outputs": [],
   "source": [
    "#import data/kaggle/test_data-Kaggle-v0.10.csv.zip as a pandas dataframe\n",
    "source_df = pd.read_csv(Paths.KAGGLE_SOURCE_DATA, compression='zip', header=0, sep=',', quotechar='\"', low_memory=False)\n",
    "clean_df = source_df.copy()"
   ]
  },
  {
   "cell_type": "markdown",
   "metadata": {
    "collapsed": false
   },
   "source": [
    "### Delete Unnamed Columns"
   ]
  },
  {
   "cell_type": "code",
   "execution_count": 4,
   "metadata": {
    "collapsed": false
   },
   "outputs": [
    {
     "data": {
      "text/plain": "      Municipality Living space Plot area Floor space Availability  \\\n24551     Wildhaus          NaN       NaN         NaN          NaN   \n24552     Wildhaus          NaN       NaN         NaN          NaN   \n24553     Wildhaus          NaN       NaN         NaN          NaN   \n24554     Wildhaus          NaN       NaN         NaN          NaN   \n24555     Wildhaus          NaN       NaN         NaN          NaN   \n\n                                 location  \\\n24551                Hof 2, 9658 Wildhaus   \n24552                       9658 Wildhaus   \n24553                       9658 Wildhaus   \n24554                       9658 Wildhaus   \n24555  Steinrütistrasse 28, 9658 Wildhaus   \n\n                                             description  \\\n24551  1.5 Zimmerwohnung an zentraler Lage mit schöne...   \n24552  OBJEKT IST BEREITS RESERVIERT!!Sie suchen eine...   \n24553  Mitten im Ober - Toggenburg ist ein 4 Zimmer C...   \n24554  Zu verkaufen ist hier in Wildhaus eine schön u...   \n24555  1-Zi-Whg. (EG) / 4-Zi-Whg. (OG) / 2 1/2-Zi-Whg...   \n\n                                    detailed_description  \\\n24551  Description\\n\"Schöne Kleinwohnung mit Cheminée...   \n24552  Description\\n\"BEREITS RESERVIERT!\"\\nOBJEKT IST...   \n24553  Description\\n\"Chalet mit grossem Grundstück\"\\n...   \n24554  Description\\n\"5½ Zimmer Ferienwohnung mit Gara...   \n24555  Description\\n\"Haus mit 2 Einliegerwohnungen in...   \n\n                                          url table  ... Floor space:  \\\n24551  https://www.homegate.ch/buy/3002217323   NaN  ...          NaN   \n24552  https://www.homegate.ch/buy/3002219541   NaN  ...          NaN   \n24553  https://www.homegate.ch/buy/3002218959   NaN  ...          NaN   \n24554  https://www.homegate.ch/buy/3002218961   NaN  ...          NaN   \n24555  https://www.homegate.ch/buy/3001967293   NaN  ...          NaN   \n\n      Number of floors:  Volume:     plz Number of toilets: Gross yield:  \\\n24551               NaN      NaN  9658.0                NaN          NaN   \n24552               6.0      NaN  9658.0                NaN          NaN   \n24553               1.0      NaN  9658.0                NaN          NaN   \n24554               4.0      NaN  9658.0                NaN          NaN   \n24555               NaN  1463 m3  9658.0                NaN          NaN   \n\n      Minimum floor space: space_cleaned         Type: Hall height:  \n24551                  NaN          36.0     Apartment          NaN  \n24552                  NaN           NaN     Apartment          NaN  \n24553                  NaN         800.0  Single house          NaN  \n24554                  NaN           NaN     Apartment          NaN  \n24555                  NaN           NaN  Single house          NaN  \n\n[5 rows x 130 columns]",
      "text/html": "<div>\n<style scoped>\n    .dataframe tbody tr th:only-of-type {\n        vertical-align: middle;\n    }\n\n    .dataframe tbody tr th {\n        vertical-align: top;\n    }\n\n    .dataframe thead th {\n        text-align: right;\n    }\n</style>\n<table border=\"1\" class=\"dataframe\">\n  <thead>\n    <tr style=\"text-align: right;\">\n      <th></th>\n      <th>Municipality</th>\n      <th>Living space</th>\n      <th>Plot area</th>\n      <th>Floor space</th>\n      <th>Availability</th>\n      <th>location</th>\n      <th>description</th>\n      <th>detailed_description</th>\n      <th>url</th>\n      <th>table</th>\n      <th>...</th>\n      <th>Floor space:</th>\n      <th>Number of floors:</th>\n      <th>Volume:</th>\n      <th>plz</th>\n      <th>Number of toilets:</th>\n      <th>Gross yield:</th>\n      <th>Minimum floor space:</th>\n      <th>space_cleaned</th>\n      <th>Type:</th>\n      <th>Hall height:</th>\n    </tr>\n  </thead>\n  <tbody>\n    <tr>\n      <th>24551</th>\n      <td>Wildhaus</td>\n      <td>NaN</td>\n      <td>NaN</td>\n      <td>NaN</td>\n      <td>NaN</td>\n      <td>Hof 2, 9658 Wildhaus</td>\n      <td>1.5 Zimmerwohnung an zentraler Lage mit schöne...</td>\n      <td>Description\\n\"Schöne Kleinwohnung mit Cheminée...</td>\n      <td>https://www.homegate.ch/buy/3002217323</td>\n      <td>NaN</td>\n      <td>...</td>\n      <td>NaN</td>\n      <td>NaN</td>\n      <td>NaN</td>\n      <td>9658.0</td>\n      <td>NaN</td>\n      <td>NaN</td>\n      <td>NaN</td>\n      <td>36.0</td>\n      <td>Apartment</td>\n      <td>NaN</td>\n    </tr>\n    <tr>\n      <th>24552</th>\n      <td>Wildhaus</td>\n      <td>NaN</td>\n      <td>NaN</td>\n      <td>NaN</td>\n      <td>NaN</td>\n      <td>9658 Wildhaus</td>\n      <td>OBJEKT IST BEREITS RESERVIERT!!Sie suchen eine...</td>\n      <td>Description\\n\"BEREITS RESERVIERT!\"\\nOBJEKT IST...</td>\n      <td>https://www.homegate.ch/buy/3002219541</td>\n      <td>NaN</td>\n      <td>...</td>\n      <td>NaN</td>\n      <td>6.0</td>\n      <td>NaN</td>\n      <td>9658.0</td>\n      <td>NaN</td>\n      <td>NaN</td>\n      <td>NaN</td>\n      <td>NaN</td>\n      <td>Apartment</td>\n      <td>NaN</td>\n    </tr>\n    <tr>\n      <th>24553</th>\n      <td>Wildhaus</td>\n      <td>NaN</td>\n      <td>NaN</td>\n      <td>NaN</td>\n      <td>NaN</td>\n      <td>9658 Wildhaus</td>\n      <td>Mitten im Ober - Toggenburg ist ein 4 Zimmer C...</td>\n      <td>Description\\n\"Chalet mit grossem Grundstück\"\\n...</td>\n      <td>https://www.homegate.ch/buy/3002218959</td>\n      <td>NaN</td>\n      <td>...</td>\n      <td>NaN</td>\n      <td>1.0</td>\n      <td>NaN</td>\n      <td>9658.0</td>\n      <td>NaN</td>\n      <td>NaN</td>\n      <td>NaN</td>\n      <td>800.0</td>\n      <td>Single house</td>\n      <td>NaN</td>\n    </tr>\n    <tr>\n      <th>24554</th>\n      <td>Wildhaus</td>\n      <td>NaN</td>\n      <td>NaN</td>\n      <td>NaN</td>\n      <td>NaN</td>\n      <td>9658 Wildhaus</td>\n      <td>Zu verkaufen ist hier in Wildhaus eine schön u...</td>\n      <td>Description\\n\"5½ Zimmer Ferienwohnung mit Gara...</td>\n      <td>https://www.homegate.ch/buy/3002218961</td>\n      <td>NaN</td>\n      <td>...</td>\n      <td>NaN</td>\n      <td>4.0</td>\n      <td>NaN</td>\n      <td>9658.0</td>\n      <td>NaN</td>\n      <td>NaN</td>\n      <td>NaN</td>\n      <td>NaN</td>\n      <td>Apartment</td>\n      <td>NaN</td>\n    </tr>\n    <tr>\n      <th>24555</th>\n      <td>Wildhaus</td>\n      <td>NaN</td>\n      <td>NaN</td>\n      <td>NaN</td>\n      <td>NaN</td>\n      <td>Steinrütistrasse 28, 9658 Wildhaus</td>\n      <td>1-Zi-Whg. (EG) / 4-Zi-Whg. (OG) / 2 1/2-Zi-Whg...</td>\n      <td>Description\\n\"Haus mit 2 Einliegerwohnungen in...</td>\n      <td>https://www.homegate.ch/buy/3001967293</td>\n      <td>NaN</td>\n      <td>...</td>\n      <td>NaN</td>\n      <td>NaN</td>\n      <td>1463 m3</td>\n      <td>9658.0</td>\n      <td>NaN</td>\n      <td>NaN</td>\n      <td>NaN</td>\n      <td>NaN</td>\n      <td>Single house</td>\n      <td>NaN</td>\n    </tr>\n  </tbody>\n</table>\n<p>5 rows × 130 columns</p>\n</div>"
     },
     "execution_count": 4,
     "metadata": {},
     "output_type": "execute_result"
    }
   ],
   "source": [
    "dump(clean_df['Unnamed: 0.1'], Paths.KAGGLE_IDS_TO_PREDICT_DATA)\n",
    "clean_df = clean_df.loc[:, ~clean_df.columns.str.contains('^Unnamed')]\n",
    "clean_df.index.name = None\n",
    "clean_df.tail()"
   ]
  },
  {
   "cell_type": "markdown",
   "metadata": {},
   "source": [
    "### There are Column which we can merge"
   ]
  },
  {
   "cell_type": "code",
   "execution_count": 5,
   "metadata": {},
   "outputs": [
    {
     "data": {
      "text/plain": "      Municipality Living space Plot area Floor space Availability  \\\n24551     Wildhaus         36.0       NaN         NaN          NaN   \n24552     Wildhaus         40.0       NaN         NaN          NaN   \n24553     Wildhaus         86.0    2803.0         NaN          NaN   \n24554     Wildhaus        127.0       NaN         NaN          NaN   \n24555     Wildhaus          NaN     610.0         NaN          NaN   \n\n                                 location  \\\n24551                Hof 2, 9658 Wildhaus   \n24552                       9658 Wildhaus   \n24553                       9658 Wildhaus   \n24554                       9658 Wildhaus   \n24555  Steinrütistrasse 28, 9658 Wildhaus   \n\n                                             description  \\\n24551  1.5 Zimmerwohnung an zentraler Lage mit schöne...   \n24552  OBJEKT IST BEREITS RESERVIERT!!Sie suchen eine...   \n24553  Mitten im Ober - Toggenburg ist ein 4 Zimmer C...   \n24554  Zu verkaufen ist hier in Wildhaus eine schön u...   \n24555  1-Zi-Whg. (EG) / 4-Zi-Whg. (OG) / 2 1/2-Zi-Whg...   \n\n                                    detailed_description  \\\n24551  Description\\n\"Schöne Kleinwohnung mit Cheminée...   \n24552  Description\\n\"BEREITS RESERVIERT!\"\\nOBJEKT IST...   \n24553  Description\\n\"Chalet mit grossem Grundstück\"\\n...   \n24554  Description\\n\"5½ Zimmer Ferienwohnung mit Gara...   \n24555  Description\\n\"Haus mit 2 Einliegerwohnungen in...   \n\n                                          url table  ...  \\\n24551  https://www.homegate.ch/buy/3002217323   NaN  ...   \n24552  https://www.homegate.ch/buy/3002219541   NaN  ...   \n24553  https://www.homegate.ch/buy/3002218959   NaN  ...   \n24554  https://www.homegate.ch/buy/3002218961   NaN  ...   \n24555  https://www.homegate.ch/buy/3001967293   NaN  ...   \n\n                                    description_detailed Number of floors:  \\\n24551  Description\\n\"Schöne Kleinwohnung mit Cheminée...               NaN   \n24552  Description\\n\"BEREITS RESERVIERT!\"\\nOBJEKT IST...               6.0   \n24553  Description\\n\"Chalet mit grossem Grundstück\"\\n...               1.0   \n24554  Description\\n\"5½ Zimmer Ferienwohnung mit Gara...               4.0   \n24555  Description\\n\"Haus mit 2 Einliegerwohnungen in...               NaN   \n\n       Volume:     plz Number of toilets: Gross yield: Minimum floor space:  \\\n24551      NaN  9658.0                NaN          NaN                  NaN   \n24552      NaN  9658.0                NaN          NaN                  NaN   \n24553      NaN  9658.0                NaN          NaN                  NaN   \n24554      NaN  9658.0                NaN          NaN                  NaN   \n24555  1463 m3  9658.0                NaN          NaN                  NaN   \n\n      space_cleaned         Type:  Hall height:  \n24551          36.0     Apartment           NaN  \n24552           NaN     Apartment           NaN  \n24553         800.0  Single house           NaN  \n24554           NaN     Apartment           NaN  \n24555           NaN  Single house           NaN  \n\n[5 rows x 94 columns]",
      "text/html": "<div>\n<style scoped>\n    .dataframe tbody tr th:only-of-type {\n        vertical-align: middle;\n    }\n\n    .dataframe tbody tr th {\n        vertical-align: top;\n    }\n\n    .dataframe thead th {\n        text-align: right;\n    }\n</style>\n<table border=\"1\" class=\"dataframe\">\n  <thead>\n    <tr style=\"text-align: right;\">\n      <th></th>\n      <th>Municipality</th>\n      <th>Living space</th>\n      <th>Plot area</th>\n      <th>Floor space</th>\n      <th>Availability</th>\n      <th>location</th>\n      <th>description</th>\n      <th>detailed_description</th>\n      <th>url</th>\n      <th>table</th>\n      <th>...</th>\n      <th>description_detailed</th>\n      <th>Number of floors:</th>\n      <th>Volume:</th>\n      <th>plz</th>\n      <th>Number of toilets:</th>\n      <th>Gross yield:</th>\n      <th>Minimum floor space:</th>\n      <th>space_cleaned</th>\n      <th>Type:</th>\n      <th>Hall height:</th>\n    </tr>\n  </thead>\n  <tbody>\n    <tr>\n      <th>24551</th>\n      <td>Wildhaus</td>\n      <td>36.0</td>\n      <td>NaN</td>\n      <td>NaN</td>\n      <td>NaN</td>\n      <td>Hof 2, 9658 Wildhaus</td>\n      <td>1.5 Zimmerwohnung an zentraler Lage mit schöne...</td>\n      <td>Description\\n\"Schöne Kleinwohnung mit Cheminée...</td>\n      <td>https://www.homegate.ch/buy/3002217323</td>\n      <td>NaN</td>\n      <td>...</td>\n      <td>Description\\n\"Schöne Kleinwohnung mit Cheminée...</td>\n      <td>NaN</td>\n      <td>NaN</td>\n      <td>9658.0</td>\n      <td>NaN</td>\n      <td>NaN</td>\n      <td>NaN</td>\n      <td>36.0</td>\n      <td>Apartment</td>\n      <td>NaN</td>\n    </tr>\n    <tr>\n      <th>24552</th>\n      <td>Wildhaus</td>\n      <td>40.0</td>\n      <td>NaN</td>\n      <td>NaN</td>\n      <td>NaN</td>\n      <td>9658 Wildhaus</td>\n      <td>OBJEKT IST BEREITS RESERVIERT!!Sie suchen eine...</td>\n      <td>Description\\n\"BEREITS RESERVIERT!\"\\nOBJEKT IST...</td>\n      <td>https://www.homegate.ch/buy/3002219541</td>\n      <td>NaN</td>\n      <td>...</td>\n      <td>Description\\n\"BEREITS RESERVIERT!\"\\nOBJEKT IST...</td>\n      <td>6.0</td>\n      <td>NaN</td>\n      <td>9658.0</td>\n      <td>NaN</td>\n      <td>NaN</td>\n      <td>NaN</td>\n      <td>NaN</td>\n      <td>Apartment</td>\n      <td>NaN</td>\n    </tr>\n    <tr>\n      <th>24553</th>\n      <td>Wildhaus</td>\n      <td>86.0</td>\n      <td>2803.0</td>\n      <td>NaN</td>\n      <td>NaN</td>\n      <td>9658 Wildhaus</td>\n      <td>Mitten im Ober - Toggenburg ist ein 4 Zimmer C...</td>\n      <td>Description\\n\"Chalet mit grossem Grundstück\"\\n...</td>\n      <td>https://www.homegate.ch/buy/3002218959</td>\n      <td>NaN</td>\n      <td>...</td>\n      <td>Description\\n\"Chalet mit grossem Grundstück\"\\n...</td>\n      <td>1.0</td>\n      <td>NaN</td>\n      <td>9658.0</td>\n      <td>NaN</td>\n      <td>NaN</td>\n      <td>NaN</td>\n      <td>800.0</td>\n      <td>Single house</td>\n      <td>NaN</td>\n    </tr>\n    <tr>\n      <th>24554</th>\n      <td>Wildhaus</td>\n      <td>127.0</td>\n      <td>NaN</td>\n      <td>NaN</td>\n      <td>NaN</td>\n      <td>9658 Wildhaus</td>\n      <td>Zu verkaufen ist hier in Wildhaus eine schön u...</td>\n      <td>Description\\n\"5½ Zimmer Ferienwohnung mit Gara...</td>\n      <td>https://www.homegate.ch/buy/3002218961</td>\n      <td>NaN</td>\n      <td>...</td>\n      <td>Description\\n\"5½ Zimmer Ferienwohnung mit Gara...</td>\n      <td>4.0</td>\n      <td>NaN</td>\n      <td>9658.0</td>\n      <td>NaN</td>\n      <td>NaN</td>\n      <td>NaN</td>\n      <td>NaN</td>\n      <td>Apartment</td>\n      <td>NaN</td>\n    </tr>\n    <tr>\n      <th>24555</th>\n      <td>Wildhaus</td>\n      <td>NaN</td>\n      <td>610.0</td>\n      <td>NaN</td>\n      <td>NaN</td>\n      <td>Steinrütistrasse 28, 9658 Wildhaus</td>\n      <td>1-Zi-Whg. (EG) / 4-Zi-Whg. (OG) / 2 1/2-Zi-Whg...</td>\n      <td>Description\\n\"Haus mit 2 Einliegerwohnungen in...</td>\n      <td>https://www.homegate.ch/buy/3001967293</td>\n      <td>NaN</td>\n      <td>...</td>\n      <td>Description\\n\"Haus mit 2 Einliegerwohnungen in...</td>\n      <td>NaN</td>\n      <td>1463 m3</td>\n      <td>9658.0</td>\n      <td>NaN</td>\n      <td>NaN</td>\n      <td>NaN</td>\n      <td>NaN</td>\n      <td>Single house</td>\n      <td>NaN</td>\n    </tr>\n  </tbody>\n</table>\n<p>5 rows × 94 columns</p>\n</div>"
     },
     "execution_count": 5,
     "metadata": {},
     "output_type": "execute_result"
    }
   ],
   "source": [
    "clean_df['Municipality']    = clean_df['Municipality'].fillna(clean_df['detail_responsive#municipality'])\n",
    "clean_df['Municipality']    = clean_df['Municipality'].fillna(clean_df['Gemeinde'])\n",
    "clean_df['Municipality']    = clean_df['Municipality'].fillna(clean_df['Commune'])\n",
    "clean_df['Municipality']    = clean_df['Municipality'].fillna(clean_df['Comune'])\n",
    "clean_df['Municipality']    = clean_df['Municipality'].fillna(clean_df['Municipality_merged'])\n",
    "\n",
    "clean_df['Living space']    = clean_df['Living space'].fillna(clean_df['detail_responsive#surface_living'])\n",
    "clean_df['Living space']    = clean_df['Living space'].fillna(clean_df['Wohnfläche'])\n",
    "clean_df['Living space']    = clean_df['Living space'].fillna(clean_df['Surface habitable'])\n",
    "clean_df['Living space']    = clean_df['Living space'].fillna(clean_df['Superficie abitabile'])\n",
    "clean_df['Living space']    = clean_df['Living space'].fillna(clean_df['Living_space_merged'])\n",
    "clean_df['Living space']    = clean_df['Living space'].fillna(clean_df['Living_area_unified'])\n",
    "clean_df['Living space']    = clean_df['Living space'].fillna(clean_df['Space extracted'])\n",
    "clean_df['Living space']    = clean_df['Living space'].fillna(clean_df['Surface living:'])\n",
    "\n",
    "clean_df['Plot area']       = clean_df['Plot area'].fillna(clean_df['detail_responsive#surface_property'])\n",
    "clean_df['Plot area']       = clean_df['Plot area'].fillna(clean_df['Grundstücksfläche'])\n",
    "clean_df['Plot area']       = clean_df['Plot area'].fillna(clean_df['Surface du terrain'])\n",
    "clean_df['Plot area']       = clean_df['Plot area'].fillna(clean_df['Superficie del terreno'])\n",
    "clean_df['Plot area']       = clean_df['Plot area'].fillna(clean_df['Plot_area_merged'])\n",
    "clean_df['Plot area']       = clean_df['Plot area'].fillna(clean_df['Plot_area_unified'])\n",
    "clean_df['Plot area']       = clean_df['Plot area'].fillna(clean_df['Land area:'])\n",
    "\n",
    "clean_df['Floor space']     = clean_df['Floor space'].fillna(clean_df['detail_responsive#surface_usable'])\n",
    "clean_df['Floor space']     = clean_df['Floor space'].fillna(clean_df['Nutzfläche'])\n",
    "clean_df['Floor space']     = clean_df['Floor space'].fillna(clean_df['Surface utile'])\n",
    "clean_df['Floor space']     = clean_df['Floor space'].fillna(clean_df['Superficie utile'])\n",
    "clean_df['Floor space']     = clean_df['Floor space'].fillna(clean_df['Floor_space_merged'])\n",
    "clean_df['Floor space']     = clean_df['Floor space'].fillna(clean_df['Floor space:'])\n",
    "\n",
    "clean_df['Floor']           = clean_df['Floor'].fillna(clean_df['detail_responsive#floor'])\n",
    "clean_df['Floor']           = clean_df['Floor'].fillna(clean_df['Stockwerk'])\n",
    "clean_df['Floor']           = clean_df['Floor'].fillna(clean_df['Étage'])\n",
    "clean_df['Floor']           = clean_df['Floor'].fillna(clean_df['Piano'])\n",
    "clean_df['Floor']           = clean_df['Floor'].fillna(clean_df['Floor_merged'])\n",
    "\n",
    "clean_df['Availability']  = clean_df['Availability'].fillna(clean_df['detail_responsive#available_from'])\n",
    "clean_df['Availability']  = clean_df['Availability'].fillna(clean_df['Verfügbarkeit'])\n",
    "clean_df['Availability']  = clean_df['Availability'].fillna(clean_df['Disponibilité'])\n",
    "clean_df['Availability']  = clean_df['Availability'].fillna(clean_df['Disponibilità'])\n",
    "clean_df['Availability']  = clean_df['Availability'].fillna(clean_df['Availability_merged'])\n",
    "\n",
    "clean_df = clean_df.drop(['detail_responsive#municipality', 'Gemeinde', 'Commune', 'Comune', 'Municipality_merged',\n",
    "                            'detail_responsive#surface_living', 'Wohnfläche', 'Surface habitable', 'Superficie abitabile', 'Living_space_merged', 'Living_area_unified', 'Space extracted', 'Surface living:',\n",
    "                            'detail_responsive#surface_property', 'Grundstücksfläche', 'Surface du terrain', 'Superficie del terreno', 'Plot_area_merged', 'Plot_area_unified', 'Land area:',\n",
    "                            'detail_responsive#surface_usable', 'Nutzfläche', 'Surface utile', 'Superficie utile', 'Floor_space_merged', 'Floor space:',\n",
    "                            'detail_responsive#floor', 'Stockwerk', 'Étage', 'Piano', 'Floor_merged',\n",
    "                            'detail_responsive#available_from', 'Verfügbarkeit', 'Disponibilité', 'Disponibilità', 'Availability_merged'], axis=1)\n",
    "\n",
    "clean_df.tail()"
   ]
  },
  {
   "cell_type": "markdown",
   "metadata": {},
   "source": [
    "### Take Informations from Column \"details\", and put the Informations into \"rooms\" and \"Living space\" if they are nan or 0"
   ]
  },
  {
   "cell_type": "code",
   "execution_count": 6,
   "metadata": {},
   "outputs": [
    {
     "data": {
      "text/plain": "      Municipality Living space Plot area Floor space Availability  \\\n24551     Wildhaus         36.0       NaN         NaN          NaN   \n24552     Wildhaus         40.0       NaN         NaN          NaN   \n24553     Wildhaus         86.0    2803.0         NaN          NaN   \n24554     Wildhaus        127.0       NaN         NaN          NaN   \n24555     Wildhaus          NaN     610.0         NaN          NaN   \n\n                                 location  \\\n24551                Hof 2, 9658 Wildhaus   \n24552                       9658 Wildhaus   \n24553                       9658 Wildhaus   \n24554                       9658 Wildhaus   \n24555  Steinrütistrasse 28, 9658 Wildhaus   \n\n                                             description  \\\n24551  1.5 Zimmerwohnung an zentraler Lage mit schöne...   \n24552  OBJEKT IST BEREITS RESERVIERT!!Sie suchen eine...   \n24553  Mitten im Ober - Toggenburg ist ein 4 Zimmer C...   \n24554  Zu verkaufen ist hier in Wildhaus eine schön u...   \n24555  1-Zi-Whg. (EG) / 4-Zi-Whg. (OG) / 2 1/2-Zi-Whg...   \n\n                                    detailed_description  \\\n24551  Description\\n\"Schöne Kleinwohnung mit Cheminée...   \n24552  Description\\n\"BEREITS RESERVIERT!\"\\nOBJEKT IST...   \n24553  Description\\n\"Chalet mit grossem Grundstück\"\\n...   \n24554  Description\\n\"5½ Zimmer Ferienwohnung mit Gara...   \n24555  Description\\n\"Haus mit 2 Einliegerwohnungen in...   \n\n                                          url table  ...  \\\n24551  https://www.homegate.ch/buy/3002217323   NaN  ...   \n24552  https://www.homegate.ch/buy/3002219541   NaN  ...   \n24553  https://www.homegate.ch/buy/3002218959   NaN  ...   \n24554  https://www.homegate.ch/buy/3002218961   NaN  ...   \n24555  https://www.homegate.ch/buy/3001967293   NaN  ...   \n\n                                    description_detailed Number of floors:  \\\n24551  Description\\n\"Schöne Kleinwohnung mit Cheminée...               NaN   \n24552  Description\\n\"BEREITS RESERVIERT!\"\\nOBJEKT IST...               6.0   \n24553  Description\\n\"Chalet mit grossem Grundstück\"\\n...               1.0   \n24554  Description\\n\"5½ Zimmer Ferienwohnung mit Gara...               4.0   \n24555  Description\\n\"Haus mit 2 Einliegerwohnungen in...               NaN   \n\n       Volume:     plz Number of toilets: Gross yield: Minimum floor space:  \\\n24551      NaN  9658.0                NaN          NaN                  NaN   \n24552      NaN  9658.0                NaN          NaN                  NaN   \n24553      NaN  9658.0                NaN          NaN                  NaN   \n24554      NaN  9658.0                NaN          NaN                  NaN   \n24555  1463 m3  9658.0                NaN          NaN                  NaN   \n\n       space_cleaned         Type:  Hall height:  \n24551           36.0     Apartment           NaN  \n24552            NaN     Apartment           NaN  \n24553          800.0  Single house           NaN  \n24554            NaN     Apartment           NaN  \n24555            NaN  Single house           NaN  \n\n[5 rows x 93 columns]",
      "text/html": "<div>\n<style scoped>\n    .dataframe tbody tr th:only-of-type {\n        vertical-align: middle;\n    }\n\n    .dataframe tbody tr th {\n        vertical-align: top;\n    }\n\n    .dataframe thead th {\n        text-align: right;\n    }\n</style>\n<table border=\"1\" class=\"dataframe\">\n  <thead>\n    <tr style=\"text-align: right;\">\n      <th></th>\n      <th>Municipality</th>\n      <th>Living space</th>\n      <th>Plot area</th>\n      <th>Floor space</th>\n      <th>Availability</th>\n      <th>location</th>\n      <th>description</th>\n      <th>detailed_description</th>\n      <th>url</th>\n      <th>table</th>\n      <th>...</th>\n      <th>description_detailed</th>\n      <th>Number of floors:</th>\n      <th>Volume:</th>\n      <th>plz</th>\n      <th>Number of toilets:</th>\n      <th>Gross yield:</th>\n      <th>Minimum floor space:</th>\n      <th>space_cleaned</th>\n      <th>Type:</th>\n      <th>Hall height:</th>\n    </tr>\n  </thead>\n  <tbody>\n    <tr>\n      <th>24551</th>\n      <td>Wildhaus</td>\n      <td>36.0</td>\n      <td>NaN</td>\n      <td>NaN</td>\n      <td>NaN</td>\n      <td>Hof 2, 9658 Wildhaus</td>\n      <td>1.5 Zimmerwohnung an zentraler Lage mit schöne...</td>\n      <td>Description\\n\"Schöne Kleinwohnung mit Cheminée...</td>\n      <td>https://www.homegate.ch/buy/3002217323</td>\n      <td>NaN</td>\n      <td>...</td>\n      <td>Description\\n\"Schöne Kleinwohnung mit Cheminée...</td>\n      <td>NaN</td>\n      <td>NaN</td>\n      <td>9658.0</td>\n      <td>NaN</td>\n      <td>NaN</td>\n      <td>NaN</td>\n      <td>36.0</td>\n      <td>Apartment</td>\n      <td>NaN</td>\n    </tr>\n    <tr>\n      <th>24552</th>\n      <td>Wildhaus</td>\n      <td>40.0</td>\n      <td>NaN</td>\n      <td>NaN</td>\n      <td>NaN</td>\n      <td>9658 Wildhaus</td>\n      <td>OBJEKT IST BEREITS RESERVIERT!!Sie suchen eine...</td>\n      <td>Description\\n\"BEREITS RESERVIERT!\"\\nOBJEKT IST...</td>\n      <td>https://www.homegate.ch/buy/3002219541</td>\n      <td>NaN</td>\n      <td>...</td>\n      <td>Description\\n\"BEREITS RESERVIERT!\"\\nOBJEKT IST...</td>\n      <td>6.0</td>\n      <td>NaN</td>\n      <td>9658.0</td>\n      <td>NaN</td>\n      <td>NaN</td>\n      <td>NaN</td>\n      <td>NaN</td>\n      <td>Apartment</td>\n      <td>NaN</td>\n    </tr>\n    <tr>\n      <th>24553</th>\n      <td>Wildhaus</td>\n      <td>86.0</td>\n      <td>2803.0</td>\n      <td>NaN</td>\n      <td>NaN</td>\n      <td>9658 Wildhaus</td>\n      <td>Mitten im Ober - Toggenburg ist ein 4 Zimmer C...</td>\n      <td>Description\\n\"Chalet mit grossem Grundstück\"\\n...</td>\n      <td>https://www.homegate.ch/buy/3002218959</td>\n      <td>NaN</td>\n      <td>...</td>\n      <td>Description\\n\"Chalet mit grossem Grundstück\"\\n...</td>\n      <td>1.0</td>\n      <td>NaN</td>\n      <td>9658.0</td>\n      <td>NaN</td>\n      <td>NaN</td>\n      <td>NaN</td>\n      <td>800.0</td>\n      <td>Single house</td>\n      <td>NaN</td>\n    </tr>\n    <tr>\n      <th>24554</th>\n      <td>Wildhaus</td>\n      <td>127.0</td>\n      <td>NaN</td>\n      <td>NaN</td>\n      <td>NaN</td>\n      <td>9658 Wildhaus</td>\n      <td>Zu verkaufen ist hier in Wildhaus eine schön u...</td>\n      <td>Description\\n\"5½ Zimmer Ferienwohnung mit Gara...</td>\n      <td>https://www.homegate.ch/buy/3002218961</td>\n      <td>NaN</td>\n      <td>...</td>\n      <td>Description\\n\"5½ Zimmer Ferienwohnung mit Gara...</td>\n      <td>4.0</td>\n      <td>NaN</td>\n      <td>9658.0</td>\n      <td>NaN</td>\n      <td>NaN</td>\n      <td>NaN</td>\n      <td>NaN</td>\n      <td>Apartment</td>\n      <td>NaN</td>\n    </tr>\n    <tr>\n      <th>24555</th>\n      <td>Wildhaus</td>\n      <td>NaN</td>\n      <td>610.0</td>\n      <td>NaN</td>\n      <td>NaN</td>\n      <td>Steinrütistrasse 28, 9658 Wildhaus</td>\n      <td>1-Zi-Whg. (EG) / 4-Zi-Whg. (OG) / 2 1/2-Zi-Whg...</td>\n      <td>Description\\n\"Haus mit 2 Einliegerwohnungen in...</td>\n      <td>https://www.homegate.ch/buy/3001967293</td>\n      <td>NaN</td>\n      <td>...</td>\n      <td>Description\\n\"Haus mit 2 Einliegerwohnungen in...</td>\n      <td>NaN</td>\n      <td>1463 m3</td>\n      <td>9658.0</td>\n      <td>NaN</td>\n      <td>NaN</td>\n      <td>NaN</td>\n      <td>NaN</td>\n      <td>Single house</td>\n      <td>NaN</td>\n    </tr>\n  </tbody>\n</table>\n<p>5 rows × 93 columns</p>\n</div>"
     },
     "execution_count": 6,
     "metadata": {},
     "output_type": "execute_result"
    }
   ],
   "source": [
    "clean_df['rooms_from_details'] = (clean_df['details'].str.extract(r'(\\d+) rooms')).astype(float)\n",
    "clean_df['space_from_details'] = (clean_df['details'].str.extract(r'(\\d+) m²')).astype(float)\n",
    "\n",
    "clean_df['rooms'] = clean_df['rooms'].mask(clean_df['rooms'] == 0.0, clean_df['rooms_from_details'])\n",
    "clean_df['rooms'] = clean_df['rooms'].fillna(clean_df['rooms_from_details'])\n",
    "\n",
    "clean_df['Living space'] = clean_df['Living space'].fillna(clean_df['space_from_details'])\n",
    "\n",
    "clean_df = clean_df.drop(['details', 'rooms_from_details', 'space_from_details'], axis=1)\n",
    "\n",
    "clean_df.tail()"
   ]
  },
  {
   "cell_type": "markdown",
   "metadata": {},
   "source": [
    "### Remove m² from Columns"
   ]
  },
  {
   "cell_type": "code",
   "execution_count": 7,
   "metadata": {},
   "outputs": [
    {
     "data": {
      "text/plain": "      Municipality  Living space  Plot area  Floor space Availability  \\\n24551     Wildhaus          36.0        NaN          NaN          NaN   \n24552     Wildhaus          40.0        NaN          NaN          NaN   \n24553     Wildhaus          86.0     2803.0          NaN          NaN   \n24554     Wildhaus         127.0        NaN          NaN          NaN   \n24555     Wildhaus           NaN      610.0          NaN          NaN   \n\n                                 location  \\\n24551                Hof 2, 9658 Wildhaus   \n24552                       9658 Wildhaus   \n24553                       9658 Wildhaus   \n24554                       9658 Wildhaus   \n24555  Steinrütistrasse 28, 9658 Wildhaus   \n\n                                             description  \\\n24551  1.5 Zimmerwohnung an zentraler Lage mit schöne...   \n24552  OBJEKT IST BEREITS RESERVIERT!!Sie suchen eine...   \n24553  Mitten im Ober - Toggenburg ist ein 4 Zimmer C...   \n24554  Zu verkaufen ist hier in Wildhaus eine schön u...   \n24555  1-Zi-Whg. (EG) / 4-Zi-Whg. (OG) / 2 1/2-Zi-Whg...   \n\n                                    detailed_description  \\\n24551  Description\\n\"Schöne Kleinwohnung mit Cheminée...   \n24552  Description\\n\"BEREITS RESERVIERT!\"\\nOBJEKT IST...   \n24553  Description\\n\"Chalet mit grossem Grundstück\"\\n...   \n24554  Description\\n\"5½ Zimmer Ferienwohnung mit Gara...   \n24555  Description\\n\"Haus mit 2 Einliegerwohnungen in...   \n\n                                          url table  ...  \\\n24551  https://www.homegate.ch/buy/3002217323   NaN  ...   \n24552  https://www.homegate.ch/buy/3002219541   NaN  ...   \n24553  https://www.homegate.ch/buy/3002218959   NaN  ...   \n24554  https://www.homegate.ch/buy/3002218961   NaN  ...   \n24555  https://www.homegate.ch/buy/3001967293   NaN  ...   \n\n                                    description_detailed Number of floors:  \\\n24551  Description\\n\"Schöne Kleinwohnung mit Cheminée...               NaN   \n24552  Description\\n\"BEREITS RESERVIERT!\"\\nOBJEKT IST...               6.0   \n24553  Description\\n\"Chalet mit grossem Grundstück\"\\n...               1.0   \n24554  Description\\n\"5½ Zimmer Ferienwohnung mit Gara...               4.0   \n24555  Description\\n\"Haus mit 2 Einliegerwohnungen in...               NaN   \n\n       Volume:     plz Number of toilets: Gross yield: Minimum floor space:  \\\n24551      NaN  9658.0                NaN          NaN                  NaN   \n24552      NaN  9658.0                NaN          NaN                  NaN   \n24553      NaN  9658.0                NaN          NaN                  NaN   \n24554      NaN  9658.0                NaN          NaN                  NaN   \n24555  1463 m3  9658.0                NaN          NaN                  NaN   \n\n       space_cleaned         Type:  Hall height:  \n24551           36.0     Apartment           NaN  \n24552            NaN     Apartment           NaN  \n24553          800.0  Single house           NaN  \n24554            NaN     Apartment           NaN  \n24555            NaN  Single house           NaN  \n\n[5 rows x 93 columns]",
      "text/html": "<div>\n<style scoped>\n    .dataframe tbody tr th:only-of-type {\n        vertical-align: middle;\n    }\n\n    .dataframe tbody tr th {\n        vertical-align: top;\n    }\n\n    .dataframe thead th {\n        text-align: right;\n    }\n</style>\n<table border=\"1\" class=\"dataframe\">\n  <thead>\n    <tr style=\"text-align: right;\">\n      <th></th>\n      <th>Municipality</th>\n      <th>Living space</th>\n      <th>Plot area</th>\n      <th>Floor space</th>\n      <th>Availability</th>\n      <th>location</th>\n      <th>description</th>\n      <th>detailed_description</th>\n      <th>url</th>\n      <th>table</th>\n      <th>...</th>\n      <th>description_detailed</th>\n      <th>Number of floors:</th>\n      <th>Volume:</th>\n      <th>plz</th>\n      <th>Number of toilets:</th>\n      <th>Gross yield:</th>\n      <th>Minimum floor space:</th>\n      <th>space_cleaned</th>\n      <th>Type:</th>\n      <th>Hall height:</th>\n    </tr>\n  </thead>\n  <tbody>\n    <tr>\n      <th>24551</th>\n      <td>Wildhaus</td>\n      <td>36.0</td>\n      <td>NaN</td>\n      <td>NaN</td>\n      <td>NaN</td>\n      <td>Hof 2, 9658 Wildhaus</td>\n      <td>1.5 Zimmerwohnung an zentraler Lage mit schöne...</td>\n      <td>Description\\n\"Schöne Kleinwohnung mit Cheminée...</td>\n      <td>https://www.homegate.ch/buy/3002217323</td>\n      <td>NaN</td>\n      <td>...</td>\n      <td>Description\\n\"Schöne Kleinwohnung mit Cheminée...</td>\n      <td>NaN</td>\n      <td>NaN</td>\n      <td>9658.0</td>\n      <td>NaN</td>\n      <td>NaN</td>\n      <td>NaN</td>\n      <td>36.0</td>\n      <td>Apartment</td>\n      <td>NaN</td>\n    </tr>\n    <tr>\n      <th>24552</th>\n      <td>Wildhaus</td>\n      <td>40.0</td>\n      <td>NaN</td>\n      <td>NaN</td>\n      <td>NaN</td>\n      <td>9658 Wildhaus</td>\n      <td>OBJEKT IST BEREITS RESERVIERT!!Sie suchen eine...</td>\n      <td>Description\\n\"BEREITS RESERVIERT!\"\\nOBJEKT IST...</td>\n      <td>https://www.homegate.ch/buy/3002219541</td>\n      <td>NaN</td>\n      <td>...</td>\n      <td>Description\\n\"BEREITS RESERVIERT!\"\\nOBJEKT IST...</td>\n      <td>6.0</td>\n      <td>NaN</td>\n      <td>9658.0</td>\n      <td>NaN</td>\n      <td>NaN</td>\n      <td>NaN</td>\n      <td>NaN</td>\n      <td>Apartment</td>\n      <td>NaN</td>\n    </tr>\n    <tr>\n      <th>24553</th>\n      <td>Wildhaus</td>\n      <td>86.0</td>\n      <td>2803.0</td>\n      <td>NaN</td>\n      <td>NaN</td>\n      <td>9658 Wildhaus</td>\n      <td>Mitten im Ober - Toggenburg ist ein 4 Zimmer C...</td>\n      <td>Description\\n\"Chalet mit grossem Grundstück\"\\n...</td>\n      <td>https://www.homegate.ch/buy/3002218959</td>\n      <td>NaN</td>\n      <td>...</td>\n      <td>Description\\n\"Chalet mit grossem Grundstück\"\\n...</td>\n      <td>1.0</td>\n      <td>NaN</td>\n      <td>9658.0</td>\n      <td>NaN</td>\n      <td>NaN</td>\n      <td>NaN</td>\n      <td>800.0</td>\n      <td>Single house</td>\n      <td>NaN</td>\n    </tr>\n    <tr>\n      <th>24554</th>\n      <td>Wildhaus</td>\n      <td>127.0</td>\n      <td>NaN</td>\n      <td>NaN</td>\n      <td>NaN</td>\n      <td>9658 Wildhaus</td>\n      <td>Zu verkaufen ist hier in Wildhaus eine schön u...</td>\n      <td>Description\\n\"5½ Zimmer Ferienwohnung mit Gara...</td>\n      <td>https://www.homegate.ch/buy/3002218961</td>\n      <td>NaN</td>\n      <td>...</td>\n      <td>Description\\n\"5½ Zimmer Ferienwohnung mit Gara...</td>\n      <td>4.0</td>\n      <td>NaN</td>\n      <td>9658.0</td>\n      <td>NaN</td>\n      <td>NaN</td>\n      <td>NaN</td>\n      <td>NaN</td>\n      <td>Apartment</td>\n      <td>NaN</td>\n    </tr>\n    <tr>\n      <th>24555</th>\n      <td>Wildhaus</td>\n      <td>NaN</td>\n      <td>610.0</td>\n      <td>NaN</td>\n      <td>NaN</td>\n      <td>Steinrütistrasse 28, 9658 Wildhaus</td>\n      <td>1-Zi-Whg. (EG) / 4-Zi-Whg. (OG) / 2 1/2-Zi-Whg...</td>\n      <td>Description\\n\"Haus mit 2 Einliegerwohnungen in...</td>\n      <td>https://www.homegate.ch/buy/3001967293</td>\n      <td>NaN</td>\n      <td>...</td>\n      <td>Description\\n\"Haus mit 2 Einliegerwohnungen in...</td>\n      <td>NaN</td>\n      <td>1463 m3</td>\n      <td>9658.0</td>\n      <td>NaN</td>\n      <td>NaN</td>\n      <td>NaN</td>\n      <td>NaN</td>\n      <td>Single house</td>\n      <td>NaN</td>\n    </tr>\n  </tbody>\n</table>\n<p>5 rows × 93 columns</p>\n</div>"
     },
     "execution_count": 7,
     "metadata": {},
     "output_type": "execute_result"
    }
   ],
   "source": [
    "clean_df['Living space'] = clean_df['Living space'].astype(str)\n",
    "clean_df['Living space'] = clean_df['Living space'].str.replace('m²', '')\n",
    "clean_df['Living space'] = clean_df['Living space'].str.replace('m2', '')\n",
    "clean_df['Living space'] = clean_df['Living space'].astype(float)\n",
    "\n",
    "clean_df['Plot area'] = clean_df['Plot area'].astype(str)\n",
    "clean_df['Plot area'] = clean_df['Plot area'].str.replace('m²', '')\n",
    "clean_df['Plot area'] = clean_df['Plot area'].str.replace(',', '')\n",
    "clean_df['Plot area'] = clean_df['Plot area'].astype(float)\n",
    "\n",
    "clean_df['Floor space'] = clean_df['Floor space'].astype(str)\n",
    "clean_df['Floor space'] = clean_df['Floor space'].str.replace('m²', '')\n",
    "clean_df['Floor space'] = clean_df['Floor space'].str.replace('m2', '')\n",
    "clean_df['Floor space'] = clean_df['Floor space'].astype(float)\n",
    "\n",
    "clean_df['Floor'] = clean_df['Floor'].astype(str)\n",
    "clean_df['Floor'] = clean_df['Floor'].str.replace('Ground floor', '0')\n",
    "clean_df['Floor'] = clean_df['Floor'].str.replace('GF', '0')\n",
    "clean_df['Floor'] = clean_df['Floor'].str.replace('. floor', '', regex=False)\n",
    "clean_df['Floor'] = clean_df['Floor'].str.replace(r'(\\d+)\\. Basement', lambda x: str(int(x.group(1)) * -1), regex=True)\n",
    "clean_df['Floor'] = clean_df['Floor'].astype(float)\n",
    "\n",
    "clean_df['rooms'] = clean_df['rooms'].astype(str)\n",
    "clean_df['rooms'] = clean_df['rooms'].str.replace('rm', '')\n",
    "clean_df['rooms'] = clean_df['rooms'].astype(float)\n",
    "\n",
    "clean_df.tail()"
   ]
  },
  {
   "cell_type": "markdown",
   "metadata": {},
   "source": [
    "### How many NAN's has each column"
   ]
  },
  {
   "cell_type": "code",
   "execution_count": 8,
   "metadata": {},
   "outputs": [
    {
     "data": {
      "text/plain": "Municipality             0.737091\nLiving space             5.623880\nPlot area               61.378075\nFloor space             79.414400\nAvailability            49.250692\n                          ...    \nGross yield:            99.776022\nMinimum floor space:    99.983711\nspace_cleaned           46.905033\nType:                   50.749308\nHall height:            99.983711\nLength: 93, dtype: float64"
     },
     "execution_count": 8,
     "metadata": {},
     "output_type": "execute_result"
    }
   ],
   "source": [
    "(clean_df.isnull().sum() / len(clean_df)) * 100"
   ]
  },
  {
   "cell_type": "code",
   "execution_count": 9,
   "metadata": {},
   "outputs": [
    {
     "data": {
      "text/plain": "Index(['Municipality', 'Living space', 'Plot area', 'Floor space',\n       'Availability', 'location', 'description', 'detailed_description',\n       'url', 'table', 'Floor', 'Gross return', 'location_parsed', 'title',\n       'address', 'link', 'details_structured', 'lat', 'lon', 'index',\n       'ForestDensityL', 'ForestDensityM', 'ForestDensityS', 'Latitude',\n       'Locality', 'Longitude', 'NoisePollutionRailwayL',\n       'NoisePollutionRailwayM', 'NoisePollutionRailwayS',\n       'NoisePollutionRoadL', 'NoisePollutionRoadM', 'NoisePollutionRoadS',\n       'PopulationDensityL', 'PopulationDensityM', 'PopulationDensityS',\n       'RiversAndLakesL', 'RiversAndLakesM', 'RiversAndLakesS',\n       'WorkplaceDensityL', 'WorkplaceDensityM', 'WorkplaceDensityS', 'Zip',\n       'distanceToTrainStation', 'gde_area_agriculture_percentage',\n       'gde_area_forest_percentage', 'gde_area_nonproductive_percentage',\n       'gde_area_settlement_percentage', 'gde_average_house_hold',\n       'gde_empty_apartments', 'gde_foreigners_percentage',\n       'gde_new_homes_per_1000', 'gde_politics_bdp', 'gde_politics_cvp',\n       'gde_politics_evp', 'gde_politics_fdp', 'gde_politics_glp',\n       'gde_politics_gps', 'gde_politics_pda', 'gde_politics_rights',\n       'gde_politics_sp', 'gde_politics_svp', 'gde_pop_per_km2',\n       'gde_population', 'gde_private_apartments', 'gde_social_help_quota',\n       'gde_tax', 'gde_workers_sector1', 'gde_workers_sector2',\n       'gde_workers_sector3', 'gde_workers_total', 'rooms', 'plz_parsed',\n       'type_unified', 'Floor_unified', 'provider', 'space', 'address_s',\n       'No. of rooms:', 'Number of apartments:', 'Room height:',\n       'Last refurbishment:', 'Year built:', 'features',\n       'description_detailed', 'Number of floors:', 'Volume:', 'plz',\n       'Number of toilets:', 'Gross yield:', 'Minimum floor space:',\n       'space_cleaned', 'Type:', 'Hall height:'],\n      dtype='object')"
     },
     "execution_count": 9,
     "metadata": {},
     "output_type": "execute_result"
    }
   ],
   "source": [
    "clean_df.columns"
   ]
  },
  {
   "cell_type": "markdown",
   "metadata": {},
   "source": [
    "### Remove redundant columns"
   ]
  },
  {
   "cell_type": "code",
   "execution_count": 10,
   "metadata": {},
   "outputs": [
    {
     "data": {
      "text/plain": "       Living space  Plot area  Floor space  Floor  ForestDensityL  \\\n24551          36.0        NaN          NaN    2.0        0.186881   \n24552          40.0        NaN          NaN    3.0        0.141426   \n24553          86.0     2803.0          NaN    NaN        0.141426   \n24554         127.0        NaN          NaN    2.0        0.141426   \n24555           NaN      610.0          NaN    NaN        0.141426   \n\n       ForestDensityM  ForestDensityS   Latitude  Longitude  \\\n24551        0.018827        0.000000  47.204125   9.353275   \n24552        0.003706        0.011718  47.203747   9.350731   \n24553        0.003706        0.011718  47.203747   9.350731   \n24554        0.003706        0.011718  47.203747   9.350731   \n24555        0.003706        0.011718  47.203747   9.350731   \n\n       NoisePollutionRailwayL  ...  gde_population  gde_private_apartments  \\\n24551                     0.0  ...          2667.0                  1162.0   \n24552                     0.0  ...          2667.0                  1162.0   \n24553                     0.0  ...          2667.0                  1162.0   \n24554                     0.0  ...          2667.0                  1162.0   \n24555                     0.0  ...          2667.0                  1162.0   \n\n       gde_social_help_quota  gde_tax  gde_workers_sector1  \\\n24551               1.087364     6.58                259.0   \n24552               1.087364     6.58                259.0   \n24553               1.087364     6.58                259.0   \n24554               1.087364     6.58                259.0   \n24555               1.087364     6.58                259.0   \n\n       gde_workers_sector2  gde_workers_sector3  gde_workers_total  rooms  \\\n24551                270.0                969.0             1498.0    1.5   \n24552                270.0                969.0             1498.0    1.5   \n24553                270.0                969.0             1498.0    4.0   \n24554                270.0                969.0             1498.0    5.5   \n24555                270.0                969.0             1498.0    NaN   \n\n         type_unified  \n24551            flat  \n24552            flat  \n24553  detached-house  \n24554            flat  \n24555  detached-house  \n\n[5 rows x 50 columns]",
      "text/html": "<div>\n<style scoped>\n    .dataframe tbody tr th:only-of-type {\n        vertical-align: middle;\n    }\n\n    .dataframe tbody tr th {\n        vertical-align: top;\n    }\n\n    .dataframe thead th {\n        text-align: right;\n    }\n</style>\n<table border=\"1\" class=\"dataframe\">\n  <thead>\n    <tr style=\"text-align: right;\">\n      <th></th>\n      <th>Living space</th>\n      <th>Plot area</th>\n      <th>Floor space</th>\n      <th>Floor</th>\n      <th>ForestDensityL</th>\n      <th>ForestDensityM</th>\n      <th>ForestDensityS</th>\n      <th>Latitude</th>\n      <th>Longitude</th>\n      <th>NoisePollutionRailwayL</th>\n      <th>...</th>\n      <th>gde_population</th>\n      <th>gde_private_apartments</th>\n      <th>gde_social_help_quota</th>\n      <th>gde_tax</th>\n      <th>gde_workers_sector1</th>\n      <th>gde_workers_sector2</th>\n      <th>gde_workers_sector3</th>\n      <th>gde_workers_total</th>\n      <th>rooms</th>\n      <th>type_unified</th>\n    </tr>\n  </thead>\n  <tbody>\n    <tr>\n      <th>24551</th>\n      <td>36.0</td>\n      <td>NaN</td>\n      <td>NaN</td>\n      <td>2.0</td>\n      <td>0.186881</td>\n      <td>0.018827</td>\n      <td>0.000000</td>\n      <td>47.204125</td>\n      <td>9.353275</td>\n      <td>0.0</td>\n      <td>...</td>\n      <td>2667.0</td>\n      <td>1162.0</td>\n      <td>1.087364</td>\n      <td>6.58</td>\n      <td>259.0</td>\n      <td>270.0</td>\n      <td>969.0</td>\n      <td>1498.0</td>\n      <td>1.5</td>\n      <td>flat</td>\n    </tr>\n    <tr>\n      <th>24552</th>\n      <td>40.0</td>\n      <td>NaN</td>\n      <td>NaN</td>\n      <td>3.0</td>\n      <td>0.141426</td>\n      <td>0.003706</td>\n      <td>0.011718</td>\n      <td>47.203747</td>\n      <td>9.350731</td>\n      <td>0.0</td>\n      <td>...</td>\n      <td>2667.0</td>\n      <td>1162.0</td>\n      <td>1.087364</td>\n      <td>6.58</td>\n      <td>259.0</td>\n      <td>270.0</td>\n      <td>969.0</td>\n      <td>1498.0</td>\n      <td>1.5</td>\n      <td>flat</td>\n    </tr>\n    <tr>\n      <th>24553</th>\n      <td>86.0</td>\n      <td>2803.0</td>\n      <td>NaN</td>\n      <td>NaN</td>\n      <td>0.141426</td>\n      <td>0.003706</td>\n      <td>0.011718</td>\n      <td>47.203747</td>\n      <td>9.350731</td>\n      <td>0.0</td>\n      <td>...</td>\n      <td>2667.0</td>\n      <td>1162.0</td>\n      <td>1.087364</td>\n      <td>6.58</td>\n      <td>259.0</td>\n      <td>270.0</td>\n      <td>969.0</td>\n      <td>1498.0</td>\n      <td>4.0</td>\n      <td>detached-house</td>\n    </tr>\n    <tr>\n      <th>24554</th>\n      <td>127.0</td>\n      <td>NaN</td>\n      <td>NaN</td>\n      <td>2.0</td>\n      <td>0.141426</td>\n      <td>0.003706</td>\n      <td>0.011718</td>\n      <td>47.203747</td>\n      <td>9.350731</td>\n      <td>0.0</td>\n      <td>...</td>\n      <td>2667.0</td>\n      <td>1162.0</td>\n      <td>1.087364</td>\n      <td>6.58</td>\n      <td>259.0</td>\n      <td>270.0</td>\n      <td>969.0</td>\n      <td>1498.0</td>\n      <td>5.5</td>\n      <td>flat</td>\n    </tr>\n    <tr>\n      <th>24555</th>\n      <td>NaN</td>\n      <td>610.0</td>\n      <td>NaN</td>\n      <td>NaN</td>\n      <td>0.141426</td>\n      <td>0.003706</td>\n      <td>0.011718</td>\n      <td>47.203747</td>\n      <td>9.350731</td>\n      <td>0.0</td>\n      <td>...</td>\n      <td>2667.0</td>\n      <td>1162.0</td>\n      <td>1.087364</td>\n      <td>6.58</td>\n      <td>259.0</td>\n      <td>270.0</td>\n      <td>969.0</td>\n      <td>1498.0</td>\n      <td>NaN</td>\n      <td>detached-house</td>\n    </tr>\n  </tbody>\n</table>\n<p>5 rows × 50 columns</p>\n</div>"
     },
     "execution_count": 10,
     "metadata": {},
     "output_type": "execute_result"
    }
   ],
   "source": [
    "columns = ['Municipality',#unbrauchbar wegen long und lat\n",
    "            'Availability',#zu wenig Daten\n",
    "            'location',#long und lat\n",
    "            'location_parsed',#long und lat\n",
    "            'description',#unbrauchbar         \n",
    "            'detailed_description',#unbrauchbar\n",
    "            'url',#unbrauchbar\n",
    "            'table',#unbrauchbar\n",
    "            'Gross return',#zu wenig Daten\n",
    "            'title',#unbrauchbar\n",
    "            'address',#unbrauchbar wegen long und lat\n",
    "            #'price',#gibt price_cleaned\n",
    "            'link',#unbrauchbar\n",
    "            'details_structured',#unbrauchbar\n",
    "            'lat',#gibt latitute\n",
    "            'lon',#gibt longitude\n",
    "            'index',#unbrauchbar\n",
    "            'Locality',#long und lat\n",
    "            'plz_parsed',#gibt ZIP\n",
    "            #'type',#gibt type_unified\n",
    "            'Floor_unified',#gibt Floor\n",
    "            'provider',#unbrauchbar\n",
    "            'space',#gibt Living space\n",
    "            #'price_s',#gibt price_cleaned\n",
    "            'address_s',#unbrauchbar wegen long und lat\n",
    "            'No. of rooms:',#gibt schon rooms\n",
    "            'Number of apartments:',#unbrauchbar\n",
    "            'Room height:',#zu wenig Daten\n",
    "            'Last refurbishment:',#zu wenig Daten\n",
    "            'Year built:',#zu wenig Daten\n",
    "            'features',#unbrauchbar\n",
    "            'description_detailed',#unbrauchbar\n",
    "            'Number of floors:',#zu wenig Daten\n",
    "            'Volume:',#unbrauchbar\n",
    "            'plz',#gibt ZIP\n",
    "            'Number of toilets:',#zu wenig Daten\n",
    "            'Gross yield:',#zu wenig Daten\n",
    "            'Minimum floor space:',#zu wenig Daten\n",
    "            'space_cleaned',#gibt Living space\n",
    "            'gde_politics_bdp',#zu wenig Daten\n",
    "            'gde_politics_evp',#zu wenig Daten\n",
    "            'gde_politics_glp',#zu wenig Daten\n",
    "            'gde_politics_pda',#zu wenig Daten\n",
    "            'gde_politics_rights',#zu wenig Daten\n",
    "            'Type:',#gibt type_unified\n",
    "            'Hall height:',#zu wenig Daten\n",
    "]\n",
    "\n",
    "\n",
    "clean_df = clean_df.drop(columns, axis=1)\n",
    "clean_df.tail()"
   ]
  },
  {
   "cell_type": "markdown",
   "metadata": {},
   "source": [
    "### Divide categorical \"type\" variable into dummy variables"
   ]
  },
  {
   "cell_type": "code",
   "execution_count": 11,
   "metadata": {},
   "outputs": [
    {
     "data": {
      "text/plain": "array(['villa', 'detached-house', 'stepped-house', 'terrace-house',\n       'flat', 'penthouse', 'attic-flat', 'stepped-apartment',\n       'semi-detached-house', 'furnished-residential-property', 'studio',\n       'duplex-maisonette', 'farmhouse', 'loft', 'chalet',\n       'secondary-suite', 'castle', 'rustico', 'single-room',\n       'detached-secondary-suite', 'attic-room', nan], dtype=object)"
     },
     "execution_count": 11,
     "metadata": {},
     "output_type": "execute_result"
    }
   ],
   "source": [
    "clean_df[\"type_unified\"].unique()"
   ]
  },
  {
   "cell_type": "code",
   "execution_count": 12,
   "metadata": {},
   "outputs": [
    {
     "data": {
      "text/plain": "['data/kaggle/01_1_no_type_ids_id.dump']"
     },
     "execution_count": 12,
     "metadata": {},
     "output_type": "execute_result"
    }
   ],
   "source": [
    "#get the indexes from rows where type is nan and save them in a pkl file\n",
    "indexNames = clean_df[ clean_df['type_unified'].isnull() ].index.tolist()\n",
    "target_path = Paths.KAGGLE_IDS_TYPE_NONE_DATA\n",
    "dump(indexNames, target_path)"
   ]
  },
  {
   "cell_type": "code",
   "execution_count": 13,
   "metadata": {},
   "outputs": [],
   "source": [
    "clean_df = pd.get_dummies(clean_df, columns=['type_unified'])"
   ]
  },
  {
   "cell_type": "markdown",
   "metadata": {},
   "source": [
    "### How many NAN's has each column"
   ]
  },
  {
   "cell_type": "code",
   "execution_count": 14,
   "metadata": {},
   "outputs": [
    {
     "data": {
      "text/plain": "Living space                       5.623880\nPlot area                         61.378075\nFloor space                       79.414400\nFloor                             56.755986\nForestDensityL                     0.000000\n                                    ...    \ntype_unified_stepped-apartment     0.000000\ntype_unified_stepped-house         0.000000\ntype_unified_studio                0.000000\ntype_unified_terrace-house         0.000000\ntype_unified_villa                 0.000000\nLength: 70, dtype: float64"
     },
     "execution_count": 14,
     "metadata": {},
     "output_type": "execute_result"
    }
   ],
   "source": [
    "(clean_df.isnull().sum() / len(clean_df)) * 100\n",
    "\n",
    "#Floor und Floorspace????"
   ]
  },
  {
   "cell_type": "code",
   "execution_count": 15,
   "metadata": {},
   "outputs": [
    {
     "data": {
      "text/plain": "       Living space  Plot area  Floor  ForestDensityL  ForestDensityM  \\\n24551          36.0       36.0    2.0        0.186881        0.018827   \n24552          40.0       40.0    3.0        0.141426        0.003706   \n24553          86.0     2803.0    NaN        0.141426        0.003706   \n24554         127.0      127.0    2.0        0.141426        0.003706   \n24555           NaN      610.0    NaN        0.141426        0.003706   \n\n       ForestDensityS   Latitude  Longitude  NoisePollutionRailwayL  \\\n24551        0.000000  47.204125   9.353275                     0.0   \n24552        0.011718  47.203747   9.350731                     0.0   \n24553        0.011718  47.203747   9.350731                     0.0   \n24554        0.011718  47.203747   9.350731                     0.0   \n24555        0.011718  47.203747   9.350731                     0.0   \n\n       NoisePollutionRailwayM  ...  type_unified_penthouse  \\\n24551                     0.0  ...                       0   \n24552                     0.0  ...                       0   \n24553                     0.0  ...                       0   \n24554                     0.0  ...                       0   \n24555                     0.0  ...                       0   \n\n       type_unified_rustico  type_unified_secondary-suite  \\\n24551                     0                             0   \n24552                     0                             0   \n24553                     0                             0   \n24554                     0                             0   \n24555                     0                             0   \n\n       type_unified_semi-detached-house  type_unified_single-room  \\\n24551                                 0                         0   \n24552                                 0                         0   \n24553                                 0                         0   \n24554                                 0                         0   \n24555                                 0                         0   \n\n       type_unified_stepped-apartment  type_unified_stepped-house  \\\n24551                               0                           0   \n24552                               0                           0   \n24553                               0                           0   \n24554                               0                           0   \n24555                               0                           0   \n\n       type_unified_studio  type_unified_terrace-house  type_unified_villa  \n24551                    0                           0                   0  \n24552                    0                           0                   0  \n24553                    0                           0                   0  \n24554                    0                           0                   0  \n24555                    0                           0                   0  \n\n[5 rows x 69 columns]",
      "text/html": "<div>\n<style scoped>\n    .dataframe tbody tr th:only-of-type {\n        vertical-align: middle;\n    }\n\n    .dataframe tbody tr th {\n        vertical-align: top;\n    }\n\n    .dataframe thead th {\n        text-align: right;\n    }\n</style>\n<table border=\"1\" class=\"dataframe\">\n  <thead>\n    <tr style=\"text-align: right;\">\n      <th></th>\n      <th>Living space</th>\n      <th>Plot area</th>\n      <th>Floor</th>\n      <th>ForestDensityL</th>\n      <th>ForestDensityM</th>\n      <th>ForestDensityS</th>\n      <th>Latitude</th>\n      <th>Longitude</th>\n      <th>NoisePollutionRailwayL</th>\n      <th>NoisePollutionRailwayM</th>\n      <th>...</th>\n      <th>type_unified_penthouse</th>\n      <th>type_unified_rustico</th>\n      <th>type_unified_secondary-suite</th>\n      <th>type_unified_semi-detached-house</th>\n      <th>type_unified_single-room</th>\n      <th>type_unified_stepped-apartment</th>\n      <th>type_unified_stepped-house</th>\n      <th>type_unified_studio</th>\n      <th>type_unified_terrace-house</th>\n      <th>type_unified_villa</th>\n    </tr>\n  </thead>\n  <tbody>\n    <tr>\n      <th>24551</th>\n      <td>36.0</td>\n      <td>36.0</td>\n      <td>2.0</td>\n      <td>0.186881</td>\n      <td>0.018827</td>\n      <td>0.000000</td>\n      <td>47.204125</td>\n      <td>9.353275</td>\n      <td>0.0</td>\n      <td>0.0</td>\n      <td>...</td>\n      <td>0</td>\n      <td>0</td>\n      <td>0</td>\n      <td>0</td>\n      <td>0</td>\n      <td>0</td>\n      <td>0</td>\n      <td>0</td>\n      <td>0</td>\n      <td>0</td>\n    </tr>\n    <tr>\n      <th>24552</th>\n      <td>40.0</td>\n      <td>40.0</td>\n      <td>3.0</td>\n      <td>0.141426</td>\n      <td>0.003706</td>\n      <td>0.011718</td>\n      <td>47.203747</td>\n      <td>9.350731</td>\n      <td>0.0</td>\n      <td>0.0</td>\n      <td>...</td>\n      <td>0</td>\n      <td>0</td>\n      <td>0</td>\n      <td>0</td>\n      <td>0</td>\n      <td>0</td>\n      <td>0</td>\n      <td>0</td>\n      <td>0</td>\n      <td>0</td>\n    </tr>\n    <tr>\n      <th>24553</th>\n      <td>86.0</td>\n      <td>2803.0</td>\n      <td>NaN</td>\n      <td>0.141426</td>\n      <td>0.003706</td>\n      <td>0.011718</td>\n      <td>47.203747</td>\n      <td>9.350731</td>\n      <td>0.0</td>\n      <td>0.0</td>\n      <td>...</td>\n      <td>0</td>\n      <td>0</td>\n      <td>0</td>\n      <td>0</td>\n      <td>0</td>\n      <td>0</td>\n      <td>0</td>\n      <td>0</td>\n      <td>0</td>\n      <td>0</td>\n    </tr>\n    <tr>\n      <th>24554</th>\n      <td>127.0</td>\n      <td>127.0</td>\n      <td>2.0</td>\n      <td>0.141426</td>\n      <td>0.003706</td>\n      <td>0.011718</td>\n      <td>47.203747</td>\n      <td>9.350731</td>\n      <td>0.0</td>\n      <td>0.0</td>\n      <td>...</td>\n      <td>0</td>\n      <td>0</td>\n      <td>0</td>\n      <td>0</td>\n      <td>0</td>\n      <td>0</td>\n      <td>0</td>\n      <td>0</td>\n      <td>0</td>\n      <td>0</td>\n    </tr>\n    <tr>\n      <th>24555</th>\n      <td>NaN</td>\n      <td>610.0</td>\n      <td>NaN</td>\n      <td>0.141426</td>\n      <td>0.003706</td>\n      <td>0.011718</td>\n      <td>47.203747</td>\n      <td>9.350731</td>\n      <td>0.0</td>\n      <td>0.0</td>\n      <td>...</td>\n      <td>0</td>\n      <td>0</td>\n      <td>0</td>\n      <td>0</td>\n      <td>0</td>\n      <td>0</td>\n      <td>0</td>\n      <td>0</td>\n      <td>0</td>\n      <td>0</td>\n    </tr>\n  </tbody>\n</table>\n<p>5 rows × 69 columns</p>\n</div>"
     },
     "execution_count": 15,
     "metadata": {},
     "output_type": "execute_result"
    }
   ],
   "source": [
    "#Florspace Temporär rausgenommen\n",
    "clean_df = clean_df.drop([\"Floor space\"], axis = 1)\n",
    "clean_df['Plot area'] = clean_df['Plot area'].fillna(clean_df['Living space'])\n",
    "clean_df.tail()"
   ]
  },
  {
   "cell_type": "code",
   "execution_count": 16,
   "metadata": {},
   "outputs": [
    {
     "data": {
      "text/plain": "Index(['Living space', 'Plot area', 'Floor', 'ForestDensityL',\n       'ForestDensityM', 'ForestDensityS', 'Latitude', 'Longitude',\n       'NoisePollutionRailwayL', 'NoisePollutionRailwayM',\n       'NoisePollutionRailwayS', 'NoisePollutionRoadL', 'NoisePollutionRoadM',\n       'NoisePollutionRoadS', 'PopulationDensityL', 'PopulationDensityM',\n       'PopulationDensityS', 'RiversAndLakesL', 'RiversAndLakesM',\n       'RiversAndLakesS', 'WorkplaceDensityL', 'WorkplaceDensityM',\n       'WorkplaceDensityS', 'Zip', 'distanceToTrainStation',\n       'gde_area_agriculture_percentage', 'gde_area_forest_percentage',\n       'gde_area_nonproductive_percentage', 'gde_area_settlement_percentage',\n       'gde_average_house_hold', 'gde_empty_apartments',\n       'gde_foreigners_percentage', 'gde_new_homes_per_1000',\n       'gde_politics_cvp', 'gde_politics_fdp', 'gde_politics_gps',\n       'gde_politics_sp', 'gde_politics_svp', 'gde_pop_per_km2',\n       'gde_population', 'gde_private_apartments', 'gde_social_help_quota',\n       'gde_tax', 'gde_workers_sector1', 'gde_workers_sector2',\n       'gde_workers_sector3', 'gde_workers_total', 'rooms',\n       'type_unified_attic-flat', 'type_unified_attic-room',\n       'type_unified_castle', 'type_unified_chalet',\n       'type_unified_detached-house', 'type_unified_detached-secondary-suite',\n       'type_unified_duplex-maisonette', 'type_unified_farmhouse',\n       'type_unified_flat', 'type_unified_furnished-residential-property',\n       'type_unified_loft', 'type_unified_penthouse', 'type_unified_rustico',\n       'type_unified_secondary-suite', 'type_unified_semi-detached-house',\n       'type_unified_single-room', 'type_unified_stepped-apartment',\n       'type_unified_stepped-house', 'type_unified_studio',\n       'type_unified_terrace-house', 'type_unified_villa'],\n      dtype='object')"
     },
     "execution_count": 16,
     "metadata": {},
     "output_type": "execute_result"
    }
   ],
   "source": [
    "clean_df.columns"
   ]
  },
  {
   "attachments": {},
   "cell_type": "markdown",
   "metadata": {},
   "source": [
    "### Imputation"
   ]
  },
  {
   "cell_type": "code",
   "execution_count": 17,
   "metadata": {},
   "outputs": [
    {
     "data": {
      "text/plain": "Index(['Living space', 'Plot area', 'Floor', 'gde_politics_cvp',\n       'gde_politics_fdp', 'gde_politics_gps', 'gde_politics_sp',\n       'gde_politics_svp', 'rooms'],\n      dtype='object')"
     },
     "execution_count": 17,
     "metadata": {},
     "output_type": "execute_result"
    }
   ],
   "source": [
    "nan_percentage = (clean_df.isnull().sum() / len(clean_df)) * 100\n",
    "\n",
    "cols = nan_percentage[(nan_percentage > 0)].index\n",
    "cols"
   ]
  },
  {
   "cell_type": "code",
   "execution_count": 18,
   "metadata": {
    "collapsed": false
   },
   "outputs": [
    {
     "data": {
      "text/plain": "       Living space  Plot area  Floor  ForestDensityL  ForestDensityM  \\\n4113          450.0     2850.0    0.0        0.062448        0.004470   \n4538          900.0     7623.0    0.0        0.039354        0.034158   \n12239         275.0      302.0    0.0        0.000801        0.000000   \n12251         503.0     2214.0    0.0        0.000801        0.000000   \n12257         228.0     1912.0    0.0        0.000801        0.000000   \n12285         300.0      302.0    0.0        0.000801        0.000000   \n12288         228.0     1912.0    0.0        0.000801        0.000000   \n13443         228.0     1912.0    0.0        0.000801        0.000000   \n13444         228.0     1912.0    0.0        0.000801        0.000000   \n13447         275.0      302.0    0.0        0.000801        0.000000   \n13448         503.0     2214.0    0.0        0.000801        0.000000   \n15144         900.0     7623.0    0.0        0.039354        0.034158   \n15591         450.0     2850.0    0.0        0.059019        0.000000   \n\n       ForestDensityS   Latitude  Longitude  NoisePollutionRailwayL  \\\n4113              0.0  46.755407   7.149263                     0.0   \n4538              0.0  46.510841   6.849226                     0.0   \n12239             0.0  46.593945   6.565308                     0.0   \n12251             0.0  46.593945   6.565308                     0.0   \n12257             0.0  46.593945   6.565308                     0.0   \n12285             0.0  46.593945   6.565308                     0.0   \n12288             0.0  46.593945   6.565308                     0.0   \n13443             0.0  46.593945   6.565308                     0.0   \n13444             0.0  46.593945   6.565308                     0.0   \n13447             0.0  46.593945   6.565308                     0.0   \n13448             0.0  46.593945   6.565308                     0.0   \n15144             0.0  46.510841   6.849226                     0.0   \n15591             0.0  46.754509   7.146302                     0.0   \n\n       NoisePollutionRailwayM  ...  type_unified_penthouse  \\\n4113                      0.0  ...                       0   \n4538                      0.0  ...                       0   \n12239                     0.0  ...                       0   \n12251                     0.0  ...                       0   \n12257                     0.0  ...                       0   \n12285                     0.0  ...                       0   \n12288                     0.0  ...                       0   \n13443                     0.0  ...                       0   \n13444                     0.0  ...                       0   \n13447                     0.0  ...                       0   \n13448                     0.0  ...                       0   \n15144                     0.0  ...                       0   \n15591                     0.0  ...                       0   \n\n       type_unified_rustico  type_unified_secondary-suite  \\\n4113                      0                             0   \n4538                      0                             0   \n12239                     0                             0   \n12251                     0                             0   \n12257                     0                             0   \n12285                     0                             0   \n12288                     0                             0   \n13443                     0                             0   \n13444                     0                             0   \n13447                     0                             0   \n13448                     0                             0   \n15144                     0                             0   \n15591                     0                             0   \n\n       type_unified_semi-detached-house  type_unified_single-room  \\\n4113                                  0                         0   \n4538                                  0                         0   \n12239                                 0                         0   \n12251                                 0                         0   \n12257                                 0                         0   \n12285                                 0                         0   \n12288                                 0                         0   \n13443                                 0                         0   \n13444                                 0                         0   \n13447                                 0                         0   \n13448                                 0                         0   \n15144                                 0                         0   \n15591                                 0                         0   \n\n       type_unified_stepped-apartment  type_unified_stepped-house  \\\n4113                                0                           0   \n4538                                0                           0   \n12239                               0                           0   \n12251                               0                           0   \n12257                               0                           0   \n12285                               0                           0   \n12288                               0                           0   \n13443                               0                           0   \n13444                               0                           0   \n13447                               0                           0   \n13448                               0                           0   \n15144                               0                           0   \n15591                               0                           0   \n\n       type_unified_studio  type_unified_terrace-house  type_unified_villa  \n4113                     0                           0                   0  \n4538                     0                           0                   0  \n12239                    0                           0                   0  \n12251                    0                           0                   0  \n12257                    0                           0                   0  \n12285                    0                           0                   0  \n12288                    0                           0                   0  \n13443                    0                           0                   0  \n13444                    0                           0                   0  \n13447                    0                           0                   0  \n13448                    0                           0                   0  \n15144                    0                           0                   0  \n15591                    0                           0                   0  \n\n[13 rows x 69 columns]",
      "text/html": "<div>\n<style scoped>\n    .dataframe tbody tr th:only-of-type {\n        vertical-align: middle;\n    }\n\n    .dataframe tbody tr th {\n        vertical-align: top;\n    }\n\n    .dataframe thead th {\n        text-align: right;\n    }\n</style>\n<table border=\"1\" class=\"dataframe\">\n  <thead>\n    <tr style=\"text-align: right;\">\n      <th></th>\n      <th>Living space</th>\n      <th>Plot area</th>\n      <th>Floor</th>\n      <th>ForestDensityL</th>\n      <th>ForestDensityM</th>\n      <th>ForestDensityS</th>\n      <th>Latitude</th>\n      <th>Longitude</th>\n      <th>NoisePollutionRailwayL</th>\n      <th>NoisePollutionRailwayM</th>\n      <th>...</th>\n      <th>type_unified_penthouse</th>\n      <th>type_unified_rustico</th>\n      <th>type_unified_secondary-suite</th>\n      <th>type_unified_semi-detached-house</th>\n      <th>type_unified_single-room</th>\n      <th>type_unified_stepped-apartment</th>\n      <th>type_unified_stepped-house</th>\n      <th>type_unified_studio</th>\n      <th>type_unified_terrace-house</th>\n      <th>type_unified_villa</th>\n    </tr>\n  </thead>\n  <tbody>\n    <tr>\n      <th>4113</th>\n      <td>450.0</td>\n      <td>2850.0</td>\n      <td>0.0</td>\n      <td>0.062448</td>\n      <td>0.004470</td>\n      <td>0.0</td>\n      <td>46.755407</td>\n      <td>7.149263</td>\n      <td>0.0</td>\n      <td>0.0</td>\n      <td>...</td>\n      <td>0</td>\n      <td>0</td>\n      <td>0</td>\n      <td>0</td>\n      <td>0</td>\n      <td>0</td>\n      <td>0</td>\n      <td>0</td>\n      <td>0</td>\n      <td>0</td>\n    </tr>\n    <tr>\n      <th>4538</th>\n      <td>900.0</td>\n      <td>7623.0</td>\n      <td>0.0</td>\n      <td>0.039354</td>\n      <td>0.034158</td>\n      <td>0.0</td>\n      <td>46.510841</td>\n      <td>6.849226</td>\n      <td>0.0</td>\n      <td>0.0</td>\n      <td>...</td>\n      <td>0</td>\n      <td>0</td>\n      <td>0</td>\n      <td>0</td>\n      <td>0</td>\n      <td>0</td>\n      <td>0</td>\n      <td>0</td>\n      <td>0</td>\n      <td>0</td>\n    </tr>\n    <tr>\n      <th>12239</th>\n      <td>275.0</td>\n      <td>302.0</td>\n      <td>0.0</td>\n      <td>0.000801</td>\n      <td>0.000000</td>\n      <td>0.0</td>\n      <td>46.593945</td>\n      <td>6.565308</td>\n      <td>0.0</td>\n      <td>0.0</td>\n      <td>...</td>\n      <td>0</td>\n      <td>0</td>\n      <td>0</td>\n      <td>0</td>\n      <td>0</td>\n      <td>0</td>\n      <td>0</td>\n      <td>0</td>\n      <td>0</td>\n      <td>0</td>\n    </tr>\n    <tr>\n      <th>12251</th>\n      <td>503.0</td>\n      <td>2214.0</td>\n      <td>0.0</td>\n      <td>0.000801</td>\n      <td>0.000000</td>\n      <td>0.0</td>\n      <td>46.593945</td>\n      <td>6.565308</td>\n      <td>0.0</td>\n      <td>0.0</td>\n      <td>...</td>\n      <td>0</td>\n      <td>0</td>\n      <td>0</td>\n      <td>0</td>\n      <td>0</td>\n      <td>0</td>\n      <td>0</td>\n      <td>0</td>\n      <td>0</td>\n      <td>0</td>\n    </tr>\n    <tr>\n      <th>12257</th>\n      <td>228.0</td>\n      <td>1912.0</td>\n      <td>0.0</td>\n      <td>0.000801</td>\n      <td>0.000000</td>\n      <td>0.0</td>\n      <td>46.593945</td>\n      <td>6.565308</td>\n      <td>0.0</td>\n      <td>0.0</td>\n      <td>...</td>\n      <td>0</td>\n      <td>0</td>\n      <td>0</td>\n      <td>0</td>\n      <td>0</td>\n      <td>0</td>\n      <td>0</td>\n      <td>0</td>\n      <td>0</td>\n      <td>0</td>\n    </tr>\n    <tr>\n      <th>12285</th>\n      <td>300.0</td>\n      <td>302.0</td>\n      <td>0.0</td>\n      <td>0.000801</td>\n      <td>0.000000</td>\n      <td>0.0</td>\n      <td>46.593945</td>\n      <td>6.565308</td>\n      <td>0.0</td>\n      <td>0.0</td>\n      <td>...</td>\n      <td>0</td>\n      <td>0</td>\n      <td>0</td>\n      <td>0</td>\n      <td>0</td>\n      <td>0</td>\n      <td>0</td>\n      <td>0</td>\n      <td>0</td>\n      <td>0</td>\n    </tr>\n    <tr>\n      <th>12288</th>\n      <td>228.0</td>\n      <td>1912.0</td>\n      <td>0.0</td>\n      <td>0.000801</td>\n      <td>0.000000</td>\n      <td>0.0</td>\n      <td>46.593945</td>\n      <td>6.565308</td>\n      <td>0.0</td>\n      <td>0.0</td>\n      <td>...</td>\n      <td>0</td>\n      <td>0</td>\n      <td>0</td>\n      <td>0</td>\n      <td>0</td>\n      <td>0</td>\n      <td>0</td>\n      <td>0</td>\n      <td>0</td>\n      <td>0</td>\n    </tr>\n    <tr>\n      <th>13443</th>\n      <td>228.0</td>\n      <td>1912.0</td>\n      <td>0.0</td>\n      <td>0.000801</td>\n      <td>0.000000</td>\n      <td>0.0</td>\n      <td>46.593945</td>\n      <td>6.565308</td>\n      <td>0.0</td>\n      <td>0.0</td>\n      <td>...</td>\n      <td>0</td>\n      <td>0</td>\n      <td>0</td>\n      <td>0</td>\n      <td>0</td>\n      <td>0</td>\n      <td>0</td>\n      <td>0</td>\n      <td>0</td>\n      <td>0</td>\n    </tr>\n    <tr>\n      <th>13444</th>\n      <td>228.0</td>\n      <td>1912.0</td>\n      <td>0.0</td>\n      <td>0.000801</td>\n      <td>0.000000</td>\n      <td>0.0</td>\n      <td>46.593945</td>\n      <td>6.565308</td>\n      <td>0.0</td>\n      <td>0.0</td>\n      <td>...</td>\n      <td>0</td>\n      <td>0</td>\n      <td>0</td>\n      <td>0</td>\n      <td>0</td>\n      <td>0</td>\n      <td>0</td>\n      <td>0</td>\n      <td>0</td>\n      <td>0</td>\n    </tr>\n    <tr>\n      <th>13447</th>\n      <td>275.0</td>\n      <td>302.0</td>\n      <td>0.0</td>\n      <td>0.000801</td>\n      <td>0.000000</td>\n      <td>0.0</td>\n      <td>46.593945</td>\n      <td>6.565308</td>\n      <td>0.0</td>\n      <td>0.0</td>\n      <td>...</td>\n      <td>0</td>\n      <td>0</td>\n      <td>0</td>\n      <td>0</td>\n      <td>0</td>\n      <td>0</td>\n      <td>0</td>\n      <td>0</td>\n      <td>0</td>\n      <td>0</td>\n    </tr>\n    <tr>\n      <th>13448</th>\n      <td>503.0</td>\n      <td>2214.0</td>\n      <td>0.0</td>\n      <td>0.000801</td>\n      <td>0.000000</td>\n      <td>0.0</td>\n      <td>46.593945</td>\n      <td>6.565308</td>\n      <td>0.0</td>\n      <td>0.0</td>\n      <td>...</td>\n      <td>0</td>\n      <td>0</td>\n      <td>0</td>\n      <td>0</td>\n      <td>0</td>\n      <td>0</td>\n      <td>0</td>\n      <td>0</td>\n      <td>0</td>\n      <td>0</td>\n    </tr>\n    <tr>\n      <th>15144</th>\n      <td>900.0</td>\n      <td>7623.0</td>\n      <td>0.0</td>\n      <td>0.039354</td>\n      <td>0.034158</td>\n      <td>0.0</td>\n      <td>46.510841</td>\n      <td>6.849226</td>\n      <td>0.0</td>\n      <td>0.0</td>\n      <td>...</td>\n      <td>0</td>\n      <td>0</td>\n      <td>0</td>\n      <td>0</td>\n      <td>0</td>\n      <td>0</td>\n      <td>0</td>\n      <td>0</td>\n      <td>0</td>\n      <td>0</td>\n    </tr>\n    <tr>\n      <th>15591</th>\n      <td>450.0</td>\n      <td>2850.0</td>\n      <td>0.0</td>\n      <td>0.059019</td>\n      <td>0.000000</td>\n      <td>0.0</td>\n      <td>46.754509</td>\n      <td>7.146302</td>\n      <td>0.0</td>\n      <td>0.0</td>\n      <td>...</td>\n      <td>0</td>\n      <td>0</td>\n      <td>0</td>\n      <td>0</td>\n      <td>0</td>\n      <td>0</td>\n      <td>0</td>\n      <td>0</td>\n      <td>0</td>\n      <td>0</td>\n    </tr>\n  </tbody>\n</table>\n<p>13 rows × 69 columns</p>\n</div>"
     },
     "execution_count": 18,
     "metadata": {},
     "output_type": "execute_result"
    }
   ],
   "source": [
    "TYPES_WITH_NO_FLOOR = ['type_unified_villa', 'type_unified_farmhouse', 'type_unified_castle', 'type_unified_chalet', 'type_unified_detached-house', 'type_unified_semi-detached-house']\n",
    "\n",
    "for col in TYPES_WITH_NO_FLOOR:\n",
    "    clean_df.loc[clean_df[col] == 1., 'Floor'] = clean_df[clean_df[col] == 1.].Floor.fillna(0.)\n",
    "\n",
    "clean_df[clean_df[TYPES_WITH_NO_FLOOR[2]] == 1.]"
   ]
  },
  {
   "cell_type": "code",
   "execution_count": 19,
   "metadata": {
    "collapsed": false
   },
   "outputs": [],
   "source": [
    "source_data = load(Paths.REGRESSOR_DATA_WRANGLING_DATA)\n",
    "imputers = source_data['imputers']\n",
    "base_imputer = source_data['base_imputer']"
   ]
  },
  {
   "cell_type": "code",
   "execution_count": 20,
   "metadata": {
    "collapsed": false
   },
   "outputs": [],
   "source": [
    "columns = clean_df.columns\n",
    "\n",
    "for col in imputers.keys():\n",
    "    clean_df.loc[clean_df[col] == 1., columns] = imputers[col].transform(clean_df.loc[clean_df[col] == 1.])\n",
    "\n",
    "clean_df[columns] = base_imputer.transform(clean_df)"
   ]
  },
  {
   "cell_type": "code",
   "execution_count": 21,
   "metadata": {},
   "outputs": [],
   "source": [
    "clean_df[\"NoisePollutionRailway\"] = clean_df[[\"NoisePollutionRailwayS\", \"NoisePollutionRailwayM\", \"NoisePollutionRailwayL\"]].mean(axis=1)\n",
    "clean_df = clean_df.drop([\"NoisePollutionRailwayS\", \"NoisePollutionRailwayM\", \"NoisePollutionRailwayL\"], axis = 1)\n",
    "\n",
    "clean_df[\"NoisePollutionRoad\"] = clean_df[[\"NoisePollutionRoadS\", \"NoisePollutionRoadM\", \"NoisePollutionRoadL\"]].mean(axis=1)\n",
    "clean_df = clean_df.drop([\"NoisePollutionRoadS\", \"NoisePollutionRoadM\", \"NoisePollutionRoadL\"], axis = 1)\n",
    "\n",
    "clean_df[\"PopulationDensity\"] = clean_df[[\"PopulationDensityS\", \"PopulationDensityM\", \"PopulationDensityL\"]].mean(axis=1)\n",
    "clean_df = clean_df.drop([\"PopulationDensityS\", \"PopulationDensityM\", \"PopulationDensityL\"], axis = 1)\n",
    "\n",
    "clean_df[\"RiversAndLakes\"] = clean_df[[\"RiversAndLakesS\", \"RiversAndLakesM\", \"RiversAndLakesL\"]].mean(axis=1)\n",
    "clean_df = clean_df.drop([\"RiversAndLakesS\", \"RiversAndLakesM\", \"RiversAndLakesL\"], axis = 1)\n",
    "\n",
    "clean_df[\"WorkplaceDensity\"] = clean_df[[\"WorkplaceDensityS\", \"WorkplaceDensityM\", \"WorkplaceDensityL\"]].mean(axis=1)\n",
    "clean_df = clean_df.drop([\"WorkplaceDensityS\", \"WorkplaceDensityM\", \"WorkplaceDensityL\"], axis = 1)\n",
    "\n",
    "clean_df[\"ForestDensity\"] = clean_df[[\"ForestDensityS\", \"ForestDensityM\", \"ForestDensityL\"]].mean(axis=1)\n",
    "clean_df = clean_df.drop([\"ForestDensityS\", \"ForestDensityM\", \"ForestDensityL\"], axis = 1)"
   ]
  },
  {
   "cell_type": "code",
   "execution_count": 22,
   "metadata": {},
   "outputs": [
    {
     "data": {
      "text/plain": "['data/kaggle/01_0_data_wrangling.dump']"
     },
     "execution_count": 22,
     "metadata": {},
     "output_type": "execute_result"
    }
   ],
   "source": [
    "dump({\n",
    "  'dataset': clean_df,\n",
    "  'base_imputer': base_imputer,\n",
    "  'imputers': imputers\n",
    "}, Paths.KAGGLE_DATA_WRANGLING_DATA)"
   ]
  },
  {
   "cell_type": "code",
   "execution_count": 22,
   "metadata": {},
   "outputs": [],
   "source": []
  }
 ],
 "metadata": {
  "kernelspec": {
   "display_name": "Python 3.10.8 64-bit",
   "language": "python",
   "name": "python3"
  },
  "language_info": {
   "codemirror_mode": {
    "name": "ipython",
    "version": 3
   },
   "file_extension": ".py",
   "mimetype": "text/x-python",
   "name": "python",
   "nbconvert_exporter": "python",
   "pygments_lexer": "ipython3",
   "version": "3.11.1 (v3.11.1:a7a450f84a, Dec  6 2022, 15:24:06) [Clang 13.0.0 (clang-1300.0.29.30)]"
  },
  "vscode": {
   "interpreter": {
    "hash": "aee8b7b246df8f9039afb4144a1f6fd8d2ca17a180786b69acc140d282b71a49"
   }
  }
 },
 "nbformat": 4,
 "nbformat_minor": 0
}
