{
 "cells": [
  {
   "cell_type": "markdown",
   "metadata": {},
   "source": [
    "## Classification House-types\n",
    "#### Anforderungen:\n",
    "<p> Entwickle und vergleiche drei sinnvolle Modelle zur Klassifikation von Immobilien Objekten hinsichtlich `type`. </p>\n",
    "<p> Was sind sinnvolle Metriken zur Messung der Genauigkeit der Vorhersage im vorliegenden Fall? Was ist zu beachten um eine gute Abschätzung des Fehlers für neue Daten zu bekommen? </p>\n",
    "<p> Rapportiere diese Metrik(en) mit einer Abschätzung des Fehlers für alle drei Modelle </p>"
   ]
  },
  {
   "cell_type": "code",
   "execution_count": 63,
   "metadata": {},
   "outputs": [],
   "source": [
    "# import Libraries\n",
    "import pandas as pd\n",
    "import numpy as np\n",
    "import seaborn as sns\n",
    "import plotly.express as px\n",
    "from sklearn.model_selection import train_test_split\n",
    "from sklearn.preprocessing import StandardScaler \n",
    "from sklearn.neighbors import KNeighborsClassifier\n",
    "from sklearn.svm import LinearSVC, SVC\n",
    "from sklearn import model_selection, svm, ensemble, tree\n",
    "from sklearn.metrics import classification_report, confusion_matrix, accuracy_score\n",
    "from sklearn import svm\n",
    "from sklearn.preprocessing import LabelEncoder\n",
    "import random\n",
    "import xgboost as xgb\n",
    "from boruta import BorutaPy\n"
   ]
  },
  {
   "cell_type": "code",
   "execution_count": 64,
   "metadata": {},
   "outputs": [
    {
     "data": {
      "text/html": [
       "<div>\n",
       "<style scoped>\n",
       "    .dataframe tbody tr th:only-of-type {\n",
       "        vertical-align: middle;\n",
       "    }\n",
       "\n",
       "    .dataframe tbody tr th {\n",
       "        vertical-align: top;\n",
       "    }\n",
       "\n",
       "    .dataframe thead th {\n",
       "        text-align: right;\n",
       "    }\n",
       "</style>\n",
       "<table border=\"1\" class=\"dataframe\">\n",
       "  <thead>\n",
       "    <tr style=\"text-align: right;\">\n",
       "      <th></th>\n",
       "      <th>ForestDensityM</th>\n",
       "      <th>Latitude</th>\n",
       "      <th>Longitude</th>\n",
       "      <th>NoisePollutionRailwayM</th>\n",
       "      <th>NoisePollutionRoadM</th>\n",
       "      <th>PopulationDensityM</th>\n",
       "      <th>RiversAndLakesM</th>\n",
       "      <th>RiversAndLakesS</th>\n",
       "      <th>distanceToTrainStation</th>\n",
       "      <th>gde_area_agriculture_percentage</th>\n",
       "      <th>...</th>\n",
       "      <th>type_penthouse</th>\n",
       "      <th>type_rustico</th>\n",
       "      <th>type_secondary-suite</th>\n",
       "      <th>type_semi-detached-house</th>\n",
       "      <th>type_single-room</th>\n",
       "      <th>type_stepped-apartment</th>\n",
       "      <th>type_stepped-house</th>\n",
       "      <th>type_studio</th>\n",
       "      <th>type_terrace-house</th>\n",
       "      <th>type_villa</th>\n",
       "    </tr>\n",
       "  </thead>\n",
       "  <tbody>\n",
       "    <tr>\n",
       "      <th>13308</th>\n",
       "      <td>-0.214762</td>\n",
       "      <td>0.614418</td>\n",
       "      <td>0.482482</td>\n",
       "      <td>0.0</td>\n",
       "      <td>-0.066882</td>\n",
       "      <td>0.825061</td>\n",
       "      <td>0.000000</td>\n",
       "      <td>0.0</td>\n",
       "      <td>-0.007174</td>\n",
       "      <td>0.214048</td>\n",
       "      <td>...</td>\n",
       "      <td>0.0</td>\n",
       "      <td>0.0</td>\n",
       "      <td>0.0</td>\n",
       "      <td>0.0</td>\n",
       "      <td>0.0</td>\n",
       "      <td>0.0</td>\n",
       "      <td>0.0</td>\n",
       "      <td>0.0</td>\n",
       "      <td>0.0</td>\n",
       "      <td>0.0</td>\n",
       "    </tr>\n",
       "    <tr>\n",
       "      <th>13309</th>\n",
       "      <td>0.031322</td>\n",
       "      <td>0.659631</td>\n",
       "      <td>0.467615</td>\n",
       "      <td>0.0</td>\n",
       "      <td>0.684524</td>\n",
       "      <td>0.537781</td>\n",
       "      <td>108.488669</td>\n",
       "      <td>0.0</td>\n",
       "      <td>0.527702</td>\n",
       "      <td>0.111050</td>\n",
       "      <td>...</td>\n",
       "      <td>0.0</td>\n",
       "      <td>0.0</td>\n",
       "      <td>0.0</td>\n",
       "      <td>1.0</td>\n",
       "      <td>0.0</td>\n",
       "      <td>0.0</td>\n",
       "      <td>0.0</td>\n",
       "      <td>0.0</td>\n",
       "      <td>0.0</td>\n",
       "      <td>0.0</td>\n",
       "    </tr>\n",
       "    <tr>\n",
       "      <th>13310</th>\n",
       "      <td>-0.214762</td>\n",
       "      <td>0.812664</td>\n",
       "      <td>0.476216</td>\n",
       "      <td>0.0</td>\n",
       "      <td>-0.005971</td>\n",
       "      <td>0.720047</td>\n",
       "      <td>0.000000</td>\n",
       "      <td>0.0</td>\n",
       "      <td>-0.019672</td>\n",
       "      <td>0.789850</td>\n",
       "      <td>...</td>\n",
       "      <td>0.0</td>\n",
       "      <td>0.0</td>\n",
       "      <td>0.0</td>\n",
       "      <td>0.0</td>\n",
       "      <td>0.0</td>\n",
       "      <td>0.0</td>\n",
       "      <td>0.0</td>\n",
       "      <td>0.0</td>\n",
       "      <td>1.0</td>\n",
       "      <td>0.0</td>\n",
       "    </tr>\n",
       "    <tr>\n",
       "      <th>13311</th>\n",
       "      <td>0.291106</td>\n",
       "      <td>0.703465</td>\n",
       "      <td>0.506514</td>\n",
       "      <td>0.0</td>\n",
       "      <td>0.060185</td>\n",
       "      <td>0.243838</td>\n",
       "      <td>0.000000</td>\n",
       "      <td>0.0</td>\n",
       "      <td>0.896919</td>\n",
       "      <td>0.279233</td>\n",
       "      <td>...</td>\n",
       "      <td>0.0</td>\n",
       "      <td>0.0</td>\n",
       "      <td>0.0</td>\n",
       "      <td>0.0</td>\n",
       "      <td>0.0</td>\n",
       "      <td>0.0</td>\n",
       "      <td>0.0</td>\n",
       "      <td>0.0</td>\n",
       "      <td>0.0</td>\n",
       "      <td>0.0</td>\n",
       "    </tr>\n",
       "    <tr>\n",
       "      <th>13312</th>\n",
       "      <td>0.521797</td>\n",
       "      <td>0.755503</td>\n",
       "      <td>0.512116</td>\n",
       "      <td>0.0</td>\n",
       "      <td>-1.150419</td>\n",
       "      <td>0.255263</td>\n",
       "      <td>0.000000</td>\n",
       "      <td>0.0</td>\n",
       "      <td>-0.292978</td>\n",
       "      <td>-0.287039</td>\n",
       "      <td>...</td>\n",
       "      <td>0.0</td>\n",
       "      <td>0.0</td>\n",
       "      <td>0.0</td>\n",
       "      <td>0.0</td>\n",
       "      <td>0.0</td>\n",
       "      <td>0.0</td>\n",
       "      <td>0.0</td>\n",
       "      <td>0.0</td>\n",
       "      <td>0.0</td>\n",
       "      <td>0.0</td>\n",
       "    </tr>\n",
       "  </tbody>\n",
       "</table>\n",
       "<p>5 rows × 57 columns</p>\n",
       "</div>"
      ],
      "text/plain": [
       "       ForestDensityM  Latitude  Longitude  NoisePollutionRailwayM  \\\n",
       "13308       -0.214762  0.614418   0.482482                     0.0   \n",
       "13309        0.031322  0.659631   0.467615                     0.0   \n",
       "13310       -0.214762  0.812664   0.476216                     0.0   \n",
       "13311        0.291106  0.703465   0.506514                     0.0   \n",
       "13312        0.521797  0.755503   0.512116                     0.0   \n",
       "\n",
       "       NoisePollutionRoadM  PopulationDensityM  RiversAndLakesM  \\\n",
       "13308            -0.066882            0.825061         0.000000   \n",
       "13309             0.684524            0.537781       108.488669   \n",
       "13310            -0.005971            0.720047         0.000000   \n",
       "13311             0.060185            0.243838         0.000000   \n",
       "13312            -1.150419            0.255263         0.000000   \n",
       "\n",
       "       RiversAndLakesS  distanceToTrainStation  \\\n",
       "13308              0.0               -0.007174   \n",
       "13309              0.0                0.527702   \n",
       "13310              0.0               -0.019672   \n",
       "13311              0.0                0.896919   \n",
       "13312              0.0               -0.292978   \n",
       "\n",
       "       gde_area_agriculture_percentage  ...  type_penthouse  type_rustico  \\\n",
       "13308                         0.214048  ...             0.0           0.0   \n",
       "13309                         0.111050  ...             0.0           0.0   \n",
       "13310                         0.789850  ...             0.0           0.0   \n",
       "13311                         0.279233  ...             0.0           0.0   \n",
       "13312                        -0.287039  ...             0.0           0.0   \n",
       "\n",
       "       type_secondary-suite  type_semi-detached-house  type_single-room  \\\n",
       "13308                   0.0                       0.0               0.0   \n",
       "13309                   0.0                       1.0               0.0   \n",
       "13310                   0.0                       0.0               0.0   \n",
       "13311                   0.0                       0.0               0.0   \n",
       "13312                   0.0                       0.0               0.0   \n",
       "\n",
       "       type_stepped-apartment  type_stepped-house  type_studio  \\\n",
       "13308                     0.0                 0.0          0.0   \n",
       "13309                     0.0                 0.0          0.0   \n",
       "13310                     0.0                 0.0          0.0   \n",
       "13311                     0.0                 0.0          0.0   \n",
       "13312                     0.0                 0.0          0.0   \n",
       "\n",
       "       type_terrace-house  type_villa  \n",
       "13308                 0.0         0.0  \n",
       "13309                 0.0         0.0  \n",
       "13310                 1.0         0.0  \n",
       "13311                 0.0         0.0  \n",
       "13312                 0.0         0.0  \n",
       "\n",
       "[5 rows x 57 columns]"
      ]
     },
     "execution_count": 64,
     "metadata": {},
     "output_type": "execute_result"
    }
   ],
   "source": [
    "# import dataset\n",
    "df = pd.read_csv('../data/model/immoscout_robust.csv')\n",
    "df.tail(5)"
   ]
  },
  {
   "cell_type": "code",
   "execution_count": 65,
   "metadata": {},
   "outputs": [],
   "source": [
    "# add a new column with different types\n",
    "types = [col for col in df.columns if 'type' in col]\n",
    "df['type'] = df[types].idxmax(axis=1)\n",
    "df['type'] = df['type'].str.replace('type_', '')"
   ]
  },
  {
   "cell_type": "code",
   "execution_count": 66,
   "metadata": {},
   "outputs": [
    {
     "data": {
      "text/plain": [
       "Index(['ForestDensityM', 'Latitude', 'Longitude', 'NoisePollutionRailwayM',\n",
       "       'NoisePollutionRoadM', 'PopulationDensityM', 'RiversAndLakesM',\n",
       "       'RiversAndLakesS', 'distanceToTrainStation',\n",
       "       'gde_area_agriculture_percentage', 'gde_area_forest_percentage',\n",
       "       'gde_area_nonproductive_percentage', 'gde_average_house_hold',\n",
       "       'gde_empty_apartments', 'gde_foreigners_percentage',\n",
       "       'gde_new_homes_per_1000', 'gde_politics_bdp', 'gde_politics_cvp',\n",
       "       'gde_politics_evp', 'gde_politics_fdp', 'gde_politics_glp',\n",
       "       'gde_politics_gps', 'gde_politics_pda', 'gde_politics_rights',\n",
       "       'gde_politics_sp', 'gde_politics_svp', 'gde_pop_per_km2',\n",
       "       'gde_population', 'gde_social_help_quota', 'gde_tax',\n",
       "       'gde_workers_sector1', 'rooms', 'Floor space_m2', 'Plot area_m2',\n",
       "       'living_space_m2', 'price', 'type_attic-flat', 'type_attic-room',\n",
       "       'type_castle', 'type_chalet', 'type_detached-house',\n",
       "       'type_detached-secondary-suite', 'type_duplex-maisonette',\n",
       "       'type_farmhouse', 'type_flat', 'type_furnished-residential-property',\n",
       "       'type_loft', 'type_penthouse', 'type_rustico', 'type_secondary-suite',\n",
       "       'type_semi-detached-house', 'type_single-room',\n",
       "       'type_stepped-apartment', 'type_stepped-house', 'type_studio',\n",
       "       'type_terrace-house', 'type_villa', 'type'],\n",
       "      dtype='object')"
      ]
     },
     "execution_count": 66,
     "metadata": {},
     "output_type": "execute_result"
    }
   ],
   "source": [
    "df.columns"
   ]
  },
  {
   "cell_type": "code",
   "execution_count": 67,
   "metadata": {},
   "outputs": [
    {
     "data": {
      "text/plain": [
       "['type_attic-flat',\n",
       " 'type_attic-room',\n",
       " 'type_castle',\n",
       " 'type_chalet',\n",
       " 'type_detached-house',\n",
       " 'type_detached-secondary-suite',\n",
       " 'type_duplex-maisonette',\n",
       " 'type_farmhouse',\n",
       " 'type_flat',\n",
       " 'type_furnished-residential-property',\n",
       " 'type_loft',\n",
       " 'type_penthouse',\n",
       " 'type_rustico',\n",
       " 'type_secondary-suite',\n",
       " 'type_semi-detached-house',\n",
       " 'type_single-room',\n",
       " 'type_stepped-apartment',\n",
       " 'type_stepped-house',\n",
       " 'type_studio',\n",
       " 'type_terrace-house',\n",
       " 'type_villa',\n",
       " 'type']"
      ]
     },
     "execution_count": 67,
     "metadata": {},
     "output_type": "execute_result"
    }
   ],
   "source": [
    "#drop type-columns for the features\n",
    "types.append('type')\n",
    "types"
   ]
  },
  {
   "cell_type": "code",
   "execution_count": 68,
   "metadata": {},
   "outputs": [],
   "source": [
    "X = df.drop(types, axis=1)\n",
    "y = df['type']\n",
    "df = df.drop(types, axis=1)"
   ]
  },
  {
   "cell_type": "code",
   "execution_count": 69,
   "metadata": {},
   "outputs": [],
   "source": [
    "def train_test_split(X, y):\n",
    "    return model_selection.train_test_split(X, y, train_size=0.6, random_state=42)"
   ]
  },
  {
   "cell_type": "code",
   "execution_count": 70,
   "metadata": {},
   "outputs": [],
   "source": [
    "#select random columns for the features\n",
    "def get_random_column_names(columns: list, percentage: float, add_type_columns: bool) -> list:\n",
    "    type_columns = [c for c in columns if c.startswith(\"type_\") and add_type_columns]\n",
    "    regular_columns = [c for c in columns if (not c.startswith(\"type_\")) and random.random() < percentage]\n",
    "    return [*type_columns, *regular_columns]"
   ]
  },
  {
   "cell_type": "code",
   "execution_count": 71,
   "metadata": {},
   "outputs": [],
   "source": [
    "# K-nearest-neighbour\n",
    "def knn(X_train: pd.DataFrame, X_test: pd.DataFrame, y_train: pd.Series, y_test: pd.Series) -> dict:\n",
    "    model = KNeighborsClassifier(n_neighbors= 5)\n",
    "    model.fit(X_train, y_train)\n",
    "    y_predict = model.predict(X_test)\n",
    "\n",
    "    return {\n",
    "        \"type\": \"K-Nearest-Neighbour\",\n",
    "        \"columns\": list(X_train.columns),\n",
    "        \"num_columns\": len(X_train.columns),\n",
    "        \"score\": model.score(X_test, y_test),\n",
    "        'accuracy': accuracy_score(y_test, y_predict),\n",
    "        \"model\": model\n",
    "    }"
   ]
  },
  {
   "cell_type": "code",
   "execution_count": 72,
   "metadata": {},
   "outputs": [],
   "source": [
    "# Support Vector Machine other kernels should be tried\n",
    "def svm(X_train: pd.DataFrame, X_test: pd.DataFrame, y_train: pd.Series, y_test: pd.Series) -> dict:\n",
    "    model = SVC(kernel= 'rbf')\n",
    "    model.fit(X_train, y_train)\n",
    "    y_predict = model.predict(X_test)\n",
    "\n",
    "    return {\n",
    "        \"type\": \"SVM\",\n",
    "        \"columns\": list(X_train.columns),\n",
    "        \"num_columns\": len(X_train.columns),\n",
    "        \"score\": model.score(X_test, y_test),\n",
    "        'accuracy': accuracy_score(y_test, y_predict),\n",
    "        \"model\": model\n",
    "    }"
   ]
  },
  {
   "cell_type": "code",
   "execution_count": 73,
   "metadata": {},
   "outputs": [],
   "source": [
    "# Random Forest Classifier max depth and other coefficients should be tried\n",
    "def random_forest(X_train: pd.DataFrame, X_test: pd.DataFrame, y_train: pd.Series, y_test: pd.Series) -> dict:\n",
    "    model = ensemble.RandomForestClassifier(n_estimators=100, criterion = 'gini', random_state=42)\n",
    "    model.fit(X_train, y_train)\n",
    "    y_predict = model.predict(X_test)\n",
    "\n",
    "    return {\n",
    "        \"type\": \"RandomForest\",\n",
    "        \"columns\": list(X_train.columns),\n",
    "        \"num_columns\": len(X_train.columns),\n",
    "        \"score\": model.score(X_test, y_test),\n",
    "        'accuracy': accuracy_score(y_test, y_predict),\n",
    "        \"model\": model\n",
    "    }"
   ]
  },
  {
   "cell_type": "code",
   "execution_count": 74,
   "metadata": {},
   "outputs": [],
   "source": [
    "# XGBoost Classifier\n",
    "def xg_boost(X_train: pd.DataFrame, X_test: pd.DataFrame, y_train: pd.Series, y_test: pd.Series) -> dict:\n",
    "    labelencoder = LabelEncoder()\n",
    "    y_train = labelencoder.fit_transform(y_train)\n",
    "    y_test = labelencoder.fit_transform(y_test)\n",
    "    model = xgb.XGBClassifier(n_estimators=100, random_state=42)\n",
    "    model.fit(X_train, y_train)\n",
    "    y_predict = model.predict(X_test)\n",
    "\n",
    "    return {\n",
    "        \"type\": \"XGBoost\",\n",
    "        \"columns\": list(X_train.columns),\n",
    "        \"num_columns\": len(X_train.columns),\n",
    "        \"score\": model.score(X_test, y_test),\n",
    "        'accuracy': accuracy_score(y_test, y_predict),\n",
    "        \"model\": model\n",
    "    }"
   ]
  },
  {
   "cell_type": "code",
   "execution_count": 75,
   "metadata": {},
   "outputs": [],
   "source": [
    "# split the Data\n",
    "X_train, X_test, y_train, y_test = train_test_split(X, y)"
   ]
  },
  {
   "cell_type": "code",
   "execution_count": 76,
   "metadata": {},
   "outputs": [
    {
     "name": "stdout",
     "output_type": "stream",
     "text": [
      "Total number of iterations: 16\n"
     ]
    }
   ],
   "source": [
    "# Constants\n",
    "NUM_ITERATIONS = 2\n",
    "MIN_PERCENTAGE_COLUMNS = 0.2\n",
    "MAX_PERCENTAGE_COLUMNS = 1\n",
    "TRAINING_FUNCTIONS = [knn, svm, random_forest, xg_boost]\n",
    "\n",
    "print(\"Total number of iterations:\", NUM_ITERATIONS * len(TRAINING_FUNCTIONS) * 2)"
   ]
  },
  {
   "cell_type": "code",
   "execution_count": 77,
   "metadata": {},
   "outputs": [
    {
     "data": {
      "text/html": [
       "<div>\n",
       "<style scoped>\n",
       "    .dataframe tbody tr th:only-of-type {\n",
       "        vertical-align: middle;\n",
       "    }\n",
       "\n",
       "    .dataframe tbody tr th {\n",
       "        vertical-align: top;\n",
       "    }\n",
       "\n",
       "    .dataframe thead th {\n",
       "        text-align: right;\n",
       "    }\n",
       "</style>\n",
       "<table border=\"1\" class=\"dataframe\">\n",
       "  <thead>\n",
       "    <tr style=\"text-align: right;\">\n",
       "      <th></th>\n",
       "      <th>type</th>\n",
       "      <th>columns</th>\n",
       "      <th>num_columns</th>\n",
       "      <th>score</th>\n",
       "      <th>accuracy</th>\n",
       "      <th>model</th>\n",
       "      <th>add_type_columns</th>\n",
       "    </tr>\n",
       "  </thead>\n",
       "  <tbody>\n",
       "    <tr>\n",
       "      <th>6</th>\n",
       "      <td>RandomForest</td>\n",
       "      <td>[ForestDensityM, Latitude, Longitude, NoisePol...</td>\n",
       "      <td>25</td>\n",
       "      <td>0.639129</td>\n",
       "      <td>0.639129</td>\n",
       "      <td>(DecisionTreeClassifier(max_features='sqrt', r...</td>\n",
       "      <td>False</td>\n",
       "    </tr>\n",
       "    <tr>\n",
       "      <th>2</th>\n",
       "      <td>RandomForest</td>\n",
       "      <td>[ForestDensityM, Latitude, Longitude, NoisePol...</td>\n",
       "      <td>28</td>\n",
       "      <td>0.634623</td>\n",
       "      <td>0.634623</td>\n",
       "      <td>(DecisionTreeClassifier(max_features='sqrt', r...</td>\n",
       "      <td>True</td>\n",
       "    </tr>\n",
       "    <tr>\n",
       "      <th>3</th>\n",
       "      <td>XGBoost</td>\n",
       "      <td>[ForestDensityM, Latitude, Longitude, NoisePol...</td>\n",
       "      <td>28</td>\n",
       "      <td>0.603267</td>\n",
       "      <td>0.603267</td>\n",
       "      <td>XGBClassifier(base_score=0.5, booster='gbtree'...</td>\n",
       "      <td>True</td>\n",
       "    </tr>\n",
       "    <tr>\n",
       "      <th>7</th>\n",
       "      <td>XGBoost</td>\n",
       "      <td>[ForestDensityM, Latitude, Longitude, NoisePol...</td>\n",
       "      <td>25</td>\n",
       "      <td>0.598010</td>\n",
       "      <td>0.598010</td>\n",
       "      <td>XGBClassifier(base_score=0.5, booster='gbtree'...</td>\n",
       "      <td>False</td>\n",
       "    </tr>\n",
       "    <tr>\n",
       "      <th>14</th>\n",
       "      <td>RandomForest</td>\n",
       "      <td>[Longitude, NoisePollutionRoadM, PopulationDen...</td>\n",
       "      <td>19</td>\n",
       "      <td>0.587683</td>\n",
       "      <td>0.587683</td>\n",
       "      <td>(DecisionTreeClassifier(max_features='sqrt', r...</td>\n",
       "      <td>False</td>\n",
       "    </tr>\n",
       "    <tr>\n",
       "      <th>15</th>\n",
       "      <td>XGBoost</td>\n",
       "      <td>[Longitude, NoisePollutionRoadM, PopulationDen...</td>\n",
       "      <td>19</td>\n",
       "      <td>0.571911</td>\n",
       "      <td>0.571911</td>\n",
       "      <td>XGBClassifier(base_score=0.5, booster='gbtree'...</td>\n",
       "      <td>False</td>\n",
       "    </tr>\n",
       "    <tr>\n",
       "      <th>4</th>\n",
       "      <td>K-Nearest-Neighbour</td>\n",
       "      <td>[ForestDensityM, Latitude, Longitude, NoisePol...</td>\n",
       "      <td>25</td>\n",
       "      <td>0.552197</td>\n",
       "      <td>0.552197</td>\n",
       "      <td>KNeighborsClassifier()</td>\n",
       "      <td>False</td>\n",
       "    </tr>\n",
       "    <tr>\n",
       "      <th>12</th>\n",
       "      <td>K-Nearest-Neighbour</td>\n",
       "      <td>[Longitude, NoisePollutionRoadM, PopulationDen...</td>\n",
       "      <td>19</td>\n",
       "      <td>0.546752</td>\n",
       "      <td>0.546752</td>\n",
       "      <td>KNeighborsClassifier()</td>\n",
       "      <td>False</td>\n",
       "    </tr>\n",
       "    <tr>\n",
       "      <th>0</th>\n",
       "      <td>K-Nearest-Neighbour</td>\n",
       "      <td>[ForestDensityM, Latitude, Longitude, NoisePol...</td>\n",
       "      <td>28</td>\n",
       "      <td>0.530980</td>\n",
       "      <td>0.530980</td>\n",
       "      <td>KNeighborsClassifier()</td>\n",
       "      <td>True</td>\n",
       "    </tr>\n",
       "    <tr>\n",
       "      <th>10</th>\n",
       "      <td>RandomForest</td>\n",
       "      <td>[ForestDensityM, NoisePollutionRailwayM, gde_a...</td>\n",
       "      <td>9</td>\n",
       "      <td>0.486106</td>\n",
       "      <td>0.486106</td>\n",
       "      <td>(DecisionTreeClassifier(max_features='sqrt', r...</td>\n",
       "      <td>True</td>\n",
       "    </tr>\n",
       "    <tr>\n",
       "      <th>11</th>\n",
       "      <td>XGBoost</td>\n",
       "      <td>[ForestDensityM, NoisePollutionRailwayM, gde_a...</td>\n",
       "      <td>9</td>\n",
       "      <td>0.483102</td>\n",
       "      <td>0.483102</td>\n",
       "      <td>XGBClassifier(base_score=0.5, booster='gbtree'...</td>\n",
       "      <td>True</td>\n",
       "    </tr>\n",
       "    <tr>\n",
       "      <th>8</th>\n",
       "      <td>K-Nearest-Neighbour</td>\n",
       "      <td>[ForestDensityM, NoisePollutionRailwayM, gde_a...</td>\n",
       "      <td>9</td>\n",
       "      <td>0.465452</td>\n",
       "      <td>0.465452</td>\n",
       "      <td>KNeighborsClassifier()</td>\n",
       "      <td>True</td>\n",
       "    </tr>\n",
       "    <tr>\n",
       "      <th>1</th>\n",
       "      <td>SVM</td>\n",
       "      <td>[ForestDensityM, Latitude, Longitude, NoisePol...</td>\n",
       "      <td>28</td>\n",
       "      <td>0.451934</td>\n",
       "      <td>0.451934</td>\n",
       "      <td>SVC()</td>\n",
       "      <td>True</td>\n",
       "    </tr>\n",
       "    <tr>\n",
       "      <th>5</th>\n",
       "      <td>SVM</td>\n",
       "      <td>[ForestDensityM, Latitude, Longitude, NoisePol...</td>\n",
       "      <td>25</td>\n",
       "      <td>0.450244</td>\n",
       "      <td>0.450244</td>\n",
       "      <td>SVC()</td>\n",
       "      <td>False</td>\n",
       "    </tr>\n",
       "    <tr>\n",
       "      <th>13</th>\n",
       "      <td>SVM</td>\n",
       "      <td>[Longitude, NoisePollutionRoadM, PopulationDen...</td>\n",
       "      <td>19</td>\n",
       "      <td>0.450244</td>\n",
       "      <td>0.450244</td>\n",
       "      <td>SVC()</td>\n",
       "      <td>False</td>\n",
       "    </tr>\n",
       "    <tr>\n",
       "      <th>9</th>\n",
       "      <td>SVM</td>\n",
       "      <td>[ForestDensityM, NoisePollutionRailwayM, gde_a...</td>\n",
       "      <td>9</td>\n",
       "      <td>0.446677</td>\n",
       "      <td>0.446677</td>\n",
       "      <td>SVC()</td>\n",
       "      <td>True</td>\n",
       "    </tr>\n",
       "  </tbody>\n",
       "</table>\n",
       "</div>"
      ],
      "text/plain": [
       "                   type                                            columns  \\\n",
       "6          RandomForest  [ForestDensityM, Latitude, Longitude, NoisePol...   \n",
       "2          RandomForest  [ForestDensityM, Latitude, Longitude, NoisePol...   \n",
       "3               XGBoost  [ForestDensityM, Latitude, Longitude, NoisePol...   \n",
       "7               XGBoost  [ForestDensityM, Latitude, Longitude, NoisePol...   \n",
       "14         RandomForest  [Longitude, NoisePollutionRoadM, PopulationDen...   \n",
       "15              XGBoost  [Longitude, NoisePollutionRoadM, PopulationDen...   \n",
       "4   K-Nearest-Neighbour  [ForestDensityM, Latitude, Longitude, NoisePol...   \n",
       "12  K-Nearest-Neighbour  [Longitude, NoisePollutionRoadM, PopulationDen...   \n",
       "0   K-Nearest-Neighbour  [ForestDensityM, Latitude, Longitude, NoisePol...   \n",
       "10         RandomForest  [ForestDensityM, NoisePollutionRailwayM, gde_a...   \n",
       "11              XGBoost  [ForestDensityM, NoisePollutionRailwayM, gde_a...   \n",
       "8   K-Nearest-Neighbour  [ForestDensityM, NoisePollutionRailwayM, gde_a...   \n",
       "1                   SVM  [ForestDensityM, Latitude, Longitude, NoisePol...   \n",
       "5                   SVM  [ForestDensityM, Latitude, Longitude, NoisePol...   \n",
       "13                  SVM  [Longitude, NoisePollutionRoadM, PopulationDen...   \n",
       "9                   SVM  [ForestDensityM, NoisePollutionRailwayM, gde_a...   \n",
       "\n",
       "    num_columns     score  accuracy  \\\n",
       "6            25  0.639129  0.639129   \n",
       "2            28  0.634623  0.634623   \n",
       "3            28  0.603267  0.603267   \n",
       "7            25  0.598010  0.598010   \n",
       "14           19  0.587683  0.587683   \n",
       "15           19  0.571911  0.571911   \n",
       "4            25  0.552197  0.552197   \n",
       "12           19  0.546752  0.546752   \n",
       "0            28  0.530980  0.530980   \n",
       "10            9  0.486106  0.486106   \n",
       "11            9  0.483102  0.483102   \n",
       "8             9  0.465452  0.465452   \n",
       "1            28  0.451934  0.451934   \n",
       "5            25  0.450244  0.450244   \n",
       "13           19  0.450244  0.450244   \n",
       "9             9  0.446677  0.446677   \n",
       "\n",
       "                                                model  add_type_columns  \n",
       "6   (DecisionTreeClassifier(max_features='sqrt', r...             False  \n",
       "2   (DecisionTreeClassifier(max_features='sqrt', r...              True  \n",
       "3   XGBClassifier(base_score=0.5, booster='gbtree'...              True  \n",
       "7   XGBClassifier(base_score=0.5, booster='gbtree'...             False  \n",
       "14  (DecisionTreeClassifier(max_features='sqrt', r...             False  \n",
       "15  XGBClassifier(base_score=0.5, booster='gbtree'...             False  \n",
       "4                              KNeighborsClassifier()             False  \n",
       "12                             KNeighborsClassifier()             False  \n",
       "0                              KNeighborsClassifier()              True  \n",
       "10  (DecisionTreeClassifier(max_features='sqrt', r...              True  \n",
       "11  XGBClassifier(base_score=0.5, booster='gbtree'...              True  \n",
       "8                              KNeighborsClassifier()              True  \n",
       "1                                               SVC()              True  \n",
       "5                                               SVC()             False  \n",
       "13                                              SVC()             False  \n",
       "9                                               SVC()              True  "
      ]
     },
     "execution_count": 77,
     "metadata": {},
     "output_type": "execute_result"
    }
   ],
   "source": [
    "# Train different Models\n",
    "results = []\n",
    "for _ in range(NUM_ITERATIONS):\n",
    "    for add_type_columns in [True, False]:\n",
    "        column_percentage = random.random() * (MAX_PERCENTAGE_COLUMNS - MIN_PERCENTAGE_COLUMNS) + MIN_PERCENTAGE_COLUMNS\n",
    "        column_names = get_random_column_names(X_train.columns, column_percentage, add_type_columns)\n",
    "        temp_X_train, temp_X_test = X_train[column_names], X_test[column_names]\n",
    "\n",
    "        for func in TRAINING_FUNCTIONS:\n",
    "            results.append({**func(temp_X_train, temp_X_test, y_train, y_test), \"add_type_columns\": add_type_columns})\n",
    "\n",
    "pd.DataFrame(results).sort_values(\"score\", ascending=False)"
   ]
  },
  {
   "cell_type": "markdown",
   "metadata": {},
   "source": [
    "## Offene Punkte:\n",
    "Random Forest domminiert\n",
    "\n",
    "try different kernel, forste depth etc...\n"
   ]
  },
  {
   "cell_type": "markdown",
   "metadata": {},
   "source": [
    "### Feature selection with the best performing Models\n",
    "BorutayPy tries different cominations with different Features and ranks the Features"
   ]
  },
  {
   "cell_type": "code",
   "execution_count": 78,
   "metadata": {},
   "outputs": [
    {
     "data": {
      "text/plain": [
       "\"selector = BorutaPy(model, n_estimators='auto', verbose=2, random_state=42, max_iter=200)\\nselector.fit(X_train.values, y_train.values)\""
      ]
     },
     "execution_count": 78,
     "metadata": {},
     "output_type": "execute_result"
    }
   ],
   "source": [
    "'''selector = BorutaPy(model, n_estimators='auto', verbose=2, random_state=42, max_iter=200)\n",
    "selector.fit(X_train.values, y_train.values)'''"
   ]
  },
  {
   "cell_type": "code",
   "execution_count": 79,
   "metadata": {},
   "outputs": [
    {
     "data": {
      "text/plain": [
       "'x_filtered = selector.transform(X_train.values)\\nx_filtered'"
      ]
     },
     "execution_count": 79,
     "metadata": {},
     "output_type": "execute_result"
    }
   ],
   "source": [
    "'''x_filtered = selector.transform(X_train.values)\n",
    "x_filtered'''"
   ]
  },
  {
   "cell_type": "code",
   "execution_count": 80,
   "metadata": {},
   "outputs": [
    {
     "data": {
      "text/plain": [
       "'ranking = list(zip(X_train.columns, selector.ranking_, selector.support_))\\nranking.sort(key=lambda x: x[1])\\nranking'"
      ]
     },
     "execution_count": 80,
     "metadata": {},
     "output_type": "execute_result"
    }
   ],
   "source": [
    "'''ranking = list(zip(X_train.columns, selector.ranking_, selector.support_))\n",
    "ranking.sort(key=lambda x: x[1])\n",
    "ranking'''"
   ]
  },
  {
   "cell_type": "code",
   "execution_count": 81,
   "metadata": {},
   "outputs": [
    {
     "data": {
      "text/plain": [
       "\"#ranking as a dataframe\\nranking_df = pd.DataFrame(ranking, columns=['Feature name', 'Ranking', 'Support'])\\nranking_df\""
      ]
     },
     "execution_count": 81,
     "metadata": {},
     "output_type": "execute_result"
    }
   ],
   "source": [
    "'''#ranking as a dataframe\n",
    "ranking_df = pd.DataFrame(ranking, columns=['Feature name', 'Ranking', 'Support'])\n",
    "ranking_df'''"
   ]
  },
  {
   "cell_type": "markdown",
   "metadata": {},
   "source": [
    "### Model testing"
   ]
  },
  {
   "cell_type": "code",
   "execution_count": 82,
   "metadata": {},
   "outputs": [],
   "source": [
    "ranking_df = pd.read_csv('ranking_features_borutapy.csv')"
   ]
  },
  {
   "cell_type": "code",
   "execution_count": 83,
   "metadata": {},
   "outputs": [
    {
     "data": {
      "text/plain": [
       "['Latitude',\n",
       " 'Longitude',\n",
       " 'PopulationDensityM',\n",
       " 'distanceToTrainStation',\n",
       " 'gde_politics_svp',\n",
       " 'gde_pop_per_km2',\n",
       " 'rooms',\n",
       " 'Floor space_m2',\n",
       " 'Plot area_m2',\n",
       " 'living_space_m2',\n",
       " 'price']"
      ]
     },
     "execution_count": 83,
     "metadata": {},
     "output_type": "execute_result"
    }
   ],
   "source": [
    "features = list(ranking_df[ranking_df['Support'] == True]['Feature name'].values)\n",
    "features"
   ]
  },
  {
   "cell_type": "code",
   "execution_count": 84,
   "metadata": {},
   "outputs": [],
   "source": [
    "X = X[features]\n",
    "X_train, X_test, y_train, y_test = model_selection.train_test_split(X, y, train_size=0.8, random_state=42)"
   ]
  },
  {
   "cell_type": "code",
   "execution_count": 85,
   "metadata": {},
   "outputs": [
    {
     "data": {
      "text/plain": [
       "(['gini', 'entropy', 'log_loss'],\n",
       " [0.6740518212542246, 0.6714232069095005, 0.6714232069095005])"
      ]
     },
     "execution_count": 85,
     "metadata": {},
     "output_type": "execute_result"
    }
   ],
   "source": [
    "# try different functions\n",
    "models = ['gini', 'entropy', 'log_loss']\n",
    "score  = []\n",
    "\n",
    "for model in models:\n",
    "    model = ensemble.RandomForestClassifier(n_estimators=100, criterion = model, random_state=42)\n",
    "    model.fit(X_train, y_train)\n",
    "    y_predict = model.predict(X_test)\n",
    "    score.append(accuracy_score(y_test, y_predict))\n",
    "models, score"
   ]
  },
  {
   "cell_type": "markdown",
   "metadata": {},
   "source": [
    "#### Gini performs best"
   ]
  },
  {
   "cell_type": "code",
   "execution_count": 87,
   "metadata": {},
   "outputs": [
    {
     "data": {
      "text/plain": [
       "([10, 20, 50, 100, 200, 500],\n",
       " [0.6571535861809988,\n",
       "  0.6646639128802103,\n",
       "  0.6699211415696583,\n",
       "  0.6740518212542246,\n",
       "  0.6702966579046189,\n",
       "  0.6725497559143823],\n",
       " [43,\n",
       "  28,\n",
       "  34.3,\n",
       "  43,\n",
       "  27,\n",
       "  32.95,\n",
       "  43,\n",
       "  27,\n",
       "  32.46,\n",
       "  43,\n",
       "  27,\n",
       "  32.18,\n",
       "  43,\n",
       "  26,\n",
       "  32.325,\n",
       "  44,\n",
       "  26,\n",
       "  32.406])"
      ]
     },
     "execution_count": 87,
     "metadata": {},
     "output_type": "execute_result"
    }
   ],
   "source": [
    "estimators = [10, 20, 50, 100, 200, 500]\n",
    "score  = []\n",
    "depth = []\n",
    "\n",
    "for i in estimators:\n",
    "    model = ensemble.RandomForestClassifier(n_estimators= i, criterion = 'gini', random_state=42)\n",
    "    model.fit(X_train, y_train)\n",
    "    y_predict = model.predict(X_test)\n",
    "    score.append(accuracy_score(y_test, y_predict))\n",
    "    iteration_depth = [estimator.get_depth() for estimator in model.estimators_]\n",
    "    depth.append(max(iteration_depth))\n",
    "    depth.append(min(iteration_depth))\n",
    "    depth.append(np.mean(iteration_depth))\n",
    "\n",
    "estimators, score, depth"
   ]
  },
  {
   "cell_type": "markdown",
   "metadata": {},
   "source": [
    "##### we get the best result arround 100 trees in the randomforest"
   ]
  }
 ],
 "metadata": {
  "kernelspec": {
   "display_name": "Python 3.10.4 64-bit",
   "language": "python",
   "name": "python3"
  },
  "language_info": {
   "codemirror_mode": {
    "name": "ipython",
    "version": 3
   },
   "file_extension": ".py",
   "mimetype": "text/x-python",
   "name": "python",
   "nbconvert_exporter": "python",
   "pygments_lexer": "ipython3",
   "version": "3.10.4"
  },
  "orig_nbformat": 4,
  "vscode": {
   "interpreter": {
    "hash": "369f2c481f4da34e4445cda3fffd2e751bd1c4d706f27375911949ba6bb62e1c"
   }
  }
 },
 "nbformat": 4,
 "nbformat_minor": 2
}
