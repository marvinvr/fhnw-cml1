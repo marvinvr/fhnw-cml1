{
 "cells": [
  {
   "cell_type": "markdown",
   "metadata": {
    "collapsed": false
   },
   "source": [
    "# Data Wrangling"
   ]
  },
  {
   "cell_type": "markdown",
   "metadata": {
    "collapsed": false
   },
   "source": [
    "### Imports"
   ]
  },
  {
   "cell_type": "code",
   "execution_count": 55,
   "metadata": {
    "collapsed": true
   },
   "outputs": [],
   "source": [
    "import pandas as pd\n",
    "import __main__ as main\n",
    "\n",
    "from pathlib import Path\n",
    "from joblib import load, dump\n",
    "from helpers.is_interactive import is_interactive"
   ]
  },
  {
   "cell_type": "markdown",
   "metadata": {
    "collapsed": false
   },
   "source": [
    "### Run dependency notebooks"
   ]
  },
  {
   "cell_type": "code",
   "execution_count": 56,
   "metadata": {
    "collapsed": false
   },
   "outputs": [
    {
     "name": "stdout",
     "output_type": "stream",
     "text": [
      "Running previous notebooks...\n"
     ]
    },
    {
     "name": "stderr",
     "output_type": "stream",
     "text": [
      "/var/folders/00/d026dxr1001fd8rphxcfdzb40000gn/T/ipykernel_19229/2666179241.py:12: SettingWithCopyWarning: \n",
      "A value is trying to be set on a copy of a slice from a DataFrame.\n",
      "Try using .loc[row_indexer,col_indexer] = value instead\n",
      "\n",
      "See the caveats in the documentation: https://pandas.pydata.org/pandas-docs/stable/user_guide/indexing.html#returning-a-view-versus-a-copy\n",
      "  df_no_price[df_no_price[col] == 1.][columns] = imputer.fit_transform(df_no_price[df_no_price[col] == 1.])\n",
      "/var/folders/00/d026dxr1001fd8rphxcfdzb40000gn/T/ipykernel_19229/2666179241.py:12: SettingWithCopyWarning: \n",
      "A value is trying to be set on a copy of a slice from a DataFrame.\n",
      "Try using .loc[row_indexer,col_indexer] = value instead\n",
      "\n",
      "See the caveats in the documentation: https://pandas.pydata.org/pandas-docs/stable/user_guide/indexing.html#returning-a-view-versus-a-copy\n",
      "  df_no_price[df_no_price[col] == 1.][columns] = imputer.fit_transform(df_no_price[df_no_price[col] == 1.])\n",
      "/var/folders/00/d026dxr1001fd8rphxcfdzb40000gn/T/ipykernel_19229/2666179241.py:12: SettingWithCopyWarning: \n",
      "A value is trying to be set on a copy of a slice from a DataFrame.\n",
      "Try using .loc[row_indexer,col_indexer] = value instead\n",
      "\n",
      "See the caveats in the documentation: https://pandas.pydata.org/pandas-docs/stable/user_guide/indexing.html#returning-a-view-versus-a-copy\n",
      "  df_no_price[df_no_price[col] == 1.][columns] = imputer.fit_transform(df_no_price[df_no_price[col] == 1.])\n",
      "/var/folders/00/d026dxr1001fd8rphxcfdzb40000gn/T/ipykernel_19229/2666179241.py:12: SettingWithCopyWarning: \n",
      "A value is trying to be set on a copy of a slice from a DataFrame.\n",
      "Try using .loc[row_indexer,col_indexer] = value instead\n",
      "\n",
      "See the caveats in the documentation: https://pandas.pydata.org/pandas-docs/stable/user_guide/indexing.html#returning-a-view-versus-a-copy\n",
      "  df_no_price[df_no_price[col] == 1.][columns] = imputer.fit_transform(df_no_price[df_no_price[col] == 1.])\n",
      "/var/folders/00/d026dxr1001fd8rphxcfdzb40000gn/T/ipykernel_19229/2666179241.py:12: SettingWithCopyWarning: \n",
      "A value is trying to be set on a copy of a slice from a DataFrame.\n",
      "Try using .loc[row_indexer,col_indexer] = value instead\n",
      "\n",
      "See the caveats in the documentation: https://pandas.pydata.org/pandas-docs/stable/user_guide/indexing.html#returning-a-view-versus-a-copy\n",
      "  df_no_price[df_no_price[col] == 1.][columns] = imputer.fit_transform(df_no_price[df_no_price[col] == 1.])\n",
      "/var/folders/00/d026dxr1001fd8rphxcfdzb40000gn/T/ipykernel_19229/2666179241.py:12: SettingWithCopyWarning: \n",
      "A value is trying to be set on a copy of a slice from a DataFrame.\n",
      "Try using .loc[row_indexer,col_indexer] = value instead\n",
      "\n",
      "See the caveats in the documentation: https://pandas.pydata.org/pandas-docs/stable/user_guide/indexing.html#returning-a-view-versus-a-copy\n",
      "  df_no_price[df_no_price[col] == 1.][columns] = imputer.fit_transform(df_no_price[df_no_price[col] == 1.])\n",
      "/var/folders/00/d026dxr1001fd8rphxcfdzb40000gn/T/ipykernel_19229/2666179241.py:12: SettingWithCopyWarning: \n",
      "A value is trying to be set on a copy of a slice from a DataFrame.\n",
      "Try using .loc[row_indexer,col_indexer] = value instead\n",
      "\n",
      "See the caveats in the documentation: https://pandas.pydata.org/pandas-docs/stable/user_guide/indexing.html#returning-a-view-versus-a-copy\n",
      "  df_no_price[df_no_price[col] == 1.][columns] = imputer.fit_transform(df_no_price[df_no_price[col] == 1.])\n",
      "/var/folders/00/d026dxr1001fd8rphxcfdzb40000gn/T/ipykernel_19229/2666179241.py:12: SettingWithCopyWarning: \n",
      "A value is trying to be set on a copy of a slice from a DataFrame.\n",
      "Try using .loc[row_indexer,col_indexer] = value instead\n",
      "\n",
      "See the caveats in the documentation: https://pandas.pydata.org/pandas-docs/stable/user_guide/indexing.html#returning-a-view-versus-a-copy\n",
      "  df_no_price[df_no_price[col] == 1.][columns] = imputer.fit_transform(df_no_price[df_no_price[col] == 1.])\n",
      "/var/folders/00/d026dxr1001fd8rphxcfdzb40000gn/T/ipykernel_19229/2666179241.py:12: SettingWithCopyWarning: \n",
      "A value is trying to be set on a copy of a slice from a DataFrame.\n",
      "Try using .loc[row_indexer,col_indexer] = value instead\n",
      "\n",
      "See the caveats in the documentation: https://pandas.pydata.org/pandas-docs/stable/user_guide/indexing.html#returning-a-view-versus-a-copy\n",
      "  df_no_price[df_no_price[col] == 1.][columns] = imputer.fit_transform(df_no_price[df_no_price[col] == 1.])\n",
      "/var/folders/00/d026dxr1001fd8rphxcfdzb40000gn/T/ipykernel_19229/2666179241.py:12: SettingWithCopyWarning: \n",
      "A value is trying to be set on a copy of a slice from a DataFrame.\n",
      "Try using .loc[row_indexer,col_indexer] = value instead\n",
      "\n",
      "See the caveats in the documentation: https://pandas.pydata.org/pandas-docs/stable/user_guide/indexing.html#returning-a-view-versus-a-copy\n",
      "  df_no_price[df_no_price[col] == 1.][columns] = imputer.fit_transform(df_no_price[df_no_price[col] == 1.])\n",
      "/var/folders/00/d026dxr1001fd8rphxcfdzb40000gn/T/ipykernel_19229/2666179241.py:12: SettingWithCopyWarning: \n",
      "A value is trying to be set on a copy of a slice from a DataFrame.\n",
      "Try using .loc[row_indexer,col_indexer] = value instead\n",
      "\n",
      "See the caveats in the documentation: https://pandas.pydata.org/pandas-docs/stable/user_guide/indexing.html#returning-a-view-versus-a-copy\n",
      "  df_no_price[df_no_price[col] == 1.][columns] = imputer.fit_transform(df_no_price[df_no_price[col] == 1.])\n",
      "/var/folders/00/d026dxr1001fd8rphxcfdzb40000gn/T/ipykernel_19229/2666179241.py:12: SettingWithCopyWarning: \n",
      "A value is trying to be set on a copy of a slice from a DataFrame.\n",
      "Try using .loc[row_indexer,col_indexer] = value instead\n",
      "\n",
      "See the caveats in the documentation: https://pandas.pydata.org/pandas-docs/stable/user_guide/indexing.html#returning-a-view-versus-a-copy\n",
      "  df_no_price[df_no_price[col] == 1.][columns] = imputer.fit_transform(df_no_price[df_no_price[col] == 1.])\n",
      "/var/folders/00/d026dxr1001fd8rphxcfdzb40000gn/T/ipykernel_19229/2666179241.py:12: SettingWithCopyWarning: \n",
      "A value is trying to be set on a copy of a slice from a DataFrame.\n",
      "Try using .loc[row_indexer,col_indexer] = value instead\n",
      "\n",
      "See the caveats in the documentation: https://pandas.pydata.org/pandas-docs/stable/user_guide/indexing.html#returning-a-view-versus-a-copy\n",
      "  df_no_price[df_no_price[col] == 1.][columns] = imputer.fit_transform(df_no_price[df_no_price[col] == 1.])\n",
      "/var/folders/00/d026dxr1001fd8rphxcfdzb40000gn/T/ipykernel_19229/2666179241.py:12: SettingWithCopyWarning: \n",
      "A value is trying to be set on a copy of a slice from a DataFrame.\n",
      "Try using .loc[row_indexer,col_indexer] = value instead\n",
      "\n",
      "See the caveats in the documentation: https://pandas.pydata.org/pandas-docs/stable/user_guide/indexing.html#returning-a-view-versus-a-copy\n",
      "  df_no_price[df_no_price[col] == 1.][columns] = imputer.fit_transform(df_no_price[df_no_price[col] == 1.])\n",
      "/var/folders/00/d026dxr1001fd8rphxcfdzb40000gn/T/ipykernel_19229/2666179241.py:12: SettingWithCopyWarning: \n",
      "A value is trying to be set on a copy of a slice from a DataFrame.\n",
      "Try using .loc[row_indexer,col_indexer] = value instead\n",
      "\n",
      "See the caveats in the documentation: https://pandas.pydata.org/pandas-docs/stable/user_guide/indexing.html#returning-a-view-versus-a-copy\n",
      "  df_no_price[df_no_price[col] == 1.][columns] = imputer.fit_transform(df_no_price[df_no_price[col] == 1.])\n",
      "/var/folders/00/d026dxr1001fd8rphxcfdzb40000gn/T/ipykernel_19229/2666179241.py:12: SettingWithCopyWarning: \n",
      "A value is trying to be set on a copy of a slice from a DataFrame.\n",
      "Try using .loc[row_indexer,col_indexer] = value instead\n",
      "\n",
      "See the caveats in the documentation: https://pandas.pydata.org/pandas-docs/stable/user_guide/indexing.html#returning-a-view-versus-a-copy\n",
      "  df_no_price[df_no_price[col] == 1.][columns] = imputer.fit_transform(df_no_price[df_no_price[col] == 1.])\n",
      "/var/folders/00/d026dxr1001fd8rphxcfdzb40000gn/T/ipykernel_19229/2666179241.py:12: SettingWithCopyWarning: \n",
      "A value is trying to be set on a copy of a slice from a DataFrame.\n",
      "Try using .loc[row_indexer,col_indexer] = value instead\n",
      "\n",
      "See the caveats in the documentation: https://pandas.pydata.org/pandas-docs/stable/user_guide/indexing.html#returning-a-view-versus-a-copy\n",
      "  df_no_price[df_no_price[col] == 1.][columns] = imputer.fit_transform(df_no_price[df_no_price[col] == 1.])\n",
      "/var/folders/00/d026dxr1001fd8rphxcfdzb40000gn/T/ipykernel_19229/2666179241.py:12: SettingWithCopyWarning: \n",
      "A value is trying to be set on a copy of a slice from a DataFrame.\n",
      "Try using .loc[row_indexer,col_indexer] = value instead\n",
      "\n",
      "See the caveats in the documentation: https://pandas.pydata.org/pandas-docs/stable/user_guide/indexing.html#returning-a-view-versus-a-copy\n",
      "  df_no_price[df_no_price[col] == 1.][columns] = imputer.fit_transform(df_no_price[df_no_price[col] == 1.])\n",
      "/var/folders/00/d026dxr1001fd8rphxcfdzb40000gn/T/ipykernel_19229/2666179241.py:12: SettingWithCopyWarning: \n",
      "A value is trying to be set on a copy of a slice from a DataFrame.\n",
      "Try using .loc[row_indexer,col_indexer] = value instead\n",
      "\n",
      "See the caveats in the documentation: https://pandas.pydata.org/pandas-docs/stable/user_guide/indexing.html#returning-a-view-versus-a-copy\n",
      "  df_no_price[df_no_price[col] == 1.][columns] = imputer.fit_transform(df_no_price[df_no_price[col] == 1.])\n",
      "/var/folders/00/d026dxr1001fd8rphxcfdzb40000gn/T/ipykernel_19229/2666179241.py:12: SettingWithCopyWarning: \n",
      "A value is trying to be set on a copy of a slice from a DataFrame.\n",
      "Try using .loc[row_indexer,col_indexer] = value instead\n",
      "\n",
      "See the caveats in the documentation: https://pandas.pydata.org/pandas-docs/stable/user_guide/indexing.html#returning-a-view-versus-a-copy\n",
      "  df_no_price[df_no_price[col] == 1.][columns] = imputer.fit_transform(df_no_price[df_no_price[col] == 1.])\n",
      "/var/folders/00/d026dxr1001fd8rphxcfdzb40000gn/T/ipykernel_19229/2666179241.py:12: SettingWithCopyWarning: \n",
      "A value is trying to be set on a copy of a slice from a DataFrame.\n",
      "Try using .loc[row_indexer,col_indexer] = value instead\n",
      "\n",
      "See the caveats in the documentation: https://pandas.pydata.org/pandas-docs/stable/user_guide/indexing.html#returning-a-view-versus-a-copy\n",
      "  df_no_price[df_no_price[col] == 1.][columns] = imputer.fit_transform(df_no_price[df_no_price[col] == 1.])\n"
     ]
    },
    {
     "name": "stdout",
     "output_type": "stream",
     "text": [
      "       Living space  Plot area  Floor  ForestDensityL  ForestDensityM  \\\n",
      "0             100.0      634.0    4.0        0.511176        0.286451   \n",
      "1             156.0      222.0    0.0        0.511176        0.286451   \n",
      "2              93.0      634.0    2.0        0.163362        0.095877   \n",
      "3             154.0      370.0    0.0        0.511176        0.286451   \n",
      "4             142.0      634.0    0.0        0.333865        0.279276   \n",
      "...             ...        ...    ...             ...             ...   \n",
      "22476         102.0      140.0    0.0        0.495715        0.385885   \n",
      "22477         250.0      634.0    0.0        0.000000        0.000000   \n",
      "22478         240.0      455.0    0.0        0.000000        0.000000   \n",
      "22479         175.0      634.0    0.0        0.410843        0.151363   \n",
      "22480         220.0      214.0    0.0        0.284828        0.153670   \n",
      "\n",
      "       ForestDensityS   Latitude  Longitude  NoisePollutionRailwayL  \\\n",
      "0            0.090908  47.415927   8.085840                0.000000   \n",
      "1            0.090908  47.415927   8.085840                0.000000   \n",
      "2            0.001911  47.397416   8.043150                0.000000   \n",
      "3            0.090908  47.415927   8.085840                0.000000   \n",
      "4            0.145835  47.404870   8.052781                0.000000   \n",
      "...               ...        ...        ...                     ...   \n",
      "22476        0.097278  47.158311   9.468139                0.000000   \n",
      "22477        0.000000  47.467888   9.052650                0.000000   \n",
      "22478        0.000000  47.463605   9.038485                0.052609   \n",
      "22479        0.038351  47.526024   8.926627                0.000000   \n",
      "22480        0.113892  47.322510   9.088866                0.020078   \n",
      "\n",
      "       NoisePollutionRailwayM  ...  type_unified_penthouse  \\\n",
      "0                    0.000000  ...                     1.0   \n",
      "1                    0.000000  ...                     0.0   \n",
      "2                    0.000000  ...                     1.0   \n",
      "3                    0.000000  ...                     0.0   \n",
      "4                    0.000000  ...                     0.0   \n",
      "...                       ...  ...                     ...   \n",
      "22476                0.000000  ...                     0.0   \n",
      "22477                0.000000  ...                     0.0   \n",
      "22478                0.083575  ...                     0.0   \n",
      "22479                0.000000  ...                     0.0   \n",
      "22480                0.020966  ...                     0.0   \n",
      "\n",
      "       type_unified_rustico  type_unified_secondary-suite  \\\n",
      "0                       0.0                           0.0   \n",
      "1                       0.0                           0.0   \n",
      "2                       0.0                           0.0   \n",
      "3                       0.0                           0.0   \n",
      "4                       0.0                           0.0   \n",
      "...                     ...                           ...   \n",
      "22476                   0.0                           0.0   \n",
      "22477                   0.0                           0.0   \n",
      "22478                   0.0                           0.0   \n",
      "22479                   0.0                           0.0   \n",
      "22480                   0.0                           0.0   \n",
      "\n",
      "       type_unified_semi-detached-house  type_unified_single-room  \\\n",
      "0                                   0.0                       0.0   \n",
      "1                                   0.0                       0.0   \n",
      "2                                   0.0                       0.0   \n",
      "3                                   0.0                       0.0   \n",
      "4                                   0.0                       0.0   \n",
      "...                                 ...                       ...   \n",
      "22476                               0.0                       0.0   \n",
      "22477                               0.0                       0.0   \n",
      "22478                               0.0                       0.0   \n",
      "22479                               0.0                       0.0   \n",
      "22480                               0.0                       0.0   \n",
      "\n",
      "       type_unified_stepped-apartment  type_unified_stepped-house  \\\n",
      "0                                 0.0                         0.0   \n",
      "1                                 0.0                         0.0   \n",
      "2                                 0.0                         0.0   \n",
      "3                                 0.0                         0.0   \n",
      "4                                 0.0                         0.0   \n",
      "...                               ...                         ...   \n",
      "22476                             0.0                         0.0   \n",
      "22477                             1.0                         0.0   \n",
      "22478                             0.0                         0.0   \n",
      "22479                             1.0                         0.0   \n",
      "22480                             0.0                         0.0   \n",
      "\n",
      "       type_unified_studio  type_unified_terrace-house  type_unified_villa  \n",
      "0                      0.0                         0.0                 0.0  \n",
      "1                      0.0                         1.0                 0.0  \n",
      "2                      0.0                         0.0                 0.0  \n",
      "3                      0.0                         0.0                 0.0  \n",
      "4                      0.0                         0.0                 0.0  \n",
      "...                    ...                         ...                 ...  \n",
      "22476                  0.0                         0.0                 0.0  \n",
      "22477                  0.0                         0.0                 0.0  \n",
      "22478                  0.0                         0.0                 0.0  \n",
      "22479                  0.0                         0.0                 0.0  \n",
      "22480                  0.0                         0.0                 0.0  \n",
      "\n",
      "[21377 rows x 69 columns]\n"
     ]
    }
   ],
   "source": [
    "if is_interactive(main):\n",
    "    %run 01_0_data_wrangling.ipynb -p"
   ]
  },
  {
   "cell_type": "markdown",
   "metadata": {
    "collapsed": false
   },
   "source": [
    "## ZIP Import"
   ]
  },
  {
   "cell_type": "code",
   "execution_count": 57,
   "metadata": {},
   "outputs": [],
   "source": [
    "#import data/kaggle/test_data-Kaggle-v0.10.csv.zip as a pandas dataframe\n",
    "source_df = pd.read_csv('data/kaggle/test_data-Kaggle-v0.10.csv.zip', compression='zip', header=0, sep=',', quotechar='\"', low_memory=False)\n",
    "clean_df = source_df.copy()"
   ]
  },
  {
   "cell_type": "markdown",
   "metadata": {
    "collapsed": false
   },
   "source": [
    "### Delete Unnamed Columns"
   ]
  },
  {
   "cell_type": "code",
   "execution_count": 58,
   "metadata": {
    "collapsed": false
   },
   "outputs": [
    {
     "data": {
      "text/plain": "  Municipality Living space Plot area Floor space Availability  \\\n0         Suhr       220 m²    733 m²         NaN   On request   \n1         Suhr       230 m²    702 m²         NaN   On request   \n2   Biberstein       131 m²       NaN         NaN   On request   \n3         Suhr       140 m²    206 m²      140 m²  Immediately   \n4   Biberstein       156 m²    222 m²      242 m²   On request   \n\n                               location  \\\n0            Galeggenweg 95034 Suhr, AG   \n1     Hofstattmattenweg 195034 Suhr, AG   \n2        Gheldweg 105023 Biberstein, AG   \n3     Obere Dorfstrasse 275034 Suhr, AG   \n4  Buhldenstrasse 8d5023 Biberstein, AG   \n\n                                         description  \\\n0  6.5 rooms, 220 m²«Landhausvilla mit einzigarti...   \n1  7.5 rooms, 230 m²«Grosszügiges Anwesen mit tra...   \n2  4.5 rooms, 131 m²«Terrassenhaus mit traumhafte...   \n3  6.5 rooms, 140 m²«Mittelhaus in Suhr an attrak...   \n4  4.5 rooms, 156 m²«Bezugsbereit - ruhige Lage u...   \n\n                                detailed_description  \\\n0  DescriptionVilla lädt zum Träumen ein  Wir ver...   \n1  DescriptionLicht, Glas und Holz - ein freisteh...   \n2  DescriptionLage  Das 4.5-Zimmer-Terrassenhaus ...   \n3  DescriptionReiheneinfamilienhaus (Mittelhaus) ...   \n4  DescriptionStilvolle Liegenschaft an ruhiger L...   \n\n                                                 url  \\\n0  https://www.immoscout24.ch//en/d/villa-buy-suh...   \n1  https://www.immoscout24.ch//en/d/detached-hous...   \n2  https://www.immoscout24.ch//en/d/stepped-house...   \n3  https://www.immoscout24.ch//en/d/terrace-house...   \n4  https://www.immoscout24.ch//en/d/terrace-house...   \n\n                                               table  ... Floor space:  \\\n0  b <article class=####Box-cYFBPY hKrxoH####><h2...  ...          NaN   \n1  b <article class=####Box-cYFBPY hKrxoH####><h2...  ...          NaN   \n2  b <article class=####Box-cYFBPY hKrxoH####><h2...  ...          NaN   \n3  b <article class=####Box-cYFBPY hKrxoH####><h2...  ...          NaN   \n4  b <article class=####Box-cYFBPY hKrxoH####><h2...  ...          NaN   \n\n  Number of floors: Volume:     plz Number of toilets: Gross yield:  \\\n0               NaN     NaN  5034.0                NaN          NaN   \n1               NaN     NaN  5034.0                NaN          NaN   \n2               NaN     NaN  5023.0                NaN          NaN   \n3               NaN     NaN  5034.0                NaN          NaN   \n4               NaN     NaN  5023.0                NaN          NaN   \n\n  Minimum floor space: space_cleaned Type: Hall height:  \n0                  NaN         220.0   NaN          NaN  \n1                  NaN         230.0   NaN          NaN  \n2                  NaN         131.0   NaN          NaN  \n3                  NaN         140.0   NaN          NaN  \n4                  NaN         156.0   NaN          NaN  \n\n[5 rows x 130 columns]",
      "text/html": "<div>\n<style scoped>\n    .dataframe tbody tr th:only-of-type {\n        vertical-align: middle;\n    }\n\n    .dataframe tbody tr th {\n        vertical-align: top;\n    }\n\n    .dataframe thead th {\n        text-align: right;\n    }\n</style>\n<table border=\"1\" class=\"dataframe\">\n  <thead>\n    <tr style=\"text-align: right;\">\n      <th></th>\n      <th>Municipality</th>\n      <th>Living space</th>\n      <th>Plot area</th>\n      <th>Floor space</th>\n      <th>Availability</th>\n      <th>location</th>\n      <th>description</th>\n      <th>detailed_description</th>\n      <th>url</th>\n      <th>table</th>\n      <th>...</th>\n      <th>Floor space:</th>\n      <th>Number of floors:</th>\n      <th>Volume:</th>\n      <th>plz</th>\n      <th>Number of toilets:</th>\n      <th>Gross yield:</th>\n      <th>Minimum floor space:</th>\n      <th>space_cleaned</th>\n      <th>Type:</th>\n      <th>Hall height:</th>\n    </tr>\n  </thead>\n  <tbody>\n    <tr>\n      <th>0</th>\n      <td>Suhr</td>\n      <td>220 m²</td>\n      <td>733 m²</td>\n      <td>NaN</td>\n      <td>On request</td>\n      <td>Galeggenweg 95034 Suhr, AG</td>\n      <td>6.5 rooms, 220 m²«Landhausvilla mit einzigarti...</td>\n      <td>DescriptionVilla lädt zum Träumen ein  Wir ver...</td>\n      <td>https://www.immoscout24.ch//en/d/villa-buy-suh...</td>\n      <td>b &lt;article class=####Box-cYFBPY hKrxoH####&gt;&lt;h2...</td>\n      <td>...</td>\n      <td>NaN</td>\n      <td>NaN</td>\n      <td>NaN</td>\n      <td>5034.0</td>\n      <td>NaN</td>\n      <td>NaN</td>\n      <td>NaN</td>\n      <td>220.0</td>\n      <td>NaN</td>\n      <td>NaN</td>\n    </tr>\n    <tr>\n      <th>1</th>\n      <td>Suhr</td>\n      <td>230 m²</td>\n      <td>702 m²</td>\n      <td>NaN</td>\n      <td>On request</td>\n      <td>Hofstattmattenweg 195034 Suhr, AG</td>\n      <td>7.5 rooms, 230 m²«Grosszügiges Anwesen mit tra...</td>\n      <td>DescriptionLicht, Glas und Holz - ein freisteh...</td>\n      <td>https://www.immoscout24.ch//en/d/detached-hous...</td>\n      <td>b &lt;article class=####Box-cYFBPY hKrxoH####&gt;&lt;h2...</td>\n      <td>...</td>\n      <td>NaN</td>\n      <td>NaN</td>\n      <td>NaN</td>\n      <td>5034.0</td>\n      <td>NaN</td>\n      <td>NaN</td>\n      <td>NaN</td>\n      <td>230.0</td>\n      <td>NaN</td>\n      <td>NaN</td>\n    </tr>\n    <tr>\n      <th>2</th>\n      <td>Biberstein</td>\n      <td>131 m²</td>\n      <td>NaN</td>\n      <td>NaN</td>\n      <td>On request</td>\n      <td>Gheldweg 105023 Biberstein, AG</td>\n      <td>4.5 rooms, 131 m²«Terrassenhaus mit traumhafte...</td>\n      <td>DescriptionLage  Das 4.5-Zimmer-Terrassenhaus ...</td>\n      <td>https://www.immoscout24.ch//en/d/stepped-house...</td>\n      <td>b &lt;article class=####Box-cYFBPY hKrxoH####&gt;&lt;h2...</td>\n      <td>...</td>\n      <td>NaN</td>\n      <td>NaN</td>\n      <td>NaN</td>\n      <td>5023.0</td>\n      <td>NaN</td>\n      <td>NaN</td>\n      <td>NaN</td>\n      <td>131.0</td>\n      <td>NaN</td>\n      <td>NaN</td>\n    </tr>\n    <tr>\n      <th>3</th>\n      <td>Suhr</td>\n      <td>140 m²</td>\n      <td>206 m²</td>\n      <td>140 m²</td>\n      <td>Immediately</td>\n      <td>Obere Dorfstrasse 275034 Suhr, AG</td>\n      <td>6.5 rooms, 140 m²«Mittelhaus in Suhr an attrak...</td>\n      <td>DescriptionReiheneinfamilienhaus (Mittelhaus) ...</td>\n      <td>https://www.immoscout24.ch//en/d/terrace-house...</td>\n      <td>b &lt;article class=####Box-cYFBPY hKrxoH####&gt;&lt;h2...</td>\n      <td>...</td>\n      <td>NaN</td>\n      <td>NaN</td>\n      <td>NaN</td>\n      <td>5034.0</td>\n      <td>NaN</td>\n      <td>NaN</td>\n      <td>NaN</td>\n      <td>140.0</td>\n      <td>NaN</td>\n      <td>NaN</td>\n    </tr>\n    <tr>\n      <th>4</th>\n      <td>Biberstein</td>\n      <td>156 m²</td>\n      <td>222 m²</td>\n      <td>242 m²</td>\n      <td>On request</td>\n      <td>Buhldenstrasse 8d5023 Biberstein, AG</td>\n      <td>4.5 rooms, 156 m²«Bezugsbereit - ruhige Lage u...</td>\n      <td>DescriptionStilvolle Liegenschaft an ruhiger L...</td>\n      <td>https://www.immoscout24.ch//en/d/terrace-house...</td>\n      <td>b &lt;article class=####Box-cYFBPY hKrxoH####&gt;&lt;h2...</td>\n      <td>...</td>\n      <td>NaN</td>\n      <td>NaN</td>\n      <td>NaN</td>\n      <td>5023.0</td>\n      <td>NaN</td>\n      <td>NaN</td>\n      <td>NaN</td>\n      <td>156.0</td>\n      <td>NaN</td>\n      <td>NaN</td>\n    </tr>\n  </tbody>\n</table>\n<p>5 rows × 130 columns</p>\n</div>"
     },
     "execution_count": 58,
     "metadata": {},
     "output_type": "execute_result"
    }
   ],
   "source": [
    "clean_df = clean_df.loc[:, ~clean_df.columns.str.contains('^Unnamed')]\n",
    "clean_df.head()"
   ]
  },
  {
   "cell_type": "markdown",
   "metadata": {},
   "source": [
    "### There are Column which we can merge"
   ]
  },
  {
   "cell_type": "code",
   "execution_count": 59,
   "metadata": {},
   "outputs": [
    {
     "data": {
      "text/plain": "  Municipality Living space Plot area Floor space Availability  \\\n0         Suhr       220 m²    733 m²         NaN   On request   \n1         Suhr       230 m²    702 m²         NaN   On request   \n2   Biberstein       131 m²       NaN         NaN   On request   \n3         Suhr       140 m²    206 m²      140 m²  Immediately   \n4   Biberstein       156 m²    222 m²      242 m²   On request   \n\n                               location  \\\n0            Galeggenweg 95034 Suhr, AG   \n1     Hofstattmattenweg 195034 Suhr, AG   \n2        Gheldweg 105023 Biberstein, AG   \n3     Obere Dorfstrasse 275034 Suhr, AG   \n4  Buhldenstrasse 8d5023 Biberstein, AG   \n\n                                         description  \\\n0  6.5 rooms, 220 m²«Landhausvilla mit einzigarti...   \n1  7.5 rooms, 230 m²«Grosszügiges Anwesen mit tra...   \n2  4.5 rooms, 131 m²«Terrassenhaus mit traumhafte...   \n3  6.5 rooms, 140 m²«Mittelhaus in Suhr an attrak...   \n4  4.5 rooms, 156 m²«Bezugsbereit - ruhige Lage u...   \n\n                                detailed_description  \\\n0  DescriptionVilla lädt zum Träumen ein  Wir ver...   \n1  DescriptionLicht, Glas und Holz - ein freisteh...   \n2  DescriptionLage  Das 4.5-Zimmer-Terrassenhaus ...   \n3  DescriptionReiheneinfamilienhaus (Mittelhaus) ...   \n4  DescriptionStilvolle Liegenschaft an ruhiger L...   \n\n                                                 url  \\\n0  https://www.immoscout24.ch//en/d/villa-buy-suh...   \n1  https://www.immoscout24.ch//en/d/detached-hous...   \n2  https://www.immoscout24.ch//en/d/stepped-house...   \n3  https://www.immoscout24.ch//en/d/terrace-house...   \n4  https://www.immoscout24.ch//en/d/terrace-house...   \n\n                                               table  ...  \\\n0  b <article class=####Box-cYFBPY hKrxoH####><h2...  ...   \n1  b <article class=####Box-cYFBPY hKrxoH####><h2...  ...   \n2  b <article class=####Box-cYFBPY hKrxoH####><h2...  ...   \n3  b <article class=####Box-cYFBPY hKrxoH####><h2...  ...   \n4  b <article class=####Box-cYFBPY hKrxoH####><h2...  ...   \n\n  description_detailed Number of floors: Volume:     plz Number of toilets:  \\\n0                  NaN               NaN     NaN  5034.0                NaN   \n1                  NaN               NaN     NaN  5034.0                NaN   \n2                  NaN               NaN     NaN  5023.0                NaN   \n3                  NaN               NaN     NaN  5034.0                NaN   \n4                  NaN               NaN     NaN  5023.0                NaN   \n\n  Gross yield: Minimum floor space: space_cleaned  Type:  Hall height:  \n0          NaN                  NaN         220.0    NaN           NaN  \n1          NaN                  NaN         230.0    NaN           NaN  \n2          NaN                  NaN         131.0    NaN           NaN  \n3          NaN                  NaN         140.0    NaN           NaN  \n4          NaN                  NaN         156.0    NaN           NaN  \n\n[5 rows x 94 columns]",
      "text/html": "<div>\n<style scoped>\n    .dataframe tbody tr th:only-of-type {\n        vertical-align: middle;\n    }\n\n    .dataframe tbody tr th {\n        vertical-align: top;\n    }\n\n    .dataframe thead th {\n        text-align: right;\n    }\n</style>\n<table border=\"1\" class=\"dataframe\">\n  <thead>\n    <tr style=\"text-align: right;\">\n      <th></th>\n      <th>Municipality</th>\n      <th>Living space</th>\n      <th>Plot area</th>\n      <th>Floor space</th>\n      <th>Availability</th>\n      <th>location</th>\n      <th>description</th>\n      <th>detailed_description</th>\n      <th>url</th>\n      <th>table</th>\n      <th>...</th>\n      <th>description_detailed</th>\n      <th>Number of floors:</th>\n      <th>Volume:</th>\n      <th>plz</th>\n      <th>Number of toilets:</th>\n      <th>Gross yield:</th>\n      <th>Minimum floor space:</th>\n      <th>space_cleaned</th>\n      <th>Type:</th>\n      <th>Hall height:</th>\n    </tr>\n  </thead>\n  <tbody>\n    <tr>\n      <th>0</th>\n      <td>Suhr</td>\n      <td>220 m²</td>\n      <td>733 m²</td>\n      <td>NaN</td>\n      <td>On request</td>\n      <td>Galeggenweg 95034 Suhr, AG</td>\n      <td>6.5 rooms, 220 m²«Landhausvilla mit einzigarti...</td>\n      <td>DescriptionVilla lädt zum Träumen ein  Wir ver...</td>\n      <td>https://www.immoscout24.ch//en/d/villa-buy-suh...</td>\n      <td>b &lt;article class=####Box-cYFBPY hKrxoH####&gt;&lt;h2...</td>\n      <td>...</td>\n      <td>NaN</td>\n      <td>NaN</td>\n      <td>NaN</td>\n      <td>5034.0</td>\n      <td>NaN</td>\n      <td>NaN</td>\n      <td>NaN</td>\n      <td>220.0</td>\n      <td>NaN</td>\n      <td>NaN</td>\n    </tr>\n    <tr>\n      <th>1</th>\n      <td>Suhr</td>\n      <td>230 m²</td>\n      <td>702 m²</td>\n      <td>NaN</td>\n      <td>On request</td>\n      <td>Hofstattmattenweg 195034 Suhr, AG</td>\n      <td>7.5 rooms, 230 m²«Grosszügiges Anwesen mit tra...</td>\n      <td>DescriptionLicht, Glas und Holz - ein freisteh...</td>\n      <td>https://www.immoscout24.ch//en/d/detached-hous...</td>\n      <td>b &lt;article class=####Box-cYFBPY hKrxoH####&gt;&lt;h2...</td>\n      <td>...</td>\n      <td>NaN</td>\n      <td>NaN</td>\n      <td>NaN</td>\n      <td>5034.0</td>\n      <td>NaN</td>\n      <td>NaN</td>\n      <td>NaN</td>\n      <td>230.0</td>\n      <td>NaN</td>\n      <td>NaN</td>\n    </tr>\n    <tr>\n      <th>2</th>\n      <td>Biberstein</td>\n      <td>131 m²</td>\n      <td>NaN</td>\n      <td>NaN</td>\n      <td>On request</td>\n      <td>Gheldweg 105023 Biberstein, AG</td>\n      <td>4.5 rooms, 131 m²«Terrassenhaus mit traumhafte...</td>\n      <td>DescriptionLage  Das 4.5-Zimmer-Terrassenhaus ...</td>\n      <td>https://www.immoscout24.ch//en/d/stepped-house...</td>\n      <td>b &lt;article class=####Box-cYFBPY hKrxoH####&gt;&lt;h2...</td>\n      <td>...</td>\n      <td>NaN</td>\n      <td>NaN</td>\n      <td>NaN</td>\n      <td>5023.0</td>\n      <td>NaN</td>\n      <td>NaN</td>\n      <td>NaN</td>\n      <td>131.0</td>\n      <td>NaN</td>\n      <td>NaN</td>\n    </tr>\n    <tr>\n      <th>3</th>\n      <td>Suhr</td>\n      <td>140 m²</td>\n      <td>206 m²</td>\n      <td>140 m²</td>\n      <td>Immediately</td>\n      <td>Obere Dorfstrasse 275034 Suhr, AG</td>\n      <td>6.5 rooms, 140 m²«Mittelhaus in Suhr an attrak...</td>\n      <td>DescriptionReiheneinfamilienhaus (Mittelhaus) ...</td>\n      <td>https://www.immoscout24.ch//en/d/terrace-house...</td>\n      <td>b &lt;article class=####Box-cYFBPY hKrxoH####&gt;&lt;h2...</td>\n      <td>...</td>\n      <td>NaN</td>\n      <td>NaN</td>\n      <td>NaN</td>\n      <td>5034.0</td>\n      <td>NaN</td>\n      <td>NaN</td>\n      <td>NaN</td>\n      <td>140.0</td>\n      <td>NaN</td>\n      <td>NaN</td>\n    </tr>\n    <tr>\n      <th>4</th>\n      <td>Biberstein</td>\n      <td>156 m²</td>\n      <td>222 m²</td>\n      <td>242 m²</td>\n      <td>On request</td>\n      <td>Buhldenstrasse 8d5023 Biberstein, AG</td>\n      <td>4.5 rooms, 156 m²«Bezugsbereit - ruhige Lage u...</td>\n      <td>DescriptionStilvolle Liegenschaft an ruhiger L...</td>\n      <td>https://www.immoscout24.ch//en/d/terrace-house...</td>\n      <td>b &lt;article class=####Box-cYFBPY hKrxoH####&gt;&lt;h2...</td>\n      <td>...</td>\n      <td>NaN</td>\n      <td>NaN</td>\n      <td>NaN</td>\n      <td>5023.0</td>\n      <td>NaN</td>\n      <td>NaN</td>\n      <td>NaN</td>\n      <td>156.0</td>\n      <td>NaN</td>\n      <td>NaN</td>\n    </tr>\n  </tbody>\n</table>\n<p>5 rows × 94 columns</p>\n</div>"
     },
     "execution_count": 59,
     "metadata": {},
     "output_type": "execute_result"
    }
   ],
   "source": [
    "clean_df['Municipality']    = clean_df['Municipality'].fillna(clean_df['detail_responsive#municipality'])\n",
    "clean_df['Municipality']    = clean_df['Municipality'].fillna(clean_df['Gemeinde'])\n",
    "clean_df['Municipality']    = clean_df['Municipality'].fillna(clean_df['Commune'])\n",
    "clean_df['Municipality']    = clean_df['Municipality'].fillna(clean_df['Comune'])\n",
    "clean_df['Municipality']    = clean_df['Municipality'].fillna(clean_df['Municipality_merged'])\n",
    "\n",
    "clean_df['Living space']    = clean_df['Living space'].fillna(clean_df['detail_responsive#surface_living'])\n",
    "clean_df['Living space']    = clean_df['Living space'].fillna(clean_df['Wohnfläche'])\n",
    "clean_df['Living space']    = clean_df['Living space'].fillna(clean_df['Surface habitable'])\n",
    "clean_df['Living space']    = clean_df['Living space'].fillna(clean_df['Superficie abitabile'])\n",
    "clean_df['Living space']    = clean_df['Living space'].fillna(clean_df['Living_space_merged'])\n",
    "clean_df['Living space']    = clean_df['Living space'].fillna(clean_df['Living_area_unified'])\n",
    "clean_df['Living space']    = clean_df['Living space'].fillna(clean_df['Space extracted'])\n",
    "clean_df['Living space']    = clean_df['Living space'].fillna(clean_df['Surface living:'])\n",
    "\n",
    "clean_df['Plot area']       = clean_df['Plot area'].fillna(clean_df['detail_responsive#surface_property'])\n",
    "clean_df['Plot area']       = clean_df['Plot area'].fillna(clean_df['Grundstücksfläche'])\n",
    "clean_df['Plot area']       = clean_df['Plot area'].fillna(clean_df['Surface du terrain'])\n",
    "clean_df['Plot area']       = clean_df['Plot area'].fillna(clean_df['Superficie del terreno'])\n",
    "clean_df['Plot area']       = clean_df['Plot area'].fillna(clean_df['Plot_area_merged'])\n",
    "clean_df['Plot area']       = clean_df['Plot area'].fillna(clean_df['Plot_area_unified'])\n",
    "clean_df['Plot area']       = clean_df['Plot area'].fillna(clean_df['Land area:'])\n",
    "\n",
    "clean_df['Floor space']     = clean_df['Floor space'].fillna(clean_df['detail_responsive#surface_usable'])\n",
    "clean_df['Floor space']     = clean_df['Floor space'].fillna(clean_df['Nutzfläche'])\n",
    "clean_df['Floor space']     = clean_df['Floor space'].fillna(clean_df['Surface utile'])\n",
    "clean_df['Floor space']     = clean_df['Floor space'].fillna(clean_df['Superficie utile'])\n",
    "clean_df['Floor space']     = clean_df['Floor space'].fillna(clean_df['Floor_space_merged'])\n",
    "clean_df['Floor space']     = clean_df['Floor space'].fillna(clean_df['Floor space:'])\n",
    "\n",
    "clean_df['Floor']           = clean_df['Floor'].fillna(clean_df['detail_responsive#floor'])\n",
    "clean_df['Floor']           = clean_df['Floor'].fillna(clean_df['Stockwerk'])\n",
    "clean_df['Floor']           = clean_df['Floor'].fillna(clean_df['Étage'])\n",
    "clean_df['Floor']           = clean_df['Floor'].fillna(clean_df['Piano'])\n",
    "clean_df['Floor']           = clean_df['Floor'].fillna(clean_df['Floor_merged'])\n",
    "\n",
    "clean_df['Availability']  = clean_df['Availability'].fillna(clean_df['detail_responsive#available_from'])\n",
    "clean_df['Availability']  = clean_df['Availability'].fillna(clean_df['Verfügbarkeit'])\n",
    "clean_df['Availability']  = clean_df['Availability'].fillna(clean_df['Disponibilité'])\n",
    "clean_df['Availability']  = clean_df['Availability'].fillna(clean_df['Disponibilità'])\n",
    "clean_df['Availability']  = clean_df['Availability'].fillna(clean_df['Availability_merged'])\n",
    "\n",
    "clean_df = clean_df.drop(['detail_responsive#municipality', 'Gemeinde', 'Commune', 'Comune', 'Municipality_merged',\n",
    "                            'detail_responsive#surface_living', 'Wohnfläche', 'Surface habitable', 'Superficie abitabile', 'Living_space_merged', 'Living_area_unified', 'Space extracted', 'Surface living:',\n",
    "                            'detail_responsive#surface_property', 'Grundstücksfläche', 'Surface du terrain', 'Superficie del terreno', 'Plot_area_merged', 'Plot_area_unified', 'Land area:',\n",
    "                            'detail_responsive#surface_usable', 'Nutzfläche', 'Surface utile', 'Superficie utile', 'Floor_space_merged', 'Floor space:',\n",
    "                            'detail_responsive#floor', 'Stockwerk', 'Étage', 'Piano', 'Floor_merged',\n",
    "                            'detail_responsive#available_from', 'Verfügbarkeit', 'Disponibilité', 'Disponibilità', 'Availability_merged'], axis=1)\n",
    "\n",
    "clean_df.head()"
   ]
  },
  {
   "cell_type": "markdown",
   "metadata": {},
   "source": [
    "### Take Informations from Column \"details\", and put the Informations into \"rooms\" and \"Living space\" if they are nan or 0"
   ]
  },
  {
   "cell_type": "code",
   "execution_count": 60,
   "metadata": {},
   "outputs": [
    {
     "data": {
      "text/plain": "  Municipality Living space Plot area Floor space Availability  \\\n0         Suhr       220 m²    733 m²         NaN   On request   \n1         Suhr       230 m²    702 m²         NaN   On request   \n2   Biberstein       131 m²       NaN         NaN   On request   \n3         Suhr       140 m²    206 m²      140 m²  Immediately   \n4   Biberstein       156 m²    222 m²      242 m²   On request   \n\n                               location  \\\n0            Galeggenweg 95034 Suhr, AG   \n1     Hofstattmattenweg 195034 Suhr, AG   \n2        Gheldweg 105023 Biberstein, AG   \n3     Obere Dorfstrasse 275034 Suhr, AG   \n4  Buhldenstrasse 8d5023 Biberstein, AG   \n\n                                         description  \\\n0  6.5 rooms, 220 m²«Landhausvilla mit einzigarti...   \n1  7.5 rooms, 230 m²«Grosszügiges Anwesen mit tra...   \n2  4.5 rooms, 131 m²«Terrassenhaus mit traumhafte...   \n3  6.5 rooms, 140 m²«Mittelhaus in Suhr an attrak...   \n4  4.5 rooms, 156 m²«Bezugsbereit - ruhige Lage u...   \n\n                                detailed_description  \\\n0  DescriptionVilla lädt zum Träumen ein  Wir ver...   \n1  DescriptionLicht, Glas und Holz - ein freisteh...   \n2  DescriptionLage  Das 4.5-Zimmer-Terrassenhaus ...   \n3  DescriptionReiheneinfamilienhaus (Mittelhaus) ...   \n4  DescriptionStilvolle Liegenschaft an ruhiger L...   \n\n                                                 url  \\\n0  https://www.immoscout24.ch//en/d/villa-buy-suh...   \n1  https://www.immoscout24.ch//en/d/detached-hous...   \n2  https://www.immoscout24.ch//en/d/stepped-house...   \n3  https://www.immoscout24.ch//en/d/terrace-house...   \n4  https://www.immoscout24.ch//en/d/terrace-house...   \n\n                                               table  ...  \\\n0  b <article class=####Box-cYFBPY hKrxoH####><h2...  ...   \n1  b <article class=####Box-cYFBPY hKrxoH####><h2...  ...   \n2  b <article class=####Box-cYFBPY hKrxoH####><h2...  ...   \n3  b <article class=####Box-cYFBPY hKrxoH####><h2...  ...   \n4  b <article class=####Box-cYFBPY hKrxoH####><h2...  ...   \n\n  description_detailed Number of floors: Volume:     plz Number of toilets:  \\\n0                  NaN               NaN     NaN  5034.0                NaN   \n1                  NaN               NaN     NaN  5034.0                NaN   \n2                  NaN               NaN     NaN  5023.0                NaN   \n3                  NaN               NaN     NaN  5034.0                NaN   \n4                  NaN               NaN     NaN  5023.0                NaN   \n\n  Gross yield: Minimum floor space:  space_cleaned  Type:  Hall height:  \n0          NaN                  NaN          220.0    NaN           NaN  \n1          NaN                  NaN          230.0    NaN           NaN  \n2          NaN                  NaN          131.0    NaN           NaN  \n3          NaN                  NaN          140.0    NaN           NaN  \n4          NaN                  NaN          156.0    NaN           NaN  \n\n[5 rows x 93 columns]",
      "text/html": "<div>\n<style scoped>\n    .dataframe tbody tr th:only-of-type {\n        vertical-align: middle;\n    }\n\n    .dataframe tbody tr th {\n        vertical-align: top;\n    }\n\n    .dataframe thead th {\n        text-align: right;\n    }\n</style>\n<table border=\"1\" class=\"dataframe\">\n  <thead>\n    <tr style=\"text-align: right;\">\n      <th></th>\n      <th>Municipality</th>\n      <th>Living space</th>\n      <th>Plot area</th>\n      <th>Floor space</th>\n      <th>Availability</th>\n      <th>location</th>\n      <th>description</th>\n      <th>detailed_description</th>\n      <th>url</th>\n      <th>table</th>\n      <th>...</th>\n      <th>description_detailed</th>\n      <th>Number of floors:</th>\n      <th>Volume:</th>\n      <th>plz</th>\n      <th>Number of toilets:</th>\n      <th>Gross yield:</th>\n      <th>Minimum floor space:</th>\n      <th>space_cleaned</th>\n      <th>Type:</th>\n      <th>Hall height:</th>\n    </tr>\n  </thead>\n  <tbody>\n    <tr>\n      <th>0</th>\n      <td>Suhr</td>\n      <td>220 m²</td>\n      <td>733 m²</td>\n      <td>NaN</td>\n      <td>On request</td>\n      <td>Galeggenweg 95034 Suhr, AG</td>\n      <td>6.5 rooms, 220 m²«Landhausvilla mit einzigarti...</td>\n      <td>DescriptionVilla lädt zum Träumen ein  Wir ver...</td>\n      <td>https://www.immoscout24.ch//en/d/villa-buy-suh...</td>\n      <td>b &lt;article class=####Box-cYFBPY hKrxoH####&gt;&lt;h2...</td>\n      <td>...</td>\n      <td>NaN</td>\n      <td>NaN</td>\n      <td>NaN</td>\n      <td>5034.0</td>\n      <td>NaN</td>\n      <td>NaN</td>\n      <td>NaN</td>\n      <td>220.0</td>\n      <td>NaN</td>\n      <td>NaN</td>\n    </tr>\n    <tr>\n      <th>1</th>\n      <td>Suhr</td>\n      <td>230 m²</td>\n      <td>702 m²</td>\n      <td>NaN</td>\n      <td>On request</td>\n      <td>Hofstattmattenweg 195034 Suhr, AG</td>\n      <td>7.5 rooms, 230 m²«Grosszügiges Anwesen mit tra...</td>\n      <td>DescriptionLicht, Glas und Holz - ein freisteh...</td>\n      <td>https://www.immoscout24.ch//en/d/detached-hous...</td>\n      <td>b &lt;article class=####Box-cYFBPY hKrxoH####&gt;&lt;h2...</td>\n      <td>...</td>\n      <td>NaN</td>\n      <td>NaN</td>\n      <td>NaN</td>\n      <td>5034.0</td>\n      <td>NaN</td>\n      <td>NaN</td>\n      <td>NaN</td>\n      <td>230.0</td>\n      <td>NaN</td>\n      <td>NaN</td>\n    </tr>\n    <tr>\n      <th>2</th>\n      <td>Biberstein</td>\n      <td>131 m²</td>\n      <td>NaN</td>\n      <td>NaN</td>\n      <td>On request</td>\n      <td>Gheldweg 105023 Biberstein, AG</td>\n      <td>4.5 rooms, 131 m²«Terrassenhaus mit traumhafte...</td>\n      <td>DescriptionLage  Das 4.5-Zimmer-Terrassenhaus ...</td>\n      <td>https://www.immoscout24.ch//en/d/stepped-house...</td>\n      <td>b &lt;article class=####Box-cYFBPY hKrxoH####&gt;&lt;h2...</td>\n      <td>...</td>\n      <td>NaN</td>\n      <td>NaN</td>\n      <td>NaN</td>\n      <td>5023.0</td>\n      <td>NaN</td>\n      <td>NaN</td>\n      <td>NaN</td>\n      <td>131.0</td>\n      <td>NaN</td>\n      <td>NaN</td>\n    </tr>\n    <tr>\n      <th>3</th>\n      <td>Suhr</td>\n      <td>140 m²</td>\n      <td>206 m²</td>\n      <td>140 m²</td>\n      <td>Immediately</td>\n      <td>Obere Dorfstrasse 275034 Suhr, AG</td>\n      <td>6.5 rooms, 140 m²«Mittelhaus in Suhr an attrak...</td>\n      <td>DescriptionReiheneinfamilienhaus (Mittelhaus) ...</td>\n      <td>https://www.immoscout24.ch//en/d/terrace-house...</td>\n      <td>b &lt;article class=####Box-cYFBPY hKrxoH####&gt;&lt;h2...</td>\n      <td>...</td>\n      <td>NaN</td>\n      <td>NaN</td>\n      <td>NaN</td>\n      <td>5034.0</td>\n      <td>NaN</td>\n      <td>NaN</td>\n      <td>NaN</td>\n      <td>140.0</td>\n      <td>NaN</td>\n      <td>NaN</td>\n    </tr>\n    <tr>\n      <th>4</th>\n      <td>Biberstein</td>\n      <td>156 m²</td>\n      <td>222 m²</td>\n      <td>242 m²</td>\n      <td>On request</td>\n      <td>Buhldenstrasse 8d5023 Biberstein, AG</td>\n      <td>4.5 rooms, 156 m²«Bezugsbereit - ruhige Lage u...</td>\n      <td>DescriptionStilvolle Liegenschaft an ruhiger L...</td>\n      <td>https://www.immoscout24.ch//en/d/terrace-house...</td>\n      <td>b &lt;article class=####Box-cYFBPY hKrxoH####&gt;&lt;h2...</td>\n      <td>...</td>\n      <td>NaN</td>\n      <td>NaN</td>\n      <td>NaN</td>\n      <td>5023.0</td>\n      <td>NaN</td>\n      <td>NaN</td>\n      <td>NaN</td>\n      <td>156.0</td>\n      <td>NaN</td>\n      <td>NaN</td>\n    </tr>\n  </tbody>\n</table>\n<p>5 rows × 93 columns</p>\n</div>"
     },
     "execution_count": 60,
     "metadata": {},
     "output_type": "execute_result"
    }
   ],
   "source": [
    "clean_df['rooms_from_details'] = (clean_df['details'].str.extract(r'(\\d+) rooms')).astype(float)\n",
    "clean_df['space_from_details'] = (clean_df['details'].str.extract(r'(\\d+) m²')).astype(float)\n",
    "\n",
    "clean_df['rooms'] = clean_df['rooms'].mask(clean_df['rooms'] == 0.0, clean_df['rooms_from_details'])\n",
    "clean_df['rooms'] = clean_df['rooms'].fillna(clean_df['rooms_from_details'])\n",
    "\n",
    "clean_df['Living space'] = clean_df['Living space'].fillna(clean_df['space_from_details'])\n",
    "\n",
    "clean_df = clean_df.drop(['details', 'rooms_from_details', 'space_from_details'], axis=1)\n",
    "\n",
    "clean_df.head()"
   ]
  },
  {
   "cell_type": "markdown",
   "metadata": {},
   "source": [
    "### Remove m² from Columns"
   ]
  },
  {
   "cell_type": "code",
   "execution_count": 61,
   "metadata": {},
   "outputs": [
    {
     "data": {
      "text/plain": "  Municipality  Living space  Plot area  Floor space Availability  \\\n0         Suhr         220.0      733.0          NaN   On request   \n1         Suhr         230.0      702.0          NaN   On request   \n2   Biberstein         131.0        NaN          NaN   On request   \n3         Suhr         140.0      206.0        140.0  Immediately   \n4   Biberstein         156.0      222.0        242.0   On request   \n\n                               location  \\\n0            Galeggenweg 95034 Suhr, AG   \n1     Hofstattmattenweg 195034 Suhr, AG   \n2        Gheldweg 105023 Biberstein, AG   \n3     Obere Dorfstrasse 275034 Suhr, AG   \n4  Buhldenstrasse 8d5023 Biberstein, AG   \n\n                                         description  \\\n0  6.5 rooms, 220 m²«Landhausvilla mit einzigarti...   \n1  7.5 rooms, 230 m²«Grosszügiges Anwesen mit tra...   \n2  4.5 rooms, 131 m²«Terrassenhaus mit traumhafte...   \n3  6.5 rooms, 140 m²«Mittelhaus in Suhr an attrak...   \n4  4.5 rooms, 156 m²«Bezugsbereit - ruhige Lage u...   \n\n                                detailed_description  \\\n0  DescriptionVilla lädt zum Träumen ein  Wir ver...   \n1  DescriptionLicht, Glas und Holz - ein freisteh...   \n2  DescriptionLage  Das 4.5-Zimmer-Terrassenhaus ...   \n3  DescriptionReiheneinfamilienhaus (Mittelhaus) ...   \n4  DescriptionStilvolle Liegenschaft an ruhiger L...   \n\n                                                 url  \\\n0  https://www.immoscout24.ch//en/d/villa-buy-suh...   \n1  https://www.immoscout24.ch//en/d/detached-hous...   \n2  https://www.immoscout24.ch//en/d/stepped-house...   \n3  https://www.immoscout24.ch//en/d/terrace-house...   \n4  https://www.immoscout24.ch//en/d/terrace-house...   \n\n                                               table  ...  \\\n0  b <article class=####Box-cYFBPY hKrxoH####><h2...  ...   \n1  b <article class=####Box-cYFBPY hKrxoH####><h2...  ...   \n2  b <article class=####Box-cYFBPY hKrxoH####><h2...  ...   \n3  b <article class=####Box-cYFBPY hKrxoH####><h2...  ...   \n4  b <article class=####Box-cYFBPY hKrxoH####><h2...  ...   \n\n   description_detailed Number of floors: Volume:     plz Number of toilets:  \\\n0                   NaN               NaN     NaN  5034.0                NaN   \n1                   NaN               NaN     NaN  5034.0                NaN   \n2                   NaN               NaN     NaN  5023.0                NaN   \n3                   NaN               NaN     NaN  5034.0                NaN   \n4                   NaN               NaN     NaN  5023.0                NaN   \n\n  Gross yield: Minimum floor space:  space_cleaned  Type:  Hall height:  \n0          NaN                  NaN          220.0    NaN           NaN  \n1          NaN                  NaN          230.0    NaN           NaN  \n2          NaN                  NaN          131.0    NaN           NaN  \n3          NaN                  NaN          140.0    NaN           NaN  \n4          NaN                  NaN          156.0    NaN           NaN  \n\n[5 rows x 93 columns]",
      "text/html": "<div>\n<style scoped>\n    .dataframe tbody tr th:only-of-type {\n        vertical-align: middle;\n    }\n\n    .dataframe tbody tr th {\n        vertical-align: top;\n    }\n\n    .dataframe thead th {\n        text-align: right;\n    }\n</style>\n<table border=\"1\" class=\"dataframe\">\n  <thead>\n    <tr style=\"text-align: right;\">\n      <th></th>\n      <th>Municipality</th>\n      <th>Living space</th>\n      <th>Plot area</th>\n      <th>Floor space</th>\n      <th>Availability</th>\n      <th>location</th>\n      <th>description</th>\n      <th>detailed_description</th>\n      <th>url</th>\n      <th>table</th>\n      <th>...</th>\n      <th>description_detailed</th>\n      <th>Number of floors:</th>\n      <th>Volume:</th>\n      <th>plz</th>\n      <th>Number of toilets:</th>\n      <th>Gross yield:</th>\n      <th>Minimum floor space:</th>\n      <th>space_cleaned</th>\n      <th>Type:</th>\n      <th>Hall height:</th>\n    </tr>\n  </thead>\n  <tbody>\n    <tr>\n      <th>0</th>\n      <td>Suhr</td>\n      <td>220.0</td>\n      <td>733.0</td>\n      <td>NaN</td>\n      <td>On request</td>\n      <td>Galeggenweg 95034 Suhr, AG</td>\n      <td>6.5 rooms, 220 m²«Landhausvilla mit einzigarti...</td>\n      <td>DescriptionVilla lädt zum Träumen ein  Wir ver...</td>\n      <td>https://www.immoscout24.ch//en/d/villa-buy-suh...</td>\n      <td>b &lt;article class=####Box-cYFBPY hKrxoH####&gt;&lt;h2...</td>\n      <td>...</td>\n      <td>NaN</td>\n      <td>NaN</td>\n      <td>NaN</td>\n      <td>5034.0</td>\n      <td>NaN</td>\n      <td>NaN</td>\n      <td>NaN</td>\n      <td>220.0</td>\n      <td>NaN</td>\n      <td>NaN</td>\n    </tr>\n    <tr>\n      <th>1</th>\n      <td>Suhr</td>\n      <td>230.0</td>\n      <td>702.0</td>\n      <td>NaN</td>\n      <td>On request</td>\n      <td>Hofstattmattenweg 195034 Suhr, AG</td>\n      <td>7.5 rooms, 230 m²«Grosszügiges Anwesen mit tra...</td>\n      <td>DescriptionLicht, Glas und Holz - ein freisteh...</td>\n      <td>https://www.immoscout24.ch//en/d/detached-hous...</td>\n      <td>b &lt;article class=####Box-cYFBPY hKrxoH####&gt;&lt;h2...</td>\n      <td>...</td>\n      <td>NaN</td>\n      <td>NaN</td>\n      <td>NaN</td>\n      <td>5034.0</td>\n      <td>NaN</td>\n      <td>NaN</td>\n      <td>NaN</td>\n      <td>230.0</td>\n      <td>NaN</td>\n      <td>NaN</td>\n    </tr>\n    <tr>\n      <th>2</th>\n      <td>Biberstein</td>\n      <td>131.0</td>\n      <td>NaN</td>\n      <td>NaN</td>\n      <td>On request</td>\n      <td>Gheldweg 105023 Biberstein, AG</td>\n      <td>4.5 rooms, 131 m²«Terrassenhaus mit traumhafte...</td>\n      <td>DescriptionLage  Das 4.5-Zimmer-Terrassenhaus ...</td>\n      <td>https://www.immoscout24.ch//en/d/stepped-house...</td>\n      <td>b &lt;article class=####Box-cYFBPY hKrxoH####&gt;&lt;h2...</td>\n      <td>...</td>\n      <td>NaN</td>\n      <td>NaN</td>\n      <td>NaN</td>\n      <td>5023.0</td>\n      <td>NaN</td>\n      <td>NaN</td>\n      <td>NaN</td>\n      <td>131.0</td>\n      <td>NaN</td>\n      <td>NaN</td>\n    </tr>\n    <tr>\n      <th>3</th>\n      <td>Suhr</td>\n      <td>140.0</td>\n      <td>206.0</td>\n      <td>140.0</td>\n      <td>Immediately</td>\n      <td>Obere Dorfstrasse 275034 Suhr, AG</td>\n      <td>6.5 rooms, 140 m²«Mittelhaus in Suhr an attrak...</td>\n      <td>DescriptionReiheneinfamilienhaus (Mittelhaus) ...</td>\n      <td>https://www.immoscout24.ch//en/d/terrace-house...</td>\n      <td>b &lt;article class=####Box-cYFBPY hKrxoH####&gt;&lt;h2...</td>\n      <td>...</td>\n      <td>NaN</td>\n      <td>NaN</td>\n      <td>NaN</td>\n      <td>5034.0</td>\n      <td>NaN</td>\n      <td>NaN</td>\n      <td>NaN</td>\n      <td>140.0</td>\n      <td>NaN</td>\n      <td>NaN</td>\n    </tr>\n    <tr>\n      <th>4</th>\n      <td>Biberstein</td>\n      <td>156.0</td>\n      <td>222.0</td>\n      <td>242.0</td>\n      <td>On request</td>\n      <td>Buhldenstrasse 8d5023 Biberstein, AG</td>\n      <td>4.5 rooms, 156 m²«Bezugsbereit - ruhige Lage u...</td>\n      <td>DescriptionStilvolle Liegenschaft an ruhiger L...</td>\n      <td>https://www.immoscout24.ch//en/d/terrace-house...</td>\n      <td>b &lt;article class=####Box-cYFBPY hKrxoH####&gt;&lt;h2...</td>\n      <td>...</td>\n      <td>NaN</td>\n      <td>NaN</td>\n      <td>NaN</td>\n      <td>5023.0</td>\n      <td>NaN</td>\n      <td>NaN</td>\n      <td>NaN</td>\n      <td>156.0</td>\n      <td>NaN</td>\n      <td>NaN</td>\n    </tr>\n  </tbody>\n</table>\n<p>5 rows × 93 columns</p>\n</div>"
     },
     "execution_count": 61,
     "metadata": {},
     "output_type": "execute_result"
    }
   ],
   "source": [
    "clean_df['Living space'] = clean_df['Living space'].astype(str)\n",
    "clean_df['Living space'] = clean_df['Living space'].str.replace('m²', '')\n",
    "clean_df['Living space'] = clean_df['Living space'].str.replace('m2', '')\n",
    "clean_df['Living space'] = clean_df['Living space'].astype(float)\n",
    "\n",
    "clean_df['Plot area'] = clean_df['Plot area'].astype(str)\n",
    "clean_df['Plot area'] = clean_df['Plot area'].str.replace('m²', '')\n",
    "clean_df['Plot area'] = clean_df['Plot area'].str.replace(',', '')\n",
    "clean_df['Plot area'] = clean_df['Plot area'].astype(float)\n",
    "\n",
    "clean_df['Floor space'] = clean_df['Floor space'].astype(str)\n",
    "clean_df['Floor space'] = clean_df['Floor space'].str.replace('m²', '')\n",
    "clean_df['Floor space'] = clean_df['Floor space'].str.replace('m2', '')\n",
    "clean_df['Floor space'] = clean_df['Floor space'].astype(float)\n",
    "\n",
    "clean_df['Floor'] = clean_df['Floor'].astype(str)\n",
    "clean_df['Floor'] = clean_df['Floor'].str.replace('Ground floor', '0')\n",
    "clean_df['Floor'] = clean_df['Floor'].str.replace('GF', '0')\n",
    "clean_df['Floor'] = clean_df['Floor'].str.replace('. floor', '', regex=False)\n",
    "clean_df['Floor'] = clean_df['Floor'].str.replace(r'(\\d+)\\. Basement', lambda x: str(int(x.group(1)) * -1), regex=True)\n",
    "clean_df['Floor'] = clean_df['Floor'].astype(float)\n",
    "\n",
    "clean_df['rooms'] = clean_df['rooms'].astype(str)\n",
    "clean_df['rooms'] = clean_df['rooms'].str.replace('rm', '')\n",
    "clean_df['rooms'] = clean_df['rooms'].astype(float)\n",
    "\n",
    "clean_df.head()"
   ]
  },
  {
   "cell_type": "markdown",
   "metadata": {},
   "source": [
    "### How many NAN's has each column"
   ]
  },
  {
   "cell_type": "code",
   "execution_count": 62,
   "metadata": {},
   "outputs": [
    {
     "data": {
      "text/plain": "Municipality             0.736791\nLiving space             5.633803\nPlot area               61.385655\nFloor space             79.406497\nAvailability            49.263209\n                          ...    \nGross yield:            99.776113\nMinimum floor space:    99.983717\nspace_cleaned           46.918505\nType:                   50.736791\nHall height:            99.983717\nLength: 93, dtype: float64"
     },
     "execution_count": 62,
     "metadata": {},
     "output_type": "execute_result"
    }
   ],
   "source": [
    "(clean_df.isnull().sum() / len(clean_df)) * 100"
   ]
  },
  {
   "cell_type": "code",
   "execution_count": 63,
   "metadata": {},
   "outputs": [
    {
     "data": {
      "text/plain": "Index(['Municipality', 'Living space', 'Plot area', 'Floor space',\n       'Availability', 'location', 'description', 'detailed_description',\n       'url', 'table', 'Floor', 'Gross return', 'location_parsed', 'title',\n       'address', 'link', 'details_structured', 'lat', 'lon', 'index',\n       'ForestDensityL', 'ForestDensityM', 'ForestDensityS', 'Latitude',\n       'Locality', 'Longitude', 'NoisePollutionRailwayL',\n       'NoisePollutionRailwayM', 'NoisePollutionRailwayS',\n       'NoisePollutionRoadL', 'NoisePollutionRoadM', 'NoisePollutionRoadS',\n       'PopulationDensityL', 'PopulationDensityM', 'PopulationDensityS',\n       'RiversAndLakesL', 'RiversAndLakesM', 'RiversAndLakesS',\n       'WorkplaceDensityL', 'WorkplaceDensityM', 'WorkplaceDensityS', 'Zip',\n       'distanceToTrainStation', 'gde_area_agriculture_percentage',\n       'gde_area_forest_percentage', 'gde_area_nonproductive_percentage',\n       'gde_area_settlement_percentage', 'gde_average_house_hold',\n       'gde_empty_apartments', 'gde_foreigners_percentage',\n       'gde_new_homes_per_1000', 'gde_politics_bdp', 'gde_politics_cvp',\n       'gde_politics_evp', 'gde_politics_fdp', 'gde_politics_glp',\n       'gde_politics_gps', 'gde_politics_pda', 'gde_politics_rights',\n       'gde_politics_sp', 'gde_politics_svp', 'gde_pop_per_km2',\n       'gde_population', 'gde_private_apartments', 'gde_social_help_quota',\n       'gde_tax', 'gde_workers_sector1', 'gde_workers_sector2',\n       'gde_workers_sector3', 'gde_workers_total', 'rooms', 'plz_parsed',\n       'type_unified', 'Floor_unified', 'provider', 'space', 'address_s',\n       'No. of rooms:', 'Number of apartments:', 'Room height:',\n       'Last refurbishment:', 'Year built:', 'features',\n       'description_detailed', 'Number of floors:', 'Volume:', 'plz',\n       'Number of toilets:', 'Gross yield:', 'Minimum floor space:',\n       'space_cleaned', 'Type:', 'Hall height:'],\n      dtype='object')"
     },
     "execution_count": 63,
     "metadata": {},
     "output_type": "execute_result"
    }
   ],
   "source": [
    "clean_df.columns"
   ]
  },
  {
   "cell_type": "markdown",
   "metadata": {},
   "source": [
    "### Remove redundant columns"
   ]
  },
  {
   "cell_type": "code",
   "execution_count": 64,
   "metadata": {},
   "outputs": [
    {
     "data": {
      "text/plain": "   Living space  Plot area  Floor space  Floor  ForestDensityL  \\\n0         220.0      733.0          NaN    NaN        0.164382   \n1         230.0      702.0          NaN    NaN        0.260855   \n2         131.0        NaN          NaN    NaN        0.434114   \n3         140.0      206.0        140.0    NaN        0.148190   \n4         156.0      222.0        242.0    NaN        0.511176   \n\n   ForestDensityM  ForestDensityS   Latitude  Longitude  \\\n0        0.100030        0.063548  47.372110   8.075858   \n1        0.170434        0.083253  47.371558   8.073110   \n2        0.357984        0.125505  47.413754   8.082318   \n3        0.076610        0.000000  47.373327   8.076892   \n4        0.286451        0.090908  47.415927   8.085840   \n\n   NoisePollutionRailwayL  ...  gde_population  gde_private_apartments  \\\n0                0.003811  ...          9990.0                  4212.0   \n1                0.002623  ...          9990.0                  4212.0   \n2                0.000000  ...          1545.0                   686.0   \n3                0.005193  ...          9990.0                  4212.0   \n4                0.000000  ...          1545.0                   686.0   \n\n   gde_social_help_quota  gde_tax  gde_workers_sector1  gde_workers_sector2  \\\n0               4.281099     6.35                 38.0               1015.0   \n1               4.281099     6.35                 38.0               1015.0   \n2               2.234259     5.89                 14.0                  9.0   \n3               4.281099     6.35                 38.0               1015.0   \n4               2.234259     5.89                 14.0                  9.0   \n\n   gde_workers_sector3  gde_workers_total  rooms    type_unified  \n0               4188.0             5241.0    5.0           villa  \n1               4188.0             5241.0    5.0  detached-house  \n2                308.0              331.0    5.0   stepped-house  \n3               4188.0             5241.0    5.0   terrace-house  \n4                308.0              331.0    5.0   terrace-house  \n\n[5 rows x 50 columns]",
      "text/html": "<div>\n<style scoped>\n    .dataframe tbody tr th:only-of-type {\n        vertical-align: middle;\n    }\n\n    .dataframe tbody tr th {\n        vertical-align: top;\n    }\n\n    .dataframe thead th {\n        text-align: right;\n    }\n</style>\n<table border=\"1\" class=\"dataframe\">\n  <thead>\n    <tr style=\"text-align: right;\">\n      <th></th>\n      <th>Living space</th>\n      <th>Plot area</th>\n      <th>Floor space</th>\n      <th>Floor</th>\n      <th>ForestDensityL</th>\n      <th>ForestDensityM</th>\n      <th>ForestDensityS</th>\n      <th>Latitude</th>\n      <th>Longitude</th>\n      <th>NoisePollutionRailwayL</th>\n      <th>...</th>\n      <th>gde_population</th>\n      <th>gde_private_apartments</th>\n      <th>gde_social_help_quota</th>\n      <th>gde_tax</th>\n      <th>gde_workers_sector1</th>\n      <th>gde_workers_sector2</th>\n      <th>gde_workers_sector3</th>\n      <th>gde_workers_total</th>\n      <th>rooms</th>\n      <th>type_unified</th>\n    </tr>\n  </thead>\n  <tbody>\n    <tr>\n      <th>0</th>\n      <td>220.0</td>\n      <td>733.0</td>\n      <td>NaN</td>\n      <td>NaN</td>\n      <td>0.164382</td>\n      <td>0.100030</td>\n      <td>0.063548</td>\n      <td>47.372110</td>\n      <td>8.075858</td>\n      <td>0.003811</td>\n      <td>...</td>\n      <td>9990.0</td>\n      <td>4212.0</td>\n      <td>4.281099</td>\n      <td>6.35</td>\n      <td>38.0</td>\n      <td>1015.0</td>\n      <td>4188.0</td>\n      <td>5241.0</td>\n      <td>5.0</td>\n      <td>villa</td>\n    </tr>\n    <tr>\n      <th>1</th>\n      <td>230.0</td>\n      <td>702.0</td>\n      <td>NaN</td>\n      <td>NaN</td>\n      <td>0.260855</td>\n      <td>0.170434</td>\n      <td>0.083253</td>\n      <td>47.371558</td>\n      <td>8.073110</td>\n      <td>0.002623</td>\n      <td>...</td>\n      <td>9990.0</td>\n      <td>4212.0</td>\n      <td>4.281099</td>\n      <td>6.35</td>\n      <td>38.0</td>\n      <td>1015.0</td>\n      <td>4188.0</td>\n      <td>5241.0</td>\n      <td>5.0</td>\n      <td>detached-house</td>\n    </tr>\n    <tr>\n      <th>2</th>\n      <td>131.0</td>\n      <td>NaN</td>\n      <td>NaN</td>\n      <td>NaN</td>\n      <td>0.434114</td>\n      <td>0.357984</td>\n      <td>0.125505</td>\n      <td>47.413754</td>\n      <td>8.082318</td>\n      <td>0.000000</td>\n      <td>...</td>\n      <td>1545.0</td>\n      <td>686.0</td>\n      <td>2.234259</td>\n      <td>5.89</td>\n      <td>14.0</td>\n      <td>9.0</td>\n      <td>308.0</td>\n      <td>331.0</td>\n      <td>5.0</td>\n      <td>stepped-house</td>\n    </tr>\n    <tr>\n      <th>3</th>\n      <td>140.0</td>\n      <td>206.0</td>\n      <td>140.0</td>\n      <td>NaN</td>\n      <td>0.148190</td>\n      <td>0.076610</td>\n      <td>0.000000</td>\n      <td>47.373327</td>\n      <td>8.076892</td>\n      <td>0.005193</td>\n      <td>...</td>\n      <td>9990.0</td>\n      <td>4212.0</td>\n      <td>4.281099</td>\n      <td>6.35</td>\n      <td>38.0</td>\n      <td>1015.0</td>\n      <td>4188.0</td>\n      <td>5241.0</td>\n      <td>5.0</td>\n      <td>terrace-house</td>\n    </tr>\n    <tr>\n      <th>4</th>\n      <td>156.0</td>\n      <td>222.0</td>\n      <td>242.0</td>\n      <td>NaN</td>\n      <td>0.511176</td>\n      <td>0.286451</td>\n      <td>0.090908</td>\n      <td>47.415927</td>\n      <td>8.085840</td>\n      <td>0.000000</td>\n      <td>...</td>\n      <td>1545.0</td>\n      <td>686.0</td>\n      <td>2.234259</td>\n      <td>5.89</td>\n      <td>14.0</td>\n      <td>9.0</td>\n      <td>308.0</td>\n      <td>331.0</td>\n      <td>5.0</td>\n      <td>terrace-house</td>\n    </tr>\n  </tbody>\n</table>\n<p>5 rows × 50 columns</p>\n</div>"
     },
     "execution_count": 64,
     "metadata": {},
     "output_type": "execute_result"
    }
   ],
   "source": [
    "columns = ['Municipality',#unbrauchbar wegen long und lat\n",
    "            'Availability',#zu wenig Daten\n",
    "            'location',#long und lat\n",
    "            'location_parsed',#long und lat\n",
    "            'description',#unbrauchbar         \n",
    "            'detailed_description',#unbrauchbar\n",
    "            'url',#unbrauchbar\n",
    "            'table',#unbrauchbar\n",
    "            'Gross return',#zu wenig Daten\n",
    "            'title',#unbrauchbar\n",
    "            'address',#unbrauchbar wegen long und lat\n",
    "            #'price',#gibt price_cleaned\n",
    "            'link',#unbrauchbar\n",
    "            'details_structured',#unbrauchbar\n",
    "            'lat',#gibt latitute\n",
    "            'lon',#gibt longitude\n",
    "            'index',#unbrauchbar\n",
    "            'Locality',#long und lat\n",
    "            'plz_parsed',#gibt ZIP\n",
    "            #'type',#gibt type_unified\n",
    "            'Floor_unified',#gibt Floor\n",
    "            'provider',#unbrauchbar\n",
    "            'space',#gibt Living space\n",
    "            #'price_s',#gibt price_cleaned\n",
    "            'address_s',#unbrauchbar wegen long und lat\n",
    "            'No. of rooms:',#gibt schon rooms\n",
    "            'Number of apartments:',#unbrauchbar\n",
    "            'Room height:',#zu wenig Daten\n",
    "            'Last refurbishment:',#zu wenig Daten\n",
    "            'Year built:',#zu wenig Daten\n",
    "            'features',#unbrauchbar\n",
    "            'description_detailed',#unbrauchbar\n",
    "            'Number of floors:',#zu wenig Daten\n",
    "            'Volume:',#unbrauchbar\n",
    "            'plz',#gibt ZIP\n",
    "            'Number of toilets:',#zu wenig Daten\n",
    "            'Gross yield:',#zu wenig Daten\n",
    "            'Minimum floor space:',#zu wenig Daten\n",
    "            'space_cleaned',#gibt Living space\n",
    "            'gde_politics_bdp',#zu wenig Daten\n",
    "            'gde_politics_evp',#zu wenig Daten\n",
    "            'gde_politics_glp',#zu wenig Daten\n",
    "            'gde_politics_pda',#zu wenig Daten\n",
    "            'gde_politics_rights',#zu wenig Daten\n",
    "            'Type:',#gibt type_unified\n",
    "            'Hall height:',#zu wenig Daten\n",
    "]\n",
    "\n",
    "\n",
    "clean_df = clean_df.drop(columns, axis=1)\n",
    "clean_df.head()"
   ]
  },
  {
   "cell_type": "markdown",
   "metadata": {},
   "source": [
    "### Divide categorical \"type\" variable into dummy variables"
   ]
  },
  {
   "cell_type": "code",
   "execution_count": 65,
   "metadata": {},
   "outputs": [
    {
     "data": {
      "text/plain": "array(['villa', 'detached-house', 'stepped-house', 'terrace-house',\n       'flat', 'penthouse', 'attic-flat', 'stepped-apartment',\n       'semi-detached-house', 'furnished-residential-property', 'studio',\n       'duplex-maisonette', 'farmhouse', 'loft', 'chalet',\n       'secondary-suite', 'castle', 'rustico', 'single-room',\n       'detached-secondary-suite', 'attic-room', nan], dtype=object)"
     },
     "execution_count": 65,
     "metadata": {},
     "output_type": "execute_result"
    }
   ],
   "source": [
    "clean_df[\"type_unified\"].unique()"
   ]
  },
  {
   "cell_type": "code",
   "execution_count": 66,
   "metadata": {},
   "outputs": [],
   "source": [
    "clean_df = pd.get_dummies(clean_df, columns=['type_unified'])"
   ]
  },
  {
   "cell_type": "markdown",
   "metadata": {},
   "source": [
    "### How many NAN's has each column"
   ]
  },
  {
   "cell_type": "code",
   "execution_count": 67,
   "metadata": {},
   "outputs": [
    {
     "data": {
      "text/plain": "Living space                       5.633803\nPlot area                         61.385655\nFloor space                       79.406497\nFloor                             56.761378\nForestDensityL                     0.000000\n                                    ...    \ntype_unified_stepped-apartment     0.000000\ntype_unified_stepped-house         0.000000\ntype_unified_studio                0.000000\ntype_unified_terrace-house         0.000000\ntype_unified_villa                 0.000000\nLength: 70, dtype: float64"
     },
     "execution_count": 67,
     "metadata": {},
     "output_type": "execute_result"
    }
   ],
   "source": [
    "(clean_df.isnull().sum() / len(clean_df)) * 100\n",
    "\n",
    "#Floor und Floorspace????"
   ]
  },
  {
   "cell_type": "code",
   "execution_count": 68,
   "metadata": {},
   "outputs": [
    {
     "data": {
      "text/plain": "   Living space  Plot area  Floor  ForestDensityL  ForestDensityM  \\\n0         220.0      733.0    NaN        0.164382        0.100030   \n1         230.0      702.0    NaN        0.260855        0.170434   \n2         131.0      131.0    NaN        0.434114        0.357984   \n3         140.0      206.0    NaN        0.148190        0.076610   \n4         156.0      222.0    NaN        0.511176        0.286451   \n\n   ForestDensityS   Latitude  Longitude  NoisePollutionRailwayL  \\\n0        0.063548  47.372110   8.075858                0.003811   \n1        0.083253  47.371558   8.073110                0.002623   \n2        0.125505  47.413754   8.082318                0.000000   \n3        0.000000  47.373327   8.076892                0.005193   \n4        0.090908  47.415927   8.085840                0.000000   \n\n   NoisePollutionRailwayM  ...  type_unified_penthouse  type_unified_rustico  \\\n0                     0.0  ...                       0                     0   \n1                     0.0  ...                       0                     0   \n2                     0.0  ...                       0                     0   \n3                     0.0  ...                       0                     0   \n4                     0.0  ...                       0                     0   \n\n   type_unified_secondary-suite  type_unified_semi-detached-house  \\\n0                             0                                 0   \n1                             0                                 0   \n2                             0                                 0   \n3                             0                                 0   \n4                             0                                 0   \n\n   type_unified_single-room  type_unified_stepped-apartment  \\\n0                         0                               0   \n1                         0                               0   \n2                         0                               0   \n3                         0                               0   \n4                         0                               0   \n\n   type_unified_stepped-house  type_unified_studio  \\\n0                           0                    0   \n1                           0                    0   \n2                           1                    0   \n3                           0                    0   \n4                           0                    0   \n\n   type_unified_terrace-house  type_unified_villa  \n0                           0                   1  \n1                           0                   0  \n2                           0                   0  \n3                           1                   0  \n4                           1                   0  \n\n[5 rows x 69 columns]",
      "text/html": "<div>\n<style scoped>\n    .dataframe tbody tr th:only-of-type {\n        vertical-align: middle;\n    }\n\n    .dataframe tbody tr th {\n        vertical-align: top;\n    }\n\n    .dataframe thead th {\n        text-align: right;\n    }\n</style>\n<table border=\"1\" class=\"dataframe\">\n  <thead>\n    <tr style=\"text-align: right;\">\n      <th></th>\n      <th>Living space</th>\n      <th>Plot area</th>\n      <th>Floor</th>\n      <th>ForestDensityL</th>\n      <th>ForestDensityM</th>\n      <th>ForestDensityS</th>\n      <th>Latitude</th>\n      <th>Longitude</th>\n      <th>NoisePollutionRailwayL</th>\n      <th>NoisePollutionRailwayM</th>\n      <th>...</th>\n      <th>type_unified_penthouse</th>\n      <th>type_unified_rustico</th>\n      <th>type_unified_secondary-suite</th>\n      <th>type_unified_semi-detached-house</th>\n      <th>type_unified_single-room</th>\n      <th>type_unified_stepped-apartment</th>\n      <th>type_unified_stepped-house</th>\n      <th>type_unified_studio</th>\n      <th>type_unified_terrace-house</th>\n      <th>type_unified_villa</th>\n    </tr>\n  </thead>\n  <tbody>\n    <tr>\n      <th>0</th>\n      <td>220.0</td>\n      <td>733.0</td>\n      <td>NaN</td>\n      <td>0.164382</td>\n      <td>0.100030</td>\n      <td>0.063548</td>\n      <td>47.372110</td>\n      <td>8.075858</td>\n      <td>0.003811</td>\n      <td>0.0</td>\n      <td>...</td>\n      <td>0</td>\n      <td>0</td>\n      <td>0</td>\n      <td>0</td>\n      <td>0</td>\n      <td>0</td>\n      <td>0</td>\n      <td>0</td>\n      <td>0</td>\n      <td>1</td>\n    </tr>\n    <tr>\n      <th>1</th>\n      <td>230.0</td>\n      <td>702.0</td>\n      <td>NaN</td>\n      <td>0.260855</td>\n      <td>0.170434</td>\n      <td>0.083253</td>\n      <td>47.371558</td>\n      <td>8.073110</td>\n      <td>0.002623</td>\n      <td>0.0</td>\n      <td>...</td>\n      <td>0</td>\n      <td>0</td>\n      <td>0</td>\n      <td>0</td>\n      <td>0</td>\n      <td>0</td>\n      <td>0</td>\n      <td>0</td>\n      <td>0</td>\n      <td>0</td>\n    </tr>\n    <tr>\n      <th>2</th>\n      <td>131.0</td>\n      <td>131.0</td>\n      <td>NaN</td>\n      <td>0.434114</td>\n      <td>0.357984</td>\n      <td>0.125505</td>\n      <td>47.413754</td>\n      <td>8.082318</td>\n      <td>0.000000</td>\n      <td>0.0</td>\n      <td>...</td>\n      <td>0</td>\n      <td>0</td>\n      <td>0</td>\n      <td>0</td>\n      <td>0</td>\n      <td>0</td>\n      <td>1</td>\n      <td>0</td>\n      <td>0</td>\n      <td>0</td>\n    </tr>\n    <tr>\n      <th>3</th>\n      <td>140.0</td>\n      <td>206.0</td>\n      <td>NaN</td>\n      <td>0.148190</td>\n      <td>0.076610</td>\n      <td>0.000000</td>\n      <td>47.373327</td>\n      <td>8.076892</td>\n      <td>0.005193</td>\n      <td>0.0</td>\n      <td>...</td>\n      <td>0</td>\n      <td>0</td>\n      <td>0</td>\n      <td>0</td>\n      <td>0</td>\n      <td>0</td>\n      <td>0</td>\n      <td>0</td>\n      <td>1</td>\n      <td>0</td>\n    </tr>\n    <tr>\n      <th>4</th>\n      <td>156.0</td>\n      <td>222.0</td>\n      <td>NaN</td>\n      <td>0.511176</td>\n      <td>0.286451</td>\n      <td>0.090908</td>\n      <td>47.415927</td>\n      <td>8.085840</td>\n      <td>0.000000</td>\n      <td>0.0</td>\n      <td>...</td>\n      <td>0</td>\n      <td>0</td>\n      <td>0</td>\n      <td>0</td>\n      <td>0</td>\n      <td>0</td>\n      <td>0</td>\n      <td>0</td>\n      <td>1</td>\n      <td>0</td>\n    </tr>\n  </tbody>\n</table>\n<p>5 rows × 69 columns</p>\n</div>"
     },
     "execution_count": 68,
     "metadata": {},
     "output_type": "execute_result"
    }
   ],
   "source": [
    "#Florspace Temporär rausgenommen\n",
    "clean_df = clean_df.drop([\"Floor space\"], axis = 1)\n",
    "clean_df['Plot area'] = clean_df['Plot area'].fillna(clean_df['Living space'])\n",
    "clean_df.head()"
   ]
  },
  {
   "cell_type": "code",
   "execution_count": 69,
   "metadata": {},
   "outputs": [
    {
     "data": {
      "text/plain": "Index(['Living space', 'Plot area', 'Floor', 'ForestDensityL',\n       'ForestDensityM', 'ForestDensityS', 'Latitude', 'Longitude',\n       'NoisePollutionRailwayL', 'NoisePollutionRailwayM',\n       'NoisePollutionRailwayS', 'NoisePollutionRoadL', 'NoisePollutionRoadM',\n       'NoisePollutionRoadS', 'PopulationDensityL', 'PopulationDensityM',\n       'PopulationDensityS', 'RiversAndLakesL', 'RiversAndLakesM',\n       'RiversAndLakesS', 'WorkplaceDensityL', 'WorkplaceDensityM',\n       'WorkplaceDensityS', 'Zip', 'distanceToTrainStation',\n       'gde_area_agriculture_percentage', 'gde_area_forest_percentage',\n       'gde_area_nonproductive_percentage', 'gde_area_settlement_percentage',\n       'gde_average_house_hold', 'gde_empty_apartments',\n       'gde_foreigners_percentage', 'gde_new_homes_per_1000',\n       'gde_politics_cvp', 'gde_politics_fdp', 'gde_politics_gps',\n       'gde_politics_sp', 'gde_politics_svp', 'gde_pop_per_km2',\n       'gde_population', 'gde_private_apartments', 'gde_social_help_quota',\n       'gde_tax', 'gde_workers_sector1', 'gde_workers_sector2',\n       'gde_workers_sector3', 'gde_workers_total', 'rooms',\n       'type_unified_attic-flat', 'type_unified_attic-room',\n       'type_unified_castle', 'type_unified_chalet',\n       'type_unified_detached-house', 'type_unified_detached-secondary-suite',\n       'type_unified_duplex-maisonette', 'type_unified_farmhouse',\n       'type_unified_flat', 'type_unified_furnished-residential-property',\n       'type_unified_loft', 'type_unified_penthouse', 'type_unified_rustico',\n       'type_unified_secondary-suite', 'type_unified_semi-detached-house',\n       'type_unified_single-room', 'type_unified_stepped-apartment',\n       'type_unified_stepped-house', 'type_unified_studio',\n       'type_unified_terrace-house', 'type_unified_villa'],\n      dtype='object')"
     },
     "execution_count": 69,
     "metadata": {},
     "output_type": "execute_result"
    }
   ],
   "source": [
    "clean_df.columns"
   ]
  },
  {
   "attachments": {},
   "cell_type": "markdown",
   "metadata": {},
   "source": [
    "### Imputation"
   ]
  },
  {
   "cell_type": "code",
   "execution_count": 70,
   "metadata": {},
   "outputs": [
    {
     "data": {
      "text/plain": "Index(['Living space', 'Plot area', 'Floor', 'gde_politics_cvp',\n       'gde_politics_fdp', 'gde_politics_gps', 'gde_politics_sp',\n       'gde_politics_svp', 'rooms'],\n      dtype='object')"
     },
     "execution_count": 70,
     "metadata": {},
     "output_type": "execute_result"
    }
   ],
   "source": [
    "nan_percentage = (clean_df.isnull().sum() / len(clean_df)) * 100\n",
    "\n",
    "cols = nan_percentage[(nan_percentage > 0)].index\n",
    "cols"
   ]
  },
  {
   "cell_type": "code",
   "execution_count": 71,
   "outputs": [
    {
     "data": {
      "text/plain": "       Living space  Plot area  Floor  ForestDensityL  ForestDensityM  \\\n4113          450.0     2850.0    0.0        0.062448        0.004470   \n4538          900.0     7623.0    0.0        0.039354        0.034158   \n12241         275.0      302.0    0.0        0.000801        0.000000   \n12253         503.0     2214.0    0.0        0.000801        0.000000   \n12259         228.0     1912.0    0.0        0.000801        0.000000   \n12287         300.0      302.0    0.0        0.000801        0.000000   \n12290         228.0     1912.0    0.0        0.000801        0.000000   \n13446         228.0     1912.0    0.0        0.000801        0.000000   \n13447         228.0     1912.0    0.0        0.000801        0.000000   \n13450         275.0      302.0    0.0        0.000801        0.000000   \n13451         503.0     2214.0    0.0        0.000801        0.000000   \n15147         900.0     7623.0    0.0        0.039354        0.034158   \n15594         450.0     2850.0    0.0        0.059019        0.000000   \n\n       ForestDensityS   Latitude  Longitude  NoisePollutionRailwayL  \\\n4113              0.0  46.755407   7.149263                     0.0   \n4538              0.0  46.510841   6.849226                     0.0   \n12241             0.0  46.593945   6.565308                     0.0   \n12253             0.0  46.593945   6.565308                     0.0   \n12259             0.0  46.593945   6.565308                     0.0   \n12287             0.0  46.593945   6.565308                     0.0   \n12290             0.0  46.593945   6.565308                     0.0   \n13446             0.0  46.593945   6.565308                     0.0   \n13447             0.0  46.593945   6.565308                     0.0   \n13450             0.0  46.593945   6.565308                     0.0   \n13451             0.0  46.593945   6.565308                     0.0   \n15147             0.0  46.510841   6.849226                     0.0   \n15594             0.0  46.754509   7.146302                     0.0   \n\n       NoisePollutionRailwayM  ...  type_unified_penthouse  \\\n4113                      0.0  ...                       0   \n4538                      0.0  ...                       0   \n12241                     0.0  ...                       0   \n12253                     0.0  ...                       0   \n12259                     0.0  ...                       0   \n12287                     0.0  ...                       0   \n12290                     0.0  ...                       0   \n13446                     0.0  ...                       0   \n13447                     0.0  ...                       0   \n13450                     0.0  ...                       0   \n13451                     0.0  ...                       0   \n15147                     0.0  ...                       0   \n15594                     0.0  ...                       0   \n\n       type_unified_rustico  type_unified_secondary-suite  \\\n4113                      0                             0   \n4538                      0                             0   \n12241                     0                             0   \n12253                     0                             0   \n12259                     0                             0   \n12287                     0                             0   \n12290                     0                             0   \n13446                     0                             0   \n13447                     0                             0   \n13450                     0                             0   \n13451                     0                             0   \n15147                     0                             0   \n15594                     0                             0   \n\n       type_unified_semi-detached-house  type_unified_single-room  \\\n4113                                  0                         0   \n4538                                  0                         0   \n12241                                 0                         0   \n12253                                 0                         0   \n12259                                 0                         0   \n12287                                 0                         0   \n12290                                 0                         0   \n13446                                 0                         0   \n13447                                 0                         0   \n13450                                 0                         0   \n13451                                 0                         0   \n15147                                 0                         0   \n15594                                 0                         0   \n\n       type_unified_stepped-apartment  type_unified_stepped-house  \\\n4113                                0                           0   \n4538                                0                           0   \n12241                               0                           0   \n12253                               0                           0   \n12259                               0                           0   \n12287                               0                           0   \n12290                               0                           0   \n13446                               0                           0   \n13447                               0                           0   \n13450                               0                           0   \n13451                               0                           0   \n15147                               0                           0   \n15594                               0                           0   \n\n       type_unified_studio  type_unified_terrace-house  type_unified_villa  \n4113                     0                           0                   0  \n4538                     0                           0                   0  \n12241                    0                           0                   0  \n12253                    0                           0                   0  \n12259                    0                           0                   0  \n12287                    0                           0                   0  \n12290                    0                           0                   0  \n13446                    0                           0                   0  \n13447                    0                           0                   0  \n13450                    0                           0                   0  \n13451                    0                           0                   0  \n15147                    0                           0                   0  \n15594                    0                           0                   0  \n\n[13 rows x 69 columns]",
      "text/html": "<div>\n<style scoped>\n    .dataframe tbody tr th:only-of-type {\n        vertical-align: middle;\n    }\n\n    .dataframe tbody tr th {\n        vertical-align: top;\n    }\n\n    .dataframe thead th {\n        text-align: right;\n    }\n</style>\n<table border=\"1\" class=\"dataframe\">\n  <thead>\n    <tr style=\"text-align: right;\">\n      <th></th>\n      <th>Living space</th>\n      <th>Plot area</th>\n      <th>Floor</th>\n      <th>ForestDensityL</th>\n      <th>ForestDensityM</th>\n      <th>ForestDensityS</th>\n      <th>Latitude</th>\n      <th>Longitude</th>\n      <th>NoisePollutionRailwayL</th>\n      <th>NoisePollutionRailwayM</th>\n      <th>...</th>\n      <th>type_unified_penthouse</th>\n      <th>type_unified_rustico</th>\n      <th>type_unified_secondary-suite</th>\n      <th>type_unified_semi-detached-house</th>\n      <th>type_unified_single-room</th>\n      <th>type_unified_stepped-apartment</th>\n      <th>type_unified_stepped-house</th>\n      <th>type_unified_studio</th>\n      <th>type_unified_terrace-house</th>\n      <th>type_unified_villa</th>\n    </tr>\n  </thead>\n  <tbody>\n    <tr>\n      <th>4113</th>\n      <td>450.0</td>\n      <td>2850.0</td>\n      <td>0.0</td>\n      <td>0.062448</td>\n      <td>0.004470</td>\n      <td>0.0</td>\n      <td>46.755407</td>\n      <td>7.149263</td>\n      <td>0.0</td>\n      <td>0.0</td>\n      <td>...</td>\n      <td>0</td>\n      <td>0</td>\n      <td>0</td>\n      <td>0</td>\n      <td>0</td>\n      <td>0</td>\n      <td>0</td>\n      <td>0</td>\n      <td>0</td>\n      <td>0</td>\n    </tr>\n    <tr>\n      <th>4538</th>\n      <td>900.0</td>\n      <td>7623.0</td>\n      <td>0.0</td>\n      <td>0.039354</td>\n      <td>0.034158</td>\n      <td>0.0</td>\n      <td>46.510841</td>\n      <td>6.849226</td>\n      <td>0.0</td>\n      <td>0.0</td>\n      <td>...</td>\n      <td>0</td>\n      <td>0</td>\n      <td>0</td>\n      <td>0</td>\n      <td>0</td>\n      <td>0</td>\n      <td>0</td>\n      <td>0</td>\n      <td>0</td>\n      <td>0</td>\n    </tr>\n    <tr>\n      <th>12241</th>\n      <td>275.0</td>\n      <td>302.0</td>\n      <td>0.0</td>\n      <td>0.000801</td>\n      <td>0.000000</td>\n      <td>0.0</td>\n      <td>46.593945</td>\n      <td>6.565308</td>\n      <td>0.0</td>\n      <td>0.0</td>\n      <td>...</td>\n      <td>0</td>\n      <td>0</td>\n      <td>0</td>\n      <td>0</td>\n      <td>0</td>\n      <td>0</td>\n      <td>0</td>\n      <td>0</td>\n      <td>0</td>\n      <td>0</td>\n    </tr>\n    <tr>\n      <th>12253</th>\n      <td>503.0</td>\n      <td>2214.0</td>\n      <td>0.0</td>\n      <td>0.000801</td>\n      <td>0.000000</td>\n      <td>0.0</td>\n      <td>46.593945</td>\n      <td>6.565308</td>\n      <td>0.0</td>\n      <td>0.0</td>\n      <td>...</td>\n      <td>0</td>\n      <td>0</td>\n      <td>0</td>\n      <td>0</td>\n      <td>0</td>\n      <td>0</td>\n      <td>0</td>\n      <td>0</td>\n      <td>0</td>\n      <td>0</td>\n    </tr>\n    <tr>\n      <th>12259</th>\n      <td>228.0</td>\n      <td>1912.0</td>\n      <td>0.0</td>\n      <td>0.000801</td>\n      <td>0.000000</td>\n      <td>0.0</td>\n      <td>46.593945</td>\n      <td>6.565308</td>\n      <td>0.0</td>\n      <td>0.0</td>\n      <td>...</td>\n      <td>0</td>\n      <td>0</td>\n      <td>0</td>\n      <td>0</td>\n      <td>0</td>\n      <td>0</td>\n      <td>0</td>\n      <td>0</td>\n      <td>0</td>\n      <td>0</td>\n    </tr>\n    <tr>\n      <th>12287</th>\n      <td>300.0</td>\n      <td>302.0</td>\n      <td>0.0</td>\n      <td>0.000801</td>\n      <td>0.000000</td>\n      <td>0.0</td>\n      <td>46.593945</td>\n      <td>6.565308</td>\n      <td>0.0</td>\n      <td>0.0</td>\n      <td>...</td>\n      <td>0</td>\n      <td>0</td>\n      <td>0</td>\n      <td>0</td>\n      <td>0</td>\n      <td>0</td>\n      <td>0</td>\n      <td>0</td>\n      <td>0</td>\n      <td>0</td>\n    </tr>\n    <tr>\n      <th>12290</th>\n      <td>228.0</td>\n      <td>1912.0</td>\n      <td>0.0</td>\n      <td>0.000801</td>\n      <td>0.000000</td>\n      <td>0.0</td>\n      <td>46.593945</td>\n      <td>6.565308</td>\n      <td>0.0</td>\n      <td>0.0</td>\n      <td>...</td>\n      <td>0</td>\n      <td>0</td>\n      <td>0</td>\n      <td>0</td>\n      <td>0</td>\n      <td>0</td>\n      <td>0</td>\n      <td>0</td>\n      <td>0</td>\n      <td>0</td>\n    </tr>\n    <tr>\n      <th>13446</th>\n      <td>228.0</td>\n      <td>1912.0</td>\n      <td>0.0</td>\n      <td>0.000801</td>\n      <td>0.000000</td>\n      <td>0.0</td>\n      <td>46.593945</td>\n      <td>6.565308</td>\n      <td>0.0</td>\n      <td>0.0</td>\n      <td>...</td>\n      <td>0</td>\n      <td>0</td>\n      <td>0</td>\n      <td>0</td>\n      <td>0</td>\n      <td>0</td>\n      <td>0</td>\n      <td>0</td>\n      <td>0</td>\n      <td>0</td>\n    </tr>\n    <tr>\n      <th>13447</th>\n      <td>228.0</td>\n      <td>1912.0</td>\n      <td>0.0</td>\n      <td>0.000801</td>\n      <td>0.000000</td>\n      <td>0.0</td>\n      <td>46.593945</td>\n      <td>6.565308</td>\n      <td>0.0</td>\n      <td>0.0</td>\n      <td>...</td>\n      <td>0</td>\n      <td>0</td>\n      <td>0</td>\n      <td>0</td>\n      <td>0</td>\n      <td>0</td>\n      <td>0</td>\n      <td>0</td>\n      <td>0</td>\n      <td>0</td>\n    </tr>\n    <tr>\n      <th>13450</th>\n      <td>275.0</td>\n      <td>302.0</td>\n      <td>0.0</td>\n      <td>0.000801</td>\n      <td>0.000000</td>\n      <td>0.0</td>\n      <td>46.593945</td>\n      <td>6.565308</td>\n      <td>0.0</td>\n      <td>0.0</td>\n      <td>...</td>\n      <td>0</td>\n      <td>0</td>\n      <td>0</td>\n      <td>0</td>\n      <td>0</td>\n      <td>0</td>\n      <td>0</td>\n      <td>0</td>\n      <td>0</td>\n      <td>0</td>\n    </tr>\n    <tr>\n      <th>13451</th>\n      <td>503.0</td>\n      <td>2214.0</td>\n      <td>0.0</td>\n      <td>0.000801</td>\n      <td>0.000000</td>\n      <td>0.0</td>\n      <td>46.593945</td>\n      <td>6.565308</td>\n      <td>0.0</td>\n      <td>0.0</td>\n      <td>...</td>\n      <td>0</td>\n      <td>0</td>\n      <td>0</td>\n      <td>0</td>\n      <td>0</td>\n      <td>0</td>\n      <td>0</td>\n      <td>0</td>\n      <td>0</td>\n      <td>0</td>\n    </tr>\n    <tr>\n      <th>15147</th>\n      <td>900.0</td>\n      <td>7623.0</td>\n      <td>0.0</td>\n      <td>0.039354</td>\n      <td>0.034158</td>\n      <td>0.0</td>\n      <td>46.510841</td>\n      <td>6.849226</td>\n      <td>0.0</td>\n      <td>0.0</td>\n      <td>...</td>\n      <td>0</td>\n      <td>0</td>\n      <td>0</td>\n      <td>0</td>\n      <td>0</td>\n      <td>0</td>\n      <td>0</td>\n      <td>0</td>\n      <td>0</td>\n      <td>0</td>\n    </tr>\n    <tr>\n      <th>15594</th>\n      <td>450.0</td>\n      <td>2850.0</td>\n      <td>0.0</td>\n      <td>0.059019</td>\n      <td>0.000000</td>\n      <td>0.0</td>\n      <td>46.754509</td>\n      <td>7.146302</td>\n      <td>0.0</td>\n      <td>0.0</td>\n      <td>...</td>\n      <td>0</td>\n      <td>0</td>\n      <td>0</td>\n      <td>0</td>\n      <td>0</td>\n      <td>0</td>\n      <td>0</td>\n      <td>0</td>\n      <td>0</td>\n      <td>0</td>\n    </tr>\n  </tbody>\n</table>\n<p>13 rows × 69 columns</p>\n</div>"
     },
     "execution_count": 71,
     "metadata": {},
     "output_type": "execute_result"
    }
   ],
   "source": [
    "TYPES_WITH_NO_FLOOR = ['type_unified_villa', 'type_unified_farmhouse', 'type_unified_castle', 'type_unified_chalet', 'type_unified_detached-house', 'type_unified_semi-detached-house']\n",
    "\n",
    "for col in TYPES_WITH_NO_FLOOR:\n",
    "    clean_df.loc[clean_df[col] == 1., 'Floor'] = clean_df[clean_df[col] == 1.].Floor.fillna(0.)\n",
    "\n",
    "clean_df[clean_df[TYPES_WITH_NO_FLOOR[2]] == 1.]"
   ],
   "metadata": {
    "collapsed": false
   }
  },
  {
   "cell_type": "code",
   "execution_count": 72,
   "metadata": {
    "collapsed": false
   },
   "outputs": [],
   "source": [
    "source_path = Path('./data/model/01_clean_data.pkl')\n",
    "source_data = load(source_path)\n",
    "imputers = source_data['imputers']\n",
    "base_imputer = source_data['base_imputer']"
   ]
  },
  {
   "cell_type": "code",
   "execution_count": 73,
   "outputs": [],
   "source": [
    "columns = clean_df.columns\n",
    "\n",
    "for col in imputers.keys():\n",
    "    clean_df.loc[clean_df[col] == 1., columns] = imputers[col].transform(clean_df.loc[clean_df[col] == 1.])\n",
    "\n",
    "clean_df[columns] = base_imputer.transform(clean_df)"
   ],
   "metadata": {
    "collapsed": false
   }
  },
  {
   "cell_type": "code",
   "execution_count": 76,
   "metadata": {},
   "outputs": [
    {
     "data": {
      "text/plain": "   Living space  Plot area  Floor  ForestDensityL  ForestDensityM  \\\n0         220.0      733.0    0.0        0.164382        0.100030   \n1         230.0      702.0    0.0        0.260855        0.170434   \n2         131.0      131.0    0.0        0.434114        0.357984   \n3         140.0      206.0    3.0        0.148190        0.076610   \n4         156.0      222.0    3.0        0.511176        0.286451   \n\n   ForestDensityS   Latitude  Longitude  NoisePollutionRailwayL  \\\n0        0.063548  47.372110   8.075858                0.003811   \n1        0.083253  47.371558   8.073110                0.002623   \n2        0.125505  47.413754   8.082318                0.000000   \n3        0.000000  47.373327   8.076892                0.005193   \n4        0.090908  47.415927   8.085840                0.000000   \n\n   NoisePollutionRailwayM  ...  type_unified_penthouse  type_unified_rustico  \\\n0                     0.0  ...                     0.0                   0.0   \n1                     0.0  ...                     0.0                   0.0   \n2                     0.0  ...                     0.0                   0.0   \n3                     0.0  ...                     0.0                   0.0   \n4                     0.0  ...                     0.0                   0.0   \n\n   type_unified_secondary-suite  type_unified_semi-detached-house  \\\n0                           0.0                               0.0   \n1                           0.0                               0.0   \n2                           0.0                               0.0   \n3                           0.0                               0.0   \n4                           0.0                               0.0   \n\n   type_unified_single-room  type_unified_stepped-apartment  \\\n0                       0.0                             0.0   \n1                       0.0                             0.0   \n2                       0.0                             0.0   \n3                       0.0                             0.0   \n4                       0.0                             0.0   \n\n   type_unified_stepped-house  type_unified_studio  \\\n0                         0.0                  0.0   \n1                         0.0                  0.0   \n2                         1.0                  0.0   \n3                         0.0                  0.0   \n4                         0.0                  0.0   \n\n   type_unified_terrace-house  type_unified_villa  \n0                         0.0                 1.0  \n1                         0.0                 0.0  \n2                         0.0                 0.0  \n3                         1.0                 0.0  \n4                         1.0                 0.0  \n\n[5 rows x 69 columns]",
      "text/html": "<div>\n<style scoped>\n    .dataframe tbody tr th:only-of-type {\n        vertical-align: middle;\n    }\n\n    .dataframe tbody tr th {\n        vertical-align: top;\n    }\n\n    .dataframe thead th {\n        text-align: right;\n    }\n</style>\n<table border=\"1\" class=\"dataframe\">\n  <thead>\n    <tr style=\"text-align: right;\">\n      <th></th>\n      <th>Living space</th>\n      <th>Plot area</th>\n      <th>Floor</th>\n      <th>ForestDensityL</th>\n      <th>ForestDensityM</th>\n      <th>ForestDensityS</th>\n      <th>Latitude</th>\n      <th>Longitude</th>\n      <th>NoisePollutionRailwayL</th>\n      <th>NoisePollutionRailwayM</th>\n      <th>...</th>\n      <th>type_unified_penthouse</th>\n      <th>type_unified_rustico</th>\n      <th>type_unified_secondary-suite</th>\n      <th>type_unified_semi-detached-house</th>\n      <th>type_unified_single-room</th>\n      <th>type_unified_stepped-apartment</th>\n      <th>type_unified_stepped-house</th>\n      <th>type_unified_studio</th>\n      <th>type_unified_terrace-house</th>\n      <th>type_unified_villa</th>\n    </tr>\n  </thead>\n  <tbody>\n    <tr>\n      <th>0</th>\n      <td>220.0</td>\n      <td>733.0</td>\n      <td>0.0</td>\n      <td>0.164382</td>\n      <td>0.100030</td>\n      <td>0.063548</td>\n      <td>47.372110</td>\n      <td>8.075858</td>\n      <td>0.003811</td>\n      <td>0.0</td>\n      <td>...</td>\n      <td>0.0</td>\n      <td>0.0</td>\n      <td>0.0</td>\n      <td>0.0</td>\n      <td>0.0</td>\n      <td>0.0</td>\n      <td>0.0</td>\n      <td>0.0</td>\n      <td>0.0</td>\n      <td>1.0</td>\n    </tr>\n    <tr>\n      <th>1</th>\n      <td>230.0</td>\n      <td>702.0</td>\n      <td>0.0</td>\n      <td>0.260855</td>\n      <td>0.170434</td>\n      <td>0.083253</td>\n      <td>47.371558</td>\n      <td>8.073110</td>\n      <td>0.002623</td>\n      <td>0.0</td>\n      <td>...</td>\n      <td>0.0</td>\n      <td>0.0</td>\n      <td>0.0</td>\n      <td>0.0</td>\n      <td>0.0</td>\n      <td>0.0</td>\n      <td>0.0</td>\n      <td>0.0</td>\n      <td>0.0</td>\n      <td>0.0</td>\n    </tr>\n    <tr>\n      <th>2</th>\n      <td>131.0</td>\n      <td>131.0</td>\n      <td>0.0</td>\n      <td>0.434114</td>\n      <td>0.357984</td>\n      <td>0.125505</td>\n      <td>47.413754</td>\n      <td>8.082318</td>\n      <td>0.000000</td>\n      <td>0.0</td>\n      <td>...</td>\n      <td>0.0</td>\n      <td>0.0</td>\n      <td>0.0</td>\n      <td>0.0</td>\n      <td>0.0</td>\n      <td>0.0</td>\n      <td>1.0</td>\n      <td>0.0</td>\n      <td>0.0</td>\n      <td>0.0</td>\n    </tr>\n    <tr>\n      <th>3</th>\n      <td>140.0</td>\n      <td>206.0</td>\n      <td>3.0</td>\n      <td>0.148190</td>\n      <td>0.076610</td>\n      <td>0.000000</td>\n      <td>47.373327</td>\n      <td>8.076892</td>\n      <td>0.005193</td>\n      <td>0.0</td>\n      <td>...</td>\n      <td>0.0</td>\n      <td>0.0</td>\n      <td>0.0</td>\n      <td>0.0</td>\n      <td>0.0</td>\n      <td>0.0</td>\n      <td>0.0</td>\n      <td>0.0</td>\n      <td>1.0</td>\n      <td>0.0</td>\n    </tr>\n    <tr>\n      <th>4</th>\n      <td>156.0</td>\n      <td>222.0</td>\n      <td>3.0</td>\n      <td>0.511176</td>\n      <td>0.286451</td>\n      <td>0.090908</td>\n      <td>47.415927</td>\n      <td>8.085840</td>\n      <td>0.000000</td>\n      <td>0.0</td>\n      <td>...</td>\n      <td>0.0</td>\n      <td>0.0</td>\n      <td>0.0</td>\n      <td>0.0</td>\n      <td>0.0</td>\n      <td>0.0</td>\n      <td>0.0</td>\n      <td>0.0</td>\n      <td>1.0</td>\n      <td>0.0</td>\n    </tr>\n  </tbody>\n</table>\n<p>5 rows × 69 columns</p>\n</div>"
     },
     "execution_count": 76,
     "metadata": {},
     "output_type": "execute_result"
    }
   ],
   "source": [
    "clean_df.head()"
   ]
  },
  {
   "cell_type": "code",
   "execution_count": 75,
   "metadata": {},
   "outputs": [
    {
     "data": {
      "text/plain": "['data/kaggle/01_clean_data.pkl']"
     },
     "execution_count": 75,
     "metadata": {},
     "output_type": "execute_result"
    }
   ],
   "source": [
    "target_path = Path('./data/kaggle/01_clean_data.pkl')\n",
    "dump({\n",
    "  'dataset': clean_df,\n",
    "  'base_imputer': base_imputer,\n",
    "  'imputers': imputers\n",
    "}, target_path)"
   ]
  },
  {
   "cell_type": "code",
   "execution_count": 75,
   "metadata": {},
   "outputs": [],
   "source": []
  }
 ],
 "metadata": {
  "kernelspec": {
   "display_name": "Python 3.10.8 64-bit",
   "language": "python",
   "name": "python3"
  },
  "language_info": {
   "codemirror_mode": {
    "name": "ipython",
    "version": 3
   },
   "file_extension": ".py",
   "mimetype": "text/x-python",
   "name": "python",
   "nbconvert_exporter": "python",
   "pygments_lexer": "ipython3",
   "version": "3.10.8"
  },
  "vscode": {
   "interpreter": {
    "hash": "aee8b7b246df8f9039afb4144a1f6fd8d2ca17a180786b69acc140d282b71a49"
   }
  }
 },
 "nbformat": 4,
 "nbformat_minor": 0
}
