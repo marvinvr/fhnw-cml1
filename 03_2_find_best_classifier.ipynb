{
 "cells": [
  {
   "cell_type": "markdown",
   "metadata": {
    "collapsed": false
   },
   "source": [
    "# Find best model"
   ]
  },
  {
   "cell_type": "markdown",
   "metadata": {
    "collapsed": false
   },
   "source": [
    "### Imports"
   ]
  },
  {
   "cell_type": "code",
   "execution_count": 1,
   "metadata": {
    "collapsed": false
   },
   "outputs": [],
   "source": [
    "import __main__ as main\n",
    "\n",
    "from helpers.training_classifier import *\n",
    "from helpers.feature_selection import select_features\n",
    "from helpers.paths import Paths\n",
    "from joblib import load, dump\n",
    "from sklearn.model_selection import train_test_split\n",
    "from datetime import datetime\n",
    "from helpers.is_interactive import is_interactive"
   ]
  },
  {
   "cell_type": "markdown",
   "metadata": {
    "collapsed": false
   },
   "source": [
    "### Run dependency notebooks"
   ]
  },
  {
   "cell_type": "code",
   "execution_count": 2,
   "metadata": {
    "collapsed": false
   },
   "outputs": [
    {
     "name": "stdout",
     "output_type": "stream",
     "text": [
      "Running previous notebooks...\n"
     ]
    }
   ],
   "source": [
    "if is_interactive(main):\n",
    "    %run 01_2_data_wrangling_classifier.ipynb -p\n",
    "    %run 02_2_scaling_classifier.ipynb -p"
   ]
  },
  {
   "cell_type": "markdown",
   "metadata": {
    "collapsed": false
   },
   "source": [
    "### Load Dataframe"
   ]
  },
  {
   "cell_type": "code",
   "execution_count": 3,
   "metadata": {
    "collapsed": true
   },
   "outputs": [
    {
     "data": {
      "text/html": [
       "<div>\n",
       "<style scoped>\n",
       "    .dataframe tbody tr th:only-of-type {\n",
       "        vertical-align: middle;\n",
       "    }\n",
       "\n",
       "    .dataframe tbody tr th {\n",
       "        vertical-align: top;\n",
       "    }\n",
       "\n",
       "    .dataframe thead th {\n",
       "        text-align: right;\n",
       "    }\n",
       "</style>\n",
       "<table border=\"1\" class=\"dataframe\">\n",
       "  <thead>\n",
       "    <tr style=\"text-align: right;\">\n",
       "      <th></th>\n",
       "      <th>Living space</th>\n",
       "      <th>Plot area</th>\n",
       "      <th>Floor</th>\n",
       "      <th>Latitude</th>\n",
       "      <th>Longitude</th>\n",
       "      <th>Zip</th>\n",
       "      <th>distanceToTrainStation</th>\n",
       "      <th>gde_area_agriculture_percentage</th>\n",
       "      <th>gde_area_forest_percentage</th>\n",
       "      <th>gde_area_nonproductive_percentage</th>\n",
       "      <th>...</th>\n",
       "      <th>WorkplaceDensity_2</th>\n",
       "      <th>WorkplaceDensity_3</th>\n",
       "      <th>WorkplaceDensity_4</th>\n",
       "      <th>WorkplaceDensity_5</th>\n",
       "      <th>WorkplaceDensity_6</th>\n",
       "      <th>ForestDensity_2</th>\n",
       "      <th>ForestDensity_3</th>\n",
       "      <th>ForestDensity_4</th>\n",
       "      <th>ForestDensity_5</th>\n",
       "      <th>ForestDensity_6</th>\n",
       "    </tr>\n",
       "  </thead>\n",
       "  <tbody>\n",
       "    <tr>\n",
       "      <th>0</th>\n",
       "      <td>0.010330</td>\n",
       "      <td>0.002748</td>\n",
       "      <td>0.363636</td>\n",
       "      <td>0.808677</td>\n",
       "      <td>0.477811</td>\n",
       "      <td>0.464657</td>\n",
       "      <td>0.114461</td>\n",
       "      <td>0.349443</td>\n",
       "      <td>0.586349</td>\n",
       "      <td>0.051803</td>\n",
       "      <td>...</td>\n",
       "      <td>0.004779</td>\n",
       "      <td>0.000330</td>\n",
       "      <td>0.000023</td>\n",
       "      <td>1.578986e-06</td>\n",
       "      <td>1.091576e-07</td>\n",
       "      <td>0.094108</td>\n",
       "      <td>0.028869</td>\n",
       "      <td>8.856293e-03</td>\n",
       "      <td>2.716846e-03</td>\n",
       "      <td>8.334470e-04</td>\n",
       "    </tr>\n",
       "    <tr>\n",
       "      <th>1</th>\n",
       "      <td>0.016114</td>\n",
       "      <td>0.000633</td>\n",
       "      <td>0.314570</td>\n",
       "      <td>0.808677</td>\n",
       "      <td>0.477811</td>\n",
       "      <td>0.464657</td>\n",
       "      <td>0.114461</td>\n",
       "      <td>0.349443</td>\n",
       "      <td>0.586349</td>\n",
       "      <td>0.051803</td>\n",
       "      <td>...</td>\n",
       "      <td>0.004779</td>\n",
       "      <td>0.000330</td>\n",
       "      <td>0.000023</td>\n",
       "      <td>1.578986e-06</td>\n",
       "      <td>1.091576e-07</td>\n",
       "      <td>0.094108</td>\n",
       "      <td>0.028869</td>\n",
       "      <td>8.856293e-03</td>\n",
       "      <td>2.716846e-03</td>\n",
       "      <td>8.334470e-04</td>\n",
       "    </tr>\n",
       "    <tr>\n",
       "      <th>2</th>\n",
       "      <td>0.009606</td>\n",
       "      <td>0.002575</td>\n",
       "      <td>0.272727</td>\n",
       "      <td>0.799258</td>\n",
       "      <td>0.468164</td>\n",
       "      <td>0.462000</td>\n",
       "      <td>0.034049</td>\n",
       "      <td>0.129342</td>\n",
       "      <td>0.366948</td>\n",
       "      <td>0.080560</td>\n",
       "      <td>...</td>\n",
       "      <td>0.036712</td>\n",
       "      <td>0.007034</td>\n",
       "      <td>0.001348</td>\n",
       "      <td>2.582432e-04</td>\n",
       "      <td>4.948057e-05</td>\n",
       "      <td>0.008129</td>\n",
       "      <td>0.000733</td>\n",
       "      <td>6.608701e-05</td>\n",
       "      <td>5.958613e-06</td>\n",
       "      <td>5.372472e-07</td>\n",
       "    </tr>\n",
       "    <tr>\n",
       "      <th>3</th>\n",
       "      <td>0.015907</td>\n",
       "      <td>0.001054</td>\n",
       "      <td>0.181818</td>\n",
       "      <td>0.808677</td>\n",
       "      <td>0.477811</td>\n",
       "      <td>0.464657</td>\n",
       "      <td>0.114461</td>\n",
       "      <td>0.349443</td>\n",
       "      <td>0.586349</td>\n",
       "      <td>0.051803</td>\n",
       "      <td>...</td>\n",
       "      <td>0.004779</td>\n",
       "      <td>0.000330</td>\n",
       "      <td>0.000023</td>\n",
       "      <td>1.578986e-06</td>\n",
       "      <td>1.091576e-07</td>\n",
       "      <td>0.094108</td>\n",
       "      <td>0.028869</td>\n",
       "      <td>8.856293e-03</td>\n",
       "      <td>2.716846e-03</td>\n",
       "      <td>8.334470e-04</td>\n",
       "    </tr>\n",
       "    <tr>\n",
       "      <th>4</th>\n",
       "      <td>0.014668</td>\n",
       "      <td>0.003276</td>\n",
       "      <td>0.181818</td>\n",
       "      <td>0.803051</td>\n",
       "      <td>0.470341</td>\n",
       "      <td>0.464541</td>\n",
       "      <td>0.054848</td>\n",
       "      <td>0.377475</td>\n",
       "      <td>0.566478</td>\n",
       "      <td>0.013291</td>\n",
       "      <td>...</td>\n",
       "      <td>0.002871</td>\n",
       "      <td>0.000154</td>\n",
       "      <td>0.000008</td>\n",
       "      <td>4.415364e-07</td>\n",
       "      <td>2.365700e-08</td>\n",
       "      <td>0.068665</td>\n",
       "      <td>0.017993</td>\n",
       "      <td>4.714840e-03</td>\n",
       "      <td>1.235474e-03</td>\n",
       "      <td>3.237430e-04</td>\n",
       "    </tr>\n",
       "    <tr>\n",
       "      <th>5</th>\n",
       "      <td>0.019626</td>\n",
       "      <td>0.003029</td>\n",
       "      <td>0.181818</td>\n",
       "      <td>0.801165</td>\n",
       "      <td>0.461133</td>\n",
       "      <td>0.464079</td>\n",
       "      <td>0.118598</td>\n",
       "      <td>0.375855</td>\n",
       "      <td>0.606279</td>\n",
       "      <td>0.013751</td>\n",
       "      <td>...</td>\n",
       "      <td>0.006233</td>\n",
       "      <td>0.000492</td>\n",
       "      <td>0.000039</td>\n",
       "      <td>3.067084e-06</td>\n",
       "      <td>2.421424e-07</td>\n",
       "      <td>0.017961</td>\n",
       "      <td>0.002407</td>\n",
       "      <td>3.226117e-04</td>\n",
       "      <td>4.323646e-05</td>\n",
       "      <td>5.794556e-06</td>\n",
       "    </tr>\n",
       "    <tr>\n",
       "      <th>6</th>\n",
       "      <td>0.012809</td>\n",
       "      <td>0.000570</td>\n",
       "      <td>0.302524</td>\n",
       "      <td>0.808677</td>\n",
       "      <td>0.477811</td>\n",
       "      <td>0.464657</td>\n",
       "      <td>0.114461</td>\n",
       "      <td>0.349443</td>\n",
       "      <td>0.586349</td>\n",
       "      <td>0.051803</td>\n",
       "      <td>...</td>\n",
       "      <td>0.004779</td>\n",
       "      <td>0.000330</td>\n",
       "      <td>0.000023</td>\n",
       "      <td>1.578986e-06</td>\n",
       "      <td>1.091576e-07</td>\n",
       "      <td>0.094108</td>\n",
       "      <td>0.028869</td>\n",
       "      <td>8.856293e-03</td>\n",
       "      <td>2.716846e-03</td>\n",
       "      <td>8.334470e-04</td>\n",
       "    </tr>\n",
       "    <tr>\n",
       "      <th>7</th>\n",
       "      <td>0.014045</td>\n",
       "      <td>0.001995</td>\n",
       "      <td>0.318182</td>\n",
       "      <td>0.794885</td>\n",
       "      <td>0.467948</td>\n",
       "      <td>0.462000</td>\n",
       "      <td>0.027599</td>\n",
       "      <td>0.129342</td>\n",
       "      <td>0.366948</td>\n",
       "      <td>0.080560</td>\n",
       "      <td>...</td>\n",
       "      <td>0.120739</td>\n",
       "      <td>0.041954</td>\n",
       "      <td>0.014578</td>\n",
       "      <td>5.065411e-03</td>\n",
       "      <td>1.760101e-03</td>\n",
       "      <td>0.000314</td>\n",
       "      <td>0.000006</td>\n",
       "      <td>9.866563e-08</td>\n",
       "      <td>1.748668e-09</td>\n",
       "      <td>3.099195e-11</td>\n",
       "    </tr>\n",
       "    <tr>\n",
       "      <th>8</th>\n",
       "      <td>0.007747</td>\n",
       "      <td>0.000353</td>\n",
       "      <td>0.271420</td>\n",
       "      <td>0.801046</td>\n",
       "      <td>0.474388</td>\n",
       "      <td>0.465696</td>\n",
       "      <td>0.038177</td>\n",
       "      <td>0.129342</td>\n",
       "      <td>0.366948</td>\n",
       "      <td>0.080560</td>\n",
       "      <td>...</td>\n",
       "      <td>0.010812</td>\n",
       "      <td>0.001124</td>\n",
       "      <td>0.000117</td>\n",
       "      <td>1.215577e-05</td>\n",
       "      <td>1.263976e-06</td>\n",
       "      <td>0.129677</td>\n",
       "      <td>0.046698</td>\n",
       "      <td>1.681615e-02</td>\n",
       "      <td>6.055616e-03</td>\n",
       "      <td>2.180670e-03</td>\n",
       "    </tr>\n",
       "    <tr>\n",
       "      <th>9</th>\n",
       "      <td>0.011362</td>\n",
       "      <td>0.006030</td>\n",
       "      <td>0.181818</td>\n",
       "      <td>0.798179</td>\n",
       "      <td>0.461295</td>\n",
       "      <td>0.464079</td>\n",
       "      <td>0.106152</td>\n",
       "      <td>0.375855</td>\n",
       "      <td>0.606279</td>\n",
       "      <td>0.013751</td>\n",
       "      <td>...</td>\n",
       "      <td>0.005998</td>\n",
       "      <td>0.000465</td>\n",
       "      <td>0.000036</td>\n",
       "      <td>2.786040e-06</td>\n",
       "      <td>2.157669e-07</td>\n",
       "      <td>0.022775</td>\n",
       "      <td>0.003437</td>\n",
       "      <td>5.186871e-04</td>\n",
       "      <td>7.827657e-05</td>\n",
       "      <td>1.181294e-05</td>\n",
       "    </tr>\n",
       "  </tbody>\n",
       "</table>\n",
       "<p>10 rows × 223 columns</p>\n",
       "</div>"
      ],
      "text/plain": [
       "   Living space  Plot area     Floor  Latitude  Longitude       Zip  \\\n",
       "0      0.010330   0.002748  0.363636  0.808677   0.477811  0.464657   \n",
       "1      0.016114   0.000633  0.314570  0.808677   0.477811  0.464657   \n",
       "2      0.009606   0.002575  0.272727  0.799258   0.468164  0.462000   \n",
       "3      0.015907   0.001054  0.181818  0.808677   0.477811  0.464657   \n",
       "4      0.014668   0.003276  0.181818  0.803051   0.470341  0.464541   \n",
       "5      0.019626   0.003029  0.181818  0.801165   0.461133  0.464079   \n",
       "6      0.012809   0.000570  0.302524  0.808677   0.477811  0.464657   \n",
       "7      0.014045   0.001995  0.318182  0.794885   0.467948  0.462000   \n",
       "8      0.007747   0.000353  0.271420  0.801046   0.474388  0.465696   \n",
       "9      0.011362   0.006030  0.181818  0.798179   0.461295  0.464079   \n",
       "\n",
       "   distanceToTrainStation  gde_area_agriculture_percentage  \\\n",
       "0                0.114461                         0.349443   \n",
       "1                0.114461                         0.349443   \n",
       "2                0.034049                         0.129342   \n",
       "3                0.114461                         0.349443   \n",
       "4                0.054848                         0.377475   \n",
       "5                0.118598                         0.375855   \n",
       "6                0.114461                         0.349443   \n",
       "7                0.027599                         0.129342   \n",
       "8                0.038177                         0.129342   \n",
       "9                0.106152                         0.375855   \n",
       "\n",
       "   gde_area_forest_percentage  gde_area_nonproductive_percentage  ...  \\\n",
       "0                    0.586349                           0.051803  ...   \n",
       "1                    0.586349                           0.051803  ...   \n",
       "2                    0.366948                           0.080560  ...   \n",
       "3                    0.586349                           0.051803  ...   \n",
       "4                    0.566478                           0.013291  ...   \n",
       "5                    0.606279                           0.013751  ...   \n",
       "6                    0.586349                           0.051803  ...   \n",
       "7                    0.366948                           0.080560  ...   \n",
       "8                    0.366948                           0.080560  ...   \n",
       "9                    0.606279                           0.013751  ...   \n",
       "\n",
       "   WorkplaceDensity_2  WorkplaceDensity_3  WorkplaceDensity_4  \\\n",
       "0            0.004779            0.000330            0.000023   \n",
       "1            0.004779            0.000330            0.000023   \n",
       "2            0.036712            0.007034            0.001348   \n",
       "3            0.004779            0.000330            0.000023   \n",
       "4            0.002871            0.000154            0.000008   \n",
       "5            0.006233            0.000492            0.000039   \n",
       "6            0.004779            0.000330            0.000023   \n",
       "7            0.120739            0.041954            0.014578   \n",
       "8            0.010812            0.001124            0.000117   \n",
       "9            0.005998            0.000465            0.000036   \n",
       "\n",
       "   WorkplaceDensity_5  WorkplaceDensity_6  ForestDensity_2  ForestDensity_3  \\\n",
       "0        1.578986e-06        1.091576e-07         0.094108         0.028869   \n",
       "1        1.578986e-06        1.091576e-07         0.094108         0.028869   \n",
       "2        2.582432e-04        4.948057e-05         0.008129         0.000733   \n",
       "3        1.578986e-06        1.091576e-07         0.094108         0.028869   \n",
       "4        4.415364e-07        2.365700e-08         0.068665         0.017993   \n",
       "5        3.067084e-06        2.421424e-07         0.017961         0.002407   \n",
       "6        1.578986e-06        1.091576e-07         0.094108         0.028869   \n",
       "7        5.065411e-03        1.760101e-03         0.000314         0.000006   \n",
       "8        1.215577e-05        1.263976e-06         0.129677         0.046698   \n",
       "9        2.786040e-06        2.157669e-07         0.022775         0.003437   \n",
       "\n",
       "   ForestDensity_4  ForestDensity_5  ForestDensity_6  \n",
       "0     8.856293e-03     2.716846e-03     8.334470e-04  \n",
       "1     8.856293e-03     2.716846e-03     8.334470e-04  \n",
       "2     6.608701e-05     5.958613e-06     5.372472e-07  \n",
       "3     8.856293e-03     2.716846e-03     8.334470e-04  \n",
       "4     4.714840e-03     1.235474e-03     3.237430e-04  \n",
       "5     3.226117e-04     4.323646e-05     5.794556e-06  \n",
       "6     8.856293e-03     2.716846e-03     8.334470e-04  \n",
       "7     9.866563e-08     1.748668e-09     3.099195e-11  \n",
       "8     1.681615e-02     6.055616e-03     2.180670e-03  \n",
       "9     5.186871e-04     7.827657e-05     1.181294e-05  \n",
       "\n",
       "[10 rows x 223 columns]"
      ]
     },
     "execution_count": 3,
     "metadata": {},
     "output_type": "execute_result"
    }
   ],
   "source": [
    "training_data = load(Paths.CLASSIFIER_SCALING_DATA)\n",
    "\n",
    "df = training_data['dataset']\n",
    "\n",
    "X = df.drop('type_unified', axis=1)\n",
    "y = df['type_unified']\n",
    "\n",
    "df.head(10)"
   ]
  },
  {
   "cell_type": "markdown",
   "metadata": {
    "collapsed": false
   },
   "source": [
    "## Train test split"
   ]
  },
  {
   "cell_type": "code",
   "execution_count": 4,
   "metadata": {
    "collapsed": false
   },
   "outputs": [],
   "source": [
    "X_train, X_test, y_train, y_test = train_test_split(X, y, train_size=0.8, random_state=42)"
   ]
  },
  {
   "cell_type": "markdown",
   "metadata": {
    "collapsed": false
   },
   "source": [
    "## Train all Models"
   ]
  },
  {
   "cell_type": "code",
   "execution_count": 5,
   "metadata": {
    "collapsed": false
   },
   "outputs": [],
   "source": [
    "TRAINING_FUNCTIONS = [\n",
    "    train_k_neighbors,\n",
    "    train_gradient_boosting,\n",
    "    train_random_forest,\n",
    "    train_mlp_classifier\n",
    "]"
   ]
  },
  {
   "cell_type": "code",
   "execution_count": 6,
   "metadata": {
    "collapsed": false
   },
   "outputs": [
    {
     "name": "stdout",
     "output_type": "stream",
     "text": [
      "Training KNeighborsClassifier with -1 jobs\n",
      "Parameters: {'n_neighbors': [5], 'weights': ['distance'], 'leaf_size': [10], 'p': [2]}\n",
      "Training GradientBoostingClassifier with -1 jobs\n",
      "Parameters: {'max_depth': [2], 'min_samples_split': [10], 'max_features': [0.5], 'min_samples_leaf': [10], 'n_estimators': [130], 'random_state': [42]}\n",
      "Training RandomForestClassifier with -1 jobs\n",
      "Parameters: {'min_samples_split': [10], 'max_features': [0.5], 'min_samples_leaf': [10], 'n_estimators': [130], 'random_state': [42]}\n",
      "Training MLPClassifier with 1 jobs\n",
      "Parameters: {'hidden_layer_sizes': [(14, 14, 14, 14)], 'activation': ['relu'], 'learning_rate': ['adaptive'], 'learning_rate_init': [0.005], 'max_iter': [10000]}\n"
     ]
    }
   ],
   "source": [
    "results = [\n",
    "    func(X_train, X_test, y_train, y_test)\n",
    "    for func in TRAINING_FUNCTIONS\n",
    "]"
   ]
  },
  {
   "cell_type": "code",
   "execution_count": 12,
   "metadata": {
    "collapsed": false
   },
   "outputs": [
    {
     "data": {
      "text/html": [
       "<div>\n",
       "<style scoped>\n",
       "    .dataframe tbody tr th:only-of-type {\n",
       "        vertical-align: middle;\n",
       "    }\n",
       "\n",
       "    .dataframe tbody tr th {\n",
       "        vertical-align: top;\n",
       "    }\n",
       "\n",
       "    .dataframe thead th {\n",
       "        text-align: right;\n",
       "    }\n",
       "</style>\n",
       "<table border=\"1\" class=\"dataframe\">\n",
       "  <thead>\n",
       "    <tr style=\"text-align: right;\">\n",
       "      <th></th>\n",
       "      <th>num_columns</th>\n",
       "      <th>score</th>\n",
       "      <th>best_params</th>\n",
       "      <th>model</th>\n",
       "    </tr>\n",
       "  </thead>\n",
       "  <tbody>\n",
       "    <tr>\n",
       "      <th>0</th>\n",
       "      <td>222</td>\n",
       "      <td>0.633226</td>\n",
       "      <td>{'n_neighbors': 5, 'weights': 'distance', 'lea...</td>\n",
       "      <td>KNeighborsClassifier(leaf_size=10, weights='di...</td>\n",
       "    </tr>\n",
       "    <tr>\n",
       "      <th>1</th>\n",
       "      <td>222</td>\n",
       "      <td>0.713184</td>\n",
       "      <td>{'max_depth': 2, 'min_samples_split': 10, 'max...</td>\n",
       "      <td>([DecisionTreeRegressor(criterion='friedman_ms...</td>\n",
       "    </tr>\n",
       "    <tr>\n",
       "      <th>2</th>\n",
       "      <td>222</td>\n",
       "      <td>0.762381</td>\n",
       "      <td>{'min_samples_split': 10, 'max_features': 0.5,...</td>\n",
       "      <td>(DecisionTreeClassifier(max_features=0.5, min_...</td>\n",
       "    </tr>\n",
       "    <tr>\n",
       "      <th>3</th>\n",
       "      <td>222</td>\n",
       "      <td>0.649037</td>\n",
       "      <td>{'hidden_layer_sizes': (14, 14, 14, 14), 'acti...</td>\n",
       "      <td>MLPClassifier(hidden_layer_sizes=(14, 14, 14, ...</td>\n",
       "    </tr>\n",
       "  </tbody>\n",
       "</table>\n",
       "</div>"
      ],
      "text/plain": [
       "   num_columns     score                                        best_params  \\\n",
       "0          222  0.633226  {'n_neighbors': 5, 'weights': 'distance', 'lea...   \n",
       "1          222  0.713184  {'max_depth': 2, 'min_samples_split': 10, 'max...   \n",
       "2          222  0.762381  {'min_samples_split': 10, 'max_features': 0.5,...   \n",
       "3          222  0.649037  {'hidden_layer_sizes': (14, 14, 14, 14), 'acti...   \n",
       "\n",
       "                                               model  \n",
       "0  KNeighborsClassifier(leaf_size=10, weights='di...  \n",
       "1  ([DecisionTreeRegressor(criterion='friedman_ms...  \n",
       "2  (DecisionTreeClassifier(max_features=0.5, min_...  \n",
       "3  MLPClassifier(hidden_layer_sizes=(14, 14, 14, ...  "
      ]
     },
     "execution_count": 12,
     "metadata": {},
     "output_type": "execute_result"
    }
   ],
   "source": [
    "pd.DataFrame(results)"
   ]
  },
  {
   "cell_type": "markdown",
   "metadata": {
    "collapsed": false
   },
   "source": [
    "## Select the best model"
   ]
  },
  {
   "cell_type": "code",
   "execution_count": 13,
   "metadata": {
    "collapsed": false
   },
   "outputs": [
    {
     "data": {
      "text/html": [
       "<style>#sk-container-id-2 {color: black;background-color: white;}#sk-container-id-2 pre{padding: 0;}#sk-container-id-2 div.sk-toggleable {background-color: white;}#sk-container-id-2 label.sk-toggleable__label {cursor: pointer;display: block;width: 100%;margin-bottom: 0;padding: 0.3em;box-sizing: border-box;text-align: center;}#sk-container-id-2 label.sk-toggleable__label-arrow:before {content: \"▸\";float: left;margin-right: 0.25em;color: #696969;}#sk-container-id-2 label.sk-toggleable__label-arrow:hover:before {color: black;}#sk-container-id-2 div.sk-estimator:hover label.sk-toggleable__label-arrow:before {color: black;}#sk-container-id-2 div.sk-toggleable__content {max-height: 0;max-width: 0;overflow: hidden;text-align: left;background-color: #f0f8ff;}#sk-container-id-2 div.sk-toggleable__content pre {margin: 0.2em;color: black;border-radius: 0.25em;background-color: #f0f8ff;}#sk-container-id-2 input.sk-toggleable__control:checked~div.sk-toggleable__content {max-height: 200px;max-width: 100%;overflow: auto;}#sk-container-id-2 input.sk-toggleable__control:checked~label.sk-toggleable__label-arrow:before {content: \"▾\";}#sk-container-id-2 div.sk-estimator input.sk-toggleable__control:checked~label.sk-toggleable__label {background-color: #d4ebff;}#sk-container-id-2 div.sk-label input.sk-toggleable__control:checked~label.sk-toggleable__label {background-color: #d4ebff;}#sk-container-id-2 input.sk-hidden--visually {border: 0;clip: rect(1px 1px 1px 1px);clip: rect(1px, 1px, 1px, 1px);height: 1px;margin: -1px;overflow: hidden;padding: 0;position: absolute;width: 1px;}#sk-container-id-2 div.sk-estimator {font-family: monospace;background-color: #f0f8ff;border: 1px dotted black;border-radius: 0.25em;box-sizing: border-box;margin-bottom: 0.5em;}#sk-container-id-2 div.sk-estimator:hover {background-color: #d4ebff;}#sk-container-id-2 div.sk-parallel-item::after {content: \"\";width: 100%;border-bottom: 1px solid gray;flex-grow: 1;}#sk-container-id-2 div.sk-label:hover label.sk-toggleable__label {background-color: #d4ebff;}#sk-container-id-2 div.sk-serial::before {content: \"\";position: absolute;border-left: 1px solid gray;box-sizing: border-box;top: 0;bottom: 0;left: 50%;z-index: 0;}#sk-container-id-2 div.sk-serial {display: flex;flex-direction: column;align-items: center;background-color: white;padding-right: 0.2em;padding-left: 0.2em;position: relative;}#sk-container-id-2 div.sk-item {position: relative;z-index: 1;}#sk-container-id-2 div.sk-parallel {display: flex;align-items: stretch;justify-content: center;background-color: white;position: relative;}#sk-container-id-2 div.sk-item::before, #sk-container-id-2 div.sk-parallel-item::before {content: \"\";position: absolute;border-left: 1px solid gray;box-sizing: border-box;top: 0;bottom: 0;left: 50%;z-index: -1;}#sk-container-id-2 div.sk-parallel-item {display: flex;flex-direction: column;z-index: 1;position: relative;background-color: white;}#sk-container-id-2 div.sk-parallel-item:first-child::after {align-self: flex-end;width: 50%;}#sk-container-id-2 div.sk-parallel-item:last-child::after {align-self: flex-start;width: 50%;}#sk-container-id-2 div.sk-parallel-item:only-child::after {width: 0;}#sk-container-id-2 div.sk-dashed-wrapped {border: 1px dashed gray;margin: 0 0.4em 0.5em 0.4em;box-sizing: border-box;padding-bottom: 0.4em;background-color: white;}#sk-container-id-2 div.sk-label label {font-family: monospace;font-weight: bold;display: inline-block;line-height: 1.2em;}#sk-container-id-2 div.sk-label-container {text-align: center;}#sk-container-id-2 div.sk-container {/* jupyter's `normalize.less` sets `[hidden] { display: none; }` but bootstrap.min.css set `[hidden] { display: none !important; }` so we also need the `!important` here to be able to override the default hidden behavior on the sphinx rendered scikit-learn.org. See: https://github.com/scikit-learn/scikit-learn/issues/21755 */display: inline-block !important;position: relative;}#sk-container-id-2 div.sk-text-repr-fallback {display: none;}</style><div id=\"sk-container-id-2\" class=\"sk-top-container\"><div class=\"sk-text-repr-fallback\"><pre>RandomForestClassifier(max_features=0.5, min_samples_leaf=10,\n",
       "                       min_samples_split=10, n_estimators=130, random_state=42)</pre><b>In a Jupyter environment, please rerun this cell to show the HTML representation or trust the notebook. <br />On GitHub, the HTML representation is unable to render, please try loading this page with nbviewer.org.</b></div><div class=\"sk-container\" hidden><div class=\"sk-item\"><div class=\"sk-estimator sk-toggleable\"><input class=\"sk-toggleable__control sk-hidden--visually\" id=\"sk-estimator-id-2\" type=\"checkbox\" checked><label for=\"sk-estimator-id-2\" class=\"sk-toggleable__label sk-toggleable__label-arrow\">RandomForestClassifier</label><div class=\"sk-toggleable__content\"><pre>RandomForestClassifier(max_features=0.5, min_samples_leaf=10,\n",
       "                       min_samples_split=10, n_estimators=130, random_state=42)</pre></div></div></div></div></div>"
      ],
      "text/plain": [
       "RandomForestClassifier(max_features=0.5, min_samples_leaf=10,\n",
       "                       min_samples_split=10, n_estimators=130, random_state=42)"
      ]
     },
     "execution_count": 13,
     "metadata": {},
     "output_type": "execute_result"
    }
   ],
   "source": [
    "best_model_row = sorted(results, key=lambda x: x['score'])[-1]\n",
    "best_model = best_model_row['model']\n",
    "best_model"
   ]
  },
  {
   "cell_type": "code",
   "execution_count": 16,
   "metadata": {
    "collapsed": false
   },
   "outputs": [
    {
     "data": {
      "text/plain": [
       "{'min_samples_split': 10,\n",
       " 'max_features': 0.5,\n",
       " 'min_samples_leaf': 10,\n",
       " 'n_estimators': 130,\n",
       " 'random_state': 42}"
      ]
     },
     "execution_count": 16,
     "metadata": {},
     "output_type": "execute_result"
    }
   ],
   "source": [
    "best_model_row['best_params']"
   ]
  },
  {
   "cell_type": "markdown",
   "metadata": {
    "collapsed": false
   },
   "source": [
    "## Save Results"
   ]
  },
  {
   "cell_type": "code",
   "execution_count": 17,
   "metadata": {
    "collapsed": false
   },
   "outputs": [],
   "source": [
    "def getClassName(obj):\n",
    "   return type(obj).__name__\n",
    "\n",
    "def getFormattedDate(date = datetime.now()):\n",
    "    return date.strftime('%Y%m%d_%H%M')"
   ]
  },
  {
   "cell_type": "code",
   "execution_count": 18,
   "metadata": {
    "collapsed": false
   },
   "outputs": [],
   "source": [
    "for result in results:\n",
    "    dump(\n",
    "        result['model'],\n",
    "        Paths.CLASSIFIER_MODEL_DATA(getClassName(result['model']))\n",
    "    )"
   ]
  },
  {
   "cell_type": "code",
   "execution_count": null,
   "metadata": {
    "collapsed": false
   },
   "outputs": [],
   "source": []
  }
 ],
 "metadata": {
  "kernelspec": {
   "display_name": "venv",
   "language": "python",
   "name": "python3"
  },
  "language_info": {
   "codemirror_mode": {
    "name": "ipython",
    "version": 3
   },
   "file_extension": ".py",
   "mimetype": "text/x-python",
   "name": "python",
   "nbconvert_exporter": "python",
   "pygments_lexer": "ipython3",
   "version": "3.10.6"
  },
  "vscode": {
   "interpreter": {
    "hash": "92c6f0d0c7f781fbe9b7028fcc548526e63af384eac0ae5e938a974458720cae"
   }
  }
 },
 "nbformat": 4,
 "nbformat_minor": 0
}
