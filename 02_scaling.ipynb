{
 "cells": [
  {
   "cell_type": "markdown",
   "metadata": {
    "collapsed": false
   },
   "source": [
    "# Data Wrangling and explorative data analysis"
   ]
  },
  {
   "cell_type": "markdown",
   "metadata": {
    "collapsed": false
   },
   "source": [
    "## Imports"
   ]
  },
  {
   "cell_type": "code",
   "execution_count": 41,
   "metadata": {
    "collapsed": true
   },
   "outputs": [],
   "source": [
    "import pandas as pd\n",
    "from pathlib import Path"
   ]
  },
  {
   "cell_type": "markdown",
   "metadata": {
    "collapsed": false
   },
   "source": [
    "## CSV Import"
   ]
  },
  {
   "cell_type": "code",
   "execution_count": 42,
   "outputs": [],
   "source": [
    "source_path = Path('./data/clean/immoscout.csv')\n",
    "model_df = pd.read_csv(source_path)"
   ],
   "metadata": {
    "collapsed": false
   }
  },
  {
   "cell_type": "code",
   "execution_count": 43,
   "outputs": [
    {
     "data": {
      "text/plain": "   ForestDensityM   Latitude  Longitude  NoisePollutionRailwayM  \\\n0        0.286451  47.415927   8.085840                     0.0   \n1        0.286451  47.415927   8.085840                     0.0   \n2        0.095877  47.397416   8.043150                     0.0   \n3        0.286451  47.415927   8.085840                     0.0   \n4        0.279276  47.404870   8.052781                     0.0   \n\n   NoisePollutionRoadM  PopulationDensityM  RiversAndLakesM  RiversAndLakesS  \\\n0             0.067048            0.209530         0.001811         0.011871   \n1             0.067048            0.209530         0.001811         0.011871   \n2             0.381257            0.393783         0.188229         0.000000   \n3             0.067048            0.209530         0.001811         0.011871   \n4             0.132933            0.136984         0.141473         0.091805   \n\n   distanceToTrainStation  gde_area_agriculture_percentage  ...  \\\n0                3.038467                        30.676329  ...   \n1                3.038467                        30.676329  ...   \n2                0.909587                        11.354420  ...   \n3                3.038467                        30.676329  ...   \n4                1.460245                        33.137090  ...   \n\n   type_penthouse  type_rustico  type_secondary-suite  \\\n0               1             0                     0   \n1               0             0                     0   \n2               1             0                     0   \n3               0             0                     0   \n4               0             0                     0   \n\n   type_semi-detached-house  type_single-room  type_stepped-apartment  \\\n0                         0                 0                       0   \n1                         0                 0                       0   \n2                         0                 0                       0   \n3                         0                 0                       0   \n4                         0                 0                       0   \n\n   type_stepped-house  type_studio  type_terrace-house  type_villa  \n0                   0            0                   0           0  \n1                   0            0                   1           0  \n2                   0            0                   0           0  \n3                   0            0                   0           0  \n4                   0            0                   0           0  \n\n[5 rows x 57 columns]",
      "text/html": "<div>\n<style scoped>\n    .dataframe tbody tr th:only-of-type {\n        vertical-align: middle;\n    }\n\n    .dataframe tbody tr th {\n        vertical-align: top;\n    }\n\n    .dataframe thead th {\n        text-align: right;\n    }\n</style>\n<table border=\"1\" class=\"dataframe\">\n  <thead>\n    <tr style=\"text-align: right;\">\n      <th></th>\n      <th>ForestDensityM</th>\n      <th>Latitude</th>\n      <th>Longitude</th>\n      <th>NoisePollutionRailwayM</th>\n      <th>NoisePollutionRoadM</th>\n      <th>PopulationDensityM</th>\n      <th>RiversAndLakesM</th>\n      <th>RiversAndLakesS</th>\n      <th>distanceToTrainStation</th>\n      <th>gde_area_agriculture_percentage</th>\n      <th>...</th>\n      <th>type_penthouse</th>\n      <th>type_rustico</th>\n      <th>type_secondary-suite</th>\n      <th>type_semi-detached-house</th>\n      <th>type_single-room</th>\n      <th>type_stepped-apartment</th>\n      <th>type_stepped-house</th>\n      <th>type_studio</th>\n      <th>type_terrace-house</th>\n      <th>type_villa</th>\n    </tr>\n  </thead>\n  <tbody>\n    <tr>\n      <th>0</th>\n      <td>0.286451</td>\n      <td>47.415927</td>\n      <td>8.085840</td>\n      <td>0.0</td>\n      <td>0.067048</td>\n      <td>0.209530</td>\n      <td>0.001811</td>\n      <td>0.011871</td>\n      <td>3.038467</td>\n      <td>30.676329</td>\n      <td>...</td>\n      <td>1</td>\n      <td>0</td>\n      <td>0</td>\n      <td>0</td>\n      <td>0</td>\n      <td>0</td>\n      <td>0</td>\n      <td>0</td>\n      <td>0</td>\n      <td>0</td>\n    </tr>\n    <tr>\n      <th>1</th>\n      <td>0.286451</td>\n      <td>47.415927</td>\n      <td>8.085840</td>\n      <td>0.0</td>\n      <td>0.067048</td>\n      <td>0.209530</td>\n      <td>0.001811</td>\n      <td>0.011871</td>\n      <td>3.038467</td>\n      <td>30.676329</td>\n      <td>...</td>\n      <td>0</td>\n      <td>0</td>\n      <td>0</td>\n      <td>0</td>\n      <td>0</td>\n      <td>0</td>\n      <td>0</td>\n      <td>0</td>\n      <td>1</td>\n      <td>0</td>\n    </tr>\n    <tr>\n      <th>2</th>\n      <td>0.095877</td>\n      <td>47.397416</td>\n      <td>8.043150</td>\n      <td>0.0</td>\n      <td>0.381257</td>\n      <td>0.393783</td>\n      <td>0.188229</td>\n      <td>0.000000</td>\n      <td>0.909587</td>\n      <td>11.354420</td>\n      <td>...</td>\n      <td>1</td>\n      <td>0</td>\n      <td>0</td>\n      <td>0</td>\n      <td>0</td>\n      <td>0</td>\n      <td>0</td>\n      <td>0</td>\n      <td>0</td>\n      <td>0</td>\n    </tr>\n    <tr>\n      <th>3</th>\n      <td>0.286451</td>\n      <td>47.415927</td>\n      <td>8.085840</td>\n      <td>0.0</td>\n      <td>0.067048</td>\n      <td>0.209530</td>\n      <td>0.001811</td>\n      <td>0.011871</td>\n      <td>3.038467</td>\n      <td>30.676329</td>\n      <td>...</td>\n      <td>0</td>\n      <td>0</td>\n      <td>0</td>\n      <td>0</td>\n      <td>0</td>\n      <td>0</td>\n      <td>0</td>\n      <td>0</td>\n      <td>0</td>\n      <td>0</td>\n    </tr>\n    <tr>\n      <th>4</th>\n      <td>0.279276</td>\n      <td>47.404870</td>\n      <td>8.052781</td>\n      <td>0.0</td>\n      <td>0.132933</td>\n      <td>0.136984</td>\n      <td>0.141473</td>\n      <td>0.091805</td>\n      <td>1.460245</td>\n      <td>33.137090</td>\n      <td>...</td>\n      <td>0</td>\n      <td>0</td>\n      <td>0</td>\n      <td>0</td>\n      <td>0</td>\n      <td>0</td>\n      <td>0</td>\n      <td>0</td>\n      <td>0</td>\n      <td>0</td>\n    </tr>\n  </tbody>\n</table>\n<p>5 rows × 57 columns</p>\n</div>"
     },
     "execution_count": 43,
     "metadata": {},
     "output_type": "execute_result"
    }
   ],
   "source": [
    "model_df.head()"
   ],
   "metadata": {
    "collapsed": false
   }
  },
  {
   "cell_type": "markdown",
   "metadata": {},
   "source": [
    "### Scaling"
   ]
  },
  {
   "cell_type": "markdown",
   "metadata": {},
   "source": [
    "#### Min Max Scaling (prone to outliers)"
   ]
  },
  {
   "cell_type": "code",
   "execution_count": 44,
   "metadata": {},
   "outputs": [
    {
     "data": {
      "text/plain": "   ForestDensityM  Latitude  Longitude  NoisePollutionRailwayM  \\\n0        0.286608  0.808677   0.477811                     0.0   \n1        0.286608  0.808677   0.477811                     0.0   \n2        0.095930  0.799258   0.468164                     0.0   \n3        0.286608  0.808677   0.477811                     0.0   \n4        0.279429  0.803051   0.470341                     0.0   \n\n   NoisePollutionRoadM  PopulationDensityM  RiversAndLakesM  RiversAndLakesS  \\\n0             0.095327            0.218913         0.003596         0.032255   \n1             0.095327            0.218913         0.003596         0.032255   \n2             0.542063            0.411418         0.373727         0.000000   \n3             0.095327            0.218913         0.003596         0.032255   \n4             0.189001            0.143119         0.280894         0.249448   \n\n   distanceToTrainStation  gde_area_agriculture_percentage  ...  \\\n0                0.114247                         0.349452  ...   \n1                0.114247                         0.349452  ...   \n2                0.033815                         0.129345  ...   \n3                0.114247                         0.349452  ...   \n4                0.054619                         0.377484  ...   \n\n   type_penthouse  type_rustico  type_secondary-suite  \\\n0               1             0                     0   \n1               0             0                     0   \n2               1             0                     0   \n3               0             0                     0   \n4               0             0                     0   \n\n   type_semi-detached-house  type_single-room  type_stepped-apartment  \\\n0                         0                 0                       0   \n1                         0                 0                       0   \n2                         0                 0                       0   \n3                         0                 0                       0   \n4                         0                 0                       0   \n\n   type_stepped-house  type_studio  type_terrace-house  type_villa  \n0                   0            0                   0           0  \n1                   0            0                   1           0  \n2                   0            0                   0           0  \n3                   0            0                   0           0  \n4                   0            0                   0           0  \n\n[5 rows x 57 columns]",
      "text/html": "<div>\n<style scoped>\n    .dataframe tbody tr th:only-of-type {\n        vertical-align: middle;\n    }\n\n    .dataframe tbody tr th {\n        vertical-align: top;\n    }\n\n    .dataframe thead th {\n        text-align: right;\n    }\n</style>\n<table border=\"1\" class=\"dataframe\">\n  <thead>\n    <tr style=\"text-align: right;\">\n      <th></th>\n      <th>ForestDensityM</th>\n      <th>Latitude</th>\n      <th>Longitude</th>\n      <th>NoisePollutionRailwayM</th>\n      <th>NoisePollutionRoadM</th>\n      <th>PopulationDensityM</th>\n      <th>RiversAndLakesM</th>\n      <th>RiversAndLakesS</th>\n      <th>distanceToTrainStation</th>\n      <th>gde_area_agriculture_percentage</th>\n      <th>...</th>\n      <th>type_penthouse</th>\n      <th>type_rustico</th>\n      <th>type_secondary-suite</th>\n      <th>type_semi-detached-house</th>\n      <th>type_single-room</th>\n      <th>type_stepped-apartment</th>\n      <th>type_stepped-house</th>\n      <th>type_studio</th>\n      <th>type_terrace-house</th>\n      <th>type_villa</th>\n    </tr>\n  </thead>\n  <tbody>\n    <tr>\n      <th>0</th>\n      <td>0.286608</td>\n      <td>0.808677</td>\n      <td>0.477811</td>\n      <td>0.0</td>\n      <td>0.095327</td>\n      <td>0.218913</td>\n      <td>0.003596</td>\n      <td>0.032255</td>\n      <td>0.114247</td>\n      <td>0.349452</td>\n      <td>...</td>\n      <td>1</td>\n      <td>0</td>\n      <td>0</td>\n      <td>0</td>\n      <td>0</td>\n      <td>0</td>\n      <td>0</td>\n      <td>0</td>\n      <td>0</td>\n      <td>0</td>\n    </tr>\n    <tr>\n      <th>1</th>\n      <td>0.286608</td>\n      <td>0.808677</td>\n      <td>0.477811</td>\n      <td>0.0</td>\n      <td>0.095327</td>\n      <td>0.218913</td>\n      <td>0.003596</td>\n      <td>0.032255</td>\n      <td>0.114247</td>\n      <td>0.349452</td>\n      <td>...</td>\n      <td>0</td>\n      <td>0</td>\n      <td>0</td>\n      <td>0</td>\n      <td>0</td>\n      <td>0</td>\n      <td>0</td>\n      <td>0</td>\n      <td>1</td>\n      <td>0</td>\n    </tr>\n    <tr>\n      <th>2</th>\n      <td>0.095930</td>\n      <td>0.799258</td>\n      <td>0.468164</td>\n      <td>0.0</td>\n      <td>0.542063</td>\n      <td>0.411418</td>\n      <td>0.373727</td>\n      <td>0.000000</td>\n      <td>0.033815</td>\n      <td>0.129345</td>\n      <td>...</td>\n      <td>1</td>\n      <td>0</td>\n      <td>0</td>\n      <td>0</td>\n      <td>0</td>\n      <td>0</td>\n      <td>0</td>\n      <td>0</td>\n      <td>0</td>\n      <td>0</td>\n    </tr>\n    <tr>\n      <th>3</th>\n      <td>0.286608</td>\n      <td>0.808677</td>\n      <td>0.477811</td>\n      <td>0.0</td>\n      <td>0.095327</td>\n      <td>0.218913</td>\n      <td>0.003596</td>\n      <td>0.032255</td>\n      <td>0.114247</td>\n      <td>0.349452</td>\n      <td>...</td>\n      <td>0</td>\n      <td>0</td>\n      <td>0</td>\n      <td>0</td>\n      <td>0</td>\n      <td>0</td>\n      <td>0</td>\n      <td>0</td>\n      <td>0</td>\n      <td>0</td>\n    </tr>\n    <tr>\n      <th>4</th>\n      <td>0.279429</td>\n      <td>0.803051</td>\n      <td>0.470341</td>\n      <td>0.0</td>\n      <td>0.189001</td>\n      <td>0.143119</td>\n      <td>0.280894</td>\n      <td>0.249448</td>\n      <td>0.054619</td>\n      <td>0.377484</td>\n      <td>...</td>\n      <td>0</td>\n      <td>0</td>\n      <td>0</td>\n      <td>0</td>\n      <td>0</td>\n      <td>0</td>\n      <td>0</td>\n      <td>0</td>\n      <td>0</td>\n      <td>0</td>\n    </tr>\n  </tbody>\n</table>\n<p>5 rows × 57 columns</p>\n</div>"
     },
     "execution_count": 44,
     "metadata": {},
     "output_type": "execute_result"
    }
   ],
   "source": [
    "model_df_min_max = model_df.copy()\n",
    "\n",
    "for col in model_df_min_max.columns:\n",
    "    if col == \"price\":\n",
    "        continue\n",
    "    elif col.startswith(\"type_\"):\n",
    "        continue\n",
    "    model_df_min_max[col] = (model_df_min_max[col] - model_df_min_max[col].min()) / (model_df_min_max[col].max() - model_df_min_max[col].min())\n",
    "\n",
    "model_df_min_max.head()"
   ]
  },
  {
   "cell_type": "markdown",
   "metadata": {},
   "source": [
    "#### Normalization (actually you change the distribution of your data)"
   ]
  },
  {
   "cell_type": "code",
   "execution_count": 45,
   "metadata": {},
   "outputs": [
    {
     "data": {
      "text/plain": "   ForestDensityM  Latitude  Longitude  NoisePollutionRailwayM  \\\n0        0.153933  0.344257   0.040907               -0.037157   \n1        0.153933  0.344257   0.040907               -0.037157   \n2       -0.036745  0.334839   0.031260               -0.037157   \n3        0.153933  0.344257   0.040907               -0.037157   \n4        0.146755  0.338632   0.033436               -0.037157   \n\n   NoisePollutionRoadM  PopulationDensityM  RiversAndLakesM  RiversAndLakesS  \\\n0            -0.279696           -0.040741        -0.025666         0.019334   \n1            -0.279696           -0.040741        -0.025666         0.019334   \n2             0.167040            0.151764         0.344464        -0.012922   \n3            -0.279696           -0.040741        -0.025666         0.019334   \n4            -0.186021           -0.116536         0.251632         0.236526   \n\n   distanceToTrainStation  gde_area_agriculture_percentage  ...  \\\n0                0.044746                        -0.039176  ...   \n1                0.044746                        -0.039176  ...   \n2               -0.035686                        -0.259283  ...   \n3                0.044746                        -0.039176  ...   \n4               -0.014882                        -0.011144  ...   \n\n   type_penthouse  type_rustico  type_secondary-suite  \\\n0               1             0                     0   \n1               0             0                     0   \n2               1             0                     0   \n3               0             0                     0   \n4               0             0                     0   \n\n   type_semi-detached-house  type_single-room  type_stepped-apartment  \\\n0                         0                 0                       0   \n1                         0                 0                       0   \n2                         0                 0                       0   \n3                         0                 0                       0   \n4                         0                 0                       0   \n\n   type_stepped-house  type_studio  type_terrace-house  type_villa  \n0                   0            0                   0           0  \n1                   0            0                   1           0  \n2                   0            0                   0           0  \n3                   0            0                   0           0  \n4                   0            0                   0           0  \n\n[5 rows x 57 columns]",
      "text/html": "<div>\n<style scoped>\n    .dataframe tbody tr th:only-of-type {\n        vertical-align: middle;\n    }\n\n    .dataframe tbody tr th {\n        vertical-align: top;\n    }\n\n    .dataframe thead th {\n        text-align: right;\n    }\n</style>\n<table border=\"1\" class=\"dataframe\">\n  <thead>\n    <tr style=\"text-align: right;\">\n      <th></th>\n      <th>ForestDensityM</th>\n      <th>Latitude</th>\n      <th>Longitude</th>\n      <th>NoisePollutionRailwayM</th>\n      <th>NoisePollutionRoadM</th>\n      <th>PopulationDensityM</th>\n      <th>RiversAndLakesM</th>\n      <th>RiversAndLakesS</th>\n      <th>distanceToTrainStation</th>\n      <th>gde_area_agriculture_percentage</th>\n      <th>...</th>\n      <th>type_penthouse</th>\n      <th>type_rustico</th>\n      <th>type_secondary-suite</th>\n      <th>type_semi-detached-house</th>\n      <th>type_single-room</th>\n      <th>type_stepped-apartment</th>\n      <th>type_stepped-house</th>\n      <th>type_studio</th>\n      <th>type_terrace-house</th>\n      <th>type_villa</th>\n    </tr>\n  </thead>\n  <tbody>\n    <tr>\n      <th>0</th>\n      <td>0.153933</td>\n      <td>0.344257</td>\n      <td>0.040907</td>\n      <td>-0.037157</td>\n      <td>-0.279696</td>\n      <td>-0.040741</td>\n      <td>-0.025666</td>\n      <td>0.019334</td>\n      <td>0.044746</td>\n      <td>-0.039176</td>\n      <td>...</td>\n      <td>1</td>\n      <td>0</td>\n      <td>0</td>\n      <td>0</td>\n      <td>0</td>\n      <td>0</td>\n      <td>0</td>\n      <td>0</td>\n      <td>0</td>\n      <td>0</td>\n    </tr>\n    <tr>\n      <th>1</th>\n      <td>0.153933</td>\n      <td>0.344257</td>\n      <td>0.040907</td>\n      <td>-0.037157</td>\n      <td>-0.279696</td>\n      <td>-0.040741</td>\n      <td>-0.025666</td>\n      <td>0.019334</td>\n      <td>0.044746</td>\n      <td>-0.039176</td>\n      <td>...</td>\n      <td>0</td>\n      <td>0</td>\n      <td>0</td>\n      <td>0</td>\n      <td>0</td>\n      <td>0</td>\n      <td>0</td>\n      <td>0</td>\n      <td>1</td>\n      <td>0</td>\n    </tr>\n    <tr>\n      <th>2</th>\n      <td>-0.036745</td>\n      <td>0.334839</td>\n      <td>0.031260</td>\n      <td>-0.037157</td>\n      <td>0.167040</td>\n      <td>0.151764</td>\n      <td>0.344464</td>\n      <td>-0.012922</td>\n      <td>-0.035686</td>\n      <td>-0.259283</td>\n      <td>...</td>\n      <td>1</td>\n      <td>0</td>\n      <td>0</td>\n      <td>0</td>\n      <td>0</td>\n      <td>0</td>\n      <td>0</td>\n      <td>0</td>\n      <td>0</td>\n      <td>0</td>\n    </tr>\n    <tr>\n      <th>3</th>\n      <td>0.153933</td>\n      <td>0.344257</td>\n      <td>0.040907</td>\n      <td>-0.037157</td>\n      <td>-0.279696</td>\n      <td>-0.040741</td>\n      <td>-0.025666</td>\n      <td>0.019334</td>\n      <td>0.044746</td>\n      <td>-0.039176</td>\n      <td>...</td>\n      <td>0</td>\n      <td>0</td>\n      <td>0</td>\n      <td>0</td>\n      <td>0</td>\n      <td>0</td>\n      <td>0</td>\n      <td>0</td>\n      <td>0</td>\n      <td>0</td>\n    </tr>\n    <tr>\n      <th>4</th>\n      <td>0.146755</td>\n      <td>0.338632</td>\n      <td>0.033436</td>\n      <td>-0.037157</td>\n      <td>-0.186021</td>\n      <td>-0.116536</td>\n      <td>0.251632</td>\n      <td>0.236526</td>\n      <td>-0.014882</td>\n      <td>-0.011144</td>\n      <td>...</td>\n      <td>0</td>\n      <td>0</td>\n      <td>0</td>\n      <td>0</td>\n      <td>0</td>\n      <td>0</td>\n      <td>0</td>\n      <td>0</td>\n      <td>0</td>\n      <td>0</td>\n    </tr>\n  </tbody>\n</table>\n<p>5 rows × 57 columns</p>\n</div>"
     },
     "execution_count": 45,
     "metadata": {},
     "output_type": "execute_result"
    }
   ],
   "source": [
    "model_df_norm = model_df.copy()\n",
    "\n",
    "for col in model_df_norm.columns:\n",
    "    if col == \"price\":\n",
    "        continue\n",
    "    elif col.startswith(\"type_\"):\n",
    "        continue\n",
    "    model_df_norm[col] = (model_df_norm[col] - model_df_norm[col].mean()) / (model_df_norm[col].max() - model_df_norm[col].min())\n",
    "\n",
    "\n",
    "model_df_norm.head()"
   ]
  },
  {
   "cell_type": "markdown",
   "metadata": {},
   "source": [
    "#### Standardization (best method to use if the deature is normally distributed)"
   ]
  },
  {
   "cell_type": "code",
   "execution_count": 46,
   "metadata": {},
   "outputs": [
    {
     "data": {
      "text/plain": "   ForestDensityM  Latitude  Longitude  NoisePollutionRailwayM  \\\n0        0.888240  1.242636   0.190171               -0.371367   \n1        0.888240  1.242636   0.190171               -0.371367   \n2       -0.212026  1.208638   0.145324               -0.371367   \n3        0.888240  1.242636   0.190171               -0.371367   \n4        0.846816  1.222329   0.155442               -0.371367   \n\n   NoisePollutionRoadM  PopulationDensityM  RiversAndLakesM  RiversAndLakesS  \\\n0            -1.604049           -0.234829        -0.278031         0.273363   \n1            -1.604049           -0.234829        -0.278031         0.273363   \n2             0.957971            0.874749         3.731423        -0.182707   \n3            -1.604049           -0.234829        -0.278031         0.273363   \n4            -1.066828           -0.671698         2.725811         3.344332   \n\n   distanceToTrainStation  gde_area_agriculture_percentage  ...  \\\n0                0.498842                        -0.178127  ...   \n1                0.498842                        -0.178127  ...   \n2               -0.397846                        -1.178926  ...   \n3                0.498842                        -0.178127  ...   \n4               -0.165908                        -0.050669  ...   \n\n   type_penthouse  type_rustico  type_secondary-suite  \\\n0               1             0                     0   \n1               0             0                     0   \n2               1             0                     0   \n3               0             0                     0   \n4               0             0                     0   \n\n   type_semi-detached-house  type_single-room  type_stepped-apartment  \\\n0                         0                 0                       0   \n1                         0                 0                       0   \n2                         0                 0                       0   \n3                         0                 0                       0   \n4                         0                 0                       0   \n\n   type_stepped-house  type_studio  type_terrace-house  type_villa  \n0                   0            0                   0           0  \n1                   0            0                   1           0  \n2                   0            0                   0           0  \n3                   0            0                   0           0  \n4                   0            0                   0           0  \n\n[5 rows x 57 columns]",
      "text/html": "<div>\n<style scoped>\n    .dataframe tbody tr th:only-of-type {\n        vertical-align: middle;\n    }\n\n    .dataframe tbody tr th {\n        vertical-align: top;\n    }\n\n    .dataframe thead th {\n        text-align: right;\n    }\n</style>\n<table border=\"1\" class=\"dataframe\">\n  <thead>\n    <tr style=\"text-align: right;\">\n      <th></th>\n      <th>ForestDensityM</th>\n      <th>Latitude</th>\n      <th>Longitude</th>\n      <th>NoisePollutionRailwayM</th>\n      <th>NoisePollutionRoadM</th>\n      <th>PopulationDensityM</th>\n      <th>RiversAndLakesM</th>\n      <th>RiversAndLakesS</th>\n      <th>distanceToTrainStation</th>\n      <th>gde_area_agriculture_percentage</th>\n      <th>...</th>\n      <th>type_penthouse</th>\n      <th>type_rustico</th>\n      <th>type_secondary-suite</th>\n      <th>type_semi-detached-house</th>\n      <th>type_single-room</th>\n      <th>type_stepped-apartment</th>\n      <th>type_stepped-house</th>\n      <th>type_studio</th>\n      <th>type_terrace-house</th>\n      <th>type_villa</th>\n    </tr>\n  </thead>\n  <tbody>\n    <tr>\n      <th>0</th>\n      <td>0.888240</td>\n      <td>1.242636</td>\n      <td>0.190171</td>\n      <td>-0.371367</td>\n      <td>-1.604049</td>\n      <td>-0.234829</td>\n      <td>-0.278031</td>\n      <td>0.273363</td>\n      <td>0.498842</td>\n      <td>-0.178127</td>\n      <td>...</td>\n      <td>1</td>\n      <td>0</td>\n      <td>0</td>\n      <td>0</td>\n      <td>0</td>\n      <td>0</td>\n      <td>0</td>\n      <td>0</td>\n      <td>0</td>\n      <td>0</td>\n    </tr>\n    <tr>\n      <th>1</th>\n      <td>0.888240</td>\n      <td>1.242636</td>\n      <td>0.190171</td>\n      <td>-0.371367</td>\n      <td>-1.604049</td>\n      <td>-0.234829</td>\n      <td>-0.278031</td>\n      <td>0.273363</td>\n      <td>0.498842</td>\n      <td>-0.178127</td>\n      <td>...</td>\n      <td>0</td>\n      <td>0</td>\n      <td>0</td>\n      <td>0</td>\n      <td>0</td>\n      <td>0</td>\n      <td>0</td>\n      <td>0</td>\n      <td>1</td>\n      <td>0</td>\n    </tr>\n    <tr>\n      <th>2</th>\n      <td>-0.212026</td>\n      <td>1.208638</td>\n      <td>0.145324</td>\n      <td>-0.371367</td>\n      <td>0.957971</td>\n      <td>0.874749</td>\n      <td>3.731423</td>\n      <td>-0.182707</td>\n      <td>-0.397846</td>\n      <td>-1.178926</td>\n      <td>...</td>\n      <td>1</td>\n      <td>0</td>\n      <td>0</td>\n      <td>0</td>\n      <td>0</td>\n      <td>0</td>\n      <td>0</td>\n      <td>0</td>\n      <td>0</td>\n      <td>0</td>\n    </tr>\n    <tr>\n      <th>3</th>\n      <td>0.888240</td>\n      <td>1.242636</td>\n      <td>0.190171</td>\n      <td>-0.371367</td>\n      <td>-1.604049</td>\n      <td>-0.234829</td>\n      <td>-0.278031</td>\n      <td>0.273363</td>\n      <td>0.498842</td>\n      <td>-0.178127</td>\n      <td>...</td>\n      <td>0</td>\n      <td>0</td>\n      <td>0</td>\n      <td>0</td>\n      <td>0</td>\n      <td>0</td>\n      <td>0</td>\n      <td>0</td>\n      <td>0</td>\n      <td>0</td>\n    </tr>\n    <tr>\n      <th>4</th>\n      <td>0.846816</td>\n      <td>1.222329</td>\n      <td>0.155442</td>\n      <td>-0.371367</td>\n      <td>-1.066828</td>\n      <td>-0.671698</td>\n      <td>2.725811</td>\n      <td>3.344332</td>\n      <td>-0.165908</td>\n      <td>-0.050669</td>\n      <td>...</td>\n      <td>0</td>\n      <td>0</td>\n      <td>0</td>\n      <td>0</td>\n      <td>0</td>\n      <td>0</td>\n      <td>0</td>\n      <td>0</td>\n      <td>0</td>\n      <td>0</td>\n    </tr>\n  </tbody>\n</table>\n<p>5 rows × 57 columns</p>\n</div>"
     },
     "execution_count": 46,
     "metadata": {},
     "output_type": "execute_result"
    }
   ],
   "source": [
    "model_df_std = model_df.copy()\n",
    "\n",
    "for col in model_df_std.columns:\n",
    "    if col == \"price\":\n",
    "        continue\n",
    "    elif col.startswith(\"type_\"):\n",
    "        continue\n",
    "    model_df_std[col] = (model_df_std[col] - model_df_std[col].mean()) / model_df_std[col].std()\n",
    "\n",
    "model_df_std.head()"
   ]
  },
  {
   "cell_type": "markdown",
   "metadata": {},
   "source": [
    "#### Robust Scaling (robust to outliers)"
   ]
  },
  {
   "cell_type": "code",
   "execution_count": 47,
   "metadata": {},
   "outputs": [
    {
     "data": {
      "text/plain": "   ForestDensityM  Latitude  Longitude  NoisePollutionRailwayM  \\\n0        1.067960  0.686833   0.130463                     0.0   \n1        1.067960  0.686833   0.130463                     0.0   \n2        0.215740  0.668920   0.106747                     0.0   \n3        1.067960  0.686833   0.130463                     0.0   \n4        1.035876  0.676133   0.112097                     0.0   \n\n   NoisePollutionRoadM  PopulationDensityM  RiversAndLakesM  RiversAndLakesS  \\\n0            -1.129839            0.010313        18.218171         0.011871   \n1            -1.129839            0.010313        18.218171         0.011871   \n2             0.715909            0.804150      1893.128856         0.000000   \n3            -1.129839            0.010313        18.218171         0.011871   \n4            -0.742810           -0.302241      1422.882194         0.091805   \n\n   distanceToTrainStation  gde_area_agriculture_percentage  ...  \\\n0                0.987703                        -0.102607  ...   \n1                0.987703                        -0.102607  ...   \n2               -0.071577                        -0.709981  ...   \n3                0.987703                        -0.102607  ...   \n4                0.202417                        -0.025255  ...   \n\n   type_penthouse  type_rustico  type_secondary-suite  \\\n0               1             0                     0   \n1               0             0                     0   \n2               1             0                     0   \n3               0             0                     0   \n4               0             0                     0   \n\n   type_semi-detached-house  type_single-room  type_stepped-apartment  \\\n0                         0                 0                       0   \n1                         0                 0                       0   \n2                         0                 0                       0   \n3                         0                 0                       0   \n4                         0                 0                       0   \n\n   type_stepped-house  type_studio  type_terrace-house  type_villa  \n0                   0            0                   0           0  \n1                   0            0                   1           0  \n2                   0            0                   0           0  \n3                   0            0                   0           0  \n4                   0            0                   0           0  \n\n[5 rows x 57 columns]",
      "text/html": "<div>\n<style scoped>\n    .dataframe tbody tr th:only-of-type {\n        vertical-align: middle;\n    }\n\n    .dataframe tbody tr th {\n        vertical-align: top;\n    }\n\n    .dataframe thead th {\n        text-align: right;\n    }\n</style>\n<table border=\"1\" class=\"dataframe\">\n  <thead>\n    <tr style=\"text-align: right;\">\n      <th></th>\n      <th>ForestDensityM</th>\n      <th>Latitude</th>\n      <th>Longitude</th>\n      <th>NoisePollutionRailwayM</th>\n      <th>NoisePollutionRoadM</th>\n      <th>PopulationDensityM</th>\n      <th>RiversAndLakesM</th>\n      <th>RiversAndLakesS</th>\n      <th>distanceToTrainStation</th>\n      <th>gde_area_agriculture_percentage</th>\n      <th>...</th>\n      <th>type_penthouse</th>\n      <th>type_rustico</th>\n      <th>type_secondary-suite</th>\n      <th>type_semi-detached-house</th>\n      <th>type_single-room</th>\n      <th>type_stepped-apartment</th>\n      <th>type_stepped-house</th>\n      <th>type_studio</th>\n      <th>type_terrace-house</th>\n      <th>type_villa</th>\n    </tr>\n  </thead>\n  <tbody>\n    <tr>\n      <th>0</th>\n      <td>1.067960</td>\n      <td>0.686833</td>\n      <td>0.130463</td>\n      <td>0.0</td>\n      <td>-1.129839</td>\n      <td>0.010313</td>\n      <td>18.218171</td>\n      <td>0.011871</td>\n      <td>0.987703</td>\n      <td>-0.102607</td>\n      <td>...</td>\n      <td>1</td>\n      <td>0</td>\n      <td>0</td>\n      <td>0</td>\n      <td>0</td>\n      <td>0</td>\n      <td>0</td>\n      <td>0</td>\n      <td>0</td>\n      <td>0</td>\n    </tr>\n    <tr>\n      <th>1</th>\n      <td>1.067960</td>\n      <td>0.686833</td>\n      <td>0.130463</td>\n      <td>0.0</td>\n      <td>-1.129839</td>\n      <td>0.010313</td>\n      <td>18.218171</td>\n      <td>0.011871</td>\n      <td>0.987703</td>\n      <td>-0.102607</td>\n      <td>...</td>\n      <td>0</td>\n      <td>0</td>\n      <td>0</td>\n      <td>0</td>\n      <td>0</td>\n      <td>0</td>\n      <td>0</td>\n      <td>0</td>\n      <td>1</td>\n      <td>0</td>\n    </tr>\n    <tr>\n      <th>2</th>\n      <td>0.215740</td>\n      <td>0.668920</td>\n      <td>0.106747</td>\n      <td>0.0</td>\n      <td>0.715909</td>\n      <td>0.804150</td>\n      <td>1893.128856</td>\n      <td>0.000000</td>\n      <td>-0.071577</td>\n      <td>-0.709981</td>\n      <td>...</td>\n      <td>1</td>\n      <td>0</td>\n      <td>0</td>\n      <td>0</td>\n      <td>0</td>\n      <td>0</td>\n      <td>0</td>\n      <td>0</td>\n      <td>0</td>\n      <td>0</td>\n    </tr>\n    <tr>\n      <th>3</th>\n      <td>1.067960</td>\n      <td>0.686833</td>\n      <td>0.130463</td>\n      <td>0.0</td>\n      <td>-1.129839</td>\n      <td>0.010313</td>\n      <td>18.218171</td>\n      <td>0.011871</td>\n      <td>0.987703</td>\n      <td>-0.102607</td>\n      <td>...</td>\n      <td>0</td>\n      <td>0</td>\n      <td>0</td>\n      <td>0</td>\n      <td>0</td>\n      <td>0</td>\n      <td>0</td>\n      <td>0</td>\n      <td>0</td>\n      <td>0</td>\n    </tr>\n    <tr>\n      <th>4</th>\n      <td>1.035876</td>\n      <td>0.676133</td>\n      <td>0.112097</td>\n      <td>0.0</td>\n      <td>-0.742810</td>\n      <td>-0.302241</td>\n      <td>1422.882194</td>\n      <td>0.091805</td>\n      <td>0.202417</td>\n      <td>-0.025255</td>\n      <td>...</td>\n      <td>0</td>\n      <td>0</td>\n      <td>0</td>\n      <td>0</td>\n      <td>0</td>\n      <td>0</td>\n      <td>0</td>\n      <td>0</td>\n      <td>0</td>\n      <td>0</td>\n    </tr>\n  </tbody>\n</table>\n<p>5 rows × 57 columns</p>\n</div>"
     },
     "execution_count": 47,
     "metadata": {},
     "output_type": "execute_result"
    }
   ],
   "source": [
    "model_df_robust = model_df.copy()\n",
    "\n",
    "for col in model_df_robust.columns:\n",
    "    if col == \"price\":\n",
    "        continue\n",
    "    elif col.startswith(\"type_\"):\n",
    "        continue\n",
    "    elif col == \"RiversAndLakesS\" or col == \"rooms\":\n",
    "        # TO BE REVIEWED, generated inf values\n",
    "        continue\n",
    "    model_df_robust[col] = (model_df_robust[col] - model_df_robust[col].median()) / (model_df_robust[col].quantile(0.75) - model_df_robust[col].quantile(0.25))\n",
    "\n",
    "model_df_robust.head()"
   ]
  },
  {
   "cell_type": "code",
   "execution_count": 48,
   "outputs": [],
   "source": [
    "target_path = Path(\"./data/model/immoscout_norm.csv\")\n",
    "model_df_norm.to_csv(target_path, index=False)\n",
    "\n",
    "target_path = Path(\"./data/model/immoscout_min_max.csv\")\n",
    "model_df_min_max.to_csv(target_path, index=False)\n",
    "\n",
    "target_path = Path(\"./data/model/immoscout_std.csv\")\n",
    "model_df_std.to_csv(target_path, index=False)\n",
    "\n",
    "target_path = Path(\"./data/model/immoscout_robust.csv\")\n",
    "model_df_robust.to_csv(target_path, index=False)"
   ],
   "metadata": {
    "collapsed": false
   }
  },
  {
   "cell_type": "markdown",
   "metadata": {},
   "source": [
    "<font color='red'>\n",
    "\n",
    "#### Fragen die wir klären müssen:\n",
    "- Müssen alle featuren gleich normalisiert werden? Oder können verschiedene Features, verschieden normalisiert werden?\n",
    "- Dummy-Spalten ebenfalls normalisieren? (wurde hier jetzt nicht gemacht)\n",
    "- Können wir Daten löschen, die \"unmöglich\" sind? (bsp: Wo \"price\" 1.- ist)\n",
    "\n",
    "</font>"
   ]
  },
  {
   "cell_type": "code",
   "execution_count": 48,
   "metadata": {},
   "outputs": [],
   "source": []
  }
 ],
 "metadata": {
  "kernelspec": {
   "display_name": "Python 3.10.7 64-bit",
   "language": "python",
   "name": "python3"
  },
  "language_info": {
   "codemirror_mode": {
    "name": "ipython",
    "version": 3
   },
   "file_extension": ".py",
   "mimetype": "text/x-python",
   "name": "python",
   "nbconvert_exporter": "python",
   "pygments_lexer": "ipython3",
   "version": "3.10.7"
  },
  "vscode": {
   "interpreter": {
    "hash": "aee8b7b246df8f9039afb4144a1f6fd8d2ca17a180786b69acc140d282b71a49"
   }
  }
 },
 "nbformat": 4,
 "nbformat_minor": 0
}
