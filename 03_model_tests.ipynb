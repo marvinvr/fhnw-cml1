{
 "cells": [
  {
   "cell_type": "markdown",
   "metadata": {
    "collapsed": false
   },
   "source": [
    "# Model Tests"
   ]
  },
  {
   "cell_type": "markdown",
   "metadata": {
    "collapsed": false
   },
   "source": [
    "## General"
   ]
  },
  {
   "cell_type": "markdown",
   "metadata": {
    "collapsed": false
   },
   "source": [
    "### Imports"
   ]
  },
  {
   "cell_type": "code",
   "execution_count": 1,
   "metadata": {
    "collapsed": true
   },
   "outputs": [],
   "source": [
    "import pandas as pd\n",
    "from sklearn import model_selection\n",
    "from pathlib import Path\n",
    "import random\n",
    "from IPython.display import clear_output\n",
    "from helpers.training import *"
   ]
  },
  {
   "cell_type": "markdown",
   "metadata": {
    "collapsed": false
   },
   "source": [
    "### Dataset"
   ]
  },
  {
   "cell_type": "code",
   "execution_count": 2,
   "metadata": {
    "collapsed": false
   },
   "outputs": [
    {
     "data": {
      "text/plain": "   ForestDensityM  Latitude  Longitude  NoisePollutionRailwayM  \\\n0        0.688099  0.686833   0.130463                0.000000   \n1        0.688099  0.686833   0.130463                0.000000   \n2        0.198580  0.668920   0.106747                0.000000   \n3        0.688099  0.686833   0.130463                0.000000   \n4        0.673461  0.676133   0.112097                0.000000   \n5        0.402338  0.672546   0.089462                0.000000   \n6        0.688099  0.686833   0.130463                0.000000   \n7       -0.473383  0.660603   0.106216               10.189522   \n8        0.963411  0.672320   0.122047                2.610778   \n9        0.338853  0.666867   0.089861                0.000000   \n\n   NoisePollutionRoadM  PopulationDensityM  RiversAndLakesM  RiversAndLakesS  \\\n0            -1.131549            0.009053         3.466803         0.108954   \n1            -1.131549            0.009053         3.466803         0.108954   \n2             0.715140            0.802890        35.340030         0.000000   \n3            -1.131549            0.009053         3.466803         0.108954   \n4            -0.744323           -0.303501        30.638062         0.302994   \n5            -0.683950            0.136669         0.000000         0.000000   \n6            -1.131549            0.009053         3.466803         0.108954   \n7             0.676815            0.185260         0.000000         0.000000   \n8             0.881928            0.140491        16.075488         0.185477   \n9            -0.237389            0.006480         0.000000         0.000000   \n\n   distanceToTrainStation  gde_area_agriculture_percentage  ...  \\\n0                0.809961                        -0.102607  ...   \n1                0.809961                        -0.102607  ...   \n2               -0.078321                        -0.709981  ...   \n3                0.809961                        -0.102607  ...   \n4                0.208265                        -0.025255  ...   \n5                0.844996                        -0.029724  ...   \n6                0.809961                        -0.102607  ...   \n7               -0.184291                        -0.709981  ...   \n8               -0.015675                        -0.709981  ...   \n9                0.737623                        -0.029724  ...   \n\n   type_penthouse  type_rustico  type_secondary-suite  \\\n0             1.0           0.0                   0.0   \n1             0.0           0.0                   0.0   \n2             1.0           0.0                   0.0   \n3             0.0           0.0                   0.0   \n4             0.0           0.0                   0.0   \n5             0.0           0.0                   0.0   \n6             0.0           0.0                   0.0   \n7             0.0           0.0                   0.0   \n8             0.0           0.0                   0.0   \n9             0.0           0.0                   0.0   \n\n   type_semi-detached-house  type_single-room  type_stepped-apartment  \\\n0                       0.0               0.0                     0.0   \n1                       0.0               0.0                     0.0   \n2                       0.0               0.0                     0.0   \n3                       0.0               0.0                     0.0   \n4                       0.0               0.0                     0.0   \n5                       0.0               0.0                     0.0   \n6                       0.0               0.0                     0.0   \n7                       0.0               0.0                     0.0   \n8                       0.0               0.0                     0.0   \n9                       0.0               0.0                     0.0   \n\n   type_stepped-house  type_studio  type_terrace-house  type_villa  \n0                 0.0          0.0                 0.0         0.0  \n1                 0.0          0.0                 1.0         0.0  \n2                 0.0          0.0                 0.0         0.0  \n3                 0.0          0.0                 0.0         0.0  \n4                 0.0          0.0                 0.0         0.0  \n5                 0.0          0.0                 0.0         0.0  \n6                 0.0          0.0                 1.0         0.0  \n7                 0.0          0.0                 0.0         0.0  \n8                 0.0          0.0                 0.0         0.0  \n9                 1.0          0.0                 0.0         0.0  \n\n[10 rows x 57 columns]",
      "text/html": "<div>\n<style scoped>\n    .dataframe tbody tr th:only-of-type {\n        vertical-align: middle;\n    }\n\n    .dataframe tbody tr th {\n        vertical-align: top;\n    }\n\n    .dataframe thead th {\n        text-align: right;\n    }\n</style>\n<table border=\"1\" class=\"dataframe\">\n  <thead>\n    <tr style=\"text-align: right;\">\n      <th></th>\n      <th>ForestDensityM</th>\n      <th>Latitude</th>\n      <th>Longitude</th>\n      <th>NoisePollutionRailwayM</th>\n      <th>NoisePollutionRoadM</th>\n      <th>PopulationDensityM</th>\n      <th>RiversAndLakesM</th>\n      <th>RiversAndLakesS</th>\n      <th>distanceToTrainStation</th>\n      <th>gde_area_agriculture_percentage</th>\n      <th>...</th>\n      <th>type_penthouse</th>\n      <th>type_rustico</th>\n      <th>type_secondary-suite</th>\n      <th>type_semi-detached-house</th>\n      <th>type_single-room</th>\n      <th>type_stepped-apartment</th>\n      <th>type_stepped-house</th>\n      <th>type_studio</th>\n      <th>type_terrace-house</th>\n      <th>type_villa</th>\n    </tr>\n  </thead>\n  <tbody>\n    <tr>\n      <th>0</th>\n      <td>0.688099</td>\n      <td>0.686833</td>\n      <td>0.130463</td>\n      <td>0.000000</td>\n      <td>-1.131549</td>\n      <td>0.009053</td>\n      <td>3.466803</td>\n      <td>0.108954</td>\n      <td>0.809961</td>\n      <td>-0.102607</td>\n      <td>...</td>\n      <td>1.0</td>\n      <td>0.0</td>\n      <td>0.0</td>\n      <td>0.0</td>\n      <td>0.0</td>\n      <td>0.0</td>\n      <td>0.0</td>\n      <td>0.0</td>\n      <td>0.0</td>\n      <td>0.0</td>\n    </tr>\n    <tr>\n      <th>1</th>\n      <td>0.688099</td>\n      <td>0.686833</td>\n      <td>0.130463</td>\n      <td>0.000000</td>\n      <td>-1.131549</td>\n      <td>0.009053</td>\n      <td>3.466803</td>\n      <td>0.108954</td>\n      <td>0.809961</td>\n      <td>-0.102607</td>\n      <td>...</td>\n      <td>0.0</td>\n      <td>0.0</td>\n      <td>0.0</td>\n      <td>0.0</td>\n      <td>0.0</td>\n      <td>0.0</td>\n      <td>0.0</td>\n      <td>0.0</td>\n      <td>1.0</td>\n      <td>0.0</td>\n    </tr>\n    <tr>\n      <th>2</th>\n      <td>0.198580</td>\n      <td>0.668920</td>\n      <td>0.106747</td>\n      <td>0.000000</td>\n      <td>0.715140</td>\n      <td>0.802890</td>\n      <td>35.340030</td>\n      <td>0.000000</td>\n      <td>-0.078321</td>\n      <td>-0.709981</td>\n      <td>...</td>\n      <td>1.0</td>\n      <td>0.0</td>\n      <td>0.0</td>\n      <td>0.0</td>\n      <td>0.0</td>\n      <td>0.0</td>\n      <td>0.0</td>\n      <td>0.0</td>\n      <td>0.0</td>\n      <td>0.0</td>\n    </tr>\n    <tr>\n      <th>3</th>\n      <td>0.688099</td>\n      <td>0.686833</td>\n      <td>0.130463</td>\n      <td>0.000000</td>\n      <td>-1.131549</td>\n      <td>0.009053</td>\n      <td>3.466803</td>\n      <td>0.108954</td>\n      <td>0.809961</td>\n      <td>-0.102607</td>\n      <td>...</td>\n      <td>0.0</td>\n      <td>0.0</td>\n      <td>0.0</td>\n      <td>0.0</td>\n      <td>0.0</td>\n      <td>0.0</td>\n      <td>0.0</td>\n      <td>0.0</td>\n      <td>0.0</td>\n      <td>0.0</td>\n    </tr>\n    <tr>\n      <th>4</th>\n      <td>0.673461</td>\n      <td>0.676133</td>\n      <td>0.112097</td>\n      <td>0.000000</td>\n      <td>-0.744323</td>\n      <td>-0.303501</td>\n      <td>30.638062</td>\n      <td>0.302994</td>\n      <td>0.208265</td>\n      <td>-0.025255</td>\n      <td>...</td>\n      <td>0.0</td>\n      <td>0.0</td>\n      <td>0.0</td>\n      <td>0.0</td>\n      <td>0.0</td>\n      <td>0.0</td>\n      <td>0.0</td>\n      <td>0.0</td>\n      <td>0.0</td>\n      <td>0.0</td>\n    </tr>\n    <tr>\n      <th>5</th>\n      <td>0.402338</td>\n      <td>0.672546</td>\n      <td>0.089462</td>\n      <td>0.000000</td>\n      <td>-0.683950</td>\n      <td>0.136669</td>\n      <td>0.000000</td>\n      <td>0.000000</td>\n      <td>0.844996</td>\n      <td>-0.029724</td>\n      <td>...</td>\n      <td>0.0</td>\n      <td>0.0</td>\n      <td>0.0</td>\n      <td>0.0</td>\n      <td>0.0</td>\n      <td>0.0</td>\n      <td>0.0</td>\n      <td>0.0</td>\n      <td>0.0</td>\n      <td>0.0</td>\n    </tr>\n    <tr>\n      <th>6</th>\n      <td>0.688099</td>\n      <td>0.686833</td>\n      <td>0.130463</td>\n      <td>0.000000</td>\n      <td>-1.131549</td>\n      <td>0.009053</td>\n      <td>3.466803</td>\n      <td>0.108954</td>\n      <td>0.809961</td>\n      <td>-0.102607</td>\n      <td>...</td>\n      <td>0.0</td>\n      <td>0.0</td>\n      <td>0.0</td>\n      <td>0.0</td>\n      <td>0.0</td>\n      <td>0.0</td>\n      <td>0.0</td>\n      <td>0.0</td>\n      <td>1.0</td>\n      <td>0.0</td>\n    </tr>\n    <tr>\n      <th>7</th>\n      <td>-0.473383</td>\n      <td>0.660603</td>\n      <td>0.106216</td>\n      <td>10.189522</td>\n      <td>0.676815</td>\n      <td>0.185260</td>\n      <td>0.000000</td>\n      <td>0.000000</td>\n      <td>-0.184291</td>\n      <td>-0.709981</td>\n      <td>...</td>\n      <td>0.0</td>\n      <td>0.0</td>\n      <td>0.0</td>\n      <td>0.0</td>\n      <td>0.0</td>\n      <td>0.0</td>\n      <td>0.0</td>\n      <td>0.0</td>\n      <td>0.0</td>\n      <td>0.0</td>\n    </tr>\n    <tr>\n      <th>8</th>\n      <td>0.963411</td>\n      <td>0.672320</td>\n      <td>0.122047</td>\n      <td>2.610778</td>\n      <td>0.881928</td>\n      <td>0.140491</td>\n      <td>16.075488</td>\n      <td>0.185477</td>\n      <td>-0.015675</td>\n      <td>-0.709981</td>\n      <td>...</td>\n      <td>0.0</td>\n      <td>0.0</td>\n      <td>0.0</td>\n      <td>0.0</td>\n      <td>0.0</td>\n      <td>0.0</td>\n      <td>0.0</td>\n      <td>0.0</td>\n      <td>0.0</td>\n      <td>0.0</td>\n    </tr>\n    <tr>\n      <th>9</th>\n      <td>0.338853</td>\n      <td>0.666867</td>\n      <td>0.089861</td>\n      <td>0.000000</td>\n      <td>-0.237389</td>\n      <td>0.006480</td>\n      <td>0.000000</td>\n      <td>0.000000</td>\n      <td>0.737623</td>\n      <td>-0.029724</td>\n      <td>...</td>\n      <td>0.0</td>\n      <td>0.0</td>\n      <td>0.0</td>\n      <td>0.0</td>\n      <td>0.0</td>\n      <td>0.0</td>\n      <td>1.0</td>\n      <td>0.0</td>\n      <td>0.0</td>\n      <td>0.0</td>\n    </tr>\n  </tbody>\n</table>\n<p>10 rows × 57 columns</p>\n</div>"
     },
     "execution_count": 2,
     "metadata": {},
     "output_type": "execute_result"
    }
   ],
   "source": [
    "df = pd.read_csv(Path('./data/model/immoscout_robust.csv'))\n",
    "\n",
    "df.head(10)"
   ]
  },
  {
   "cell_type": "markdown",
   "metadata": {
    "collapsed": false
   },
   "source": [
    "### Helpers"
   ]
  },
  {
   "cell_type": "code",
   "execution_count": 3,
   "metadata": {
    "collapsed": false
   },
   "outputs": [],
   "source": [
    "def train_test_split(X, y):\n",
    "    return model_selection.train_test_split(X, y, train_size=0.6, random_state=42)"
   ]
  },
  {
   "cell_type": "code",
   "execution_count": 4,
   "metadata": {
    "collapsed": false
   },
   "outputs": [],
   "source": [
    "def get_random_column_names(columns: list, percentage: float, add_type_columns: bool) -> list:\n",
    "    type_columns = [c for c in columns if c.startswith(\"type_\") and add_type_columns]\n",
    "    regular_columns = [c for c in columns if (not c.startswith(\"type_\")) and random.random() < percentage]\n",
    "    return [*type_columns, *regular_columns]"
   ]
  },
  {
   "cell_type": "markdown",
   "metadata": {
    "collapsed": false
   },
   "source": [
    "## Execution function"
   ]
  },
  {
   "cell_type": "code",
   "execution_count": 5,
   "metadata": {
    "collapsed": false
   },
   "outputs": [
    {
     "name": "stdout",
     "output_type": "stream",
     "text": [
      "Total number of iterations: 100\n"
     ]
    }
   ],
   "source": [
    "# Constants\n",
    "NUM_ITERATIONS = 50\n",
    "MIN_PERCENTAGE_COLUMNS = 0.4\n",
    "MAX_PERCENTAGE_COLUMNS = 1\n",
    "TRAINING_FUNCTIONS = [train_random_forest]\n",
    "#TRAINING_FUNCTIONS = [train_random_forest, train_ridge, train_mlp_regressor]\n",
    "#TRAINING_FUNCTIONS = [train_ridge, train_bayesian_regression, train_quantile_regression, train_passive_agressive, train_random_forest, train_linear_regression]\n",
    "TYPE_COLUMN_OPTIONS = [True, False]\n",
    "\n",
    "print(\"Total number of iterations:\", NUM_ITERATIONS * len(TRAINING_FUNCTIONS) * len(TYPE_COLUMN_OPTIONS))"
   ]
  },
  {
   "cell_type": "code",
   "execution_count": 6,
   "metadata": {
    "collapsed": false
   },
   "outputs": [],
   "source": [
    "# Data preparation\n",
    "X = df.drop(\"price\", axis=1)\n",
    "y = df[\"price\"]\n",
    "\n",
    "X_train, X_test, y_train, y_test = train_test_split(X, y)"
   ]
  },
  {
   "cell_type": "code",
   "execution_count": 7,
   "metadata": {
    "collapsed": false
   },
   "outputs": [
    {
     "name": "stdout",
     "output_type": "stream",
     "text": [
      "100 % Done\n"
     ]
    },
    {
     "data": {
      "text/plain": "                                              columns  num_columns     score  \\\n86  [type_attic-flat, type_attic-room, type_castle...           51  0.707887   \n24  [type_attic-flat, type_attic-room, type_castle...           50  0.705041   \n82  [type_attic-flat, type_attic-room, type_castle...           55  0.703426   \n96  [type_attic-flat, type_attic-room, type_castle...           53  0.703266   \n92  [type_attic-flat, type_attic-room, type_castle...           52  0.702590   \n..                                                ...          ...       ...   \n8   [type_attic-flat, type_attic-room, type_castle...           33  0.497194   \n33  [ForestDensityM, Latitude, Longitude, Populati...           21  0.392691   \n51  [NoisePollutionRailwayM, NoisePollutionRoadM, ...           17  0.372849   \n47  [Latitude, Longitude, NoisePollutionRailwayM, ...           21  0.371759   \n81  [Latitude, Longitude, NoisePollutionRailwayM, ...           11  0.308913   \n\n                                                model  add_type_columns  \n86  (DecisionTreeRegressor(max_features='sqrt', ra...              True  \n24  (DecisionTreeRegressor(max_features='sqrt', ra...              True  \n82  (DecisionTreeRegressor(max_features='sqrt', ra...              True  \n96  (DecisionTreeRegressor(max_features='sqrt', ra...              True  \n92  (DecisionTreeRegressor(max_features='sqrt', ra...              True  \n..                                                ...               ...  \n8   (DecisionTreeRegressor(max_features='sqrt', ra...              True  \n33  (DecisionTreeRegressor(max_features='sqrt', ra...             False  \n51  (DecisionTreeRegressor(max_features='sqrt', ra...             False  \n47  (DecisionTreeRegressor(max_features='sqrt', ra...             False  \n81  (DecisionTreeRegressor(max_features='sqrt', ra...             False  \n\n[100 rows x 5 columns]",
      "text/html": "<div>\n<style scoped>\n    .dataframe tbody tr th:only-of-type {\n        vertical-align: middle;\n    }\n\n    .dataframe tbody tr th {\n        vertical-align: top;\n    }\n\n    .dataframe thead th {\n        text-align: right;\n    }\n</style>\n<table border=\"1\" class=\"dataframe\">\n  <thead>\n    <tr style=\"text-align: right;\">\n      <th></th>\n      <th>columns</th>\n      <th>num_columns</th>\n      <th>score</th>\n      <th>model</th>\n      <th>add_type_columns</th>\n    </tr>\n  </thead>\n  <tbody>\n    <tr>\n      <th>86</th>\n      <td>[type_attic-flat, type_attic-room, type_castle...</td>\n      <td>51</td>\n      <td>0.707887</td>\n      <td>(DecisionTreeRegressor(max_features='sqrt', ra...</td>\n      <td>True</td>\n    </tr>\n    <tr>\n      <th>24</th>\n      <td>[type_attic-flat, type_attic-room, type_castle...</td>\n      <td>50</td>\n      <td>0.705041</td>\n      <td>(DecisionTreeRegressor(max_features='sqrt', ra...</td>\n      <td>True</td>\n    </tr>\n    <tr>\n      <th>82</th>\n      <td>[type_attic-flat, type_attic-room, type_castle...</td>\n      <td>55</td>\n      <td>0.703426</td>\n      <td>(DecisionTreeRegressor(max_features='sqrt', ra...</td>\n      <td>True</td>\n    </tr>\n    <tr>\n      <th>96</th>\n      <td>[type_attic-flat, type_attic-room, type_castle...</td>\n      <td>53</td>\n      <td>0.703266</td>\n      <td>(DecisionTreeRegressor(max_features='sqrt', ra...</td>\n      <td>True</td>\n    </tr>\n    <tr>\n      <th>92</th>\n      <td>[type_attic-flat, type_attic-room, type_castle...</td>\n      <td>52</td>\n      <td>0.702590</td>\n      <td>(DecisionTreeRegressor(max_features='sqrt', ra...</td>\n      <td>True</td>\n    </tr>\n    <tr>\n      <th>...</th>\n      <td>...</td>\n      <td>...</td>\n      <td>...</td>\n      <td>...</td>\n      <td>...</td>\n    </tr>\n    <tr>\n      <th>8</th>\n      <td>[type_attic-flat, type_attic-room, type_castle...</td>\n      <td>33</td>\n      <td>0.497194</td>\n      <td>(DecisionTreeRegressor(max_features='sqrt', ra...</td>\n      <td>True</td>\n    </tr>\n    <tr>\n      <th>33</th>\n      <td>[ForestDensityM, Latitude, Longitude, Populati...</td>\n      <td>21</td>\n      <td>0.392691</td>\n      <td>(DecisionTreeRegressor(max_features='sqrt', ra...</td>\n      <td>False</td>\n    </tr>\n    <tr>\n      <th>51</th>\n      <td>[NoisePollutionRailwayM, NoisePollutionRoadM, ...</td>\n      <td>17</td>\n      <td>0.372849</td>\n      <td>(DecisionTreeRegressor(max_features='sqrt', ra...</td>\n      <td>False</td>\n    </tr>\n    <tr>\n      <th>47</th>\n      <td>[Latitude, Longitude, NoisePollutionRailwayM, ...</td>\n      <td>21</td>\n      <td>0.371759</td>\n      <td>(DecisionTreeRegressor(max_features='sqrt', ra...</td>\n      <td>False</td>\n    </tr>\n    <tr>\n      <th>81</th>\n      <td>[Latitude, Longitude, NoisePollutionRailwayM, ...</td>\n      <td>11</td>\n      <td>0.308913</td>\n      <td>(DecisionTreeRegressor(max_features='sqrt', ra...</td>\n      <td>False</td>\n    </tr>\n  </tbody>\n</table>\n<p>100 rows × 5 columns</p>\n</div>"
     },
     "execution_count": 7,
     "metadata": {},
     "output_type": "execute_result"
    }
   ],
   "source": [
    "results = []\n",
    "for i in range(NUM_ITERATIONS):\n",
    "    for add_type_columns in TYPE_COLUMN_OPTIONS:\n",
    "        column_percentage = random.random() * (MAX_PERCENTAGE_COLUMNS - MIN_PERCENTAGE_COLUMNS) + MIN_PERCENTAGE_COLUMNS\n",
    "        column_names = get_random_column_names(X_train.columns, column_percentage, add_type_columns)\n",
    "        temp_X_train, temp_X_test = X_train[column_names], X_test[column_names]\n",
    "\n",
    "        for func in TRAINING_FUNCTIONS:\n",
    "            results.append({**func(temp_X_train, temp_X_test, y_train, y_test), \"add_type_columns\": add_type_columns})\n",
    "    clear_output(wait=True)\n",
    "    print(int(((i+1) / NUM_ITERATIONS)*100), '% Done')\n",
    "\n",
    "pd.DataFrame(results).sort_values(\"score\", ascending=False)"
   ]
  },
  {
   "cell_type": "code",
   "execution_count": 7,
   "outputs": [],
   "source": [],
   "metadata": {
    "collapsed": false
   }
  }
 ],
 "metadata": {
  "kernelspec": {
   "display_name": "Python 3.10.8 64-bit",
   "language": "python",
   "name": "python3"
  },
  "language_info": {
   "codemirror_mode": {
    "name": "ipython",
    "version": 3
   },
   "file_extension": ".py",
   "mimetype": "text/x-python",
   "name": "python",
   "nbconvert_exporter": "python",
   "pygments_lexer": "ipython3",
   "version": "3.10.8"
  },
  "vscode": {
   "interpreter": {
    "hash": "aee8b7b246df8f9039afb4144a1f6fd8d2ca17a180786b69acc140d282b71a49"
   }
  }
 },
 "nbformat": 4,
 "nbformat_minor": 0
}
