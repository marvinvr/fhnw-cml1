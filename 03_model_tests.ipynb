{
 "cells": [
  {
   "cell_type": "markdown",
   "metadata": {
    "collapsed": false
   },
   "source": [
    "# Model Tests"
   ]
  },
  {
   "cell_type": "markdown",
   "metadata": {
    "collapsed": false
   },
   "source": [
    "## General"
   ]
  },
  {
   "cell_type": "markdown",
   "metadata": {
    "collapsed": false
   },
   "source": [
    "### Imports"
   ]
  },
  {
   "cell_type": "code",
   "execution_count": 127,
   "metadata": {
    "collapsed": true
   },
   "outputs": [],
   "source": [
    "import pandas as pd\n",
    "from sklearn import linear_model, model_selection, ensemble, tree, neural_network\n",
    "from pathlib import Path\n",
    "import random\n",
    "from IPython.display import clear_output"
   ]
  },
  {
   "cell_type": "markdown",
   "metadata": {
    "collapsed": false
   },
   "source": [
    "### Dataset"
   ]
  },
  {
   "cell_type": "code",
   "execution_count": 128,
   "metadata": {
    "collapsed": false
   },
   "outputs": [
    {
     "data": {
      "text/plain": "   ForestDensityM  Latitude  Longitude  NoisePollutionRailwayM  \\\n0        1.078117  0.686833   0.130463                0.000000   \n1        1.078117  0.686833   0.130463                0.000000   \n2        0.217974  0.668920   0.106747                0.000000   \n3        1.078117  0.686833   0.130463                0.000000   \n4        1.045734  0.676133   0.112097                0.000000   \n5        0.520198  0.672546   0.089462                0.000000   \n6        1.078117  0.686833   0.130463                0.000000   \n7       -0.214762  0.660603   0.106216              103.826366   \n8        1.763675  0.672320   0.122047                6.816164   \n9        0.417501  0.666867   0.089861                0.000000   \n\n   NoisePollutionRoadM  PopulationDensityM  RiversAndLakesM  RiversAndLakesS  \\\n0            -1.131549            0.009053        12.018725         0.011871   \n1            -1.131549            0.009053        12.018725         0.011871   \n2             0.715140            0.802890      1248.917696         0.000000   \n3            -1.131549            0.009053        12.018725         0.011871   \n4            -0.744323           -0.303501       938.690859         0.091805   \n5            -0.683950            0.136669         0.000000         0.000000   \n6            -1.131549            0.009053        12.018725         0.011871   \n7             0.676815            0.185260         0.000000         0.000000   \n8             0.881928            0.140491       258.421309         0.034402   \n9            -0.237389            0.006480         0.000000         0.000000   \n\n   distanceToTrainStation  gde_area_agriculture_percentage  ...  \\\n0                0.991351                        -0.102607  ...   \n1                0.991351                        -0.102607  ...   \n2               -0.068507                        -0.709981  ...   \n3                0.991351                        -0.102607  ...   \n4                0.205637                        -0.025255  ...   \n5                1.045871                        -0.029724  ...   \n6                0.991351                        -0.102607  ...   \n7               -0.153521                        -0.709981  ...   \n8               -0.014097                        -0.709981  ...   \n9                0.881834                        -0.029724  ...   \n\n   type_penthouse  type_rustico  type_secondary-suite  \\\n0             1.0           0.0                   0.0   \n1             0.0           0.0                   0.0   \n2             1.0           0.0                   0.0   \n3             0.0           0.0                   0.0   \n4             0.0           0.0                   0.0   \n5             0.0           0.0                   0.0   \n6             0.0           0.0                   0.0   \n7             0.0           0.0                   0.0   \n8             0.0           0.0                   0.0   \n9             0.0           0.0                   0.0   \n\n   type_semi-detached-house  type_single-room  type_stepped-apartment  \\\n0                       0.0               0.0                     0.0   \n1                       0.0               0.0                     0.0   \n2                       0.0               0.0                     0.0   \n3                       0.0               0.0                     0.0   \n4                       0.0               0.0                     0.0   \n5                       0.0               0.0                     0.0   \n6                       0.0               0.0                     0.0   \n7                       0.0               0.0                     0.0   \n8                       0.0               0.0                     0.0   \n9                       0.0               0.0                     0.0   \n\n   type_stepped-house  type_studio  type_terrace-house  type_villa  \n0                 0.0          0.0                 0.0         0.0  \n1                 0.0          0.0                 1.0         0.0  \n2                 0.0          0.0                 0.0         0.0  \n3                 0.0          0.0                 0.0         0.0  \n4                 0.0          0.0                 0.0         0.0  \n5                 0.0          0.0                 0.0         0.0  \n6                 0.0          0.0                 1.0         0.0  \n7                 0.0          0.0                 0.0         0.0  \n8                 0.0          0.0                 0.0         0.0  \n9                 1.0          0.0                 0.0         0.0  \n\n[10 rows x 57 columns]",
      "text/html": "<div>\n<style scoped>\n    .dataframe tbody tr th:only-of-type {\n        vertical-align: middle;\n    }\n\n    .dataframe tbody tr th {\n        vertical-align: top;\n    }\n\n    .dataframe thead th {\n        text-align: right;\n    }\n</style>\n<table border=\"1\" class=\"dataframe\">\n  <thead>\n    <tr style=\"text-align: right;\">\n      <th></th>\n      <th>ForestDensityM</th>\n      <th>Latitude</th>\n      <th>Longitude</th>\n      <th>NoisePollutionRailwayM</th>\n      <th>NoisePollutionRoadM</th>\n      <th>PopulationDensityM</th>\n      <th>RiversAndLakesM</th>\n      <th>RiversAndLakesS</th>\n      <th>distanceToTrainStation</th>\n      <th>gde_area_agriculture_percentage</th>\n      <th>...</th>\n      <th>type_penthouse</th>\n      <th>type_rustico</th>\n      <th>type_secondary-suite</th>\n      <th>type_semi-detached-house</th>\n      <th>type_single-room</th>\n      <th>type_stepped-apartment</th>\n      <th>type_stepped-house</th>\n      <th>type_studio</th>\n      <th>type_terrace-house</th>\n      <th>type_villa</th>\n    </tr>\n  </thead>\n  <tbody>\n    <tr>\n      <th>0</th>\n      <td>1.078117</td>\n      <td>0.686833</td>\n      <td>0.130463</td>\n      <td>0.000000</td>\n      <td>-1.131549</td>\n      <td>0.009053</td>\n      <td>12.018725</td>\n      <td>0.011871</td>\n      <td>0.991351</td>\n      <td>-0.102607</td>\n      <td>...</td>\n      <td>1.0</td>\n      <td>0.0</td>\n      <td>0.0</td>\n      <td>0.0</td>\n      <td>0.0</td>\n      <td>0.0</td>\n      <td>0.0</td>\n      <td>0.0</td>\n      <td>0.0</td>\n      <td>0.0</td>\n    </tr>\n    <tr>\n      <th>1</th>\n      <td>1.078117</td>\n      <td>0.686833</td>\n      <td>0.130463</td>\n      <td>0.000000</td>\n      <td>-1.131549</td>\n      <td>0.009053</td>\n      <td>12.018725</td>\n      <td>0.011871</td>\n      <td>0.991351</td>\n      <td>-0.102607</td>\n      <td>...</td>\n      <td>0.0</td>\n      <td>0.0</td>\n      <td>0.0</td>\n      <td>0.0</td>\n      <td>0.0</td>\n      <td>0.0</td>\n      <td>0.0</td>\n      <td>0.0</td>\n      <td>1.0</td>\n      <td>0.0</td>\n    </tr>\n    <tr>\n      <th>2</th>\n      <td>0.217974</td>\n      <td>0.668920</td>\n      <td>0.106747</td>\n      <td>0.000000</td>\n      <td>0.715140</td>\n      <td>0.802890</td>\n      <td>1248.917696</td>\n      <td>0.000000</td>\n      <td>-0.068507</td>\n      <td>-0.709981</td>\n      <td>...</td>\n      <td>1.0</td>\n      <td>0.0</td>\n      <td>0.0</td>\n      <td>0.0</td>\n      <td>0.0</td>\n      <td>0.0</td>\n      <td>0.0</td>\n      <td>0.0</td>\n      <td>0.0</td>\n      <td>0.0</td>\n    </tr>\n    <tr>\n      <th>3</th>\n      <td>1.078117</td>\n      <td>0.686833</td>\n      <td>0.130463</td>\n      <td>0.000000</td>\n      <td>-1.131549</td>\n      <td>0.009053</td>\n      <td>12.018725</td>\n      <td>0.011871</td>\n      <td>0.991351</td>\n      <td>-0.102607</td>\n      <td>...</td>\n      <td>0.0</td>\n      <td>0.0</td>\n      <td>0.0</td>\n      <td>0.0</td>\n      <td>0.0</td>\n      <td>0.0</td>\n      <td>0.0</td>\n      <td>0.0</td>\n      <td>0.0</td>\n      <td>0.0</td>\n    </tr>\n    <tr>\n      <th>4</th>\n      <td>1.045734</td>\n      <td>0.676133</td>\n      <td>0.112097</td>\n      <td>0.000000</td>\n      <td>-0.744323</td>\n      <td>-0.303501</td>\n      <td>938.690859</td>\n      <td>0.091805</td>\n      <td>0.205637</td>\n      <td>-0.025255</td>\n      <td>...</td>\n      <td>0.0</td>\n      <td>0.0</td>\n      <td>0.0</td>\n      <td>0.0</td>\n      <td>0.0</td>\n      <td>0.0</td>\n      <td>0.0</td>\n      <td>0.0</td>\n      <td>0.0</td>\n      <td>0.0</td>\n    </tr>\n    <tr>\n      <th>5</th>\n      <td>0.520198</td>\n      <td>0.672546</td>\n      <td>0.089462</td>\n      <td>0.000000</td>\n      <td>-0.683950</td>\n      <td>0.136669</td>\n      <td>0.000000</td>\n      <td>0.000000</td>\n      <td>1.045871</td>\n      <td>-0.029724</td>\n      <td>...</td>\n      <td>0.0</td>\n      <td>0.0</td>\n      <td>0.0</td>\n      <td>0.0</td>\n      <td>0.0</td>\n      <td>0.0</td>\n      <td>0.0</td>\n      <td>0.0</td>\n      <td>0.0</td>\n      <td>0.0</td>\n    </tr>\n    <tr>\n      <th>6</th>\n      <td>1.078117</td>\n      <td>0.686833</td>\n      <td>0.130463</td>\n      <td>0.000000</td>\n      <td>-1.131549</td>\n      <td>0.009053</td>\n      <td>12.018725</td>\n      <td>0.011871</td>\n      <td>0.991351</td>\n      <td>-0.102607</td>\n      <td>...</td>\n      <td>0.0</td>\n      <td>0.0</td>\n      <td>0.0</td>\n      <td>0.0</td>\n      <td>0.0</td>\n      <td>0.0</td>\n      <td>0.0</td>\n      <td>0.0</td>\n      <td>1.0</td>\n      <td>0.0</td>\n    </tr>\n    <tr>\n      <th>7</th>\n      <td>-0.214762</td>\n      <td>0.660603</td>\n      <td>0.106216</td>\n      <td>103.826366</td>\n      <td>0.676815</td>\n      <td>0.185260</td>\n      <td>0.000000</td>\n      <td>0.000000</td>\n      <td>-0.153521</td>\n      <td>-0.709981</td>\n      <td>...</td>\n      <td>0.0</td>\n      <td>0.0</td>\n      <td>0.0</td>\n      <td>0.0</td>\n      <td>0.0</td>\n      <td>0.0</td>\n      <td>0.0</td>\n      <td>0.0</td>\n      <td>0.0</td>\n      <td>0.0</td>\n    </tr>\n    <tr>\n      <th>8</th>\n      <td>1.763675</td>\n      <td>0.672320</td>\n      <td>0.122047</td>\n      <td>6.816164</td>\n      <td>0.881928</td>\n      <td>0.140491</td>\n      <td>258.421309</td>\n      <td>0.034402</td>\n      <td>-0.014097</td>\n      <td>-0.709981</td>\n      <td>...</td>\n      <td>0.0</td>\n      <td>0.0</td>\n      <td>0.0</td>\n      <td>0.0</td>\n      <td>0.0</td>\n      <td>0.0</td>\n      <td>0.0</td>\n      <td>0.0</td>\n      <td>0.0</td>\n      <td>0.0</td>\n    </tr>\n    <tr>\n      <th>9</th>\n      <td>0.417501</td>\n      <td>0.666867</td>\n      <td>0.089861</td>\n      <td>0.000000</td>\n      <td>-0.237389</td>\n      <td>0.006480</td>\n      <td>0.000000</td>\n      <td>0.000000</td>\n      <td>0.881834</td>\n      <td>-0.029724</td>\n      <td>...</td>\n      <td>0.0</td>\n      <td>0.0</td>\n      <td>0.0</td>\n      <td>0.0</td>\n      <td>0.0</td>\n      <td>0.0</td>\n      <td>1.0</td>\n      <td>0.0</td>\n      <td>0.0</td>\n      <td>0.0</td>\n    </tr>\n  </tbody>\n</table>\n<p>10 rows × 57 columns</p>\n</div>"
     },
     "execution_count": 128,
     "metadata": {},
     "output_type": "execute_result"
    }
   ],
   "source": [
    "df = pd.read_csv(Path('./data/model/immoscout_robust.csv'))\n",
    "\n",
    "df.head(10)"
   ]
  },
  {
   "cell_type": "markdown",
   "metadata": {
    "collapsed": false
   },
   "source": [
    "### Helpers"
   ]
  },
  {
   "cell_type": "code",
   "execution_count": 129,
   "metadata": {
    "collapsed": false
   },
   "outputs": [],
   "source": [
    "def train_test_split(X, y):\n",
    "    return model_selection.train_test_split(X, y, train_size=0.6, random_state=42)"
   ]
  },
  {
   "cell_type": "code",
   "execution_count": 130,
   "metadata": {
    "collapsed": false
   },
   "outputs": [],
   "source": [
    "def get_random_column_names(columns: list, percentage: float, add_type_columns: bool) -> list:\n",
    "    type_columns = [c for c in columns if c.startswith(\"type_\") and add_type_columns]\n",
    "    regular_columns = [c for c in columns if (not c.startswith(\"type_\")) and random.random() < percentage]\n",
    "    return [*type_columns, *regular_columns]"
   ]
  },
  {
   "cell_type": "markdown",
   "metadata": {
    "collapsed": false
   },
   "source": [
    "## Model Functions"
   ]
  },
  {
   "cell_type": "markdown",
   "metadata": {
    "collapsed": false
   },
   "source": [
    "### Linear Models"
   ]
  },
  {
   "cell_type": "code",
   "execution_count": 131,
   "metadata": {
    "collapsed": false
   },
   "outputs": [],
   "source": [
    "# Linear Regression\n",
    "def train_linear_regression(X_train: pd.DataFrame, X_test: pd.DataFrame, y_train: pd.Series, y_test: pd.Series) -> dict:\n",
    "    model = linear_model.LinearRegression()\n",
    "    model.fit(X_train, y_train)\n",
    "\n",
    "    return {\n",
    "        \"columns\": list(X_train.columns),\n",
    "        \"num_columns\": len(X_train.columns),\n",
    "        \"score\": model.score(X_test, y_test),\n",
    "        \"model\": model\n",
    "    }"
   ]
  },
  {
   "cell_type": "code",
   "execution_count": 132,
   "metadata": {
    "collapsed": false
   },
   "outputs": [],
   "source": [
    "# Ridge\n",
    "def train_ridge(X_train: pd.DataFrame, X_test: pd.DataFrame, y_train: pd.Series, y_test: pd.Series) -> dict:\n",
    "    model = linear_model.Ridge()\n",
    "    model.fit(X_train, y_train, 100)\n",
    "\n",
    "    return {\n",
    "        \"columns\": list(X_train.columns),\n",
    "        \"num_columns\": len(X_train.columns),\n",
    "        \"score\": model.score(X_test, y_test),\n",
    "        \"model\": model\n",
    "    }"
   ]
  },
  {
   "cell_type": "code",
   "execution_count": 133,
   "outputs": [],
   "source": [
    "# Bayesian Regression\n",
    "def train_bayesian_regression(X_train: pd.DataFrame, X_test: pd.DataFrame, y_train: pd.Series, y_test: pd.Series) -> dict:\n",
    "    model = linear_model.BayesianRidge()\n",
    "    model.fit(X_train, y_train)\n",
    "\n",
    "    return {\n",
    "        \"columns\": list(X_train.columns),\n",
    "        \"num_columns\": len(X_train.columns),\n",
    "        \"score\": model.score(X_test, y_test),\n",
    "        \"model\": model\n",
    "    }"
   ],
   "metadata": {
    "collapsed": false
   }
  },
  {
   "cell_type": "code",
   "execution_count": 134,
   "outputs": [],
   "source": [
    "# Passive Agressive Regressor\n",
    "def train_passive_agressive(X_train: pd.DataFrame, X_test: pd.DataFrame, y_train: pd.Series, y_test: pd.Series) -> dict:\n",
    "    model = linear_model.PassiveAggressiveRegressor()\n",
    "    model.fit(X_train, y_train,)\n",
    "\n",
    "    return {\n",
    "        \"columns\": list(X_train.columns),\n",
    "        \"num_columns\": len(X_train.columns),\n",
    "        \"score\": model.score(X_test, y_test),\n",
    "        \"model\": model\n",
    "    }"
   ],
   "metadata": {
    "collapsed": false
   }
  },
  {
   "cell_type": "code",
   "execution_count": 135,
   "outputs": [],
   "source": [
    "#Quantile Regression\n",
    "def train_quantile_regression(X_train: pd.DataFrame, X_test: pd.DataFrame, y_train: pd.Series, y_test: pd.Series) -> dict:\n",
    "    model = linear_model.BayesianRidge()\n",
    "    model.fit(X_train, y_train, 100)\n",
    "\n",
    "    return {\n",
    "        \"columns\": list(X_train.columns),\n",
    "        \"num_columns\": len(X_train.columns),\n",
    "        \"score\": model.score(X_test, y_test),\n",
    "        \"model\": model\n",
    "    }"
   ],
   "metadata": {
    "collapsed": false
   }
  },
  {
   "cell_type": "markdown",
   "metadata": {
    "collapsed": false
   },
   "source": [
    "### Ensemble"
   ]
  },
  {
   "cell_type": "code",
   "execution_count": 136,
   "metadata": {
    "collapsed": false
   },
   "outputs": [],
   "source": [
    "# Random Forest\n",
    "def train_random_forest(X_train: pd.DataFrame, X_test: pd.DataFrame, y_train: pd.Series, y_test: pd.Series) -> dict:\n",
    "    model = ensemble.RandomForestRegressor()\n",
    "    model.fit(X_train, y_train)\n",
    "\n",
    "    return {\n",
    "        \"columns\": list(X_train.columns),\n",
    "        \"num_columns\": len(X_train.columns),\n",
    "        \"score\": model.score(X_test, y_test),\n",
    "        \"model\": model\n",
    "    }"
   ]
  },
  {
   "cell_type": "markdown",
   "source": [
    "## Neural Network"
   ],
   "metadata": {
    "collapsed": false
   }
  },
  {
   "cell_type": "code",
   "execution_count": 137,
   "outputs": [],
   "source": [
    "# MLP Regressor\n",
    "def train_mlp_regressor(X_train: pd.DataFrame, X_test: pd.DataFrame, y_train: pd.Series, y_test: pd.Series) -> dict:\n",
    "    model = neural_network.MLPRegressor(max_iter=15000)\n",
    "    model.fit(X_train, y_train)\n",
    "\n",
    "    return {\n",
    "        \"columns\": list(X_train.columns),\n",
    "        \"num_columns\": len(X_train.columns),\n",
    "        \"score\": model.score(X_test, y_test),\n",
    "        \"model\": model\n",
    "    }"
   ],
   "metadata": {
    "collapsed": false
   }
  },
  {
   "cell_type": "markdown",
   "metadata": {
    "collapsed": false
   },
   "source": [
    "## Execution function"
   ]
  },
  {
   "cell_type": "code",
   "execution_count": 138,
   "metadata": {
    "collapsed": false
   },
   "outputs": [
    {
     "name": "stdout",
     "output_type": "stream",
     "text": [
      "Total number of iterations: 100\n"
     ]
    }
   ],
   "source": [
    "# Constants\n",
    "NUM_ITERATIONS = 50\n",
    "MIN_PERCENTAGE_COLUMNS = 0.4\n",
    "MAX_PERCENTAGE_COLUMNS = 1\n",
    "TRAINING_FUNCTIONS = [train_random_forest]\n",
    "#TRAINING_FUNCTIONS = [train_random_forest, train_ridge, train_mlp_regressor]\n",
    "#TRAINING_FUNCTIONS = [train_ridge, train_bayesian_regression, train_quantile_regression, train_passive_agressive, train_random_forest, train_linear_regression]\n",
    "TYPE_COLUMN_OPTIONS = [True, False]\n",
    "\n",
    "print(\"Total number of iterations:\", NUM_ITERATIONS * len(TRAINING_FUNCTIONS) * len(TYPE_COLUMN_OPTIONS))"
   ]
  },
  {
   "cell_type": "code",
   "execution_count": 139,
   "metadata": {
    "collapsed": false
   },
   "outputs": [],
   "source": [
    "# Data preparation\n",
    "X = df.drop(\"price\", axis=1)\n",
    "y = df[\"price\"]\n",
    "\n",
    "X_train, X_test, y_train, y_test = train_test_split(X, y)"
   ]
  },
  {
   "cell_type": "code",
   "execution_count": 140,
   "metadata": {
    "collapsed": false
   },
   "outputs": [
    {
     "name": "stdout",
     "output_type": "stream",
     "text": [
      "100 % Done\n"
     ]
    },
    {
     "data": {
      "text/plain": "                                              columns  num_columns     score  \\\n68  [type_attic-flat, type_attic-room, type_castle...           46  0.635151   \n66  [type_attic-flat, type_attic-room, type_castle...           50  0.631910   \n18  [type_attic-flat, type_attic-room, type_castle...           47  0.631188   \n63  [ForestDensityM, Latitude, Longitude, NoisePol...           24  0.624056   \n44  [type_attic-flat, type_attic-room, type_castle...           53  0.623645   \n..                                                ...          ...       ...   \n70  [type_attic-flat, type_attic-room, type_castle...           37  0.416597   \n96  [type_attic-flat, type_attic-room, type_castle...           38  0.402464   \n38  [type_attic-flat, type_attic-room, type_castle...           34  0.395996   \n74  [type_attic-flat, type_attic-room, type_castle...           38  0.395933   \n13  [ForestDensityM, Latitude, Longitude, NoisePol...           12  0.245768   \n\n                                                model  add_type_columns  \n68  (DecisionTreeRegressor(max_features=1.0, rando...              True  \n66  (DecisionTreeRegressor(max_features=1.0, rando...              True  \n18  (DecisionTreeRegressor(max_features=1.0, rando...              True  \n63  (DecisionTreeRegressor(max_features=1.0, rando...             False  \n44  (DecisionTreeRegressor(max_features=1.0, rando...              True  \n..                                                ...               ...  \n70  (DecisionTreeRegressor(max_features=1.0, rando...              True  \n96  (DecisionTreeRegressor(max_features=1.0, rando...              True  \n38  (DecisionTreeRegressor(max_features=1.0, rando...              True  \n74  (DecisionTreeRegressor(max_features=1.0, rando...              True  \n13  (DecisionTreeRegressor(max_features=1.0, rando...             False  \n\n[100 rows x 5 columns]",
      "text/html": "<div>\n<style scoped>\n    .dataframe tbody tr th:only-of-type {\n        vertical-align: middle;\n    }\n\n    .dataframe tbody tr th {\n        vertical-align: top;\n    }\n\n    .dataframe thead th {\n        text-align: right;\n    }\n</style>\n<table border=\"1\" class=\"dataframe\">\n  <thead>\n    <tr style=\"text-align: right;\">\n      <th></th>\n      <th>columns</th>\n      <th>num_columns</th>\n      <th>score</th>\n      <th>model</th>\n      <th>add_type_columns</th>\n    </tr>\n  </thead>\n  <tbody>\n    <tr>\n      <th>68</th>\n      <td>[type_attic-flat, type_attic-room, type_castle...</td>\n      <td>46</td>\n      <td>0.635151</td>\n      <td>(DecisionTreeRegressor(max_features=1.0, rando...</td>\n      <td>True</td>\n    </tr>\n    <tr>\n      <th>66</th>\n      <td>[type_attic-flat, type_attic-room, type_castle...</td>\n      <td>50</td>\n      <td>0.631910</td>\n      <td>(DecisionTreeRegressor(max_features=1.0, rando...</td>\n      <td>True</td>\n    </tr>\n    <tr>\n      <th>18</th>\n      <td>[type_attic-flat, type_attic-room, type_castle...</td>\n      <td>47</td>\n      <td>0.631188</td>\n      <td>(DecisionTreeRegressor(max_features=1.0, rando...</td>\n      <td>True</td>\n    </tr>\n    <tr>\n      <th>63</th>\n      <td>[ForestDensityM, Latitude, Longitude, NoisePol...</td>\n      <td>24</td>\n      <td>0.624056</td>\n      <td>(DecisionTreeRegressor(max_features=1.0, rando...</td>\n      <td>False</td>\n    </tr>\n    <tr>\n      <th>44</th>\n      <td>[type_attic-flat, type_attic-room, type_castle...</td>\n      <td>53</td>\n      <td>0.623645</td>\n      <td>(DecisionTreeRegressor(max_features=1.0, rando...</td>\n      <td>True</td>\n    </tr>\n    <tr>\n      <th>...</th>\n      <td>...</td>\n      <td>...</td>\n      <td>...</td>\n      <td>...</td>\n      <td>...</td>\n    </tr>\n    <tr>\n      <th>70</th>\n      <td>[type_attic-flat, type_attic-room, type_castle...</td>\n      <td>37</td>\n      <td>0.416597</td>\n      <td>(DecisionTreeRegressor(max_features=1.0, rando...</td>\n      <td>True</td>\n    </tr>\n    <tr>\n      <th>96</th>\n      <td>[type_attic-flat, type_attic-room, type_castle...</td>\n      <td>38</td>\n      <td>0.402464</td>\n      <td>(DecisionTreeRegressor(max_features=1.0, rando...</td>\n      <td>True</td>\n    </tr>\n    <tr>\n      <th>38</th>\n      <td>[type_attic-flat, type_attic-room, type_castle...</td>\n      <td>34</td>\n      <td>0.395996</td>\n      <td>(DecisionTreeRegressor(max_features=1.0, rando...</td>\n      <td>True</td>\n    </tr>\n    <tr>\n      <th>74</th>\n      <td>[type_attic-flat, type_attic-room, type_castle...</td>\n      <td>38</td>\n      <td>0.395933</td>\n      <td>(DecisionTreeRegressor(max_features=1.0, rando...</td>\n      <td>True</td>\n    </tr>\n    <tr>\n      <th>13</th>\n      <td>[ForestDensityM, Latitude, Longitude, NoisePol...</td>\n      <td>12</td>\n      <td>0.245768</td>\n      <td>(DecisionTreeRegressor(max_features=1.0, rando...</td>\n      <td>False</td>\n    </tr>\n  </tbody>\n</table>\n<p>100 rows × 5 columns</p>\n</div>"
     },
     "execution_count": 140,
     "metadata": {},
     "output_type": "execute_result"
    }
   ],
   "source": [
    "results = []\n",
    "for i in range(NUM_ITERATIONS):\n",
    "    for add_type_columns in TYPE_COLUMN_OPTIONS:\n",
    "        column_percentage = random.random() * (MAX_PERCENTAGE_COLUMNS - MIN_PERCENTAGE_COLUMNS) + MIN_PERCENTAGE_COLUMNS\n",
    "        column_names = get_random_column_names(X_train.columns, column_percentage, add_type_columns)\n",
    "        temp_X_train, temp_X_test = X_train[column_names], X_test[column_names]\n",
    "\n",
    "        for func in TRAINING_FUNCTIONS:\n",
    "            results.append({**func(temp_X_train, temp_X_test, y_train, y_test), \"add_type_columns\": add_type_columns})\n",
    "    clear_output(wait=True)\n",
    "    print(int(((i+1) / NUM_ITERATIONS)*100), '% Done')\n",
    "\n",
    "pd.DataFrame(results).sort_values(\"score\", ascending=False)"
   ]
  },
  {
   "cell_type": "code",
   "execution_count": 140,
   "outputs": [],
   "source": [],
   "metadata": {
    "collapsed": false
   }
  }
 ],
 "metadata": {
  "kernelspec": {
   "display_name": "Python 3.10.8 64-bit",
   "language": "python",
   "name": "python3"
  },
  "language_info": {
   "codemirror_mode": {
    "name": "ipython",
    "version": 3
   },
   "file_extension": ".py",
   "mimetype": "text/x-python",
   "name": "python",
   "nbconvert_exporter": "python",
   "pygments_lexer": "ipython3",
   "version": "3.10.8"
  },
  "vscode": {
   "interpreter": {
    "hash": "aee8b7b246df8f9039afb4144a1f6fd8d2ca17a180786b69acc140d282b71a49"
   }
  }
 },
 "nbformat": 4,
 "nbformat_minor": 0
}
