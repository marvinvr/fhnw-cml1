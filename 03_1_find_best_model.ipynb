{
 "cells": [
  {
   "cell_type": "markdown",
   "source": [
    "# Find best model"
   ],
   "metadata": {
    "collapsed": false
   }
  },
  {
   "cell_type": "markdown",
   "source": [
    "## Imports"
   ],
   "metadata": {
    "collapsed": false
   }
  },
  {
   "cell_type": "code",
   "execution_count": 1,
   "outputs": [],
   "source": [
    "from helpers.training import *\n",
    "from pathlib import Path\n",
    "from joblib import load\n",
    "\n",
    "import pandas as pd"
   ],
   "metadata": {
    "collapsed": false
   }
  },
  {
   "cell_type": "markdown",
   "source": [
    "## Load Dataframe"
   ],
   "metadata": {
    "collapsed": false
   }
  },
  {
   "cell_type": "code",
   "execution_count": 2,
   "metadata": {
    "collapsed": true
   },
   "outputs": [
    {
     "data": {
      "text/plain": "   Living space  Plot area     Floor  ForestDensityL  ForestDensityM  \\\n0      0.009716   0.001532  0.285714        0.569894        0.286608   \n1      0.015504   0.000587  0.214286        0.569894        0.286608   \n2      0.008992   0.005032  0.214286        0.182127        0.095930   \n3      0.015297   0.001009  0.214286        0.569894        0.286608   \n4      0.014057   0.001619  0.142857        0.372216        0.279429   \n5      0.019018   0.002984  0.178571        0.212473        0.162927   \n6      0.012196   0.000524  0.214286        0.569894        0.286608   \n7      0.013891   0.006418  0.250000        0.057230        0.000000   \n8      0.007132   0.003862  0.178571        0.308985        0.438584   \n9      0.010749   0.005985  0.178571        0.156497        0.140161   \n\n   ForestDensityS  Latitude  Longitude  NoisePollutionRailwayL  \\\n0        0.090908  0.808677   0.477811                0.000000   \n1        0.090908  0.808677   0.477811                0.000000   \n2        0.001911  0.799258   0.468164                0.000000   \n3        0.090908  0.808677   0.477811                0.000000   \n4        0.145835  0.803051   0.470341                0.000000   \n5        0.034759  0.801165   0.461133                0.000000   \n6        0.090908  0.808677   0.477811                0.000000   \n7        0.000000  0.794885   0.467948                0.187309   \n8        0.327528  0.801046   0.474388                0.088907   \n9        0.156650  0.798179   0.461295                0.000000   \n\n   NoisePollutionRailwayM  ...  gde_workers_total_2  gde_workers_total_3  \\\n0                0.000000  ...         4.489742e-07         3.008376e-10   \n1                0.000000  ...         4.489742e-07         3.008376e-10   \n2                0.000000  ...         5.103043e-03         3.645388e-04   \n3                0.000000  ...         4.489742e-07         3.008376e-10   \n4                0.000000  ...         8.152190e-06         2.327617e-08   \n5                0.000000  ...         4.101045e-06         8.305040e-09   \n6                0.000000  ...         4.489742e-07         3.008376e-10   \n7                0.145653  ...         5.103043e-03         3.645388e-04   \n8                0.009562  ...         5.103043e-03         3.645388e-04   \n9                0.000000  ...         4.101045e-06         8.305040e-09   \n\n   gde_workers_total_4  gde_workers_total_5  gde_workers_total_6   rooms_2  \\\n0         2.015778e-13         1.350683e-16         9.050323e-20  0.020408   \n1         2.015778e-13         1.350683e-16         9.050323e-20  0.020408   \n2         2.604104e-05         1.860257e-06         1.328885e-07  0.020408   \n3         2.015778e-13         1.350683e-16         9.050323e-20  0.020408   \n4         6.645820e-11         1.897517e-13         5.417799e-16  0.020408   \n5         1.681857e-11         3.405934e-14         6.897369e-17  0.020408   \n6         2.015778e-13         1.350683e-16         9.050323e-20  0.020408   \n7         2.604104e-05         1.860257e-06         1.328885e-07  0.020408   \n8         2.604104e-05         1.860257e-06         1.328885e-07  0.020408   \n9         1.681857e-11         3.405934e-14         6.897369e-17  0.020408   \n\n    rooms_3   rooms_4   rooms_5   rooms_6  \n0  0.002915  0.000416  0.000059  0.000008  \n1  0.002915  0.000416  0.000059  0.000008  \n2  0.002915  0.000416  0.000059  0.000008  \n3  0.002915  0.000416  0.000059  0.000008  \n4  0.002915  0.000416  0.000059  0.000008  \n5  0.002915  0.000416  0.000059  0.000008  \n6  0.002915  0.000416  0.000059  0.000008  \n7  0.002915  0.000416  0.000059  0.000008  \n8  0.002915  0.000416  0.000059  0.000008  \n9  0.002915  0.000416  0.000059  0.000008  \n\n[10 rows x 310 columns]",
      "text/html": "<div>\n<style scoped>\n    .dataframe tbody tr th:only-of-type {\n        vertical-align: middle;\n    }\n\n    .dataframe tbody tr th {\n        vertical-align: top;\n    }\n\n    .dataframe thead th {\n        text-align: right;\n    }\n</style>\n<table border=\"1\" class=\"dataframe\">\n  <thead>\n    <tr style=\"text-align: right;\">\n      <th></th>\n      <th>Living space</th>\n      <th>Plot area</th>\n      <th>Floor</th>\n      <th>ForestDensityL</th>\n      <th>ForestDensityM</th>\n      <th>ForestDensityS</th>\n      <th>Latitude</th>\n      <th>Longitude</th>\n      <th>NoisePollutionRailwayL</th>\n      <th>NoisePollutionRailwayM</th>\n      <th>...</th>\n      <th>gde_workers_total_2</th>\n      <th>gde_workers_total_3</th>\n      <th>gde_workers_total_4</th>\n      <th>gde_workers_total_5</th>\n      <th>gde_workers_total_6</th>\n      <th>rooms_2</th>\n      <th>rooms_3</th>\n      <th>rooms_4</th>\n      <th>rooms_5</th>\n      <th>rooms_6</th>\n    </tr>\n  </thead>\n  <tbody>\n    <tr>\n      <th>0</th>\n      <td>0.009716</td>\n      <td>0.001532</td>\n      <td>0.285714</td>\n      <td>0.569894</td>\n      <td>0.286608</td>\n      <td>0.090908</td>\n      <td>0.808677</td>\n      <td>0.477811</td>\n      <td>0.000000</td>\n      <td>0.000000</td>\n      <td>...</td>\n      <td>4.489742e-07</td>\n      <td>3.008376e-10</td>\n      <td>2.015778e-13</td>\n      <td>1.350683e-16</td>\n      <td>9.050323e-20</td>\n      <td>0.020408</td>\n      <td>0.002915</td>\n      <td>0.000416</td>\n      <td>0.000059</td>\n      <td>0.000008</td>\n    </tr>\n    <tr>\n      <th>1</th>\n      <td>0.015504</td>\n      <td>0.000587</td>\n      <td>0.214286</td>\n      <td>0.569894</td>\n      <td>0.286608</td>\n      <td>0.090908</td>\n      <td>0.808677</td>\n      <td>0.477811</td>\n      <td>0.000000</td>\n      <td>0.000000</td>\n      <td>...</td>\n      <td>4.489742e-07</td>\n      <td>3.008376e-10</td>\n      <td>2.015778e-13</td>\n      <td>1.350683e-16</td>\n      <td>9.050323e-20</td>\n      <td>0.020408</td>\n      <td>0.002915</td>\n      <td>0.000416</td>\n      <td>0.000059</td>\n      <td>0.000008</td>\n    </tr>\n    <tr>\n      <th>2</th>\n      <td>0.008992</td>\n      <td>0.005032</td>\n      <td>0.214286</td>\n      <td>0.182127</td>\n      <td>0.095930</td>\n      <td>0.001911</td>\n      <td>0.799258</td>\n      <td>0.468164</td>\n      <td>0.000000</td>\n      <td>0.000000</td>\n      <td>...</td>\n      <td>5.103043e-03</td>\n      <td>3.645388e-04</td>\n      <td>2.604104e-05</td>\n      <td>1.860257e-06</td>\n      <td>1.328885e-07</td>\n      <td>0.020408</td>\n      <td>0.002915</td>\n      <td>0.000416</td>\n      <td>0.000059</td>\n      <td>0.000008</td>\n    </tr>\n    <tr>\n      <th>3</th>\n      <td>0.015297</td>\n      <td>0.001009</td>\n      <td>0.214286</td>\n      <td>0.569894</td>\n      <td>0.286608</td>\n      <td>0.090908</td>\n      <td>0.808677</td>\n      <td>0.477811</td>\n      <td>0.000000</td>\n      <td>0.000000</td>\n      <td>...</td>\n      <td>4.489742e-07</td>\n      <td>3.008376e-10</td>\n      <td>2.015778e-13</td>\n      <td>1.350683e-16</td>\n      <td>9.050323e-20</td>\n      <td>0.020408</td>\n      <td>0.002915</td>\n      <td>0.000416</td>\n      <td>0.000059</td>\n      <td>0.000008</td>\n    </tr>\n    <tr>\n      <th>4</th>\n      <td>0.014057</td>\n      <td>0.001619</td>\n      <td>0.142857</td>\n      <td>0.372216</td>\n      <td>0.279429</td>\n      <td>0.145835</td>\n      <td>0.803051</td>\n      <td>0.470341</td>\n      <td>0.000000</td>\n      <td>0.000000</td>\n      <td>...</td>\n      <td>8.152190e-06</td>\n      <td>2.327617e-08</td>\n      <td>6.645820e-11</td>\n      <td>1.897517e-13</td>\n      <td>5.417799e-16</td>\n      <td>0.020408</td>\n      <td>0.002915</td>\n      <td>0.000416</td>\n      <td>0.000059</td>\n      <td>0.000008</td>\n    </tr>\n    <tr>\n      <th>5</th>\n      <td>0.019018</td>\n      <td>0.002984</td>\n      <td>0.178571</td>\n      <td>0.212473</td>\n      <td>0.162927</td>\n      <td>0.034759</td>\n      <td>0.801165</td>\n      <td>0.461133</td>\n      <td>0.000000</td>\n      <td>0.000000</td>\n      <td>...</td>\n      <td>4.101045e-06</td>\n      <td>8.305040e-09</td>\n      <td>1.681857e-11</td>\n      <td>3.405934e-14</td>\n      <td>6.897369e-17</td>\n      <td>0.020408</td>\n      <td>0.002915</td>\n      <td>0.000416</td>\n      <td>0.000059</td>\n      <td>0.000008</td>\n    </tr>\n    <tr>\n      <th>6</th>\n      <td>0.012196</td>\n      <td>0.000524</td>\n      <td>0.214286</td>\n      <td>0.569894</td>\n      <td>0.286608</td>\n      <td>0.090908</td>\n      <td>0.808677</td>\n      <td>0.477811</td>\n      <td>0.000000</td>\n      <td>0.000000</td>\n      <td>...</td>\n      <td>4.489742e-07</td>\n      <td>3.008376e-10</td>\n      <td>2.015778e-13</td>\n      <td>1.350683e-16</td>\n      <td>9.050323e-20</td>\n      <td>0.020408</td>\n      <td>0.002915</td>\n      <td>0.000416</td>\n      <td>0.000059</td>\n      <td>0.000008</td>\n    </tr>\n    <tr>\n      <th>7</th>\n      <td>0.013891</td>\n      <td>0.006418</td>\n      <td>0.250000</td>\n      <td>0.057230</td>\n      <td>0.000000</td>\n      <td>0.000000</td>\n      <td>0.794885</td>\n      <td>0.467948</td>\n      <td>0.187309</td>\n      <td>0.145653</td>\n      <td>...</td>\n      <td>5.103043e-03</td>\n      <td>3.645388e-04</td>\n      <td>2.604104e-05</td>\n      <td>1.860257e-06</td>\n      <td>1.328885e-07</td>\n      <td>0.020408</td>\n      <td>0.002915</td>\n      <td>0.000416</td>\n      <td>0.000059</td>\n      <td>0.000008</td>\n    </tr>\n    <tr>\n      <th>8</th>\n      <td>0.007132</td>\n      <td>0.003862</td>\n      <td>0.178571</td>\n      <td>0.308985</td>\n      <td>0.438584</td>\n      <td>0.327528</td>\n      <td>0.801046</td>\n      <td>0.474388</td>\n      <td>0.088907</td>\n      <td>0.009562</td>\n      <td>...</td>\n      <td>5.103043e-03</td>\n      <td>3.645388e-04</td>\n      <td>2.604104e-05</td>\n      <td>1.860257e-06</td>\n      <td>1.328885e-07</td>\n      <td>0.020408</td>\n      <td>0.002915</td>\n      <td>0.000416</td>\n      <td>0.000059</td>\n      <td>0.000008</td>\n    </tr>\n    <tr>\n      <th>9</th>\n      <td>0.010749</td>\n      <td>0.005985</td>\n      <td>0.178571</td>\n      <td>0.156497</td>\n      <td>0.140161</td>\n      <td>0.156650</td>\n      <td>0.798179</td>\n      <td>0.461295</td>\n      <td>0.000000</td>\n      <td>0.000000</td>\n      <td>...</td>\n      <td>4.101045e-06</td>\n      <td>8.305040e-09</td>\n      <td>1.681857e-11</td>\n      <td>3.405934e-14</td>\n      <td>6.897369e-17</td>\n      <td>0.020408</td>\n      <td>0.002915</td>\n      <td>0.000416</td>\n      <td>0.000059</td>\n      <td>0.000008</td>\n    </tr>\n  </tbody>\n</table>\n<p>10 rows × 310 columns</p>\n</div>"
     },
     "execution_count": 2,
     "metadata": {},
     "output_type": "execute_result"
    }
   ],
   "source": [
    "source_path = Path('./data/model/train_data.pkl')\n",
    "training_data = load(source_path)\n",
    "\n",
    "df = training_data['dataset']\n",
    "\n",
    "X = df.drop('price_cleaned', axis=1)\n",
    "y = df['price_cleaned']\n",
    "\n",
    "X_train, X_test, y_train, y_test = X, X, y, y\n",
    "\n",
    "df.head(10)"
   ]
  },
  {
   "cell_type": "markdown",
   "source": [
    "## Train all Models"
   ],
   "metadata": {
    "collapsed": false
   }
  },
  {
   "cell_type": "code",
   "execution_count": 3,
   "outputs": [],
   "source": [
    "TRAINING_FUNCTIONS = [\n",
    "    #train_gradient_boosting_v1,\n",
    "    train_gradient_boosting,\n",
    "    #train_gradient_boosting_robust,\n",
    "    #train_random_forest,\n",
    "    #train_linear_regression,\n",
    "    #train_mlp_regressor,\n",
    "]"
   ],
   "metadata": {
    "collapsed": false
   }
  },
  {
   "cell_type": "code",
   "execution_count": 4,
   "outputs": [
    {
     "name": "stdout",
     "output_type": "stream",
     "text": [
      "Training XGBRegressor with 1 jobs\n",
      "Fitting 5 folds for each of 1 candidates, totalling 5 fits\n",
      "[CV 1/5; 1/1] START alpha=0.05, gpu_id=0, lambda=1.3, max_depth=16, max_leaves=0, n_estimators=110, seed=42, tree_method=gpu_hist\n",
      "[CV 1/5; 1/1] END alpha=0.05, gpu_id=0, lambda=1.3, max_depth=16, max_leaves=0, n_estimators=110, seed=42, tree_method=gpu_hist;, score=-0.333 total time=  28.1s\n",
      "[CV 2/5; 1/1] START alpha=0.05, gpu_id=0, lambda=1.3, max_depth=16, max_leaves=0, n_estimators=110, seed=42, tree_method=gpu_hist\n",
      "[CV 2/5; 1/1] END alpha=0.05, gpu_id=0, lambda=1.3, max_depth=16, max_leaves=0, n_estimators=110, seed=42, tree_method=gpu_hist;, score=-0.544 total time=  29.2s\n",
      "[CV 3/5; 1/1] START alpha=0.05, gpu_id=0, lambda=1.3, max_depth=16, max_leaves=0, n_estimators=110, seed=42, tree_method=gpu_hist\n",
      "[CV 3/5; 1/1] END alpha=0.05, gpu_id=0, lambda=1.3, max_depth=16, max_leaves=0, n_estimators=110, seed=42, tree_method=gpu_hist;, score=-0.466 total time=  28.8s\n",
      "[CV 4/5; 1/1] START alpha=0.05, gpu_id=0, lambda=1.3, max_depth=16, max_leaves=0, n_estimators=110, seed=42, tree_method=gpu_hist\n",
      "[CV 4/5; 1/1] END alpha=0.05, gpu_id=0, lambda=1.3, max_depth=16, max_leaves=0, n_estimators=110, seed=42, tree_method=gpu_hist;, score=-0.267 total time=  29.3s\n",
      "[CV 5/5; 1/1] START alpha=0.05, gpu_id=0, lambda=1.3, max_depth=16, max_leaves=0, n_estimators=110, seed=42, tree_method=gpu_hist\n",
      "[CV 5/5; 1/1] END alpha=0.05, gpu_id=0, lambda=1.3, max_depth=16, max_leaves=0, n_estimators=110, seed=42, tree_method=gpu_hist;, score=-0.333 total time=  29.5s\n"
     ]
    }
   ],
   "source": [
    "results = [\n",
    "    func(X_train, X_test, y_train, y_test)\n",
    "    for func in TRAINING_FUNCTIONS\n",
    "]"
   ],
   "metadata": {
    "collapsed": false
   }
  },
  {
   "cell_type": "code",
   "execution_count": 5,
   "outputs": [
    {
     "data": {
      "text/plain": "   num_columns    score                                              model\n0          309  0.00376  GridSearchCV(cv=5,\\n             estimator=XGB...",
      "text/html": "<div>\n<style scoped>\n    .dataframe tbody tr th:only-of-type {\n        vertical-align: middle;\n    }\n\n    .dataframe tbody tr th {\n        vertical-align: top;\n    }\n\n    .dataframe thead th {\n        text-align: right;\n    }\n</style>\n<table border=\"1\" class=\"dataframe\">\n  <thead>\n    <tr style=\"text-align: right;\">\n      <th></th>\n      <th>num_columns</th>\n      <th>score</th>\n      <th>model</th>\n    </tr>\n  </thead>\n  <tbody>\n    <tr>\n      <th>0</th>\n      <td>309</td>\n      <td>0.00376</td>\n      <td>GridSearchCV(cv=5,\\n             estimator=XGB...</td>\n    </tr>\n  </tbody>\n</table>\n</div>"
     },
     "execution_count": 5,
     "metadata": {},
     "output_type": "execute_result"
    }
   ],
   "source": [
    "pd.DataFrame(results)"
   ],
   "metadata": {
    "collapsed": false
   }
  },
  {
   "cell_type": "code",
   "execution_count": 6,
   "outputs": [],
   "source": [
    "best_model = results[0]['model']"
   ],
   "metadata": {
    "collapsed": false
   }
  },
  {
   "cell_type": "code",
   "execution_count": 7,
   "outputs": [
    {
     "data": {
      "text/plain": "{'alpha': 0.05,\n 'gpu_id': 0,\n 'lambda': 1.3,\n 'max_depth': 16,\n 'max_leaves': 0,\n 'n_estimators': 110,\n 'seed': 42,\n 'tree_method': 'gpu_hist'}"
     },
     "execution_count": 7,
     "metadata": {},
     "output_type": "execute_result"
    }
   ],
   "source": [
    "best_model.best_params_"
   ],
   "metadata": {
    "collapsed": false
   }
  },
  {
   "cell_type": "code",
   "execution_count": 8,
   "outputs": [
    {
     "data": {
      "text/plain": "-0.3885904990467052"
     },
     "execution_count": 8,
     "metadata": {},
     "output_type": "execute_result"
    }
   ],
   "source": [
    "best_model.best_score_"
   ],
   "metadata": {
    "collapsed": false
   }
  },
  {
   "cell_type": "code",
   "execution_count": 9,
   "outputs": [
    {
     "data": {
      "text/plain": "       Living space  Plot area     Floor  ForestDensityL  ForestDensityM  \\\n0          0.022119   0.002043  0.264286        0.183264        0.100085   \n1          0.023152   0.001955  0.264286        0.290820        0.170527   \n2          0.012920   0.000840  0.185714        0.483981        0.358180   \n3          0.013850   0.000541  0.250000        0.165213        0.076652   \n4          0.015504   0.000587  0.185714        0.569894        0.286608   \n...             ...        ...       ...             ...             ...   \n24561      0.003101   0.002932  0.214286        0.208348        0.018837   \n24562      0.003514   0.002932  0.250000        0.157671        0.003708   \n24563      0.008269   0.007942  0.228571        0.157671        0.003708   \n24564      0.012506   0.002932  0.214286        0.157671        0.003708   \n24565      0.005003   0.001693  0.228571        0.157671        0.003708   \n\n       ForestDensityS  Latitude  Longitude  NoisePollutionRailwayL  \\\n0            0.063548  0.786382   0.475555                0.014734   \n1            0.083253  0.786102   0.474934                0.010139   \n2            0.125505  0.807571   0.477015                0.000000   \n3            0.000000  0.787002   0.475789                0.020076   \n4            0.090908  0.808677   0.477811                0.000000   \n...               ...       ...        ...                     ...   \n24561        0.000000  0.700912   0.764213                0.000000   \n24562        0.011718  0.700719   0.763639                0.000000   \n24563        0.011718  0.700719   0.763639                0.000000   \n24564        0.011718  0.700719   0.763639                0.000000   \n24565        0.011718  0.700719   0.763639                0.000000   \n\n       NoisePollutionRailwayM  ...  gde_workers_total_2  gde_workers_total_3  \\\n0                         0.0  ...         1.242706e-04         1.385328e-06   \n1                         0.0  ...         1.242706e-04         1.385328e-06   \n2                         0.0  ...         4.489742e-07         3.008376e-10   \n3                         0.0  ...         1.242706e-04         1.385328e-06   \n4                         0.0  ...         4.489742e-07         3.008376e-10   \n...                       ...  ...                  ...                  ...   \n24561                     0.0  ...         9.987854e-06         3.156518e-08   \n24562                     0.0  ...         9.987854e-06         3.156518e-08   \n24563                     0.0  ...         9.987854e-06         3.156518e-08   \n24564                     0.0  ...         9.987854e-06         3.156518e-08   \n24565                     0.0  ...         9.987854e-06         3.156518e-08   \n\n       gde_workers_total_4  gde_workers_total_5  gde_workers_total_6  \\\n0             1.544318e-08         1.721555e-10         1.919134e-12   \n1             1.544318e-08         1.721555e-10         1.919134e-12   \n2             2.015778e-13         1.350683e-16         9.050323e-20   \n3             1.544318e-08         1.721555e-10         1.919134e-12   \n4             2.015778e-13         1.350683e-16         9.050323e-20   \n...                    ...                  ...                  ...   \n24561         9.975723e-11         3.152684e-13         9.963606e-16   \n24562         9.975723e-11         3.152684e-13         9.963606e-16   \n24563         9.975723e-11         3.152684e-13         9.963606e-16   \n24564         9.975723e-11         3.152684e-13         9.963606e-16   \n24565         9.975723e-11         3.152684e-13         9.963606e-16   \n\n        rooms_2   rooms_3   rooms_4       rooms_5       rooms_6  \n0      0.020408  0.002915  0.000416  5.949902e-05  8.499860e-06  \n1      0.020408  0.002915  0.000416  5.949902e-05  8.499860e-06  \n2      0.020408  0.002915  0.000416  5.949902e-05  8.499860e-06  \n3      0.020408  0.002915  0.000416  5.949902e-05  8.499860e-06  \n4      0.020408  0.002915  0.000416  5.949902e-05  8.499860e-06  \n...         ...       ...       ...           ...           ...  \n24561  0.001837  0.000079  0.000003  1.445826e-07  6.196398e-09  \n24562  0.001837  0.000079  0.000003  1.445826e-07  6.196398e-09  \n24563  0.013061  0.001493  0.000171  1.949664e-05  2.228187e-06  \n24564  0.024694  0.003880  0.000610  9.582376e-05  1.505802e-05  \n24565  0.011176  0.001181  0.000125  1.320287e-05  1.395732e-06  \n\n[24566 rows x 309 columns]",
      "text/html": "<div>\n<style scoped>\n    .dataframe tbody tr th:only-of-type {\n        vertical-align: middle;\n    }\n\n    .dataframe tbody tr th {\n        vertical-align: top;\n    }\n\n    .dataframe thead th {\n        text-align: right;\n    }\n</style>\n<table border=\"1\" class=\"dataframe\">\n  <thead>\n    <tr style=\"text-align: right;\">\n      <th></th>\n      <th>Living space</th>\n      <th>Plot area</th>\n      <th>Floor</th>\n      <th>ForestDensityL</th>\n      <th>ForestDensityM</th>\n      <th>ForestDensityS</th>\n      <th>Latitude</th>\n      <th>Longitude</th>\n      <th>NoisePollutionRailwayL</th>\n      <th>NoisePollutionRailwayM</th>\n      <th>...</th>\n      <th>gde_workers_total_2</th>\n      <th>gde_workers_total_3</th>\n      <th>gde_workers_total_4</th>\n      <th>gde_workers_total_5</th>\n      <th>gde_workers_total_6</th>\n      <th>rooms_2</th>\n      <th>rooms_3</th>\n      <th>rooms_4</th>\n      <th>rooms_5</th>\n      <th>rooms_6</th>\n    </tr>\n  </thead>\n  <tbody>\n    <tr>\n      <th>0</th>\n      <td>0.022119</td>\n      <td>0.002043</td>\n      <td>0.264286</td>\n      <td>0.183264</td>\n      <td>0.100085</td>\n      <td>0.063548</td>\n      <td>0.786382</td>\n      <td>0.475555</td>\n      <td>0.014734</td>\n      <td>0.0</td>\n      <td>...</td>\n      <td>1.242706e-04</td>\n      <td>1.385328e-06</td>\n      <td>1.544318e-08</td>\n      <td>1.721555e-10</td>\n      <td>1.919134e-12</td>\n      <td>0.020408</td>\n      <td>0.002915</td>\n      <td>0.000416</td>\n      <td>5.949902e-05</td>\n      <td>8.499860e-06</td>\n    </tr>\n    <tr>\n      <th>1</th>\n      <td>0.023152</td>\n      <td>0.001955</td>\n      <td>0.264286</td>\n      <td>0.290820</td>\n      <td>0.170527</td>\n      <td>0.083253</td>\n      <td>0.786102</td>\n      <td>0.474934</td>\n      <td>0.010139</td>\n      <td>0.0</td>\n      <td>...</td>\n      <td>1.242706e-04</td>\n      <td>1.385328e-06</td>\n      <td>1.544318e-08</td>\n      <td>1.721555e-10</td>\n      <td>1.919134e-12</td>\n      <td>0.020408</td>\n      <td>0.002915</td>\n      <td>0.000416</td>\n      <td>5.949902e-05</td>\n      <td>8.499860e-06</td>\n    </tr>\n    <tr>\n      <th>2</th>\n      <td>0.012920</td>\n      <td>0.000840</td>\n      <td>0.185714</td>\n      <td>0.483981</td>\n      <td>0.358180</td>\n      <td>0.125505</td>\n      <td>0.807571</td>\n      <td>0.477015</td>\n      <td>0.000000</td>\n      <td>0.0</td>\n      <td>...</td>\n      <td>4.489742e-07</td>\n      <td>3.008376e-10</td>\n      <td>2.015778e-13</td>\n      <td>1.350683e-16</td>\n      <td>9.050323e-20</td>\n      <td>0.020408</td>\n      <td>0.002915</td>\n      <td>0.000416</td>\n      <td>5.949902e-05</td>\n      <td>8.499860e-06</td>\n    </tr>\n    <tr>\n      <th>3</th>\n      <td>0.013850</td>\n      <td>0.000541</td>\n      <td>0.250000</td>\n      <td>0.165213</td>\n      <td>0.076652</td>\n      <td>0.000000</td>\n      <td>0.787002</td>\n      <td>0.475789</td>\n      <td>0.020076</td>\n      <td>0.0</td>\n      <td>...</td>\n      <td>1.242706e-04</td>\n      <td>1.385328e-06</td>\n      <td>1.544318e-08</td>\n      <td>1.721555e-10</td>\n      <td>1.919134e-12</td>\n      <td>0.020408</td>\n      <td>0.002915</td>\n      <td>0.000416</td>\n      <td>5.949902e-05</td>\n      <td>8.499860e-06</td>\n    </tr>\n    <tr>\n      <th>4</th>\n      <td>0.015504</td>\n      <td>0.000587</td>\n      <td>0.185714</td>\n      <td>0.569894</td>\n      <td>0.286608</td>\n      <td>0.090908</td>\n      <td>0.808677</td>\n      <td>0.477811</td>\n      <td>0.000000</td>\n      <td>0.0</td>\n      <td>...</td>\n      <td>4.489742e-07</td>\n      <td>3.008376e-10</td>\n      <td>2.015778e-13</td>\n      <td>1.350683e-16</td>\n      <td>9.050323e-20</td>\n      <td>0.020408</td>\n      <td>0.002915</td>\n      <td>0.000416</td>\n      <td>5.949902e-05</td>\n      <td>8.499860e-06</td>\n    </tr>\n    <tr>\n      <th>...</th>\n      <td>...</td>\n      <td>...</td>\n      <td>...</td>\n      <td>...</td>\n      <td>...</td>\n      <td>...</td>\n      <td>...</td>\n      <td>...</td>\n      <td>...</td>\n      <td>...</td>\n      <td>...</td>\n      <td>...</td>\n      <td>...</td>\n      <td>...</td>\n      <td>...</td>\n      <td>...</td>\n      <td>...</td>\n      <td>...</td>\n      <td>...</td>\n      <td>...</td>\n      <td>...</td>\n    </tr>\n    <tr>\n      <th>24561</th>\n      <td>0.003101</td>\n      <td>0.002932</td>\n      <td>0.214286</td>\n      <td>0.208348</td>\n      <td>0.018837</td>\n      <td>0.000000</td>\n      <td>0.700912</td>\n      <td>0.764213</td>\n      <td>0.000000</td>\n      <td>0.0</td>\n      <td>...</td>\n      <td>9.987854e-06</td>\n      <td>3.156518e-08</td>\n      <td>9.975723e-11</td>\n      <td>3.152684e-13</td>\n      <td>9.963606e-16</td>\n      <td>0.001837</td>\n      <td>0.000079</td>\n      <td>0.000003</td>\n      <td>1.445826e-07</td>\n      <td>6.196398e-09</td>\n    </tr>\n    <tr>\n      <th>24562</th>\n      <td>0.003514</td>\n      <td>0.002932</td>\n      <td>0.250000</td>\n      <td>0.157671</td>\n      <td>0.003708</td>\n      <td>0.011718</td>\n      <td>0.700719</td>\n      <td>0.763639</td>\n      <td>0.000000</td>\n      <td>0.0</td>\n      <td>...</td>\n      <td>9.987854e-06</td>\n      <td>3.156518e-08</td>\n      <td>9.975723e-11</td>\n      <td>3.152684e-13</td>\n      <td>9.963606e-16</td>\n      <td>0.001837</td>\n      <td>0.000079</td>\n      <td>0.000003</td>\n      <td>1.445826e-07</td>\n      <td>6.196398e-09</td>\n    </tr>\n    <tr>\n      <th>24563</th>\n      <td>0.008269</td>\n      <td>0.007942</td>\n      <td>0.228571</td>\n      <td>0.157671</td>\n      <td>0.003708</td>\n      <td>0.011718</td>\n      <td>0.700719</td>\n      <td>0.763639</td>\n      <td>0.000000</td>\n      <td>0.0</td>\n      <td>...</td>\n      <td>9.987854e-06</td>\n      <td>3.156518e-08</td>\n      <td>9.975723e-11</td>\n      <td>3.152684e-13</td>\n      <td>9.963606e-16</td>\n      <td>0.013061</td>\n      <td>0.001493</td>\n      <td>0.000171</td>\n      <td>1.949664e-05</td>\n      <td>2.228187e-06</td>\n    </tr>\n    <tr>\n      <th>24564</th>\n      <td>0.012506</td>\n      <td>0.002932</td>\n      <td>0.214286</td>\n      <td>0.157671</td>\n      <td>0.003708</td>\n      <td>0.011718</td>\n      <td>0.700719</td>\n      <td>0.763639</td>\n      <td>0.000000</td>\n      <td>0.0</td>\n      <td>...</td>\n      <td>9.987854e-06</td>\n      <td>3.156518e-08</td>\n      <td>9.975723e-11</td>\n      <td>3.152684e-13</td>\n      <td>9.963606e-16</td>\n      <td>0.024694</td>\n      <td>0.003880</td>\n      <td>0.000610</td>\n      <td>9.582376e-05</td>\n      <td>1.505802e-05</td>\n    </tr>\n    <tr>\n      <th>24565</th>\n      <td>0.005003</td>\n      <td>0.001693</td>\n      <td>0.228571</td>\n      <td>0.157671</td>\n      <td>0.003708</td>\n      <td>0.011718</td>\n      <td>0.700719</td>\n      <td>0.763639</td>\n      <td>0.000000</td>\n      <td>0.0</td>\n      <td>...</td>\n      <td>9.987854e-06</td>\n      <td>3.156518e-08</td>\n      <td>9.975723e-11</td>\n      <td>3.152684e-13</td>\n      <td>9.963606e-16</td>\n      <td>0.011176</td>\n      <td>0.001181</td>\n      <td>0.000125</td>\n      <td>1.320287e-05</td>\n      <td>1.395732e-06</td>\n    </tr>\n  </tbody>\n</table>\n<p>24566 rows × 309 columns</p>\n</div>"
     },
     "execution_count": 9,
     "metadata": {},
     "output_type": "execute_result"
    }
   ],
   "source": [
    "validation_data = load(Path('data/kaggle/model_data.pkl'))\n",
    "\n",
    "validation_data"
   ],
   "metadata": {
    "collapsed": false
   }
  },
  {
   "cell_type": "code",
   "execution_count": 10,
   "outputs": [
    {
     "data": {
      "text/plain": "   Id      Expected\n0   0  1.544182e+06\n1   1  1.369366e+06\n2   2  1.004773e+06\n3   3  1.120713e+06\n4   4  1.356442e+06",
      "text/html": "<div>\n<style scoped>\n    .dataframe tbody tr th:only-of-type {\n        vertical-align: middle;\n    }\n\n    .dataframe tbody tr th {\n        vertical-align: top;\n    }\n\n    .dataframe thead th {\n        text-align: right;\n    }\n</style>\n<table border=\"1\" class=\"dataframe\">\n  <thead>\n    <tr style=\"text-align: right;\">\n      <th></th>\n      <th>Id</th>\n      <th>Expected</th>\n    </tr>\n  </thead>\n  <tbody>\n    <tr>\n      <th>0</th>\n      <td>0</td>\n      <td>1.544182e+06</td>\n    </tr>\n    <tr>\n      <th>1</th>\n      <td>1</td>\n      <td>1.369366e+06</td>\n    </tr>\n    <tr>\n      <th>2</th>\n      <td>2</td>\n      <td>1.004773e+06</td>\n    </tr>\n    <tr>\n      <th>3</th>\n      <td>3</td>\n      <td>1.120713e+06</td>\n    </tr>\n    <tr>\n      <th>4</th>\n      <td>4</td>\n      <td>1.356442e+06</td>\n    </tr>\n  </tbody>\n</table>\n</div>"
     },
     "execution_count": 10,
     "metadata": {},
     "output_type": "execute_result"
    }
   ],
   "source": [
    "predictions = pd.DataFrame({\n",
    "    'Id': list(validation_data.index),\n",
    "    'Expected': best_model.predict(validation_data)\n",
    "})\n",
    "predictions.head()"
   ],
   "metadata": {
    "collapsed": false
   }
  },
  {
   "cell_type": "code",
   "execution_count": 11,
   "outputs": [],
   "source": [
    "path = Path('data/kaggle/prediction.csv')\n",
    "predictions.to_csv(path, index=False)"
   ],
   "metadata": {
    "collapsed": false
   }
  },
  {
   "cell_type": "code",
   "execution_count": 11,
   "outputs": [],
   "source": [],
   "metadata": {
    "collapsed": false
   }
  }
 ],
 "metadata": {
  "kernelspec": {
   "display_name": "Python 3",
   "language": "python",
   "name": "python3"
  },
  "language_info": {
   "codemirror_mode": {
    "name": "ipython",
    "version": 2
   },
   "file_extension": ".py",
   "mimetype": "text/x-python",
   "name": "python",
   "nbconvert_exporter": "python",
   "pygments_lexer": "ipython2",
   "version": "2.7.6"
  }
 },
 "nbformat": 4,
 "nbformat_minor": 0
}
