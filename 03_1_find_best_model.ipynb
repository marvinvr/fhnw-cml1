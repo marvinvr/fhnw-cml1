{
 "cells": [
  {
   "cell_type": "markdown",
   "source": [
    "# Find best model"
   ],
   "metadata": {
    "collapsed": false
   }
  },
  {
   "cell_type": "markdown",
   "source": [
    "## Imports"
   ],
   "metadata": {
    "collapsed": false
   }
  },
  {
   "cell_type": "code",
   "execution_count": 33,
   "outputs": [],
   "source": [
    "from helpers.training import *\n",
    "from pathlib import Path\n",
    "from joblib import load\n",
    "\n",
    "import pandas as pd"
   ],
   "metadata": {
    "collapsed": false
   }
  },
  {
   "cell_type": "markdown",
   "source": [
    "## Load Dataframe"
   ],
   "metadata": {
    "collapsed": false
   }
  },
  {
   "cell_type": "code",
   "execution_count": 34,
   "metadata": {
    "collapsed": true
   },
   "outputs": [
    {
     "data": {
      "text/plain": "   Living space  Plot area     Floor  ForestDensityL  ForestDensityM  \\\n0      0.009716   0.001532  0.285714        0.569894        0.286608   \n1      0.015504   0.000587  0.214286        0.569894        0.286608   \n2      0.008992   0.005032  0.214286        0.182127        0.095930   \n3      0.015297   0.001009  0.214286        0.569894        0.286608   \n4      0.014057   0.001619  0.142857        0.372216        0.279429   \n5      0.019018   0.002984  0.178571        0.212473        0.162927   \n6      0.012196   0.000524  0.214286        0.569894        0.286608   \n7      0.013891   0.006418  0.250000        0.057230        0.000000   \n8      0.007132   0.003862  0.178571        0.308985        0.438584   \n9      0.010749   0.005985  0.178571        0.156497        0.140161   \n\n   ForestDensityS  Latitude  Longitude  NoisePollutionRailwayL  \\\n0        0.090908  0.808677   0.477811                0.000000   \n1        0.090908  0.808677   0.477811                0.000000   \n2        0.001911  0.799258   0.468164                0.000000   \n3        0.090908  0.808677   0.477811                0.000000   \n4        0.145835  0.803051   0.470341                0.000000   \n5        0.034759  0.801165   0.461133                0.000000   \n6        0.090908  0.808677   0.477811                0.000000   \n7        0.000000  0.794885   0.467948                0.187309   \n8        0.327528  0.801046   0.474388                0.088907   \n9        0.156650  0.798179   0.461295                0.000000   \n\n   NoisePollutionRailwayM  ...  gde_workers_total_2  gde_workers_total_3  \\\n0                0.000000  ...         4.489742e-07         3.008376e-10   \n1                0.000000  ...         4.489742e-07         3.008376e-10   \n2                0.000000  ...         5.103043e-03         3.645388e-04   \n3                0.000000  ...         4.489742e-07         3.008376e-10   \n4                0.000000  ...         8.152190e-06         2.327617e-08   \n5                0.000000  ...         4.101045e-06         8.305040e-09   \n6                0.000000  ...         4.489742e-07         3.008376e-10   \n7                0.145653  ...         5.103043e-03         3.645388e-04   \n8                0.009562  ...         5.103043e-03         3.645388e-04   \n9                0.000000  ...         4.101045e-06         8.305040e-09   \n\n   gde_workers_total_4  gde_workers_total_5  gde_workers_total_6   rooms_2  \\\n0         2.015778e-13         1.350683e-16         9.050323e-20  0.020408   \n1         2.015778e-13         1.350683e-16         9.050323e-20  0.020408   \n2         2.604104e-05         1.860257e-06         1.328885e-07  0.020408   \n3         2.015778e-13         1.350683e-16         9.050323e-20  0.020408   \n4         6.645820e-11         1.897517e-13         5.417799e-16  0.020408   \n5         1.681857e-11         3.405934e-14         6.897369e-17  0.020408   \n6         2.015778e-13         1.350683e-16         9.050323e-20  0.020408   \n7         2.604104e-05         1.860257e-06         1.328885e-07  0.020408   \n8         2.604104e-05         1.860257e-06         1.328885e-07  0.020408   \n9         1.681857e-11         3.405934e-14         6.897369e-17  0.020408   \n\n    rooms_3   rooms_4   rooms_5   rooms_6  \n0  0.002915  0.000416  0.000059  0.000008  \n1  0.002915  0.000416  0.000059  0.000008  \n2  0.002915  0.000416  0.000059  0.000008  \n3  0.002915  0.000416  0.000059  0.000008  \n4  0.002915  0.000416  0.000059  0.000008  \n5  0.002915  0.000416  0.000059  0.000008  \n6  0.002915  0.000416  0.000059  0.000008  \n7  0.002915  0.000416  0.000059  0.000008  \n8  0.002915  0.000416  0.000059  0.000008  \n9  0.002915  0.000416  0.000059  0.000008  \n\n[10 rows x 310 columns]",
      "text/html": "<div>\n<style scoped>\n    .dataframe tbody tr th:only-of-type {\n        vertical-align: middle;\n    }\n\n    .dataframe tbody tr th {\n        vertical-align: top;\n    }\n\n    .dataframe thead th {\n        text-align: right;\n    }\n</style>\n<table border=\"1\" class=\"dataframe\">\n  <thead>\n    <tr style=\"text-align: right;\">\n      <th></th>\n      <th>Living space</th>\n      <th>Plot area</th>\n      <th>Floor</th>\n      <th>ForestDensityL</th>\n      <th>ForestDensityM</th>\n      <th>ForestDensityS</th>\n      <th>Latitude</th>\n      <th>Longitude</th>\n      <th>NoisePollutionRailwayL</th>\n      <th>NoisePollutionRailwayM</th>\n      <th>...</th>\n      <th>gde_workers_total_2</th>\n      <th>gde_workers_total_3</th>\n      <th>gde_workers_total_4</th>\n      <th>gde_workers_total_5</th>\n      <th>gde_workers_total_6</th>\n      <th>rooms_2</th>\n      <th>rooms_3</th>\n      <th>rooms_4</th>\n      <th>rooms_5</th>\n      <th>rooms_6</th>\n    </tr>\n  </thead>\n  <tbody>\n    <tr>\n      <th>0</th>\n      <td>0.009716</td>\n      <td>0.001532</td>\n      <td>0.285714</td>\n      <td>0.569894</td>\n      <td>0.286608</td>\n      <td>0.090908</td>\n      <td>0.808677</td>\n      <td>0.477811</td>\n      <td>0.000000</td>\n      <td>0.000000</td>\n      <td>...</td>\n      <td>4.489742e-07</td>\n      <td>3.008376e-10</td>\n      <td>2.015778e-13</td>\n      <td>1.350683e-16</td>\n      <td>9.050323e-20</td>\n      <td>0.020408</td>\n      <td>0.002915</td>\n      <td>0.000416</td>\n      <td>0.000059</td>\n      <td>0.000008</td>\n    </tr>\n    <tr>\n      <th>1</th>\n      <td>0.015504</td>\n      <td>0.000587</td>\n      <td>0.214286</td>\n      <td>0.569894</td>\n      <td>0.286608</td>\n      <td>0.090908</td>\n      <td>0.808677</td>\n      <td>0.477811</td>\n      <td>0.000000</td>\n      <td>0.000000</td>\n      <td>...</td>\n      <td>4.489742e-07</td>\n      <td>3.008376e-10</td>\n      <td>2.015778e-13</td>\n      <td>1.350683e-16</td>\n      <td>9.050323e-20</td>\n      <td>0.020408</td>\n      <td>0.002915</td>\n      <td>0.000416</td>\n      <td>0.000059</td>\n      <td>0.000008</td>\n    </tr>\n    <tr>\n      <th>2</th>\n      <td>0.008992</td>\n      <td>0.005032</td>\n      <td>0.214286</td>\n      <td>0.182127</td>\n      <td>0.095930</td>\n      <td>0.001911</td>\n      <td>0.799258</td>\n      <td>0.468164</td>\n      <td>0.000000</td>\n      <td>0.000000</td>\n      <td>...</td>\n      <td>5.103043e-03</td>\n      <td>3.645388e-04</td>\n      <td>2.604104e-05</td>\n      <td>1.860257e-06</td>\n      <td>1.328885e-07</td>\n      <td>0.020408</td>\n      <td>0.002915</td>\n      <td>0.000416</td>\n      <td>0.000059</td>\n      <td>0.000008</td>\n    </tr>\n    <tr>\n      <th>3</th>\n      <td>0.015297</td>\n      <td>0.001009</td>\n      <td>0.214286</td>\n      <td>0.569894</td>\n      <td>0.286608</td>\n      <td>0.090908</td>\n      <td>0.808677</td>\n      <td>0.477811</td>\n      <td>0.000000</td>\n      <td>0.000000</td>\n      <td>...</td>\n      <td>4.489742e-07</td>\n      <td>3.008376e-10</td>\n      <td>2.015778e-13</td>\n      <td>1.350683e-16</td>\n      <td>9.050323e-20</td>\n      <td>0.020408</td>\n      <td>0.002915</td>\n      <td>0.000416</td>\n      <td>0.000059</td>\n      <td>0.000008</td>\n    </tr>\n    <tr>\n      <th>4</th>\n      <td>0.014057</td>\n      <td>0.001619</td>\n      <td>0.142857</td>\n      <td>0.372216</td>\n      <td>0.279429</td>\n      <td>0.145835</td>\n      <td>0.803051</td>\n      <td>0.470341</td>\n      <td>0.000000</td>\n      <td>0.000000</td>\n      <td>...</td>\n      <td>8.152190e-06</td>\n      <td>2.327617e-08</td>\n      <td>6.645820e-11</td>\n      <td>1.897517e-13</td>\n      <td>5.417799e-16</td>\n      <td>0.020408</td>\n      <td>0.002915</td>\n      <td>0.000416</td>\n      <td>0.000059</td>\n      <td>0.000008</td>\n    </tr>\n    <tr>\n      <th>5</th>\n      <td>0.019018</td>\n      <td>0.002984</td>\n      <td>0.178571</td>\n      <td>0.212473</td>\n      <td>0.162927</td>\n      <td>0.034759</td>\n      <td>0.801165</td>\n      <td>0.461133</td>\n      <td>0.000000</td>\n      <td>0.000000</td>\n      <td>...</td>\n      <td>4.101045e-06</td>\n      <td>8.305040e-09</td>\n      <td>1.681857e-11</td>\n      <td>3.405934e-14</td>\n      <td>6.897369e-17</td>\n      <td>0.020408</td>\n      <td>0.002915</td>\n      <td>0.000416</td>\n      <td>0.000059</td>\n      <td>0.000008</td>\n    </tr>\n    <tr>\n      <th>6</th>\n      <td>0.012196</td>\n      <td>0.000524</td>\n      <td>0.214286</td>\n      <td>0.569894</td>\n      <td>0.286608</td>\n      <td>0.090908</td>\n      <td>0.808677</td>\n      <td>0.477811</td>\n      <td>0.000000</td>\n      <td>0.000000</td>\n      <td>...</td>\n      <td>4.489742e-07</td>\n      <td>3.008376e-10</td>\n      <td>2.015778e-13</td>\n      <td>1.350683e-16</td>\n      <td>9.050323e-20</td>\n      <td>0.020408</td>\n      <td>0.002915</td>\n      <td>0.000416</td>\n      <td>0.000059</td>\n      <td>0.000008</td>\n    </tr>\n    <tr>\n      <th>7</th>\n      <td>0.013891</td>\n      <td>0.006418</td>\n      <td>0.250000</td>\n      <td>0.057230</td>\n      <td>0.000000</td>\n      <td>0.000000</td>\n      <td>0.794885</td>\n      <td>0.467948</td>\n      <td>0.187309</td>\n      <td>0.145653</td>\n      <td>...</td>\n      <td>5.103043e-03</td>\n      <td>3.645388e-04</td>\n      <td>2.604104e-05</td>\n      <td>1.860257e-06</td>\n      <td>1.328885e-07</td>\n      <td>0.020408</td>\n      <td>0.002915</td>\n      <td>0.000416</td>\n      <td>0.000059</td>\n      <td>0.000008</td>\n    </tr>\n    <tr>\n      <th>8</th>\n      <td>0.007132</td>\n      <td>0.003862</td>\n      <td>0.178571</td>\n      <td>0.308985</td>\n      <td>0.438584</td>\n      <td>0.327528</td>\n      <td>0.801046</td>\n      <td>0.474388</td>\n      <td>0.088907</td>\n      <td>0.009562</td>\n      <td>...</td>\n      <td>5.103043e-03</td>\n      <td>3.645388e-04</td>\n      <td>2.604104e-05</td>\n      <td>1.860257e-06</td>\n      <td>1.328885e-07</td>\n      <td>0.020408</td>\n      <td>0.002915</td>\n      <td>0.000416</td>\n      <td>0.000059</td>\n      <td>0.000008</td>\n    </tr>\n    <tr>\n      <th>9</th>\n      <td>0.010749</td>\n      <td>0.005985</td>\n      <td>0.178571</td>\n      <td>0.156497</td>\n      <td>0.140161</td>\n      <td>0.156650</td>\n      <td>0.798179</td>\n      <td>0.461295</td>\n      <td>0.000000</td>\n      <td>0.000000</td>\n      <td>...</td>\n      <td>4.101045e-06</td>\n      <td>8.305040e-09</td>\n      <td>1.681857e-11</td>\n      <td>3.405934e-14</td>\n      <td>6.897369e-17</td>\n      <td>0.020408</td>\n      <td>0.002915</td>\n      <td>0.000416</td>\n      <td>0.000059</td>\n      <td>0.000008</td>\n    </tr>\n  </tbody>\n</table>\n<p>10 rows × 310 columns</p>\n</div>"
     },
     "execution_count": 34,
     "metadata": {},
     "output_type": "execute_result"
    }
   ],
   "source": [
    "source_path = Path('./data/model/train_data.pkl')\n",
    "training_data = load(source_path)\n",
    "\n",
    "df = training_data['dataset']\n",
    "\n",
    "X = df.drop('price_cleaned', axis=1)\n",
    "y = df['price_cleaned']\n",
    "\n",
    "X_train, X_test, y_train, y_test = X, X, y, y\n",
    "\n",
    "df.head(10)"
   ]
  },
  {
   "cell_type": "markdown",
   "source": [
    "## Train all Models"
   ],
   "metadata": {
    "collapsed": false
   }
  },
  {
   "cell_type": "code",
   "execution_count": 35,
   "outputs": [],
   "source": [
    "TRAINING_FUNCTIONS = [\n",
    "    train_gradient_boosting_v1,\n",
    "    #train_gradient_boosting,\n",
    "    #train_gradient_boosting_robust,\n",
    "    #train_random_forest,\n",
    "    #train_linear_regression,\n",
    "    #train_mlp_regressor,\n",
    "]"
   ],
   "metadata": {
    "collapsed": false
   }
  },
  {
   "cell_type": "code",
   "execution_count": 36,
   "outputs": [
    {
     "name": "stdout",
     "output_type": "stream",
     "text": [
      "Training GradientBoostingRegressor with -1 jobs\n",
      "Fitting 5 folds for each of 1 candidates, totalling 5 fits\n"
     ]
    }
   ],
   "source": [
    "results = [\n",
    "    func(X_train, X_test, y_train, y_test)\n",
    "    for func in TRAINING_FUNCTIONS\n",
    "]"
   ],
   "metadata": {
    "collapsed": false
   }
  },
  {
   "cell_type": "code",
   "execution_count": 37,
   "outputs": [
    {
     "data": {
      "text/plain": "   num_columns     score                                              model\n0          309  0.128298  GridSearchCV(cv=5, estimator=GradientBoostingR...",
      "text/html": "<div>\n<style scoped>\n    .dataframe tbody tr th:only-of-type {\n        vertical-align: middle;\n    }\n\n    .dataframe tbody tr th {\n        vertical-align: top;\n    }\n\n    .dataframe thead th {\n        text-align: right;\n    }\n</style>\n<table border=\"1\" class=\"dataframe\">\n  <thead>\n    <tr style=\"text-align: right;\">\n      <th></th>\n      <th>num_columns</th>\n      <th>score</th>\n      <th>model</th>\n    </tr>\n  </thead>\n  <tbody>\n    <tr>\n      <th>0</th>\n      <td>309</td>\n      <td>0.128298</td>\n      <td>GridSearchCV(cv=5, estimator=GradientBoostingR...</td>\n    </tr>\n  </tbody>\n</table>\n</div>"
     },
     "execution_count": 37,
     "metadata": {},
     "output_type": "execute_result"
    }
   ],
   "source": [
    "pd.DataFrame(results)"
   ],
   "metadata": {
    "collapsed": false
   }
  },
  {
   "cell_type": "code",
   "execution_count": 38,
   "outputs": [],
   "source": [
    "best_model = results[0]['model']"
   ],
   "metadata": {
    "collapsed": false
   }
  },
  {
   "cell_type": "code",
   "execution_count": 39,
   "outputs": [
    {
     "data": {
      "text/plain": "{'loss': 'absolute_error',\n 'max_depth': 20,\n 'max_features': 'sqrt',\n 'min_samples_leaf': 12,\n 'min_samples_split': 2,\n 'n_estimators': 120,\n 'random_state': 42}"
     },
     "execution_count": 39,
     "metadata": {},
     "output_type": "execute_result"
    }
   ],
   "source": [
    "best_model.best_params_"
   ],
   "metadata": {
    "collapsed": false
   }
  },
  {
   "cell_type": "code",
   "execution_count": 40,
   "outputs": [
    {
     "data": {
      "text/plain": "-0.3810447238105782"
     },
     "execution_count": 40,
     "metadata": {},
     "output_type": "execute_result"
    }
   ],
   "source": [
    "best_model.best_score_"
   ],
   "metadata": {
    "collapsed": false
   }
  },
  {
   "cell_type": "code",
   "execution_count": 41,
   "outputs": [
    {
     "ename": "ValueError",
     "evalue": "invalid literal for int() with base 0: b'iving space,Plot area,Floor,ForestDensityL,ForestDensityM,ForestDensityS,Latitude,Longitude,NoisePollutionRailwayL,NoisePollutionRailwayM,NoisePollutionRailwayS,NoisePollutionRoadL,NoisePollutionRoa",
     "output_type": "error",
     "traceback": [
      "\u001B[0;31m---------------------------------------------------------------------------\u001B[0m",
      "\u001B[0;31mValueError\u001B[0m                                Traceback (most recent call last)",
      "Cell \u001B[0;32mIn[41], line 1\u001B[0m\n\u001B[0;32m----> 1\u001B[0m validation_data \u001B[38;5;241m=\u001B[39m \u001B[43mload\u001B[49m\u001B[43m(\u001B[49m\u001B[43mPath\u001B[49m\u001B[43m(\u001B[49m\u001B[38;5;124;43m'\u001B[39;49m\u001B[38;5;124;43mdata/kaggle/model_data.pkl\u001B[39;49m\u001B[38;5;124;43m'\u001B[39;49m\u001B[43m)\u001B[49m\u001B[43m)\u001B[49m\n\u001B[1;32m      3\u001B[0m validation_data\n",
      "File \u001B[0;32m/opt/homebrew/lib/python3.10/site-packages/joblib/numpy_pickle.py:658\u001B[0m, in \u001B[0;36mload\u001B[0;34m(filename, mmap_mode)\u001B[0m\n\u001B[1;32m    652\u001B[0m             \u001B[38;5;28;01mif\u001B[39;00m \u001B[38;5;28misinstance\u001B[39m(fobj, \u001B[38;5;28mstr\u001B[39m):\n\u001B[1;32m    653\u001B[0m                 \u001B[38;5;66;03m# if the returned file object is a string, this means we\u001B[39;00m\n\u001B[1;32m    654\u001B[0m                 \u001B[38;5;66;03m# try to load a pickle file generated with an version of\u001B[39;00m\n\u001B[1;32m    655\u001B[0m                 \u001B[38;5;66;03m# Joblib so we load it with joblib compatibility function.\u001B[39;00m\n\u001B[1;32m    656\u001B[0m                 \u001B[38;5;28;01mreturn\u001B[39;00m load_compatibility(fobj)\n\u001B[0;32m--> 658\u001B[0m             obj \u001B[38;5;241m=\u001B[39m \u001B[43m_unpickle\u001B[49m\u001B[43m(\u001B[49m\u001B[43mfobj\u001B[49m\u001B[43m,\u001B[49m\u001B[43m \u001B[49m\u001B[43mfilename\u001B[49m\u001B[43m,\u001B[49m\u001B[43m \u001B[49m\u001B[43mmmap_mode\u001B[49m\u001B[43m)\u001B[49m\n\u001B[1;32m    659\u001B[0m \u001B[38;5;28;01mreturn\u001B[39;00m obj\n",
      "File \u001B[0;32m/opt/homebrew/lib/python3.10/site-packages/joblib/numpy_pickle.py:577\u001B[0m, in \u001B[0;36m_unpickle\u001B[0;34m(fobj, filename, mmap_mode)\u001B[0m\n\u001B[1;32m    575\u001B[0m obj \u001B[38;5;241m=\u001B[39m \u001B[38;5;28;01mNone\u001B[39;00m\n\u001B[1;32m    576\u001B[0m \u001B[38;5;28;01mtry\u001B[39;00m:\n\u001B[0;32m--> 577\u001B[0m     obj \u001B[38;5;241m=\u001B[39m \u001B[43munpickler\u001B[49m\u001B[38;5;241;43m.\u001B[39;49m\u001B[43mload\u001B[49m\u001B[43m(\u001B[49m\u001B[43m)\u001B[49m\n\u001B[1;32m    578\u001B[0m     \u001B[38;5;28;01mif\u001B[39;00m unpickler\u001B[38;5;241m.\u001B[39mcompat_mode:\n\u001B[1;32m    579\u001B[0m         warnings\u001B[38;5;241m.\u001B[39mwarn(\u001B[38;5;124m\"\u001B[39m\u001B[38;5;124mThe file \u001B[39m\u001B[38;5;124m'\u001B[39m\u001B[38;5;132;01m%s\u001B[39;00m\u001B[38;5;124m'\u001B[39m\u001B[38;5;124m has been generated with a \u001B[39m\u001B[38;5;124m\"\u001B[39m\n\u001B[1;32m    580\u001B[0m                       \u001B[38;5;124m\"\u001B[39m\u001B[38;5;124mjoblib version less than 0.10. \u001B[39m\u001B[38;5;124m\"\u001B[39m\n\u001B[1;32m    581\u001B[0m                       \u001B[38;5;124m\"\u001B[39m\u001B[38;5;124mPlease regenerate this pickle file.\u001B[39m\u001B[38;5;124m\"\u001B[39m\n\u001B[1;32m    582\u001B[0m                       \u001B[38;5;241m%\u001B[39m filename,\n\u001B[1;32m    583\u001B[0m                       \u001B[38;5;167;01mDeprecationWarning\u001B[39;00m, stacklevel\u001B[38;5;241m=\u001B[39m\u001B[38;5;241m3\u001B[39m)\n",
      "File \u001B[0;32m/opt/homebrew/Cellar/python@3.10/3.10.8/Frameworks/Python.framework/Versions/3.10/lib/python3.10/pickle.py:1213\u001B[0m, in \u001B[0;36m_Unpickler.load\u001B[0;34m(self)\u001B[0m\n\u001B[1;32m   1211\u001B[0m             \u001B[38;5;28;01mraise\u001B[39;00m \u001B[38;5;167;01mEOFError\u001B[39;00m\n\u001B[1;32m   1212\u001B[0m         \u001B[38;5;28;01massert\u001B[39;00m \u001B[38;5;28misinstance\u001B[39m(key, bytes_types)\n\u001B[0;32m-> 1213\u001B[0m         \u001B[43mdispatch\u001B[49m\u001B[43m[\u001B[49m\u001B[43mkey\u001B[49m\u001B[43m[\u001B[49m\u001B[38;5;241;43m0\u001B[39;49m\u001B[43m]\u001B[49m\u001B[43m]\u001B[49m\u001B[43m(\u001B[49m\u001B[38;5;28;43mself\u001B[39;49m\u001B[43m)\u001B[49m\n\u001B[1;32m   1214\u001B[0m \u001B[38;5;28;01mexcept\u001B[39;00m _Stop \u001B[38;5;28;01mas\u001B[39;00m stopinst:\n\u001B[1;32m   1215\u001B[0m     \u001B[38;5;28;01mreturn\u001B[39;00m stopinst\u001B[38;5;241m.\u001B[39mvalue\n",
      "File \u001B[0;32m/opt/homebrew/Cellar/python@3.10/3.10.8/Frameworks/Python.framework/Versions/3.10/lib/python3.10/pickle.py:1296\u001B[0m, in \u001B[0;36m_Unpickler.load_long\u001B[0;34m(self)\u001B[0m\n\u001B[1;32m   1294\u001B[0m \u001B[38;5;28;01mif\u001B[39;00m val \u001B[38;5;129;01mand\u001B[39;00m val[\u001B[38;5;241m-\u001B[39m\u001B[38;5;241m1\u001B[39m] \u001B[38;5;241m==\u001B[39m \u001B[38;5;124mb\u001B[39m\u001B[38;5;124m'\u001B[39m\u001B[38;5;124mL\u001B[39m\u001B[38;5;124m'\u001B[39m[\u001B[38;5;241m0\u001B[39m]:\n\u001B[1;32m   1295\u001B[0m     val \u001B[38;5;241m=\u001B[39m val[:\u001B[38;5;241m-\u001B[39m\u001B[38;5;241m1\u001B[39m]\n\u001B[0;32m-> 1296\u001B[0m \u001B[38;5;28mself\u001B[39m\u001B[38;5;241m.\u001B[39mappend(\u001B[38;5;28;43mint\u001B[39;49m\u001B[43m(\u001B[49m\u001B[43mval\u001B[49m\u001B[43m,\u001B[49m\u001B[43m \u001B[49m\u001B[38;5;241;43m0\u001B[39;49m\u001B[43m)\u001B[49m)\n",
      "\u001B[0;31mValueError\u001B[0m: invalid literal for int() with base 0: b'iving space,Plot area,Floor,ForestDensityL,ForestDensityM,ForestDensityS,Latitude,Longitude,NoisePollutionRailwayL,NoisePollutionRailwayM,NoisePollutionRailwayS,NoisePollutionRoadL,NoisePollutionRoa"
     ]
    }
   ],
   "source": [
    "validation_data = load(Path('data/kaggle/model_data.pkl'))\n",
    "\n",
    "validation_data"
   ],
   "metadata": {
    "collapsed": false
   }
  },
  {
   "cell_type": "code",
   "execution_count": null,
   "outputs": [],
   "source": [
    "predictions = pd.DataFrame({\n",
    "    'Id': list(validation_data.index),\n",
    "    'Expected': best_model.predict(validation_data)\n",
    "})\n",
    "predictions.head()"
   ],
   "metadata": {
    "collapsed": false
   }
  },
  {
   "cell_type": "code",
   "execution_count": null,
   "outputs": [],
   "source": [
    "path = Path('data/kaggle/prediction.csv')\n",
    "predictions.to_csv(path, index=False)"
   ],
   "metadata": {
    "collapsed": false
   }
  },
  {
   "cell_type": "code",
   "execution_count": null,
   "outputs": [],
   "source": [],
   "metadata": {
    "collapsed": false
   }
  }
 ],
 "metadata": {
  "kernelspec": {
   "display_name": "Python 3",
   "language": "python",
   "name": "python3"
  },
  "language_info": {
   "codemirror_mode": {
    "name": "ipython",
    "version": 2
   },
   "file_extension": ".py",
   "mimetype": "text/x-python",
   "name": "python",
   "nbconvert_exporter": "python",
   "pygments_lexer": "ipython2",
   "version": "2.7.6"
  }
 },
 "nbformat": 4,
 "nbformat_minor": 0
}
