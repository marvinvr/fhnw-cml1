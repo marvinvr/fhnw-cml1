{
 "cells": [
  {
   "cell_type": "markdown",
   "source": [
    "# Find best model"
   ],
   "metadata": {
    "collapsed": false
   }
  },
  {
   "cell_type": "markdown",
   "source": [
    "### Imports"
   ],
   "metadata": {
    "collapsed": false
   }
  },
  {
   "cell_type": "code",
   "execution_count": 11,
   "outputs": [],
   "source": [
    "import __main__ as main\n",
    "\n",
    "from helpers.training import *\n",
    "from pathlib import Path\n",
    "from joblib import load\n",
    "from sklearn.model_selection import train_test_split\n",
    "from datetime import datetime\n",
    "from helpers.is_interactive import is_interactive"
   ],
   "metadata": {
    "collapsed": false
   }
  },
  {
   "cell_type": "markdown",
   "source": [
    "### Run dependency notebooks"
   ],
   "metadata": {
    "collapsed": false
   }
  },
  {
   "cell_type": "code",
   "execution_count": 12,
   "outputs": [
    {
     "name": "stdout",
     "output_type": "stream",
     "text": [
      "Running previous notebooks...\n"
     ]
    }
   ],
   "source": [
    "if is_interactive(main):\n",
    "    %run 01_0_data_wrangling.ipynb -p\n",
    "    %run 01_2_data_wrangling_kaggle.ipynb -p\n",
    "    %run 02_0_scaling.ipynb -p\n",
    "    %run 02_1_scaling_kaggle.ipynb -p"
   ],
   "metadata": {
    "collapsed": false
   }
  },
  {
   "cell_type": "markdown",
   "source": [
    "### Load Dataframe"
   ],
   "metadata": {
    "collapsed": false
   }
  },
  {
   "cell_type": "code",
   "execution_count": 13,
   "metadata": {
    "collapsed": true
   },
   "outputs": [
    {
     "data": {
      "text/plain": "   Living space  Plot area  price_cleaned     Floor  ForestDensityL  \\\n0      0.011759   0.000268      1150000.0  0.285714        0.569894   \n1      0.018764   0.000616      1420000.0  0.178571        0.569894   \n2      0.010883   0.000248       720000.0  0.214286        0.182127   \n3      0.018514   0.001037      1430000.0  0.178571        0.569894   \n4      0.017013   0.000388       995000.0  0.142857        0.372216   \n5      0.023017   0.003012      2160000.0  0.178571        0.212473   \n6      0.014761   0.000553       550000.0  0.178571        0.569894   \n7      0.015512   0.000382       590000.0  0.250000        0.057230   \n8      0.008631   0.000197       547000.0  0.178571        0.308985   \n9      0.013010   0.006013      1125000.0  0.178571        0.156497   \n\n   ForestDensityM  ForestDensityS  Latitude  Longitude  \\\n0        0.286608        0.090908  0.808677   0.477811   \n1        0.286608        0.090908  0.808677   0.477811   \n2        0.095930        0.001911  0.799258   0.468164   \n3        0.286608        0.090908  0.808677   0.477811   \n4        0.279429        0.145835  0.803051   0.470341   \n5        0.162927        0.034759  0.801165   0.461133   \n6        0.286608        0.090908  0.808677   0.477811   \n7        0.000000        0.000000  0.794885   0.467948   \n8        0.438584        0.327528  0.801046   0.474388   \n9        0.140161        0.156650  0.798179   0.461295   \n\n   NoisePollutionRailwayL  ...  gde_workers_total_2  gde_workers_total_3  \\\n0                0.000000  ...         4.489742e-07         3.008376e-10   \n1                0.000000  ...         4.489742e-07         3.008376e-10   \n2                0.000000  ...         5.103043e-03         3.645388e-04   \n3                0.000000  ...         4.489742e-07         3.008376e-10   \n4                0.000000  ...         8.152190e-06         2.327617e-08   \n5                0.000000  ...         4.101045e-06         8.305040e-09   \n6                0.000000  ...         4.489742e-07         3.008376e-10   \n7                0.187309  ...         5.103043e-03         3.645388e-04   \n8                0.088907  ...         5.103043e-03         3.645388e-04   \n9                0.000000  ...         4.101045e-06         8.305040e-09   \n\n   gde_workers_total_4  gde_workers_total_5  gde_workers_total_6   rooms_2  \\\n0         2.015778e-13         1.350683e-16         9.050323e-20  0.020408   \n1         2.015778e-13         1.350683e-16         9.050323e-20  0.020408   \n2         2.604104e-05         1.860257e-06         1.328885e-07  0.020408   \n3         2.015778e-13         1.350683e-16         9.050323e-20  0.020408   \n4         6.645820e-11         1.897517e-13         5.417799e-16  0.020408   \n5         1.681857e-11         3.405934e-14         6.897369e-17  0.020408   \n6         2.015778e-13         1.350683e-16         9.050323e-20  0.020408   \n7         2.604104e-05         1.860257e-06         1.328885e-07  0.020408   \n8         2.604104e-05         1.860257e-06         1.328885e-07  0.020408   \n9         1.681857e-11         3.405934e-14         6.897369e-17  0.020408   \n\n    rooms_3   rooms_4   rooms_5   rooms_6  \n0  0.002915  0.000416  0.000059  0.000008  \n1  0.002915  0.000416  0.000059  0.000008  \n2  0.002915  0.000416  0.000059  0.000008  \n3  0.002915  0.000416  0.000059  0.000008  \n4  0.002915  0.000416  0.000059  0.000008  \n5  0.002915  0.000416  0.000059  0.000008  \n6  0.002915  0.000416  0.000059  0.000008  \n7  0.002915  0.000416  0.000059  0.000008  \n8  0.002915  0.000416  0.000059  0.000008  \n9  0.002915  0.000416  0.000059  0.000008  \n\n[10 rows x 310 columns]",
      "text/html": "<div>\n<style scoped>\n    .dataframe tbody tr th:only-of-type {\n        vertical-align: middle;\n    }\n\n    .dataframe tbody tr th {\n        vertical-align: top;\n    }\n\n    .dataframe thead th {\n        text-align: right;\n    }\n</style>\n<table border=\"1\" class=\"dataframe\">\n  <thead>\n    <tr style=\"text-align: right;\">\n      <th></th>\n      <th>Living space</th>\n      <th>Plot area</th>\n      <th>price_cleaned</th>\n      <th>Floor</th>\n      <th>ForestDensityL</th>\n      <th>ForestDensityM</th>\n      <th>ForestDensityS</th>\n      <th>Latitude</th>\n      <th>Longitude</th>\n      <th>NoisePollutionRailwayL</th>\n      <th>...</th>\n      <th>gde_workers_total_2</th>\n      <th>gde_workers_total_3</th>\n      <th>gde_workers_total_4</th>\n      <th>gde_workers_total_5</th>\n      <th>gde_workers_total_6</th>\n      <th>rooms_2</th>\n      <th>rooms_3</th>\n      <th>rooms_4</th>\n      <th>rooms_5</th>\n      <th>rooms_6</th>\n    </tr>\n  </thead>\n  <tbody>\n    <tr>\n      <th>0</th>\n      <td>0.011759</td>\n      <td>0.000268</td>\n      <td>1150000.0</td>\n      <td>0.285714</td>\n      <td>0.569894</td>\n      <td>0.286608</td>\n      <td>0.090908</td>\n      <td>0.808677</td>\n      <td>0.477811</td>\n      <td>0.000000</td>\n      <td>...</td>\n      <td>4.489742e-07</td>\n      <td>3.008376e-10</td>\n      <td>2.015778e-13</td>\n      <td>1.350683e-16</td>\n      <td>9.050323e-20</td>\n      <td>0.020408</td>\n      <td>0.002915</td>\n      <td>0.000416</td>\n      <td>0.000059</td>\n      <td>0.000008</td>\n    </tr>\n    <tr>\n      <th>1</th>\n      <td>0.018764</td>\n      <td>0.000616</td>\n      <td>1420000.0</td>\n      <td>0.178571</td>\n      <td>0.569894</td>\n      <td>0.286608</td>\n      <td>0.090908</td>\n      <td>0.808677</td>\n      <td>0.477811</td>\n      <td>0.000000</td>\n      <td>...</td>\n      <td>4.489742e-07</td>\n      <td>3.008376e-10</td>\n      <td>2.015778e-13</td>\n      <td>1.350683e-16</td>\n      <td>9.050323e-20</td>\n      <td>0.020408</td>\n      <td>0.002915</td>\n      <td>0.000416</td>\n      <td>0.000059</td>\n      <td>0.000008</td>\n    </tr>\n    <tr>\n      <th>2</th>\n      <td>0.010883</td>\n      <td>0.000248</td>\n      <td>720000.0</td>\n      <td>0.214286</td>\n      <td>0.182127</td>\n      <td>0.095930</td>\n      <td>0.001911</td>\n      <td>0.799258</td>\n      <td>0.468164</td>\n      <td>0.000000</td>\n      <td>...</td>\n      <td>5.103043e-03</td>\n      <td>3.645388e-04</td>\n      <td>2.604104e-05</td>\n      <td>1.860257e-06</td>\n      <td>1.328885e-07</td>\n      <td>0.020408</td>\n      <td>0.002915</td>\n      <td>0.000416</td>\n      <td>0.000059</td>\n      <td>0.000008</td>\n    </tr>\n    <tr>\n      <th>3</th>\n      <td>0.018514</td>\n      <td>0.001037</td>\n      <td>1430000.0</td>\n      <td>0.178571</td>\n      <td>0.569894</td>\n      <td>0.286608</td>\n      <td>0.090908</td>\n      <td>0.808677</td>\n      <td>0.477811</td>\n      <td>0.000000</td>\n      <td>...</td>\n      <td>4.489742e-07</td>\n      <td>3.008376e-10</td>\n      <td>2.015778e-13</td>\n      <td>1.350683e-16</td>\n      <td>9.050323e-20</td>\n      <td>0.020408</td>\n      <td>0.002915</td>\n      <td>0.000416</td>\n      <td>0.000059</td>\n      <td>0.000008</td>\n    </tr>\n    <tr>\n      <th>4</th>\n      <td>0.017013</td>\n      <td>0.000388</td>\n      <td>995000.0</td>\n      <td>0.142857</td>\n      <td>0.372216</td>\n      <td>0.279429</td>\n      <td>0.145835</td>\n      <td>0.803051</td>\n      <td>0.470341</td>\n      <td>0.000000</td>\n      <td>...</td>\n      <td>8.152190e-06</td>\n      <td>2.327617e-08</td>\n      <td>6.645820e-11</td>\n      <td>1.897517e-13</td>\n      <td>5.417799e-16</td>\n      <td>0.020408</td>\n      <td>0.002915</td>\n      <td>0.000416</td>\n      <td>0.000059</td>\n      <td>0.000008</td>\n    </tr>\n    <tr>\n      <th>5</th>\n      <td>0.023017</td>\n      <td>0.003012</td>\n      <td>2160000.0</td>\n      <td>0.178571</td>\n      <td>0.212473</td>\n      <td>0.162927</td>\n      <td>0.034759</td>\n      <td>0.801165</td>\n      <td>0.461133</td>\n      <td>0.000000</td>\n      <td>...</td>\n      <td>4.101045e-06</td>\n      <td>8.305040e-09</td>\n      <td>1.681857e-11</td>\n      <td>3.405934e-14</td>\n      <td>6.897369e-17</td>\n      <td>0.020408</td>\n      <td>0.002915</td>\n      <td>0.000416</td>\n      <td>0.000059</td>\n      <td>0.000008</td>\n    </tr>\n    <tr>\n      <th>6</th>\n      <td>0.014761</td>\n      <td>0.000553</td>\n      <td>550000.0</td>\n      <td>0.178571</td>\n      <td>0.569894</td>\n      <td>0.286608</td>\n      <td>0.090908</td>\n      <td>0.808677</td>\n      <td>0.477811</td>\n      <td>0.000000</td>\n      <td>...</td>\n      <td>4.489742e-07</td>\n      <td>3.008376e-10</td>\n      <td>2.015778e-13</td>\n      <td>1.350683e-16</td>\n      <td>9.050323e-20</td>\n      <td>0.020408</td>\n      <td>0.002915</td>\n      <td>0.000416</td>\n      <td>0.000059</td>\n      <td>0.000008</td>\n    </tr>\n    <tr>\n      <th>7</th>\n      <td>0.015512</td>\n      <td>0.000382</td>\n      <td>590000.0</td>\n      <td>0.250000</td>\n      <td>0.057230</td>\n      <td>0.000000</td>\n      <td>0.000000</td>\n      <td>0.794885</td>\n      <td>0.467948</td>\n      <td>0.187309</td>\n      <td>...</td>\n      <td>5.103043e-03</td>\n      <td>3.645388e-04</td>\n      <td>2.604104e-05</td>\n      <td>1.860257e-06</td>\n      <td>1.328885e-07</td>\n      <td>0.020408</td>\n      <td>0.002915</td>\n      <td>0.000416</td>\n      <td>0.000059</td>\n      <td>0.000008</td>\n    </tr>\n    <tr>\n      <th>8</th>\n      <td>0.008631</td>\n      <td>0.000197</td>\n      <td>547000.0</td>\n      <td>0.178571</td>\n      <td>0.308985</td>\n      <td>0.438584</td>\n      <td>0.327528</td>\n      <td>0.801046</td>\n      <td>0.474388</td>\n      <td>0.088907</td>\n      <td>...</td>\n      <td>5.103043e-03</td>\n      <td>3.645388e-04</td>\n      <td>2.604104e-05</td>\n      <td>1.860257e-06</td>\n      <td>1.328885e-07</td>\n      <td>0.020408</td>\n      <td>0.002915</td>\n      <td>0.000416</td>\n      <td>0.000059</td>\n      <td>0.000008</td>\n    </tr>\n    <tr>\n      <th>9</th>\n      <td>0.013010</td>\n      <td>0.006013</td>\n      <td>1125000.0</td>\n      <td>0.178571</td>\n      <td>0.156497</td>\n      <td>0.140161</td>\n      <td>0.156650</td>\n      <td>0.798179</td>\n      <td>0.461295</td>\n      <td>0.000000</td>\n      <td>...</td>\n      <td>4.101045e-06</td>\n      <td>8.305040e-09</td>\n      <td>1.681857e-11</td>\n      <td>3.405934e-14</td>\n      <td>6.897369e-17</td>\n      <td>0.020408</td>\n      <td>0.002915</td>\n      <td>0.000416</td>\n      <td>0.000059</td>\n      <td>0.000008</td>\n    </tr>\n  </tbody>\n</table>\n<p>10 rows × 310 columns</p>\n</div>"
     },
     "execution_count": 13,
     "metadata": {},
     "output_type": "execute_result"
    }
   ],
   "source": [
    "source_path = Path('./data/model/02_train_data.pkl')\n",
    "training_data = load(source_path)\n",
    "\n",
    "df = training_data['dataset']\n",
    "\n",
    "X = df.drop('price_cleaned', axis=1)\n",
    "y = df['price_cleaned']\n",
    "\n",
    "X_train, X_test, y_train, y_test = train_test_split(X, y, train_size=0.8, random_state=42)\n",
    "\n",
    "df.head(10)"
   ]
  },
  {
   "cell_type": "markdown",
   "source": [
    "## Train all Models"
   ],
   "metadata": {
    "collapsed": false
   }
  },
  {
   "cell_type": "code",
   "execution_count": 14,
   "outputs": [],
   "source": [
    "TRAINING_FUNCTIONS = [\n",
    "    train_gradient_boosting_v1,\n",
    "    #train_gradient_boosting,\n",
    "    #train_gradient_boosting_robust,\n",
    "    #train_random_forest,\n",
    "    #train_linear_regression,\n",
    "    #train_mlp_regressor,\n",
    "]"
   ],
   "metadata": {
    "collapsed": false
   }
  },
  {
   "cell_type": "code",
   "execution_count": 15,
   "outputs": [
    {
     "name": "stdout",
     "output_type": "stream",
     "text": [
      "Training GradientBoostingRegressor with -1 jobs\n",
      "Fitting 5 folds for each of 1 candidates, totalling 5 fits\n",
      "[CV 2/5; 1/1] START loss=absolute_error, max_depth=21, max_features=sqrt, min_samples_leaf=13, min_samples_split=1, n_estimators=130, random_state=42\n",
      "[CV 2/5; 1/1] END loss=absolute_error, max_depth=21, max_features=sqrt, min_samples_leaf=13, min_samples_split=1, n_estimators=130, random_state=42;, score=-0.260 total time=  19.2s\n",
      "[CV 5/5; 1/1] START loss=absolute_error, max_depth=21, max_features=sqrt, min_samples_leaf=13, min_samples_split=1, n_estimators=130, random_state=42\n",
      "[CV 5/5; 1/1] END loss=absolute_error, max_depth=21, max_features=sqrt, min_samples_leaf=13, min_samples_split=1, n_estimators=130, random_state=42;, score=-0.257 total time=  19.2s\n",
      "[CV 1/5; 1/1] START loss=absolute_error, max_depth=21, max_features=sqrt, min_samples_leaf=13, min_samples_split=1, n_estimators=130, random_state=42\n",
      "[CV 1/5; 1/1] END loss=absolute_error, max_depth=21, max_features=sqrt, min_samples_leaf=13, min_samples_split=1, n_estimators=130, random_state=42;, score=-0.274 total time=  19.4s\n"
     ]
    },
    {
     "ename": "KeyboardInterrupt",
     "evalue": "",
     "output_type": "error",
     "traceback": [
      "\u001B[0;31m---------------------------------------------------------------------------\u001B[0m",
      "\u001B[0;31mKeyboardInterrupt\u001B[0m                         Traceback (most recent call last)",
      "Cell \u001B[0;32mIn[15], line 1\u001B[0m\n\u001B[0;32m----> 1\u001B[0m results \u001B[38;5;241m=\u001B[39m [\n\u001B[1;32m      2\u001B[0m     func(X_train, X_test, y_train, y_test)\n\u001B[1;32m      3\u001B[0m     \u001B[38;5;28;01mfor\u001B[39;00m func \u001B[38;5;129;01min\u001B[39;00m TRAINING_FUNCTIONS\n\u001B[1;32m      4\u001B[0m ]\n",
      "Cell \u001B[0;32mIn[15], line 2\u001B[0m, in \u001B[0;36m<listcomp>\u001B[0;34m(.0)\u001B[0m\n\u001B[1;32m      1\u001B[0m results \u001B[38;5;241m=\u001B[39m [\n\u001B[0;32m----> 2\u001B[0m     \u001B[43mfunc\u001B[49m\u001B[43m(\u001B[49m\u001B[43mX_train\u001B[49m\u001B[43m,\u001B[49m\u001B[43m \u001B[49m\u001B[43mX_test\u001B[49m\u001B[43m,\u001B[49m\u001B[43m \u001B[49m\u001B[43my_train\u001B[49m\u001B[43m,\u001B[49m\u001B[43m \u001B[49m\u001B[43my_test\u001B[49m\u001B[43m)\u001B[49m\n\u001B[1;32m      3\u001B[0m     \u001B[38;5;28;01mfor\u001B[39;00m func \u001B[38;5;129;01min\u001B[39;00m TRAINING_FUNCTIONS\n\u001B[1;32m      4\u001B[0m ]\n",
      "File \u001B[0;32m~/Development/FHNW/cml1/helpers/training.py:109\u001B[0m, in \u001B[0;36mtrain_gradient_boosting_v1\u001B[0;34m(X_train, X_test, y_train, y_test)\u001B[0m\n\u001B[1;32m     96\u001B[0m parameters \u001B[38;5;241m=\u001B[39m {\n\u001B[1;32m     97\u001B[0m     \u001B[38;5;124m'\u001B[39m\u001B[38;5;124mloss\u001B[39m\u001B[38;5;124m'\u001B[39m: [\u001B[38;5;124m'\u001B[39m\u001B[38;5;124mabsolute_error\u001B[39m\u001B[38;5;124m'\u001B[39m],\n\u001B[1;32m     98\u001B[0m     \u001B[38;5;124m'\u001B[39m\u001B[38;5;124mmax_depth\u001B[39m\u001B[38;5;124m'\u001B[39m: [\u001B[38;5;241m21\u001B[39m],  \u001B[38;5;66;03m# [26],\u001B[39;00m\n\u001B[0;32m   (...)\u001B[0m\n\u001B[1;32m    103\u001B[0m     \u001B[38;5;124m'\u001B[39m\u001B[38;5;124mrandom_state\u001B[39m\u001B[38;5;124m'\u001B[39m: [\u001B[38;5;241m42\u001B[39m]\n\u001B[1;32m    104\u001B[0m }\n\u001B[1;32m    107\u001B[0m \u001B[38;5;66;03m# NOT WORKING, TRANSFORMED KAGGLE\u001B[39;00m\n\u001B[0;32m--> 109\u001B[0m \u001B[38;5;28;01mreturn\u001B[39;00m \u001B[43m_run_training\u001B[49m\u001B[43m(\u001B[49m\u001B[43mX_train\u001B[49m\u001B[43m,\u001B[49m\u001B[43m \u001B[49m\u001B[43mX_test\u001B[49m\u001B[43m,\u001B[49m\u001B[43m \u001B[49m\u001B[43my_train\u001B[49m\u001B[43m,\u001B[49m\u001B[43m \u001B[49m\u001B[43my_test\u001B[49m\u001B[43m,\u001B[49m\n\u001B[1;32m    110\u001B[0m \u001B[43m                     \u001B[49m\u001B[43mparameters\u001B[49m\u001B[43m,\u001B[49m\n\u001B[1;32m    111\u001B[0m \u001B[43m                     \u001B[49m\u001B[43mensemble\u001B[49m\u001B[38;5;241;43m.\u001B[39;49m\u001B[43mGradientBoostingRegressor\u001B[49m\u001B[43m,\u001B[49m\u001B[43m \u001B[49m\u001B[38;5;241;43m-\u001B[39;49m\u001B[38;5;241;43m1\u001B[39;49m\u001B[43m)\u001B[49m\n",
      "File \u001B[0;32m~/Development/FHNW/cml1/helpers/training.py:156\u001B[0m, in \u001B[0;36m_run_training\u001B[0;34m(X_train, X_test, y_train, y_test, parameters, ModelClass, n_jobs, cv)\u001B[0m\n\u001B[1;32m    148\u001B[0m \u001B[38;5;28mprint\u001B[39m(\u001B[38;5;124mf\u001B[39m\u001B[38;5;124m'\u001B[39m\u001B[38;5;124mTraining \u001B[39m\u001B[38;5;132;01m{\u001B[39;00mModelClass\u001B[38;5;241m.\u001B[39m\u001B[38;5;18m__name__\u001B[39m\u001B[38;5;132;01m}\u001B[39;00m\u001B[38;5;124m with \u001B[39m\u001B[38;5;132;01m{\u001B[39;00mn_jobs\u001B[38;5;132;01m}\u001B[39;00m\u001B[38;5;124m jobs\u001B[39m\u001B[38;5;124m'\u001B[39m)\n\u001B[1;32m    150\u001B[0m model \u001B[38;5;241m=\u001B[39m GridSearchCV(ModelClass(),\n\u001B[1;32m    151\u001B[0m                      parameters,\n\u001B[1;32m    152\u001B[0m                      scoring\u001B[38;5;241m=\u001B[39m\u001B[38;5;124m'\u001B[39m\u001B[38;5;124mneg_mean_absolute_percentage_error\u001B[39m\u001B[38;5;124m'\u001B[39m,\n\u001B[1;32m    153\u001B[0m                      cv\u001B[38;5;241m=\u001B[39mcv,\n\u001B[1;32m    154\u001B[0m                      n_jobs\u001B[38;5;241m=\u001B[39mn_jobs,\n\u001B[1;32m    155\u001B[0m                      verbose\u001B[38;5;241m=\u001B[39m\u001B[38;5;241m10\u001B[39m)\n\u001B[0;32m--> 156\u001B[0m \u001B[43mmodel\u001B[49m\u001B[38;5;241;43m.\u001B[39;49m\u001B[43mfit\u001B[49m\u001B[43m(\u001B[49m\u001B[43mX_train\u001B[49m\u001B[43m,\u001B[49m\u001B[43m \u001B[49m\u001B[43my_train\u001B[49m\u001B[43m)\u001B[49m\n\u001B[1;32m    158\u001B[0m \u001B[38;5;28;01mreturn\u001B[39;00m {\n\u001B[1;32m    159\u001B[0m     \u001B[38;5;124m\"\u001B[39m\u001B[38;5;124mnum_columns\u001B[39m\u001B[38;5;124m\"\u001B[39m: \u001B[38;5;28mlen\u001B[39m(X_train\u001B[38;5;241m.\u001B[39mcolumns),\n\u001B[1;32m    160\u001B[0m     \u001B[38;5;124m\"\u001B[39m\u001B[38;5;124mscore\u001B[39m\u001B[38;5;124m\"\u001B[39m: mean_absolute_percentage_error(y_test, model\u001B[38;5;241m.\u001B[39mpredict(X_test)),\n\u001B[1;32m    161\u001B[0m     \u001B[38;5;124m\"\u001B[39m\u001B[38;5;124mmodel\u001B[39m\u001B[38;5;124m\"\u001B[39m: model\n\u001B[1;32m    162\u001B[0m }\n",
      "File \u001B[0;32m/opt/homebrew/lib/python3.10/site-packages/sklearn/model_selection/_search.py:875\u001B[0m, in \u001B[0;36mBaseSearchCV.fit\u001B[0;34m(self, X, y, groups, **fit_params)\u001B[0m\n\u001B[1;32m    869\u001B[0m     results \u001B[38;5;241m=\u001B[39m \u001B[38;5;28mself\u001B[39m\u001B[38;5;241m.\u001B[39m_format_results(\n\u001B[1;32m    870\u001B[0m         all_candidate_params, n_splits, all_out, all_more_results\n\u001B[1;32m    871\u001B[0m     )\n\u001B[1;32m    873\u001B[0m     \u001B[38;5;28;01mreturn\u001B[39;00m results\n\u001B[0;32m--> 875\u001B[0m \u001B[38;5;28;43mself\u001B[39;49m\u001B[38;5;241;43m.\u001B[39;49m\u001B[43m_run_search\u001B[49m\u001B[43m(\u001B[49m\u001B[43mevaluate_candidates\u001B[49m\u001B[43m)\u001B[49m\n\u001B[1;32m    877\u001B[0m \u001B[38;5;66;03m# multimetric is determined here because in the case of a callable\u001B[39;00m\n\u001B[1;32m    878\u001B[0m \u001B[38;5;66;03m# self.scoring the return type is only known after calling\u001B[39;00m\n\u001B[1;32m    879\u001B[0m first_test_score \u001B[38;5;241m=\u001B[39m all_out[\u001B[38;5;241m0\u001B[39m][\u001B[38;5;124m\"\u001B[39m\u001B[38;5;124mtest_scores\u001B[39m\u001B[38;5;124m\"\u001B[39m]\n",
      "File \u001B[0;32m/opt/homebrew/lib/python3.10/site-packages/sklearn/model_selection/_search.py:1389\u001B[0m, in \u001B[0;36mGridSearchCV._run_search\u001B[0;34m(self, evaluate_candidates)\u001B[0m\n\u001B[1;32m   1387\u001B[0m \u001B[38;5;28;01mdef\u001B[39;00m \u001B[38;5;21m_run_search\u001B[39m(\u001B[38;5;28mself\u001B[39m, evaluate_candidates):\n\u001B[1;32m   1388\u001B[0m     \u001B[38;5;124;03m\"\"\"Search all candidates in param_grid\"\"\"\u001B[39;00m\n\u001B[0;32m-> 1389\u001B[0m     \u001B[43mevaluate_candidates\u001B[49m\u001B[43m(\u001B[49m\u001B[43mParameterGrid\u001B[49m\u001B[43m(\u001B[49m\u001B[38;5;28;43mself\u001B[39;49m\u001B[38;5;241;43m.\u001B[39;49m\u001B[43mparam_grid\u001B[49m\u001B[43m)\u001B[49m\u001B[43m)\u001B[49m\n",
      "File \u001B[0;32m/opt/homebrew/lib/python3.10/site-packages/sklearn/model_selection/_search.py:822\u001B[0m, in \u001B[0;36mBaseSearchCV.fit.<locals>.evaluate_candidates\u001B[0;34m(candidate_params, cv, more_results)\u001B[0m\n\u001B[1;32m    814\u001B[0m \u001B[38;5;28;01mif\u001B[39;00m \u001B[38;5;28mself\u001B[39m\u001B[38;5;241m.\u001B[39mverbose \u001B[38;5;241m>\u001B[39m \u001B[38;5;241m0\u001B[39m:\n\u001B[1;32m    815\u001B[0m     \u001B[38;5;28mprint\u001B[39m(\n\u001B[1;32m    816\u001B[0m         \u001B[38;5;124m\"\u001B[39m\u001B[38;5;124mFitting \u001B[39m\u001B[38;5;132;01m{0}\u001B[39;00m\u001B[38;5;124m folds for each of \u001B[39m\u001B[38;5;132;01m{1}\u001B[39;00m\u001B[38;5;124m candidates,\u001B[39m\u001B[38;5;124m\"\u001B[39m\n\u001B[1;32m    817\u001B[0m         \u001B[38;5;124m\"\u001B[39m\u001B[38;5;124m totalling \u001B[39m\u001B[38;5;132;01m{2}\u001B[39;00m\u001B[38;5;124m fits\u001B[39m\u001B[38;5;124m\"\u001B[39m\u001B[38;5;241m.\u001B[39mformat(\n\u001B[1;32m    818\u001B[0m             n_splits, n_candidates, n_candidates \u001B[38;5;241m*\u001B[39m n_splits\n\u001B[1;32m    819\u001B[0m         )\n\u001B[1;32m    820\u001B[0m     )\n\u001B[0;32m--> 822\u001B[0m out \u001B[38;5;241m=\u001B[39m \u001B[43mparallel\u001B[49m\u001B[43m(\u001B[49m\n\u001B[1;32m    823\u001B[0m \u001B[43m    \u001B[49m\u001B[43mdelayed\u001B[49m\u001B[43m(\u001B[49m\u001B[43m_fit_and_score\u001B[49m\u001B[43m)\u001B[49m\u001B[43m(\u001B[49m\n\u001B[1;32m    824\u001B[0m \u001B[43m        \u001B[49m\u001B[43mclone\u001B[49m\u001B[43m(\u001B[49m\u001B[43mbase_estimator\u001B[49m\u001B[43m)\u001B[49m\u001B[43m,\u001B[49m\n\u001B[1;32m    825\u001B[0m \u001B[43m        \u001B[49m\u001B[43mX\u001B[49m\u001B[43m,\u001B[49m\n\u001B[1;32m    826\u001B[0m \u001B[43m        \u001B[49m\u001B[43my\u001B[49m\u001B[43m,\u001B[49m\n\u001B[1;32m    827\u001B[0m \u001B[43m        \u001B[49m\u001B[43mtrain\u001B[49m\u001B[38;5;241;43m=\u001B[39;49m\u001B[43mtrain\u001B[49m\u001B[43m,\u001B[49m\n\u001B[1;32m    828\u001B[0m \u001B[43m        \u001B[49m\u001B[43mtest\u001B[49m\u001B[38;5;241;43m=\u001B[39;49m\u001B[43mtest\u001B[49m\u001B[43m,\u001B[49m\n\u001B[1;32m    829\u001B[0m \u001B[43m        \u001B[49m\u001B[43mparameters\u001B[49m\u001B[38;5;241;43m=\u001B[39;49m\u001B[43mparameters\u001B[49m\u001B[43m,\u001B[49m\n\u001B[1;32m    830\u001B[0m \u001B[43m        \u001B[49m\u001B[43msplit_progress\u001B[49m\u001B[38;5;241;43m=\u001B[39;49m\u001B[43m(\u001B[49m\u001B[43msplit_idx\u001B[49m\u001B[43m,\u001B[49m\u001B[43m \u001B[49m\u001B[43mn_splits\u001B[49m\u001B[43m)\u001B[49m\u001B[43m,\u001B[49m\n\u001B[1;32m    831\u001B[0m \u001B[43m        \u001B[49m\u001B[43mcandidate_progress\u001B[49m\u001B[38;5;241;43m=\u001B[39;49m\u001B[43m(\u001B[49m\u001B[43mcand_idx\u001B[49m\u001B[43m,\u001B[49m\u001B[43m \u001B[49m\u001B[43mn_candidates\u001B[49m\u001B[43m)\u001B[49m\u001B[43m,\u001B[49m\n\u001B[1;32m    832\u001B[0m \u001B[43m        \u001B[49m\u001B[38;5;241;43m*\u001B[39;49m\u001B[38;5;241;43m*\u001B[39;49m\u001B[43mfit_and_score_kwargs\u001B[49m\u001B[43m,\u001B[49m\n\u001B[1;32m    833\u001B[0m \u001B[43m    \u001B[49m\u001B[43m)\u001B[49m\n\u001B[1;32m    834\u001B[0m \u001B[43m    \u001B[49m\u001B[38;5;28;43;01mfor\u001B[39;49;00m\u001B[43m \u001B[49m\u001B[43m(\u001B[49m\u001B[43mcand_idx\u001B[49m\u001B[43m,\u001B[49m\u001B[43m \u001B[49m\u001B[43mparameters\u001B[49m\u001B[43m)\u001B[49m\u001B[43m,\u001B[49m\u001B[43m \u001B[49m\u001B[43m(\u001B[49m\u001B[43msplit_idx\u001B[49m\u001B[43m,\u001B[49m\u001B[43m \u001B[49m\u001B[43m(\u001B[49m\u001B[43mtrain\u001B[49m\u001B[43m,\u001B[49m\u001B[43m \u001B[49m\u001B[43mtest\u001B[49m\u001B[43m)\u001B[49m\u001B[43m)\u001B[49m\u001B[43m \u001B[49m\u001B[38;5;129;43;01min\u001B[39;49;00m\u001B[43m \u001B[49m\u001B[43mproduct\u001B[49m\u001B[43m(\u001B[49m\n\u001B[1;32m    835\u001B[0m \u001B[43m        \u001B[49m\u001B[38;5;28;43menumerate\u001B[39;49m\u001B[43m(\u001B[49m\u001B[43mcandidate_params\u001B[49m\u001B[43m)\u001B[49m\u001B[43m,\u001B[49m\u001B[43m \u001B[49m\u001B[38;5;28;43menumerate\u001B[39;49m\u001B[43m(\u001B[49m\u001B[43mcv\u001B[49m\u001B[38;5;241;43m.\u001B[39;49m\u001B[43msplit\u001B[49m\u001B[43m(\u001B[49m\u001B[43mX\u001B[49m\u001B[43m,\u001B[49m\u001B[43m \u001B[49m\u001B[43my\u001B[49m\u001B[43m,\u001B[49m\u001B[43m \u001B[49m\u001B[43mgroups\u001B[49m\u001B[43m)\u001B[49m\u001B[43m)\u001B[49m\n\u001B[1;32m    836\u001B[0m \u001B[43m    \u001B[49m\u001B[43m)\u001B[49m\n\u001B[1;32m    837\u001B[0m \u001B[43m\u001B[49m\u001B[43m)\u001B[49m\n\u001B[1;32m    839\u001B[0m \u001B[38;5;28;01mif\u001B[39;00m \u001B[38;5;28mlen\u001B[39m(out) \u001B[38;5;241m<\u001B[39m \u001B[38;5;241m1\u001B[39m:\n\u001B[1;32m    840\u001B[0m     \u001B[38;5;28;01mraise\u001B[39;00m \u001B[38;5;167;01mValueError\u001B[39;00m(\n\u001B[1;32m    841\u001B[0m         \u001B[38;5;124m\"\u001B[39m\u001B[38;5;124mNo fits were performed. \u001B[39m\u001B[38;5;124m\"\u001B[39m\n\u001B[1;32m    842\u001B[0m         \u001B[38;5;124m\"\u001B[39m\u001B[38;5;124mWas the CV iterator empty? \u001B[39m\u001B[38;5;124m\"\u001B[39m\n\u001B[1;32m    843\u001B[0m         \u001B[38;5;124m\"\u001B[39m\u001B[38;5;124mWere there no candidates?\u001B[39m\u001B[38;5;124m\"\u001B[39m\n\u001B[1;32m    844\u001B[0m     )\n",
      "File \u001B[0;32m/opt/homebrew/lib/python3.10/site-packages/joblib/parallel.py:1098\u001B[0m, in \u001B[0;36mParallel.__call__\u001B[0;34m(self, iterable)\u001B[0m\n\u001B[1;32m   1095\u001B[0m     \u001B[38;5;28mself\u001B[39m\u001B[38;5;241m.\u001B[39m_iterating \u001B[38;5;241m=\u001B[39m \u001B[38;5;28;01mFalse\u001B[39;00m\n\u001B[1;32m   1097\u001B[0m \u001B[38;5;28;01mwith\u001B[39;00m \u001B[38;5;28mself\u001B[39m\u001B[38;5;241m.\u001B[39m_backend\u001B[38;5;241m.\u001B[39mretrieval_context():\n\u001B[0;32m-> 1098\u001B[0m     \u001B[38;5;28;43mself\u001B[39;49m\u001B[38;5;241;43m.\u001B[39;49m\u001B[43mretrieve\u001B[49m\u001B[43m(\u001B[49m\u001B[43m)\u001B[49m\n\u001B[1;32m   1099\u001B[0m \u001B[38;5;66;03m# Make sure that we get a last message telling us we are done\u001B[39;00m\n\u001B[1;32m   1100\u001B[0m elapsed_time \u001B[38;5;241m=\u001B[39m time\u001B[38;5;241m.\u001B[39mtime() \u001B[38;5;241m-\u001B[39m \u001B[38;5;28mself\u001B[39m\u001B[38;5;241m.\u001B[39m_start_time\n",
      "File \u001B[0;32m/opt/homebrew/lib/python3.10/site-packages/joblib/parallel.py:975\u001B[0m, in \u001B[0;36mParallel.retrieve\u001B[0;34m(self)\u001B[0m\n\u001B[1;32m    973\u001B[0m \u001B[38;5;28;01mtry\u001B[39;00m:\n\u001B[1;32m    974\u001B[0m     \u001B[38;5;28;01mif\u001B[39;00m \u001B[38;5;28mgetattr\u001B[39m(\u001B[38;5;28mself\u001B[39m\u001B[38;5;241m.\u001B[39m_backend, \u001B[38;5;124m'\u001B[39m\u001B[38;5;124msupports_timeout\u001B[39m\u001B[38;5;124m'\u001B[39m, \u001B[38;5;28;01mFalse\u001B[39;00m):\n\u001B[0;32m--> 975\u001B[0m         \u001B[38;5;28mself\u001B[39m\u001B[38;5;241m.\u001B[39m_output\u001B[38;5;241m.\u001B[39mextend(\u001B[43mjob\u001B[49m\u001B[38;5;241;43m.\u001B[39;49m\u001B[43mget\u001B[49m\u001B[43m(\u001B[49m\u001B[43mtimeout\u001B[49m\u001B[38;5;241;43m=\u001B[39;49m\u001B[38;5;28;43mself\u001B[39;49m\u001B[38;5;241;43m.\u001B[39;49m\u001B[43mtimeout\u001B[49m\u001B[43m)\u001B[49m)\n\u001B[1;32m    976\u001B[0m     \u001B[38;5;28;01melse\u001B[39;00m:\n\u001B[1;32m    977\u001B[0m         \u001B[38;5;28mself\u001B[39m\u001B[38;5;241m.\u001B[39m_output\u001B[38;5;241m.\u001B[39mextend(job\u001B[38;5;241m.\u001B[39mget())\n",
      "File \u001B[0;32m/opt/homebrew/lib/python3.10/site-packages/joblib/_parallel_backends.py:567\u001B[0m, in \u001B[0;36mLokyBackend.wrap_future_result\u001B[0;34m(future, timeout)\u001B[0m\n\u001B[1;32m    564\u001B[0m \u001B[38;5;124;03m\"\"\"Wrapper for Future.result to implement the same behaviour as\u001B[39;00m\n\u001B[1;32m    565\u001B[0m \u001B[38;5;124;03mAsyncResults.get from multiprocessing.\"\"\"\u001B[39;00m\n\u001B[1;32m    566\u001B[0m \u001B[38;5;28;01mtry\u001B[39;00m:\n\u001B[0;32m--> 567\u001B[0m     \u001B[38;5;28;01mreturn\u001B[39;00m \u001B[43mfuture\u001B[49m\u001B[38;5;241;43m.\u001B[39;49m\u001B[43mresult\u001B[49m\u001B[43m(\u001B[49m\u001B[43mtimeout\u001B[49m\u001B[38;5;241;43m=\u001B[39;49m\u001B[43mtimeout\u001B[49m\u001B[43m)\u001B[49m\n\u001B[1;32m    568\u001B[0m \u001B[38;5;28;01mexcept\u001B[39;00m CfTimeoutError \u001B[38;5;28;01mas\u001B[39;00m e:\n\u001B[1;32m    569\u001B[0m     \u001B[38;5;28;01mraise\u001B[39;00m \u001B[38;5;167;01mTimeoutError\u001B[39;00m \u001B[38;5;28;01mfrom\u001B[39;00m \u001B[38;5;21;01me\u001B[39;00m\n",
      "File \u001B[0;32m/opt/homebrew/Cellar/python@3.10/3.10.8/Frameworks/Python.framework/Versions/3.10/lib/python3.10/concurrent/futures/_base.py:453\u001B[0m, in \u001B[0;36mFuture.result\u001B[0;34m(self, timeout)\u001B[0m\n\u001B[1;32m    450\u001B[0m \u001B[38;5;28;01melif\u001B[39;00m \u001B[38;5;28mself\u001B[39m\u001B[38;5;241m.\u001B[39m_state \u001B[38;5;241m==\u001B[39m FINISHED:\n\u001B[1;32m    451\u001B[0m     \u001B[38;5;28;01mreturn\u001B[39;00m \u001B[38;5;28mself\u001B[39m\u001B[38;5;241m.\u001B[39m__get_result()\n\u001B[0;32m--> 453\u001B[0m \u001B[38;5;28;43mself\u001B[39;49m\u001B[38;5;241;43m.\u001B[39;49m\u001B[43m_condition\u001B[49m\u001B[38;5;241;43m.\u001B[39;49m\u001B[43mwait\u001B[49m\u001B[43m(\u001B[49m\u001B[43mtimeout\u001B[49m\u001B[43m)\u001B[49m\n\u001B[1;32m    455\u001B[0m \u001B[38;5;28;01mif\u001B[39;00m \u001B[38;5;28mself\u001B[39m\u001B[38;5;241m.\u001B[39m_state \u001B[38;5;129;01min\u001B[39;00m [CANCELLED, CANCELLED_AND_NOTIFIED]:\n\u001B[1;32m    456\u001B[0m     \u001B[38;5;28;01mraise\u001B[39;00m CancelledError()\n",
      "File \u001B[0;32m/opt/homebrew/Cellar/python@3.10/3.10.8/Frameworks/Python.framework/Versions/3.10/lib/python3.10/threading.py:320\u001B[0m, in \u001B[0;36mCondition.wait\u001B[0;34m(self, timeout)\u001B[0m\n\u001B[1;32m    318\u001B[0m \u001B[38;5;28;01mtry\u001B[39;00m:    \u001B[38;5;66;03m# restore state no matter what (e.g., KeyboardInterrupt)\u001B[39;00m\n\u001B[1;32m    319\u001B[0m     \u001B[38;5;28;01mif\u001B[39;00m timeout \u001B[38;5;129;01mis\u001B[39;00m \u001B[38;5;28;01mNone\u001B[39;00m:\n\u001B[0;32m--> 320\u001B[0m         \u001B[43mwaiter\u001B[49m\u001B[38;5;241;43m.\u001B[39;49m\u001B[43macquire\u001B[49m\u001B[43m(\u001B[49m\u001B[43m)\u001B[49m\n\u001B[1;32m    321\u001B[0m         gotit \u001B[38;5;241m=\u001B[39m \u001B[38;5;28;01mTrue\u001B[39;00m\n\u001B[1;32m    322\u001B[0m     \u001B[38;5;28;01melse\u001B[39;00m:\n",
      "\u001B[0;31mKeyboardInterrupt\u001B[0m: "
     ]
    }
   ],
   "source": [
    "results = [\n",
    "    func(X_train, X_test, y_train, y_test)\n",
    "    for func in TRAINING_FUNCTIONS\n",
    "]"
   ],
   "metadata": {
    "collapsed": false
   }
  },
  {
   "cell_type": "code",
   "execution_count": null,
   "outputs": [],
   "source": [
    "pd.DataFrame(results)"
   ],
   "metadata": {
    "collapsed": false
   }
  },
  {
   "cell_type": "code",
   "execution_count": null,
   "outputs": [],
   "source": [
    "best_model = results[0]['model']"
   ],
   "metadata": {
    "collapsed": false
   }
  },
  {
   "cell_type": "code",
   "execution_count": null,
   "outputs": [],
   "source": [
    "best_model.best_params_"
   ],
   "metadata": {
    "collapsed": false
   }
  },
  {
   "cell_type": "code",
   "execution_count": null,
   "outputs": [],
   "source": [
    "best_model.best_score_"
   ],
   "metadata": {
    "collapsed": false
   }
  },
  {
   "cell_type": "code",
   "execution_count": null,
   "outputs": [],
   "source": [
    "validation_data = load(Path('data/kaggle/02_model_data.pkl'))\n",
    "validation_df = validation_data['dataset']\n",
    "imputer = validation_data['imputer']\n",
    "scaler = validation_data['scaler']\n",
    "validation_df.head()"
   ],
   "metadata": {
    "collapsed": false
   }
  },
  {
   "cell_type": "code",
   "execution_count": null,
   "outputs": [],
   "source": [
    "predictions = pd.DataFrame({\n",
    "    'Id': list(validation_df.index),\n",
    "    'Expected': best_model.predict(validation_df)\n",
    "})\n",
    "predictions.head()"
   ],
   "metadata": {
    "collapsed": false
   }
  },
  {
   "cell_type": "code",
   "execution_count": null,
   "outputs": [],
   "source": [
    "def getClassName(obj):\n",
    "   return type(obj).__name__\n",
    "\n",
    "def getFormattedDate(date = datetime.now()):\n",
    "    return date.strftime('%Y%m%d_%H%M')"
   ],
   "metadata": {
    "collapsed": false
   }
  },
  {
   "cell_type": "code",
   "execution_count": null,
   "outputs": [],
   "source": [
    "filename = f'{getFormattedDate()}_{getClassName(best_model.estimator)}_{getClassName(scaler)}_{getClassName(imputer)}'\n",
    "path = Path(f'data/kaggle/submissions/{filename}.csv')\n",
    "predictions.to_csv(path, index=False)"
   ],
   "metadata": {
    "collapsed": false
   }
  },
  {
   "cell_type": "code",
   "execution_count": null,
   "outputs": [],
   "source": [],
   "metadata": {
    "collapsed": false
   }
  }
 ],
 "metadata": {
  "kernelspec": {
   "display_name": "Python 3",
   "language": "python",
   "name": "python3"
  },
  "language_info": {
   "codemirror_mode": {
    "name": "ipython",
    "version": 2
   },
   "file_extension": ".py",
   "mimetype": "text/x-python",
   "name": "python",
   "nbconvert_exporter": "python",
   "pygments_lexer": "ipython2",
   "version": "2.7.6"
  }
 },
 "nbformat": 4,
 "nbformat_minor": 0
}
