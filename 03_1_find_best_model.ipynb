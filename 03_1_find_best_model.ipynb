{
 "cells": [
  {
   "cell_type": "markdown",
   "source": [
    "# Find best model"
   ],
   "metadata": {
    "collapsed": false
   }
  },
  {
   "cell_type": "markdown",
   "source": [
    "### Imports"
   ],
   "metadata": {
    "collapsed": false
   }
  },
  {
   "cell_type": "code",
   "execution_count": 51,
   "outputs": [],
   "source": [
    "import __main__ as main\n",
    "\n",
    "from helpers.training import *\n",
    "from pathlib import Path\n",
    "from joblib import load\n",
    "from sklearn.model_selection import train_test_split\n",
    "from datetime import datetime\n",
    "from helpers.is_interactive import is_interactive"
   ],
   "metadata": {
    "collapsed": false
   }
  },
  {
   "cell_type": "markdown",
   "source": [
    "### Run dependency notebooks"
   ],
   "metadata": {
    "collapsed": false
   }
  },
  {
   "cell_type": "code",
   "execution_count": 52,
   "outputs": [
    {
     "name": "stdout",
     "output_type": "stream",
     "text": [
      "Running previous notebooks...\n"
     ]
    }
   ],
   "source": [
    "if is_interactive(main):\n",
    "    %run 01_0_data_wrangling.ipynb -p\n",
    "    %run 01_2_data_wrangling_kaggle.ipynb -p\n",
    "    %run 02_0_scaling.ipynb -p\n",
    "    %run 02_1_scaling_kaggle.ipynb -p"
   ],
   "metadata": {
    "collapsed": false
   }
  },
  {
   "cell_type": "markdown",
   "source": [
    "### Load Dataframe"
   ],
   "metadata": {
    "collapsed": false
   }
  },
  {
   "cell_type": "code",
   "execution_count": 53,
   "metadata": {
    "collapsed": true
   },
   "outputs": [
    {
     "data": {
      "text/plain": "   Living space  Plot area  price_cleaned     Floor  ForestDensityL  \\\n0      0.011759   0.002511      1150000.0  0.285714        0.569894   \n1      0.018764   0.000633      1420000.0  0.250000        0.569894   \n2      0.010883   0.002511       720000.0  0.214286        0.182127   \n3      0.018514   0.001054      1430000.0  0.142857        0.569894   \n4      0.017013   0.000316       995000.0  0.142857        0.372216   \n5      0.023017   0.003029      2160000.0  0.142857        0.212473   \n6      0.014761   0.000570       550000.0  0.250000        0.569894   \n7      0.012259   0.000316       590000.0  0.250000        0.057230   \n8      0.008631   0.000316       547000.0  0.178571        0.308985   \n9      0.013010   0.006030      1125000.0  0.142857        0.156497   \n\n   ForestDensityM  ForestDensityS  Latitude  Longitude  \\\n0        0.286608        0.090908  0.808677   0.477811   \n1        0.286608        0.090908  0.808677   0.477811   \n2        0.095930        0.001911  0.799258   0.468164   \n3        0.286608        0.090908  0.808677   0.477811   \n4        0.279429        0.145835  0.803051   0.470341   \n5        0.162927        0.034759  0.801165   0.461133   \n6        0.286608        0.090908  0.808677   0.477811   \n7        0.000000        0.000000  0.794885   0.467948   \n8        0.438584        0.327528  0.801046   0.474388   \n9        0.140161        0.156650  0.798179   0.461295   \n\n   NoisePollutionRailwayL  ...  gde_workers_total_2  gde_workers_total_3  \\\n0                0.000000  ...         4.489742e-07         3.008376e-10   \n1                0.000000  ...         4.489742e-07         3.008376e-10   \n2                0.000000  ...         5.103043e-03         3.645388e-04   \n3                0.000000  ...         4.489742e-07         3.008376e-10   \n4                0.000000  ...         8.152190e-06         2.327617e-08   \n5                0.000000  ...         4.101045e-06         8.305040e-09   \n6                0.000000  ...         4.489742e-07         3.008376e-10   \n7                0.187309  ...         5.103043e-03         3.645388e-04   \n8                0.088907  ...         5.103043e-03         3.645388e-04   \n9                0.000000  ...         4.101045e-06         8.305040e-09   \n\n   gde_workers_total_4  gde_workers_total_5  gde_workers_total_6   rooms_2  \\\n0         2.015778e-13         1.350683e-16         9.050323e-20  0.020408   \n1         2.015778e-13         1.350683e-16         9.050323e-20  0.020408   \n2         2.604104e-05         1.860257e-06         1.328885e-07  0.020408   \n3         2.015778e-13         1.350683e-16         9.050323e-20  0.020408   \n4         6.645820e-11         1.897517e-13         5.417799e-16  0.020408   \n5         1.681857e-11         3.405934e-14         6.897369e-17  0.020408   \n6         2.015778e-13         1.350683e-16         9.050323e-20  0.020408   \n7         2.604104e-05         1.860257e-06         1.328885e-07  0.020408   \n8         2.604104e-05         1.860257e-06         1.328885e-07  0.020408   \n9         1.681857e-11         3.405934e-14         6.897369e-17  0.020408   \n\n    rooms_3   rooms_4   rooms_5   rooms_6  \n0  0.002915  0.000416  0.000059  0.000008  \n1  0.002915  0.000416  0.000059  0.000008  \n2  0.002915  0.000416  0.000059  0.000008  \n3  0.002915  0.000416  0.000059  0.000008  \n4  0.002915  0.000416  0.000059  0.000008  \n5  0.002915  0.000416  0.000059  0.000008  \n6  0.002915  0.000416  0.000059  0.000008  \n7  0.002915  0.000416  0.000059  0.000008  \n8  0.002915  0.000416  0.000059  0.000008  \n9  0.002915  0.000416  0.000059  0.000008  \n\n[10 rows x 310 columns]",
      "text/html": "<div>\n<style scoped>\n    .dataframe tbody tr th:only-of-type {\n        vertical-align: middle;\n    }\n\n    .dataframe tbody tr th {\n        vertical-align: top;\n    }\n\n    .dataframe thead th {\n        text-align: right;\n    }\n</style>\n<table border=\"1\" class=\"dataframe\">\n  <thead>\n    <tr style=\"text-align: right;\">\n      <th></th>\n      <th>Living space</th>\n      <th>Plot area</th>\n      <th>price_cleaned</th>\n      <th>Floor</th>\n      <th>ForestDensityL</th>\n      <th>ForestDensityM</th>\n      <th>ForestDensityS</th>\n      <th>Latitude</th>\n      <th>Longitude</th>\n      <th>NoisePollutionRailwayL</th>\n      <th>...</th>\n      <th>gde_workers_total_2</th>\n      <th>gde_workers_total_3</th>\n      <th>gde_workers_total_4</th>\n      <th>gde_workers_total_5</th>\n      <th>gde_workers_total_6</th>\n      <th>rooms_2</th>\n      <th>rooms_3</th>\n      <th>rooms_4</th>\n      <th>rooms_5</th>\n      <th>rooms_6</th>\n    </tr>\n  </thead>\n  <tbody>\n    <tr>\n      <th>0</th>\n      <td>0.011759</td>\n      <td>0.002511</td>\n      <td>1150000.0</td>\n      <td>0.285714</td>\n      <td>0.569894</td>\n      <td>0.286608</td>\n      <td>0.090908</td>\n      <td>0.808677</td>\n      <td>0.477811</td>\n      <td>0.000000</td>\n      <td>...</td>\n      <td>4.489742e-07</td>\n      <td>3.008376e-10</td>\n      <td>2.015778e-13</td>\n      <td>1.350683e-16</td>\n      <td>9.050323e-20</td>\n      <td>0.020408</td>\n      <td>0.002915</td>\n      <td>0.000416</td>\n      <td>0.000059</td>\n      <td>0.000008</td>\n    </tr>\n    <tr>\n      <th>1</th>\n      <td>0.018764</td>\n      <td>0.000633</td>\n      <td>1420000.0</td>\n      <td>0.250000</td>\n      <td>0.569894</td>\n      <td>0.286608</td>\n      <td>0.090908</td>\n      <td>0.808677</td>\n      <td>0.477811</td>\n      <td>0.000000</td>\n      <td>...</td>\n      <td>4.489742e-07</td>\n      <td>3.008376e-10</td>\n      <td>2.015778e-13</td>\n      <td>1.350683e-16</td>\n      <td>9.050323e-20</td>\n      <td>0.020408</td>\n      <td>0.002915</td>\n      <td>0.000416</td>\n      <td>0.000059</td>\n      <td>0.000008</td>\n    </tr>\n    <tr>\n      <th>2</th>\n      <td>0.010883</td>\n      <td>0.002511</td>\n      <td>720000.0</td>\n      <td>0.214286</td>\n      <td>0.182127</td>\n      <td>0.095930</td>\n      <td>0.001911</td>\n      <td>0.799258</td>\n      <td>0.468164</td>\n      <td>0.000000</td>\n      <td>...</td>\n      <td>5.103043e-03</td>\n      <td>3.645388e-04</td>\n      <td>2.604104e-05</td>\n      <td>1.860257e-06</td>\n      <td>1.328885e-07</td>\n      <td>0.020408</td>\n      <td>0.002915</td>\n      <td>0.000416</td>\n      <td>0.000059</td>\n      <td>0.000008</td>\n    </tr>\n    <tr>\n      <th>3</th>\n      <td>0.018514</td>\n      <td>0.001054</td>\n      <td>1430000.0</td>\n      <td>0.142857</td>\n      <td>0.569894</td>\n      <td>0.286608</td>\n      <td>0.090908</td>\n      <td>0.808677</td>\n      <td>0.477811</td>\n      <td>0.000000</td>\n      <td>...</td>\n      <td>4.489742e-07</td>\n      <td>3.008376e-10</td>\n      <td>2.015778e-13</td>\n      <td>1.350683e-16</td>\n      <td>9.050323e-20</td>\n      <td>0.020408</td>\n      <td>0.002915</td>\n      <td>0.000416</td>\n      <td>0.000059</td>\n      <td>0.000008</td>\n    </tr>\n    <tr>\n      <th>4</th>\n      <td>0.017013</td>\n      <td>0.000316</td>\n      <td>995000.0</td>\n      <td>0.142857</td>\n      <td>0.372216</td>\n      <td>0.279429</td>\n      <td>0.145835</td>\n      <td>0.803051</td>\n      <td>0.470341</td>\n      <td>0.000000</td>\n      <td>...</td>\n      <td>8.152190e-06</td>\n      <td>2.327617e-08</td>\n      <td>6.645820e-11</td>\n      <td>1.897517e-13</td>\n      <td>5.417799e-16</td>\n      <td>0.020408</td>\n      <td>0.002915</td>\n      <td>0.000416</td>\n      <td>0.000059</td>\n      <td>0.000008</td>\n    </tr>\n    <tr>\n      <th>5</th>\n      <td>0.023017</td>\n      <td>0.003029</td>\n      <td>2160000.0</td>\n      <td>0.142857</td>\n      <td>0.212473</td>\n      <td>0.162927</td>\n      <td>0.034759</td>\n      <td>0.801165</td>\n      <td>0.461133</td>\n      <td>0.000000</td>\n      <td>...</td>\n      <td>4.101045e-06</td>\n      <td>8.305040e-09</td>\n      <td>1.681857e-11</td>\n      <td>3.405934e-14</td>\n      <td>6.897369e-17</td>\n      <td>0.020408</td>\n      <td>0.002915</td>\n      <td>0.000416</td>\n      <td>0.000059</td>\n      <td>0.000008</td>\n    </tr>\n    <tr>\n      <th>6</th>\n      <td>0.014761</td>\n      <td>0.000570</td>\n      <td>550000.0</td>\n      <td>0.250000</td>\n      <td>0.569894</td>\n      <td>0.286608</td>\n      <td>0.090908</td>\n      <td>0.808677</td>\n      <td>0.477811</td>\n      <td>0.000000</td>\n      <td>...</td>\n      <td>4.489742e-07</td>\n      <td>3.008376e-10</td>\n      <td>2.015778e-13</td>\n      <td>1.350683e-16</td>\n      <td>9.050323e-20</td>\n      <td>0.020408</td>\n      <td>0.002915</td>\n      <td>0.000416</td>\n      <td>0.000059</td>\n      <td>0.000008</td>\n    </tr>\n    <tr>\n      <th>7</th>\n      <td>0.012259</td>\n      <td>0.000316</td>\n      <td>590000.0</td>\n      <td>0.250000</td>\n      <td>0.057230</td>\n      <td>0.000000</td>\n      <td>0.000000</td>\n      <td>0.794885</td>\n      <td>0.467948</td>\n      <td>0.187309</td>\n      <td>...</td>\n      <td>5.103043e-03</td>\n      <td>3.645388e-04</td>\n      <td>2.604104e-05</td>\n      <td>1.860257e-06</td>\n      <td>1.328885e-07</td>\n      <td>0.020408</td>\n      <td>0.002915</td>\n      <td>0.000416</td>\n      <td>0.000059</td>\n      <td>0.000008</td>\n    </tr>\n    <tr>\n      <th>8</th>\n      <td>0.008631</td>\n      <td>0.000316</td>\n      <td>547000.0</td>\n      <td>0.178571</td>\n      <td>0.308985</td>\n      <td>0.438584</td>\n      <td>0.327528</td>\n      <td>0.801046</td>\n      <td>0.474388</td>\n      <td>0.088907</td>\n      <td>...</td>\n      <td>5.103043e-03</td>\n      <td>3.645388e-04</td>\n      <td>2.604104e-05</td>\n      <td>1.860257e-06</td>\n      <td>1.328885e-07</td>\n      <td>0.020408</td>\n      <td>0.002915</td>\n      <td>0.000416</td>\n      <td>0.000059</td>\n      <td>0.000008</td>\n    </tr>\n    <tr>\n      <th>9</th>\n      <td>0.013010</td>\n      <td>0.006030</td>\n      <td>1125000.0</td>\n      <td>0.142857</td>\n      <td>0.156497</td>\n      <td>0.140161</td>\n      <td>0.156650</td>\n      <td>0.798179</td>\n      <td>0.461295</td>\n      <td>0.000000</td>\n      <td>...</td>\n      <td>4.101045e-06</td>\n      <td>8.305040e-09</td>\n      <td>1.681857e-11</td>\n      <td>3.405934e-14</td>\n      <td>6.897369e-17</td>\n      <td>0.020408</td>\n      <td>0.002915</td>\n      <td>0.000416</td>\n      <td>0.000059</td>\n      <td>0.000008</td>\n    </tr>\n  </tbody>\n</table>\n<p>10 rows × 310 columns</p>\n</div>"
     },
     "execution_count": 53,
     "metadata": {},
     "output_type": "execute_result"
    }
   ],
   "source": [
    "source_path = Path('./data/model/02_train_data.pkl')\n",
    "training_data = load(source_path)\n",
    "\n",
    "df = training_data['dataset']\n",
    "\n",
    "X = df.drop('price_cleaned', axis=1)\n",
    "y = df['price_cleaned']\n",
    "\n",
    "X_train, X_test, y_train, y_test = train_test_split(X, y, train_size=0.8, random_state=42)\n",
    "\n",
    "df.head(10)"
   ]
  },
  {
   "cell_type": "markdown",
   "source": [
    "## Train all Models"
   ],
   "metadata": {
    "collapsed": false
   }
  },
  {
   "cell_type": "code",
   "execution_count": 54,
   "outputs": [],
   "source": [
    "TRAINING_FUNCTIONS = [\n",
    "    train_gradient_boosting_v1,\n",
    "    #train_gradient_boosting,\n",
    "    #train_gradient_boosting_robust,\n",
    "    #train_random_forest,\n",
    "    #train_linear_regression,\n",
    "    #train_mlp_regressor,\n",
    "]"
   ],
   "metadata": {
    "collapsed": false
   }
  },
  {
   "cell_type": "code",
   "execution_count": 55,
   "outputs": [
    {
     "name": "stdout",
     "output_type": "stream",
     "text": [
      "Training GradientBoostingRegressor with -1 jobs\n",
      "Fitting 5 folds for each of 1 candidates, totalling 5 fits\n"
     ]
    }
   ],
   "source": [
    "results = [\n",
    "    func(X_train, X_test, y_train, y_test)\n",
    "    for func in TRAINING_FUNCTIONS\n",
    "]"
   ],
   "metadata": {
    "collapsed": false
   }
  },
  {
   "cell_type": "code",
   "execution_count": 56,
   "outputs": [
    {
     "data": {
      "text/plain": "   num_columns     score                                              model\n0          309  0.254579  GridSearchCV(cv=5, estimator=GradientBoostingR...",
      "text/html": "<div>\n<style scoped>\n    .dataframe tbody tr th:only-of-type {\n        vertical-align: middle;\n    }\n\n    .dataframe tbody tr th {\n        vertical-align: top;\n    }\n\n    .dataframe thead th {\n        text-align: right;\n    }\n</style>\n<table border=\"1\" class=\"dataframe\">\n  <thead>\n    <tr style=\"text-align: right;\">\n      <th></th>\n      <th>num_columns</th>\n      <th>score</th>\n      <th>model</th>\n    </tr>\n  </thead>\n  <tbody>\n    <tr>\n      <th>0</th>\n      <td>309</td>\n      <td>0.254579</td>\n      <td>GridSearchCV(cv=5, estimator=GradientBoostingR...</td>\n    </tr>\n  </tbody>\n</table>\n</div>"
     },
     "execution_count": 56,
     "metadata": {},
     "output_type": "execute_result"
    }
   ],
   "source": [
    "pd.DataFrame(results)"
   ],
   "metadata": {
    "collapsed": false
   }
  },
  {
   "cell_type": "code",
   "execution_count": 57,
   "outputs": [],
   "source": [
    "best_model_row = results[0]\n",
    "best_model = best_model_row['model']"
   ],
   "metadata": {
    "collapsed": false
   }
  },
  {
   "cell_type": "code",
   "execution_count": 58,
   "outputs": [
    {
     "data": {
      "text/plain": "{'loss': 'absolute_error',\n 'max_depth': 21,\n 'max_features': 'sqrt',\n 'min_samples_leaf': 13,\n 'min_samples_split': 1,\n 'n_estimators': 130,\n 'random_state': 42}"
     },
     "execution_count": 58,
     "metadata": {},
     "output_type": "execute_result"
    }
   ],
   "source": [
    "best_model.best_params_"
   ],
   "metadata": {
    "collapsed": false
   }
  },
  {
   "cell_type": "code",
   "execution_count": 59,
   "outputs": [
    {
     "data": {
      "text/plain": "-0.2650349914469722"
     },
     "execution_count": 59,
     "metadata": {},
     "output_type": "execute_result"
    }
   ],
   "source": [
    "best_model.best_score_"
   ],
   "metadata": {
    "collapsed": false
   }
  },
  {
   "cell_type": "code",
   "execution_count": 60,
   "outputs": [
    {
     "data": {
      "text/plain": "   Living space  Plot area     Floor  ForestDensityL  ForestDensityM  \\\n0      0.026770   0.002089  0.142857        0.183264        0.100085   \n1      0.028021   0.002000  0.142857        0.290820        0.170527   \n2      0.015637   0.000373  0.142857        0.483981        0.358180   \n3      0.016763   0.000587  0.250000        0.165213        0.076652   \n4      0.018764   0.000633  0.250000        0.569894        0.286608   \n\n   ForestDensityS  Latitude  Longitude  NoisePollutionRailwayL  \\\n0        0.063548  0.786382   0.475555                0.014734   \n1        0.083253  0.786102   0.474934                0.010139   \n2        0.125505  0.807571   0.477015                0.000000   \n3        0.000000  0.787002   0.475789                0.020076   \n4        0.090908  0.808677   0.477811                0.000000   \n\n   NoisePollutionRailwayM  ...  gde_workers_total_2  gde_workers_total_3  \\\n0                     0.0  ...         1.242706e-04         1.385328e-06   \n1                     0.0  ...         1.242706e-04         1.385328e-06   \n2                     0.0  ...         4.489742e-07         3.008376e-10   \n3                     0.0  ...         1.242706e-04         1.385328e-06   \n4                     0.0  ...         4.489742e-07         3.008376e-10   \n\n   gde_workers_total_4  gde_workers_total_5  gde_workers_total_6   rooms_2  \\\n0         1.544318e-08         1.721555e-10         1.919134e-12  0.020408   \n1         1.544318e-08         1.721555e-10         1.919134e-12  0.020408   \n2         2.015778e-13         1.350683e-16         9.050323e-20  0.020408   \n3         1.544318e-08         1.721555e-10         1.919134e-12  0.020408   \n4         2.015778e-13         1.350683e-16         9.050323e-20  0.020408   \n\n    rooms_3   rooms_4   rooms_5   rooms_6  \n0  0.002915  0.000416  0.000059  0.000008  \n1  0.002915  0.000416  0.000059  0.000008  \n2  0.002915  0.000416  0.000059  0.000008  \n3  0.002915  0.000416  0.000059  0.000008  \n4  0.002915  0.000416  0.000059  0.000008  \n\n[5 rows x 309 columns]",
      "text/html": "<div>\n<style scoped>\n    .dataframe tbody tr th:only-of-type {\n        vertical-align: middle;\n    }\n\n    .dataframe tbody tr th {\n        vertical-align: top;\n    }\n\n    .dataframe thead th {\n        text-align: right;\n    }\n</style>\n<table border=\"1\" class=\"dataframe\">\n  <thead>\n    <tr style=\"text-align: right;\">\n      <th></th>\n      <th>Living space</th>\n      <th>Plot area</th>\n      <th>Floor</th>\n      <th>ForestDensityL</th>\n      <th>ForestDensityM</th>\n      <th>ForestDensityS</th>\n      <th>Latitude</th>\n      <th>Longitude</th>\n      <th>NoisePollutionRailwayL</th>\n      <th>NoisePollutionRailwayM</th>\n      <th>...</th>\n      <th>gde_workers_total_2</th>\n      <th>gde_workers_total_3</th>\n      <th>gde_workers_total_4</th>\n      <th>gde_workers_total_5</th>\n      <th>gde_workers_total_6</th>\n      <th>rooms_2</th>\n      <th>rooms_3</th>\n      <th>rooms_4</th>\n      <th>rooms_5</th>\n      <th>rooms_6</th>\n    </tr>\n  </thead>\n  <tbody>\n    <tr>\n      <th>0</th>\n      <td>0.026770</td>\n      <td>0.002089</td>\n      <td>0.142857</td>\n      <td>0.183264</td>\n      <td>0.100085</td>\n      <td>0.063548</td>\n      <td>0.786382</td>\n      <td>0.475555</td>\n      <td>0.014734</td>\n      <td>0.0</td>\n      <td>...</td>\n      <td>1.242706e-04</td>\n      <td>1.385328e-06</td>\n      <td>1.544318e-08</td>\n      <td>1.721555e-10</td>\n      <td>1.919134e-12</td>\n      <td>0.020408</td>\n      <td>0.002915</td>\n      <td>0.000416</td>\n      <td>0.000059</td>\n      <td>0.000008</td>\n    </tr>\n    <tr>\n      <th>1</th>\n      <td>0.028021</td>\n      <td>0.002000</td>\n      <td>0.142857</td>\n      <td>0.290820</td>\n      <td>0.170527</td>\n      <td>0.083253</td>\n      <td>0.786102</td>\n      <td>0.474934</td>\n      <td>0.010139</td>\n      <td>0.0</td>\n      <td>...</td>\n      <td>1.242706e-04</td>\n      <td>1.385328e-06</td>\n      <td>1.544318e-08</td>\n      <td>1.721555e-10</td>\n      <td>1.919134e-12</td>\n      <td>0.020408</td>\n      <td>0.002915</td>\n      <td>0.000416</td>\n      <td>0.000059</td>\n      <td>0.000008</td>\n    </tr>\n    <tr>\n      <th>2</th>\n      <td>0.015637</td>\n      <td>0.000373</td>\n      <td>0.142857</td>\n      <td>0.483981</td>\n      <td>0.358180</td>\n      <td>0.125505</td>\n      <td>0.807571</td>\n      <td>0.477015</td>\n      <td>0.000000</td>\n      <td>0.0</td>\n      <td>...</td>\n      <td>4.489742e-07</td>\n      <td>3.008376e-10</td>\n      <td>2.015778e-13</td>\n      <td>1.350683e-16</td>\n      <td>9.050323e-20</td>\n      <td>0.020408</td>\n      <td>0.002915</td>\n      <td>0.000416</td>\n      <td>0.000059</td>\n      <td>0.000008</td>\n    </tr>\n    <tr>\n      <th>3</th>\n      <td>0.016763</td>\n      <td>0.000587</td>\n      <td>0.250000</td>\n      <td>0.165213</td>\n      <td>0.076652</td>\n      <td>0.000000</td>\n      <td>0.787002</td>\n      <td>0.475789</td>\n      <td>0.020076</td>\n      <td>0.0</td>\n      <td>...</td>\n      <td>1.242706e-04</td>\n      <td>1.385328e-06</td>\n      <td>1.544318e-08</td>\n      <td>1.721555e-10</td>\n      <td>1.919134e-12</td>\n      <td>0.020408</td>\n      <td>0.002915</td>\n      <td>0.000416</td>\n      <td>0.000059</td>\n      <td>0.000008</td>\n    </tr>\n    <tr>\n      <th>4</th>\n      <td>0.018764</td>\n      <td>0.000633</td>\n      <td>0.250000</td>\n      <td>0.569894</td>\n      <td>0.286608</td>\n      <td>0.090908</td>\n      <td>0.808677</td>\n      <td>0.477811</td>\n      <td>0.000000</td>\n      <td>0.0</td>\n      <td>...</td>\n      <td>4.489742e-07</td>\n      <td>3.008376e-10</td>\n      <td>2.015778e-13</td>\n      <td>1.350683e-16</td>\n      <td>9.050323e-20</td>\n      <td>0.020408</td>\n      <td>0.002915</td>\n      <td>0.000416</td>\n      <td>0.000059</td>\n      <td>0.000008</td>\n    </tr>\n  </tbody>\n</table>\n<p>5 rows × 309 columns</p>\n</div>"
     },
     "execution_count": 60,
     "metadata": {},
     "output_type": "execute_result"
    }
   ],
   "source": [
    "validation_data = load(Path('data/kaggle/02_model_data.pkl'))\n",
    "validation_df = validation_data['dataset']\n",
    "base_imputer = validation_data['base_imputer']\n",
    "scaler = validation_data['scaler']\n",
    "validation_df.head()"
   ],
   "metadata": {
    "collapsed": false
   }
  },
  {
   "cell_type": "code",
   "execution_count": 61,
   "outputs": [
    {
     "data": {
      "text/plain": "Living space      0\nPlot area         0\nFloor             0\nForestDensityL    0\nForestDensityM    0\n                 ..\nrooms_2           0\nrooms_3           0\nrooms_4           0\nrooms_5           0\nrooms_6           0\nLength: 309, dtype: int64"
     },
     "execution_count": 61,
     "metadata": {},
     "output_type": "execute_result"
    }
   ],
   "source": [
    "validation_df.isna().sum()"
   ],
   "metadata": {
    "collapsed": false
   }
  },
  {
   "cell_type": "code",
   "execution_count": 62,
   "outputs": [
    {
     "data": {
      "text/plain": "   Id      Expected\n0   0  1.428903e+06\n1   1  1.327381e+06\n2   2  9.533572e+05\n3   3  9.894934e+05\n4   4  1.173226e+06",
      "text/html": "<div>\n<style scoped>\n    .dataframe tbody tr th:only-of-type {\n        vertical-align: middle;\n    }\n\n    .dataframe tbody tr th {\n        vertical-align: top;\n    }\n\n    .dataframe thead th {\n        text-align: right;\n    }\n</style>\n<table border=\"1\" class=\"dataframe\">\n  <thead>\n    <tr style=\"text-align: right;\">\n      <th></th>\n      <th>Id</th>\n      <th>Expected</th>\n    </tr>\n  </thead>\n  <tbody>\n    <tr>\n      <th>0</th>\n      <td>0</td>\n      <td>1.428903e+06</td>\n    </tr>\n    <tr>\n      <th>1</th>\n      <td>1</td>\n      <td>1.327381e+06</td>\n    </tr>\n    <tr>\n      <th>2</th>\n      <td>2</td>\n      <td>9.533572e+05</td>\n    </tr>\n    <tr>\n      <th>3</th>\n      <td>3</td>\n      <td>9.894934e+05</td>\n    </tr>\n    <tr>\n      <th>4</th>\n      <td>4</td>\n      <td>1.173226e+06</td>\n    </tr>\n  </tbody>\n</table>\n</div>"
     },
     "execution_count": 62,
     "metadata": {},
     "output_type": "execute_result"
    }
   ],
   "source": [
    "predictions = pd.DataFrame({\n",
    "    'Id': list(validation_df.index),\n",
    "    'Expected': best_model.predict(validation_df)\n",
    "})\n",
    "predictions.head()"
   ],
   "metadata": {
    "collapsed": false
   }
  },
  {
   "cell_type": "code",
   "execution_count": 63,
   "outputs": [],
   "source": [
    "def getClassName(obj):\n",
    "   return type(obj).__name__\n",
    "\n",
    "def getFormattedDate(date = datetime.now()):\n",
    "    return date.strftime('%Y%m%d_%H%M')"
   ],
   "metadata": {
    "collapsed": false
   }
  },
  {
   "cell_type": "code",
   "execution_count": 72,
   "outputs": [],
   "source": [
    "filename = f'{getFormattedDate()}_{getClassName(best_model.estimator)}_{getClassName(scaler)}_{getClassName(base_imputer)}_{best_model_row[\"score\"]:.3f}'\n",
    "path = Path(f'data/kaggle/submissions/{filename}.csv')\n",
    "predictions.to_csv(path, index=False)"
   ],
   "metadata": {
    "collapsed": false
   }
  },
  {
   "cell_type": "code",
   "execution_count": null,
   "outputs": [],
   "source": [],
   "metadata": {
    "collapsed": false
   }
  }
 ],
 "metadata": {
  "kernelspec": {
   "display_name": "Python 3",
   "language": "python",
   "name": "python3"
  },
  "language_info": {
   "codemirror_mode": {
    "name": "ipython",
    "version": 2
   },
   "file_extension": ".py",
   "mimetype": "text/x-python",
   "name": "python",
   "nbconvert_exporter": "python",
   "pygments_lexer": "ipython2",
   "version": "2.7.6"
  }
 },
 "nbformat": 4,
 "nbformat_minor": 0
}
