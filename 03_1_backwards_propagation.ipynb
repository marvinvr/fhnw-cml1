{
 "cells": [
  {
   "cell_type": "markdown",
   "source": [
    "# Backwards Propagation"
   ],
   "metadata": {
    "collapsed": false
   }
  },
  {
   "cell_type": "markdown",
   "source": [
    "## Imports"
   ],
   "metadata": {
    "collapsed": false
   }
  },
  {
   "cell_type": "code",
   "execution_count": 1,
   "metadata": {
    "collapsed": true
   },
   "outputs": [],
   "source": [
    "import pandas as pd\n",
    "\n",
    "from helpers.training import *\n",
    "from pathlib import Path\n",
    "from sklearn import model_selection"
   ]
  },
  {
   "cell_type": "markdown",
   "source": [
    "## Dataset"
   ],
   "metadata": {
    "collapsed": false
   }
  },
  {
   "cell_type": "code",
   "execution_count": 2,
   "outputs": [
    {
     "data": {
      "text/plain": "   ForestDensityM  Latitude  Longitude  NoisePollutionRailwayM  \\\n0        0.688099  0.686833   0.130463                0.000000   \n1        0.688099  0.686833   0.130463                0.000000   \n2        0.198580  0.668920   0.106747                0.000000   \n3        0.688099  0.686833   0.130463                0.000000   \n4        0.673461  0.676133   0.112097                0.000000   \n5        0.402338  0.672546   0.089462                0.000000   \n6        0.688099  0.686833   0.130463                0.000000   \n7       -0.473383  0.660603   0.106216               10.189522   \n8        0.963411  0.672320   0.122047                2.610778   \n9        0.338853  0.666867   0.089861                0.000000   \n\n   NoisePollutionRoadM  PopulationDensityM  RiversAndLakesM  RiversAndLakesS  \\\n0            -1.131549            0.009053         3.466803         0.108954   \n1            -1.131549            0.009053         3.466803         0.108954   \n2             0.715140            0.802890        35.340030         0.000000   \n3            -1.131549            0.009053         3.466803         0.108954   \n4            -0.744323           -0.303501        30.638062         0.302994   \n5            -0.683950            0.136669         0.000000         0.000000   \n6            -1.131549            0.009053         3.466803         0.108954   \n7             0.676815            0.185260         0.000000         0.000000   \n8             0.881928            0.140491        16.075488         0.185477   \n9            -0.237389            0.006480         0.000000         0.000000   \n\n   distanceToTrainStation  gde_area_agriculture_percentage  ...  \\\n0                0.809961                        -0.102607  ...   \n1                0.809961                        -0.102607  ...   \n2               -0.078321                        -0.709981  ...   \n3                0.809961                        -0.102607  ...   \n4                0.208265                        -0.025255  ...   \n5                0.844996                        -0.029724  ...   \n6                0.809961                        -0.102607  ...   \n7               -0.184291                        -0.709981  ...   \n8               -0.015675                        -0.709981  ...   \n9                0.737623                        -0.029724  ...   \n\n   type_penthouse  type_rustico  type_secondary-suite  \\\n0             1.0           0.0                   0.0   \n1             0.0           0.0                   0.0   \n2             1.0           0.0                   0.0   \n3             0.0           0.0                   0.0   \n4             0.0           0.0                   0.0   \n5             0.0           0.0                   0.0   \n6             0.0           0.0                   0.0   \n7             0.0           0.0                   0.0   \n8             0.0           0.0                   0.0   \n9             0.0           0.0                   0.0   \n\n   type_semi-detached-house  type_single-room  type_stepped-apartment  \\\n0                       0.0               0.0                     0.0   \n1                       0.0               0.0                     0.0   \n2                       0.0               0.0                     0.0   \n3                       0.0               0.0                     0.0   \n4                       0.0               0.0                     0.0   \n5                       0.0               0.0                     0.0   \n6                       0.0               0.0                     0.0   \n7                       0.0               0.0                     0.0   \n8                       0.0               0.0                     0.0   \n9                       0.0               0.0                     0.0   \n\n   type_stepped-house  type_studio  type_terrace-house  type_villa  \n0                 0.0          0.0                 0.0         0.0  \n1                 0.0          0.0                 1.0         0.0  \n2                 0.0          0.0                 0.0         0.0  \n3                 0.0          0.0                 0.0         0.0  \n4                 0.0          0.0                 0.0         0.0  \n5                 0.0          0.0                 0.0         0.0  \n6                 0.0          0.0                 1.0         0.0  \n7                 0.0          0.0                 0.0         0.0  \n8                 0.0          0.0                 0.0         0.0  \n9                 1.0          0.0                 0.0         0.0  \n\n[10 rows x 57 columns]",
      "text/html": "<div>\n<style scoped>\n    .dataframe tbody tr th:only-of-type {\n        vertical-align: middle;\n    }\n\n    .dataframe tbody tr th {\n        vertical-align: top;\n    }\n\n    .dataframe thead th {\n        text-align: right;\n    }\n</style>\n<table border=\"1\" class=\"dataframe\">\n  <thead>\n    <tr style=\"text-align: right;\">\n      <th></th>\n      <th>ForestDensityM</th>\n      <th>Latitude</th>\n      <th>Longitude</th>\n      <th>NoisePollutionRailwayM</th>\n      <th>NoisePollutionRoadM</th>\n      <th>PopulationDensityM</th>\n      <th>RiversAndLakesM</th>\n      <th>RiversAndLakesS</th>\n      <th>distanceToTrainStation</th>\n      <th>gde_area_agriculture_percentage</th>\n      <th>...</th>\n      <th>type_penthouse</th>\n      <th>type_rustico</th>\n      <th>type_secondary-suite</th>\n      <th>type_semi-detached-house</th>\n      <th>type_single-room</th>\n      <th>type_stepped-apartment</th>\n      <th>type_stepped-house</th>\n      <th>type_studio</th>\n      <th>type_terrace-house</th>\n      <th>type_villa</th>\n    </tr>\n  </thead>\n  <tbody>\n    <tr>\n      <th>0</th>\n      <td>0.688099</td>\n      <td>0.686833</td>\n      <td>0.130463</td>\n      <td>0.000000</td>\n      <td>-1.131549</td>\n      <td>0.009053</td>\n      <td>3.466803</td>\n      <td>0.108954</td>\n      <td>0.809961</td>\n      <td>-0.102607</td>\n      <td>...</td>\n      <td>1.0</td>\n      <td>0.0</td>\n      <td>0.0</td>\n      <td>0.0</td>\n      <td>0.0</td>\n      <td>0.0</td>\n      <td>0.0</td>\n      <td>0.0</td>\n      <td>0.0</td>\n      <td>0.0</td>\n    </tr>\n    <tr>\n      <th>1</th>\n      <td>0.688099</td>\n      <td>0.686833</td>\n      <td>0.130463</td>\n      <td>0.000000</td>\n      <td>-1.131549</td>\n      <td>0.009053</td>\n      <td>3.466803</td>\n      <td>0.108954</td>\n      <td>0.809961</td>\n      <td>-0.102607</td>\n      <td>...</td>\n      <td>0.0</td>\n      <td>0.0</td>\n      <td>0.0</td>\n      <td>0.0</td>\n      <td>0.0</td>\n      <td>0.0</td>\n      <td>0.0</td>\n      <td>0.0</td>\n      <td>1.0</td>\n      <td>0.0</td>\n    </tr>\n    <tr>\n      <th>2</th>\n      <td>0.198580</td>\n      <td>0.668920</td>\n      <td>0.106747</td>\n      <td>0.000000</td>\n      <td>0.715140</td>\n      <td>0.802890</td>\n      <td>35.340030</td>\n      <td>0.000000</td>\n      <td>-0.078321</td>\n      <td>-0.709981</td>\n      <td>...</td>\n      <td>1.0</td>\n      <td>0.0</td>\n      <td>0.0</td>\n      <td>0.0</td>\n      <td>0.0</td>\n      <td>0.0</td>\n      <td>0.0</td>\n      <td>0.0</td>\n      <td>0.0</td>\n      <td>0.0</td>\n    </tr>\n    <tr>\n      <th>3</th>\n      <td>0.688099</td>\n      <td>0.686833</td>\n      <td>0.130463</td>\n      <td>0.000000</td>\n      <td>-1.131549</td>\n      <td>0.009053</td>\n      <td>3.466803</td>\n      <td>0.108954</td>\n      <td>0.809961</td>\n      <td>-0.102607</td>\n      <td>...</td>\n      <td>0.0</td>\n      <td>0.0</td>\n      <td>0.0</td>\n      <td>0.0</td>\n      <td>0.0</td>\n      <td>0.0</td>\n      <td>0.0</td>\n      <td>0.0</td>\n      <td>0.0</td>\n      <td>0.0</td>\n    </tr>\n    <tr>\n      <th>4</th>\n      <td>0.673461</td>\n      <td>0.676133</td>\n      <td>0.112097</td>\n      <td>0.000000</td>\n      <td>-0.744323</td>\n      <td>-0.303501</td>\n      <td>30.638062</td>\n      <td>0.302994</td>\n      <td>0.208265</td>\n      <td>-0.025255</td>\n      <td>...</td>\n      <td>0.0</td>\n      <td>0.0</td>\n      <td>0.0</td>\n      <td>0.0</td>\n      <td>0.0</td>\n      <td>0.0</td>\n      <td>0.0</td>\n      <td>0.0</td>\n      <td>0.0</td>\n      <td>0.0</td>\n    </tr>\n    <tr>\n      <th>5</th>\n      <td>0.402338</td>\n      <td>0.672546</td>\n      <td>0.089462</td>\n      <td>0.000000</td>\n      <td>-0.683950</td>\n      <td>0.136669</td>\n      <td>0.000000</td>\n      <td>0.000000</td>\n      <td>0.844996</td>\n      <td>-0.029724</td>\n      <td>...</td>\n      <td>0.0</td>\n      <td>0.0</td>\n      <td>0.0</td>\n      <td>0.0</td>\n      <td>0.0</td>\n      <td>0.0</td>\n      <td>0.0</td>\n      <td>0.0</td>\n      <td>0.0</td>\n      <td>0.0</td>\n    </tr>\n    <tr>\n      <th>6</th>\n      <td>0.688099</td>\n      <td>0.686833</td>\n      <td>0.130463</td>\n      <td>0.000000</td>\n      <td>-1.131549</td>\n      <td>0.009053</td>\n      <td>3.466803</td>\n      <td>0.108954</td>\n      <td>0.809961</td>\n      <td>-0.102607</td>\n      <td>...</td>\n      <td>0.0</td>\n      <td>0.0</td>\n      <td>0.0</td>\n      <td>0.0</td>\n      <td>0.0</td>\n      <td>0.0</td>\n      <td>0.0</td>\n      <td>0.0</td>\n      <td>1.0</td>\n      <td>0.0</td>\n    </tr>\n    <tr>\n      <th>7</th>\n      <td>-0.473383</td>\n      <td>0.660603</td>\n      <td>0.106216</td>\n      <td>10.189522</td>\n      <td>0.676815</td>\n      <td>0.185260</td>\n      <td>0.000000</td>\n      <td>0.000000</td>\n      <td>-0.184291</td>\n      <td>-0.709981</td>\n      <td>...</td>\n      <td>0.0</td>\n      <td>0.0</td>\n      <td>0.0</td>\n      <td>0.0</td>\n      <td>0.0</td>\n      <td>0.0</td>\n      <td>0.0</td>\n      <td>0.0</td>\n      <td>0.0</td>\n      <td>0.0</td>\n    </tr>\n    <tr>\n      <th>8</th>\n      <td>0.963411</td>\n      <td>0.672320</td>\n      <td>0.122047</td>\n      <td>2.610778</td>\n      <td>0.881928</td>\n      <td>0.140491</td>\n      <td>16.075488</td>\n      <td>0.185477</td>\n      <td>-0.015675</td>\n      <td>-0.709981</td>\n      <td>...</td>\n      <td>0.0</td>\n      <td>0.0</td>\n      <td>0.0</td>\n      <td>0.0</td>\n      <td>0.0</td>\n      <td>0.0</td>\n      <td>0.0</td>\n      <td>0.0</td>\n      <td>0.0</td>\n      <td>0.0</td>\n    </tr>\n    <tr>\n      <th>9</th>\n      <td>0.338853</td>\n      <td>0.666867</td>\n      <td>0.089861</td>\n      <td>0.000000</td>\n      <td>-0.237389</td>\n      <td>0.006480</td>\n      <td>0.000000</td>\n      <td>0.000000</td>\n      <td>0.737623</td>\n      <td>-0.029724</td>\n      <td>...</td>\n      <td>0.0</td>\n      <td>0.0</td>\n      <td>0.0</td>\n      <td>0.0</td>\n      <td>0.0</td>\n      <td>0.0</td>\n      <td>1.0</td>\n      <td>0.0</td>\n      <td>0.0</td>\n      <td>0.0</td>\n    </tr>\n  </tbody>\n</table>\n<p>10 rows × 57 columns</p>\n</div>"
     },
     "execution_count": 2,
     "metadata": {},
     "output_type": "execute_result"
    }
   ],
   "source": [
    "df = pd.read_csv(Path('./data/model/immoscout_robust.csv'))\n",
    "\n",
    "X = df.drop(\"price\", axis=1)\n",
    "y = df[\"price\"]\n",
    "\n",
    "X_train, X_test, y_train, y_test = model_selection.train_test_split(X, y, train_size=0.6, random_state=42)\n",
    "\n",
    "df.head(10)"
   ],
   "metadata": {
    "collapsed": false
   }
  },
  {
   "cell_type": "markdown",
   "source": [
    "## Setup"
   ],
   "metadata": {
    "collapsed": false
   }
  },
  {
   "cell_type": "code",
   "execution_count": 3,
   "outputs": [],
   "source": [
    "TRAINING_FUNCTIONS = [train_random_forest]"
   ],
   "metadata": {
    "collapsed": false
   }
  },
  {
   "cell_type": "markdown",
   "source": [
    "## Backwards propagation"
   ],
   "metadata": {
    "collapsed": false
   }
  },
  {
   "cell_type": "code",
   "execution_count": 4,
   "outputs": [
    {
     "name": "stdout",
     "output_type": "stream",
     "text": [
      "removing  type_detached-secondary-suite\n",
      "removing  gde_politics_pda\n"
     ]
    },
    {
     "data": {
      "text/plain": "{'columns': ['ForestDensityM',\n  'Latitude',\n  'Longitude',\n  'NoisePollutionRailwayM',\n  'NoisePollutionRoadM',\n  'PopulationDensityM',\n  'RiversAndLakesM',\n  'RiversAndLakesS',\n  'distanceToTrainStation',\n  'gde_area_agriculture_percentage',\n  'gde_area_forest_percentage',\n  'gde_area_nonproductive_percentage',\n  'gde_average_house_hold',\n  'gde_empty_apartments',\n  'gde_foreigners_percentage',\n  'gde_new_homes_per_1000',\n  'gde_politics_bdp',\n  'gde_politics_cvp',\n  'gde_politics_evp',\n  'gde_politics_fdp',\n  'gde_politics_glp',\n  'gde_politics_gps',\n  'gde_politics_rights',\n  'gde_politics_sp',\n  'gde_politics_svp',\n  'gde_pop_per_km2',\n  'gde_population',\n  'gde_social_help_quota',\n  'gde_tax',\n  'gde_workers_sector1',\n  'rooms',\n  'Floor space_m2',\n  'Plot area_m2',\n  'living_space_m2',\n  'type_attic-flat',\n  'type_attic-room',\n  'type_castle',\n  'type_chalet',\n  'type_detached-house',\n  'type_duplex-maisonette',\n  'type_farmhouse',\n  'type_flat',\n  'type_furnished-residential-property',\n  'type_loft',\n  'type_penthouse',\n  'type_rustico',\n  'type_secondary-suite',\n  'type_semi-detached-house',\n  'type_single-room',\n  'type_stepped-apartment',\n  'type_stepped-house',\n  'type_studio',\n  'type_terrace-house',\n  'type_villa'],\n 'num_columns': 54,\n 'score': 0.7049197504402044,\n 'model': RandomForestRegressor(max_features='sqrt', n_jobs=-1, random_state=4096),\n 'score_diff': 0.001013981501040373}"
     },
     "metadata": {},
     "output_type": "display_data"
    }
   ],
   "source": [
    "for func in TRAINING_FUNCTIONS:\n",
    "    temp_X_train, temp_X_test = X_train.copy(), X_test.copy()\n",
    "    best_model = func(temp_X_train, X_test, y_train, y_test)\n",
    "    score_map = {}\n",
    "\n",
    "    while len(list(filter(lambda x: x['score_diff'] >= 0, score_map.values()))) > 0 or len(score_map) == 0:\n",
    "        if len(score_map) > 0:\n",
    "            max_val, max_index = 0, -1\n",
    "            for key in score_map.keys():\n",
    "                if score_map[key]['score_diff'] > max_val:\n",
    "                    max_val, max_index = score_map[key]['score_diff'], key\n",
    "            print('removing ', max_index)\n",
    "            best_model = score_map[max_index]\n",
    "            temp_X_train, temp_X_test = temp_X_train.drop(max_index, axis=1), temp_X_test.drop(max_index, axis=1)\n",
    "\n",
    "        columns = temp_X_train.columns\n",
    "        score_map = {}\n",
    "        for column in columns:\n",
    "            result = func(\n",
    "                temp_X_train.drop(column, axis = 1),\n",
    "                temp_X_test.drop(column, axis = 1),\n",
    "                y_train,\n",
    "                y_test\n",
    "            )\n",
    "            result['score_diff'] = result['score'] - best_model['score']\n",
    "            score_map[column] = result\n",
    "    display(best_model)\n"
   ],
   "metadata": {
    "collapsed": false
   }
  },
  {
   "cell_type": "code",
   "execution_count": 4,
   "outputs": [],
   "source": [],
   "metadata": {
    "collapsed": false
   }
  }
 ],
 "metadata": {
  "kernelspec": {
   "display_name": "Python 3",
   "language": "python",
   "name": "python3"
  },
  "language_info": {
   "codemirror_mode": {
    "name": "ipython",
    "version": 2
   },
   "file_extension": ".py",
   "mimetype": "text/x-python",
   "name": "python",
   "nbconvert_exporter": "python",
   "pygments_lexer": "ipython2",
   "version": "2.7.6"
  }
 },
 "nbformat": 4,
 "nbformat_minor": 0
}
