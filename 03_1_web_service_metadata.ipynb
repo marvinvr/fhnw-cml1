{
 "cells": [
  {
   "cell_type": "markdown",
   "metadata": {
    "collapsed": false
   },
   "source": [
    "# Develop a simple regression model to be used in the web service"
   ]
  },
  {
   "cell_type": "markdown",
   "metadata": {
    "collapsed": false
   },
   "source": [
    "### Imports"
   ]
  },
  {
   "cell_type": "code",
   "execution_count": 25,
   "metadata": {
    "collapsed": true
   },
   "outputs": [],
   "source": [
    "import __main__ as main\n",
    "\n",
    "from helpers.paths import Paths\n",
    "from joblib import load, dump\n",
    "from helpers.is_interactive import is_interactive\n",
    "from functools import reduce"
   ]
  },
  {
   "cell_type": "markdown",
   "metadata": {
    "collapsed": false
   },
   "source": [
    "### Run dependency notebooks"
   ]
  },
  {
   "cell_type": "code",
   "execution_count": 26,
   "metadata": {
    "collapsed": false
   },
   "outputs": [
    {
     "name": "stdout",
     "output_type": "stream",
     "text": [
      "Running previous notebooks...\n"
     ]
    }
   ],
   "source": [
    "if is_interactive(main):\n",
    "    %run 01_0_data_wrangling.ipynb -p\n",
    "    %run 02_0_scaling.ipynb -p"
   ]
  },
  {
   "cell_type": "markdown",
   "metadata": {
    "collapsed": false
   },
   "source": [
    "### Load Dataframe"
   ]
  },
  {
   "cell_type": "code",
   "execution_count": 27,
   "metadata": {
    "collapsed": false
   },
   "outputs": [
    {
     "data": {
      "text/html": [
       "<div>\n",
       "<style scoped>\n",
       "    .dataframe tbody tr th:only-of-type {\n",
       "        vertical-align: middle;\n",
       "    }\n",
       "\n",
       "    .dataframe tbody tr th {\n",
       "        vertical-align: top;\n",
       "    }\n",
       "\n",
       "    .dataframe thead th {\n",
       "        text-align: right;\n",
       "    }\n",
       "</style>\n",
       "<table border=\"1\" class=\"dataframe\">\n",
       "  <thead>\n",
       "    <tr style=\"text-align: right;\">\n",
       "      <th></th>\n",
       "      <th>Living space</th>\n",
       "      <th>Plot area</th>\n",
       "      <th>Floor</th>\n",
       "      <th>Latitude</th>\n",
       "      <th>Longitude</th>\n",
       "      <th>Zip</th>\n",
       "      <th>distanceToTrainStation</th>\n",
       "      <th>gde_area_agriculture_percentage</th>\n",
       "      <th>gde_area_forest_percentage</th>\n",
       "      <th>gde_area_nonproductive_percentage</th>\n",
       "      <th>...</th>\n",
       "      <th>type_unified_stepped-house</th>\n",
       "      <th>type_unified_studio</th>\n",
       "      <th>type_unified_terrace-house</th>\n",
       "      <th>type_unified_villa</th>\n",
       "      <th>NoisePollutionRailway</th>\n",
       "      <th>NoisePollutionRoad</th>\n",
       "      <th>PopulationDensity</th>\n",
       "      <th>RiversAndLakes</th>\n",
       "      <th>WorkplaceDensity</th>\n",
       "      <th>ForestDensity</th>\n",
       "    </tr>\n",
       "  </thead>\n",
       "  <tbody>\n",
       "    <tr>\n",
       "      <th>0</th>\n",
       "      <td>100.0</td>\n",
       "      <td>1282.323307</td>\n",
       "      <td>4.000000</td>\n",
       "      <td>47.415927</td>\n",
       "      <td>8.085840</td>\n",
       "      <td>5023.0</td>\n",
       "      <td>3.038467</td>\n",
       "      <td>30.676329</td>\n",
       "      <td>51.449275</td>\n",
       "      <td>4.589372</td>\n",
       "      <td>...</td>\n",
       "      <td>0.0</td>\n",
       "      <td>0.0</td>\n",
       "      <td>0.0</td>\n",
       "      <td>0.0</td>\n",
       "      <td>0.000000</td>\n",
       "      <td>0.076399</td>\n",
       "      <td>0.223039</td>\n",
       "      <td>0.031951</td>\n",
       "      <td>0.060414</td>\n",
       "      <td>0.296178</td>\n",
       "    </tr>\n",
       "    <tr>\n",
       "      <th>1</th>\n",
       "      <td>156.0</td>\n",
       "      <td>222.000000</td>\n",
       "      <td>2.750000</td>\n",
       "      <td>47.415927</td>\n",
       "      <td>8.085840</td>\n",
       "      <td>5023.0</td>\n",
       "      <td>3.038467</td>\n",
       "      <td>30.676329</td>\n",
       "      <td>51.449275</td>\n",
       "      <td>4.589372</td>\n",
       "      <td>...</td>\n",
       "      <td>0.0</td>\n",
       "      <td>0.0</td>\n",
       "      <td>1.0</td>\n",
       "      <td>0.0</td>\n",
       "      <td>0.000000</td>\n",
       "      <td>0.076399</td>\n",
       "      <td>0.223039</td>\n",
       "      <td>0.031951</td>\n",
       "      <td>0.060414</td>\n",
       "      <td>0.296178</td>\n",
       "    </tr>\n",
       "    <tr>\n",
       "      <th>2</th>\n",
       "      <td>93.0</td>\n",
       "      <td>1198.982216</td>\n",
       "      <td>2.000000</td>\n",
       "      <td>47.397416</td>\n",
       "      <td>8.043150</td>\n",
       "      <td>5000.0</td>\n",
       "      <td>0.909587</td>\n",
       "      <td>11.354420</td>\n",
       "      <td>32.197891</td>\n",
       "      <td>7.137064</td>\n",
       "      <td>...</td>\n",
       "      <td>0.0</td>\n",
       "      <td>0.0</td>\n",
       "      <td>0.0</td>\n",
       "      <td>0.0</td>\n",
       "      <td>0.000000</td>\n",
       "      <td>0.337930</td>\n",
       "      <td>0.451622</td>\n",
       "      <td>0.114168</td>\n",
       "      <td>0.167442</td>\n",
       "      <td>0.087050</td>\n",
       "    </tr>\n",
       "    <tr>\n",
       "      <th>3</th>\n",
       "      <td>154.0</td>\n",
       "      <td>370.000000</td>\n",
       "      <td>0.000000</td>\n",
       "      <td>47.415927</td>\n",
       "      <td>8.085840</td>\n",
       "      <td>5023.0</td>\n",
       "      <td>3.038467</td>\n",
       "      <td>30.676329</td>\n",
       "      <td>51.449275</td>\n",
       "      <td>4.589372</td>\n",
       "      <td>...</td>\n",
       "      <td>0.0</td>\n",
       "      <td>0.0</td>\n",
       "      <td>0.0</td>\n",
       "      <td>0.0</td>\n",
       "      <td>0.000000</td>\n",
       "      <td>0.076399</td>\n",
       "      <td>0.223039</td>\n",
       "      <td>0.031951</td>\n",
       "      <td>0.060414</td>\n",
       "      <td>0.296178</td>\n",
       "    </tr>\n",
       "    <tr>\n",
       "      <th>4</th>\n",
       "      <td>142.0</td>\n",
       "      <td>462.537377</td>\n",
       "      <td>0.000000</td>\n",
       "      <td>47.404870</td>\n",
       "      <td>8.052781</td>\n",
       "      <td>5022.0</td>\n",
       "      <td>1.460245</td>\n",
       "      <td>33.137090</td>\n",
       "      <td>49.705635</td>\n",
       "      <td>1.177460</td>\n",
       "      <td>...</td>\n",
       "      <td>0.0</td>\n",
       "      <td>0.0</td>\n",
       "      <td>0.0</td>\n",
       "      <td>0.0</td>\n",
       "      <td>0.000000</td>\n",
       "      <td>0.167450</td>\n",
       "      <td>0.177506</td>\n",
       "      <td>0.114288</td>\n",
       "      <td>0.046822</td>\n",
       "      <td>0.252992</td>\n",
       "    </tr>\n",
       "    <tr>\n",
       "      <th>5</th>\n",
       "      <td>190.0</td>\n",
       "      <td>1063.000000</td>\n",
       "      <td>0.000000</td>\n",
       "      <td>47.401163</td>\n",
       "      <td>8.012034</td>\n",
       "      <td>5018.0</td>\n",
       "      <td>3.147978</td>\n",
       "      <td>32.994924</td>\n",
       "      <td>53.197970</td>\n",
       "      <td>1.218274</td>\n",
       "      <td>...</td>\n",
       "      <td>0.0</td>\n",
       "      <td>0.0</td>\n",
       "      <td>0.0</td>\n",
       "      <td>0.0</td>\n",
       "      <td>0.000000</td>\n",
       "      <td>0.158337</td>\n",
       "      <td>0.317534</td>\n",
       "      <td>0.000000</td>\n",
       "      <td>0.068993</td>\n",
       "      <td>0.129393</td>\n",
       "    </tr>\n",
       "    <tr>\n",
       "      <th>6</th>\n",
       "      <td>124.0</td>\n",
       "      <td>200.000000</td>\n",
       "      <td>2.750000</td>\n",
       "      <td>47.415927</td>\n",
       "      <td>8.085840</td>\n",
       "      <td>5023.0</td>\n",
       "      <td>3.038467</td>\n",
       "      <td>30.676329</td>\n",
       "      <td>51.449275</td>\n",
       "      <td>4.589372</td>\n",
       "      <td>...</td>\n",
       "      <td>0.0</td>\n",
       "      <td>0.0</td>\n",
       "      <td>1.0</td>\n",
       "      <td>0.0</td>\n",
       "      <td>0.000000</td>\n",
       "      <td>0.076399</td>\n",
       "      <td>0.223039</td>\n",
       "      <td>0.031951</td>\n",
       "      <td>0.060414</td>\n",
       "      <td>0.296178</td>\n",
       "    </tr>\n",
       "    <tr>\n",
       "      <th>7</th>\n",
       "      <td>112.0</td>\n",
       "      <td>94.942325</td>\n",
       "      <td>3.000000</td>\n",
       "      <td>47.388821</td>\n",
       "      <td>8.042194</td>\n",
       "      <td>5000.0</td>\n",
       "      <td>0.738825</td>\n",
       "      <td>11.354420</td>\n",
       "      <td>32.197891</td>\n",
       "      <td>7.137064</td>\n",
       "      <td>...</td>\n",
       "      <td>0.0</td>\n",
       "      <td>0.0</td>\n",
       "      <td>0.0</td>\n",
       "      <td>0.0</td>\n",
       "      <td>0.052450</td>\n",
       "      <td>0.387507</td>\n",
       "      <td>0.267420</td>\n",
       "      <td>0.000084</td>\n",
       "      <td>0.303656</td>\n",
       "      <td>0.017111</td>\n",
       "    </tr>\n",
       "    <tr>\n",
       "      <th>8</th>\n",
       "      <td>75.0</td>\n",
       "      <td>41.432719</td>\n",
       "      <td>1.620893</td>\n",
       "      <td>47.400929</td>\n",
       "      <td>8.070691</td>\n",
       "      <td>5032.0</td>\n",
       "      <td>1.018878</td>\n",
       "      <td>11.354420</td>\n",
       "      <td>32.197891</td>\n",
       "      <td>7.137064</td>\n",
       "      <td>...</td>\n",
       "      <td>0.0</td>\n",
       "      <td>0.0</td>\n",
       "      <td>0.0</td>\n",
       "      <td>0.0</td>\n",
       "      <td>0.008914</td>\n",
       "      <td>0.370294</td>\n",
       "      <td>0.313341</td>\n",
       "      <td>0.036454</td>\n",
       "      <td>0.090869</td>\n",
       "      <td>0.347674</td>\n",
       "    </tr>\n",
       "    <tr>\n",
       "      <th>9</th>\n",
       "      <td>110.0</td>\n",
       "      <td>2116.000000</td>\n",
       "      <td>0.000000</td>\n",
       "      <td>47.395295</td>\n",
       "      <td>8.012752</td>\n",
       "      <td>5018.0</td>\n",
       "      <td>2.818486</td>\n",
       "      <td>32.994924</td>\n",
       "      <td>53.197970</td>\n",
       "      <td>1.218274</td>\n",
       "      <td>...</td>\n",
       "      <td>1.0</td>\n",
       "      <td>0.0</td>\n",
       "      <td>0.0</td>\n",
       "      <td>0.0</td>\n",
       "      <td>0.000000</td>\n",
       "      <td>0.191687</td>\n",
       "      <td>0.229131</td>\n",
       "      <td>0.000000</td>\n",
       "      <td>0.067679</td>\n",
       "      <td>0.145702</td>\n",
       "    </tr>\n",
       "  </tbody>\n",
       "</table>\n",
       "<p>10 rows × 57 columns</p>\n",
       "</div>"
      ],
      "text/plain": [
       "   Living space    Plot area     Floor   Latitude  Longitude     Zip  \\\n",
       "0         100.0  1282.323307  4.000000  47.415927   8.085840  5023.0   \n",
       "1         156.0   222.000000  2.750000  47.415927   8.085840  5023.0   \n",
       "2          93.0  1198.982216  2.000000  47.397416   8.043150  5000.0   \n",
       "3         154.0   370.000000  0.000000  47.415927   8.085840  5023.0   \n",
       "4         142.0   462.537377  0.000000  47.404870   8.052781  5022.0   \n",
       "5         190.0  1063.000000  0.000000  47.401163   8.012034  5018.0   \n",
       "6         124.0   200.000000  2.750000  47.415927   8.085840  5023.0   \n",
       "7         112.0    94.942325  3.000000  47.388821   8.042194  5000.0   \n",
       "8          75.0    41.432719  1.620893  47.400929   8.070691  5032.0   \n",
       "9         110.0  2116.000000  0.000000  47.395295   8.012752  5018.0   \n",
       "\n",
       "   distanceToTrainStation  gde_area_agriculture_percentage  \\\n",
       "0                3.038467                        30.676329   \n",
       "1                3.038467                        30.676329   \n",
       "2                0.909587                        11.354420   \n",
       "3                3.038467                        30.676329   \n",
       "4                1.460245                        33.137090   \n",
       "5                3.147978                        32.994924   \n",
       "6                3.038467                        30.676329   \n",
       "7                0.738825                        11.354420   \n",
       "8                1.018878                        11.354420   \n",
       "9                2.818486                        32.994924   \n",
       "\n",
       "   gde_area_forest_percentage  gde_area_nonproductive_percentage  ...  \\\n",
       "0                   51.449275                           4.589372  ...   \n",
       "1                   51.449275                           4.589372  ...   \n",
       "2                   32.197891                           7.137064  ...   \n",
       "3                   51.449275                           4.589372  ...   \n",
       "4                   49.705635                           1.177460  ...   \n",
       "5                   53.197970                           1.218274  ...   \n",
       "6                   51.449275                           4.589372  ...   \n",
       "7                   32.197891                           7.137064  ...   \n",
       "8                   32.197891                           7.137064  ...   \n",
       "9                   53.197970                           1.218274  ...   \n",
       "\n",
       "   type_unified_stepped-house  type_unified_studio  \\\n",
       "0                         0.0                  0.0   \n",
       "1                         0.0                  0.0   \n",
       "2                         0.0                  0.0   \n",
       "3                         0.0                  0.0   \n",
       "4                         0.0                  0.0   \n",
       "5                         0.0                  0.0   \n",
       "6                         0.0                  0.0   \n",
       "7                         0.0                  0.0   \n",
       "8                         0.0                  0.0   \n",
       "9                         1.0                  0.0   \n",
       "\n",
       "   type_unified_terrace-house  type_unified_villa  NoisePollutionRailway  \\\n",
       "0                         0.0                 0.0               0.000000   \n",
       "1                         1.0                 0.0               0.000000   \n",
       "2                         0.0                 0.0               0.000000   \n",
       "3                         0.0                 0.0               0.000000   \n",
       "4                         0.0                 0.0               0.000000   \n",
       "5                         0.0                 0.0               0.000000   \n",
       "6                         1.0                 0.0               0.000000   \n",
       "7                         0.0                 0.0               0.052450   \n",
       "8                         0.0                 0.0               0.008914   \n",
       "9                         0.0                 0.0               0.000000   \n",
       "\n",
       "   NoisePollutionRoad  PopulationDensity  RiversAndLakes  WorkplaceDensity  \\\n",
       "0            0.076399           0.223039        0.031951          0.060414   \n",
       "1            0.076399           0.223039        0.031951          0.060414   \n",
       "2            0.337930           0.451622        0.114168          0.167442   \n",
       "3            0.076399           0.223039        0.031951          0.060414   \n",
       "4            0.167450           0.177506        0.114288          0.046822   \n",
       "5            0.158337           0.317534        0.000000          0.068993   \n",
       "6            0.076399           0.223039        0.031951          0.060414   \n",
       "7            0.387507           0.267420        0.000084          0.303656   \n",
       "8            0.370294           0.313341        0.036454          0.090869   \n",
       "9            0.191687           0.229131        0.000000          0.067679   \n",
       "\n",
       "   ForestDensity  \n",
       "0       0.296178  \n",
       "1       0.296178  \n",
       "2       0.087050  \n",
       "3       0.296178  \n",
       "4       0.252992  \n",
       "5       0.129393  \n",
       "6       0.296178  \n",
       "7       0.017111  \n",
       "8       0.347674  \n",
       "9       0.145702  \n",
       "\n",
       "[10 rows x 57 columns]"
      ]
     },
     "execution_count": 27,
     "metadata": {},
     "output_type": "execute_result"
    }
   ],
   "source": [
    "data = load(Paths.REGRESSOR_DATA_WRANGLING_DATA)\n",
    "\n",
    "df = data['dataset']\n",
    "\n",
    "df = df.drop('price_cleaned', axis=1)\n",
    "\n",
    "df.head(10)"
   ]
  },
  {
   "cell_type": "markdown",
   "metadata": {
    "collapsed": false
   },
   "source": [
    "## Prepare the metadata for the simple model"
   ]
  },
  {
   "cell_type": "code",
   "execution_count": 28,
   "metadata": {
    "collapsed": false
   },
   "outputs": [],
   "source": [
    "asked_features = {\n",
    "    'Living space': {\n",
    "        'label': 'Living Space',\n",
    "        'value': 100.\n",
    "    },\n",
    "    'Plot area': {\n",
    "        'label': 'Plot Area',\n",
    "        'value': 100.    \n",
    "    },\n",
    "    'Zip': {\n",
    "        'label': 'Zip Code'\n",
    "    },\n",
    "    'rooms': {\n",
    "        'label': 'Number of rooms',\n",
    "        'value': 4.5,\n",
    "    },\n",
    "    'type_unified': {\n",
    "        'label': 'Type of property'\n",
    "    },\n",
    "    'Floor': {\n",
    "        'label': 'Floor',\n",
    "        'value': 1.\n",
    "    }\n",
    "}"
   ]
  },
  {
   "attachments": {},
   "cell_type": "markdown",
   "metadata": {},
   "source": [
    "## Find mean values per zip code to complete the data needed for the model"
   ]
  },
  {
   "cell_type": "code",
   "execution_count": 29,
   "metadata": {
    "collapsed": false
   },
   "outputs": [],
   "source": [
    "feature_means = reduce(\n",
    "    lambda state, zip_code: {\n",
    "        **state,\n",
    "        zip_code: reduce(\n",
    "            lambda state, col: {**state, col: df[df.Zip == zip_code][col].mean()},\n",
    "            list(set([\n",
    "                feat for feat in df.columns\n",
    "                if feat not in asked_features\n",
    "                and not feat.startswith('type_unified_')\n",
    "            ])),\n",
    "            {})\n",
    "        },\n",
    "    df.Zip.astype('int').unique(),\n",
    "    {})"
   ]
  },
  {
   "attachments": {},
   "cell_type": "markdown",
   "metadata": {},
   "source": [
    "## Find the possible options for Zip code and Type"
   ]
  },
  {
   "cell_type": "code",
   "execution_count": 30,
   "metadata": {
    "collapsed": false
   },
   "outputs": [],
   "source": [
    "options = {\n",
    "    'Zip': sorted(df.Zip.astype('int').unique()),\n",
    "    'type_unified': [\n",
    "        col.split('_')[-1]\n",
    "        for col in df.columns\n",
    "        if col.startswith('type_unified_')\n",
    "    ]\n",
    "}"
   ]
  },
  {
   "cell_type": "code",
   "execution_count": 31,
   "metadata": {
    "collapsed": false
   },
   "outputs": [],
   "source": [
    "scaling_data = load(Paths.REGRESSOR_SCALING_DATA)"
   ]
  },
  {
   "cell_type": "code",
   "execution_count": 32,
   "metadata": {
    "collapsed": false
   },
   "outputs": [
    {
     "data": {
      "text/plain": [
       "['data/web_service/01_0_meta_data.dump']"
      ]
     },
     "execution_count": 32,
     "metadata": {},
     "output_type": "execute_result"
    }
   ],
   "source": [
    "dump({\n",
    "    'asked_features': asked_features,\n",
    "    'options': options,\n",
    "    'feature_means': feature_means,\n",
    "    'power_options': range(2, 7),\n",
    "    'scaler': scaling_data['scaler']\n",
    "}, Paths.WEBSERVICE_META_DATA)"
   ]
  },
  {
   "cell_type": "code",
   "execution_count": null,
   "metadata": {
    "collapsed": false
   },
   "outputs": [],
   "source": []
  }
 ],
 "metadata": {
  "kernelspec": {
   "display_name": "venv",
   "language": "python",
   "name": "python3"
  },
  "language_info": {
   "codemirror_mode": {
    "name": "ipython",
    "version": 2
   },
   "file_extension": ".py",
   "mimetype": "text/x-python",
   "name": "python",
   "nbconvert_exporter": "python",
   "pygments_lexer": "ipython2",
   "version": "3.10.6 (main, Nov 14 2022, 16:10:14) [GCC 11.3.0]"
  },
  "vscode": {
   "interpreter": {
    "hash": "92c6f0d0c7f781fbe9b7028fcc548526e63af384eac0ae5e938a974458720cae"
   }
  }
 },
 "nbformat": 4,
 "nbformat_minor": 0
}
