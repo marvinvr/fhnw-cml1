{
 "cells": [
  {
   "cell_type": "markdown",
   "metadata": {
    "collapsed": false
   },
   "source": [
    "# Data Wrangling and explorative data analysis"
   ]
  },
  {
   "attachments": {},
   "cell_type": "markdown",
   "metadata": {
    "collapsed": false
   },
   "source": [
    "### Imports"
   ]
  },
  {
   "cell_type": "code",
   "execution_count": 64,
   "metadata": {
    "collapsed": true
   },
   "outputs": [],
   "source": [
    "import numpy as np\n",
    "\n",
    "from pathlib import Path\n",
    "from sklearn.preprocessing import MinMaxScaler as Scaler\n",
    "from joblib import dump, load\n",
    "\n",
    "import warnings\n",
    "warnings.filterwarnings('ignore')"
   ]
  },
  {
   "attachments": {},
   "cell_type": "markdown",
   "metadata": {
    "collapsed": false
   },
   "source": [
    "### CSV Import"
   ]
  },
  {
   "cell_type": "code",
   "execution_count": 65,
   "metadata": {
    "collapsed": false
   },
   "outputs": [],
   "source": [
    "source_path = Path('./data/model/01_clean_data.pkl')\n",
    "source_data = load(source_path)\n",
    "\n",
    "df = source_data['dataset']"
   ]
  },
  {
   "cell_type": "code",
   "execution_count": 66,
   "metadata": {
    "collapsed": false
   },
   "outputs": [
    {
     "data": {
      "text/plain": "   Living space  Plot area  price_cleaned     Floor  ForestDensityL  \\\n0         100.0      100.0      1150000.0  4.000000        0.511176   \n1         156.0      222.0      1420000.0  2.384580        0.511176   \n2          93.0       93.0       720000.0  2.000000        0.163362   \n3         154.0      370.0      1430000.0  2.272159        0.511176   \n4         142.0      142.0       995000.0  0.000000        0.333865   \n\n   ForestDensityM  ForestDensityS   Latitude  Longitude  \\\n0        0.286451        0.090908  47.415927   8.085840   \n1        0.286451        0.090908  47.415927   8.085840   \n2        0.095877        0.001911  47.397416   8.043150   \n3        0.286451        0.090908  47.415927   8.085840   \n4        0.279276        0.145835  47.404870   8.052781   \n\n   NoisePollutionRailwayL  ...  type_unified_penthouse  type_unified_rustico  \\\n0                     0.0  ...                     1.0                   0.0   \n1                     0.0  ...                     0.0                   0.0   \n2                     0.0  ...                     1.0                   0.0   \n3                     0.0  ...                     0.0                   0.0   \n4                     0.0  ...                     0.0                   0.0   \n\n   type_unified_secondary-suite  type_unified_semi-detached-house  \\\n0                           0.0                               0.0   \n1                           0.0                               0.0   \n2                           0.0                               0.0   \n3                           0.0                               0.0   \n4                           0.0                               0.0   \n\n   type_unified_single-room  type_unified_stepped-apartment  \\\n0                       0.0                             0.0   \n1                       0.0                             0.0   \n2                       0.0                             0.0   \n3                       0.0                             0.0   \n4                       0.0                             0.0   \n\n   type_unified_stepped-house  type_unified_studio  \\\n0                         0.0                  0.0   \n1                         0.0                  0.0   \n2                         0.0                  0.0   \n3                         0.0                  0.0   \n4                         0.0                  0.0   \n\n   type_unified_terrace-house  type_unified_villa  \n0                         0.0                 0.0  \n1                         1.0                 0.0  \n2                         0.0                 0.0  \n3                         0.0                 0.0  \n4                         0.0                 0.0  \n\n[5 rows x 70 columns]",
      "text/html": "<div>\n<style scoped>\n    .dataframe tbody tr th:only-of-type {\n        vertical-align: middle;\n    }\n\n    .dataframe tbody tr th {\n        vertical-align: top;\n    }\n\n    .dataframe thead th {\n        text-align: right;\n    }\n</style>\n<table border=\"1\" class=\"dataframe\">\n  <thead>\n    <tr style=\"text-align: right;\">\n      <th></th>\n      <th>Living space</th>\n      <th>Plot area</th>\n      <th>price_cleaned</th>\n      <th>Floor</th>\n      <th>ForestDensityL</th>\n      <th>ForestDensityM</th>\n      <th>ForestDensityS</th>\n      <th>Latitude</th>\n      <th>Longitude</th>\n      <th>NoisePollutionRailwayL</th>\n      <th>...</th>\n      <th>type_unified_penthouse</th>\n      <th>type_unified_rustico</th>\n      <th>type_unified_secondary-suite</th>\n      <th>type_unified_semi-detached-house</th>\n      <th>type_unified_single-room</th>\n      <th>type_unified_stepped-apartment</th>\n      <th>type_unified_stepped-house</th>\n      <th>type_unified_studio</th>\n      <th>type_unified_terrace-house</th>\n      <th>type_unified_villa</th>\n    </tr>\n  </thead>\n  <tbody>\n    <tr>\n      <th>0</th>\n      <td>100.0</td>\n      <td>100.0</td>\n      <td>1150000.0</td>\n      <td>4.000000</td>\n      <td>0.511176</td>\n      <td>0.286451</td>\n      <td>0.090908</td>\n      <td>47.415927</td>\n      <td>8.085840</td>\n      <td>0.0</td>\n      <td>...</td>\n      <td>1.0</td>\n      <td>0.0</td>\n      <td>0.0</td>\n      <td>0.0</td>\n      <td>0.0</td>\n      <td>0.0</td>\n      <td>0.0</td>\n      <td>0.0</td>\n      <td>0.0</td>\n      <td>0.0</td>\n    </tr>\n    <tr>\n      <th>1</th>\n      <td>156.0</td>\n      <td>222.0</td>\n      <td>1420000.0</td>\n      <td>2.384580</td>\n      <td>0.511176</td>\n      <td>0.286451</td>\n      <td>0.090908</td>\n      <td>47.415927</td>\n      <td>8.085840</td>\n      <td>0.0</td>\n      <td>...</td>\n      <td>0.0</td>\n      <td>0.0</td>\n      <td>0.0</td>\n      <td>0.0</td>\n      <td>0.0</td>\n      <td>0.0</td>\n      <td>0.0</td>\n      <td>0.0</td>\n      <td>1.0</td>\n      <td>0.0</td>\n    </tr>\n    <tr>\n      <th>2</th>\n      <td>93.0</td>\n      <td>93.0</td>\n      <td>720000.0</td>\n      <td>2.000000</td>\n      <td>0.163362</td>\n      <td>0.095877</td>\n      <td>0.001911</td>\n      <td>47.397416</td>\n      <td>8.043150</td>\n      <td>0.0</td>\n      <td>...</td>\n      <td>1.0</td>\n      <td>0.0</td>\n      <td>0.0</td>\n      <td>0.0</td>\n      <td>0.0</td>\n      <td>0.0</td>\n      <td>0.0</td>\n      <td>0.0</td>\n      <td>0.0</td>\n      <td>0.0</td>\n    </tr>\n    <tr>\n      <th>3</th>\n      <td>154.0</td>\n      <td>370.0</td>\n      <td>1430000.0</td>\n      <td>2.272159</td>\n      <td>0.511176</td>\n      <td>0.286451</td>\n      <td>0.090908</td>\n      <td>47.415927</td>\n      <td>8.085840</td>\n      <td>0.0</td>\n      <td>...</td>\n      <td>0.0</td>\n      <td>0.0</td>\n      <td>0.0</td>\n      <td>0.0</td>\n      <td>0.0</td>\n      <td>0.0</td>\n      <td>0.0</td>\n      <td>0.0</td>\n      <td>0.0</td>\n      <td>0.0</td>\n    </tr>\n    <tr>\n      <th>4</th>\n      <td>142.0</td>\n      <td>142.0</td>\n      <td>995000.0</td>\n      <td>0.000000</td>\n      <td>0.333865</td>\n      <td>0.279276</td>\n      <td>0.145835</td>\n      <td>47.404870</td>\n      <td>8.052781</td>\n      <td>0.0</td>\n      <td>...</td>\n      <td>0.0</td>\n      <td>0.0</td>\n      <td>0.0</td>\n      <td>0.0</td>\n      <td>0.0</td>\n      <td>0.0</td>\n      <td>0.0</td>\n      <td>0.0</td>\n      <td>0.0</td>\n      <td>0.0</td>\n    </tr>\n  </tbody>\n</table>\n<p>5 rows × 70 columns</p>\n</div>"
     },
     "execution_count": 66,
     "metadata": {},
     "output_type": "execute_result"
    }
   ],
   "source": [
    "df.head()"
   ]
  },
  {
   "cell_type": "markdown",
   "metadata": {},
   "source": [
    "### Scaling\n",
    "Using the Min-Max-Method"
   ]
  },
  {
   "cell_type": "code",
   "execution_count": 67,
   "metadata": {},
   "outputs": [
    {
     "data": {
      "text/plain": "   Living space  Plot area  price_cleaned     Floor  ForestDensityL  \\\n0      0.011759   0.000268      1150000.0  0.285714        0.569894   \n1      0.018764   0.000616      1420000.0  0.228021        0.569894   \n2      0.010883   0.000248       720000.0  0.214286        0.182127   \n3      0.018514   0.001037      1430000.0  0.224006        0.569894   \n4      0.017013   0.000388       995000.0  0.142857        0.372216   \n\n   ForestDensityM  ForestDensityS  Latitude  Longitude  \\\n0        0.286608        0.090908  0.808677   0.477811   \n1        0.286608        0.090908  0.808677   0.477811   \n2        0.095930        0.001911  0.799258   0.468164   \n3        0.286608        0.090908  0.808677   0.477811   \n4        0.279429        0.145835  0.803051   0.470341   \n\n   NoisePollutionRailwayL  ...  type_unified_penthouse  type_unified_rustico  \\\n0                     0.0  ...                     1.0                   0.0   \n1                     0.0  ...                     0.0                   0.0   \n2                     0.0  ...                     1.0                   0.0   \n3                     0.0  ...                     0.0                   0.0   \n4                     0.0  ...                     0.0                   0.0   \n\n   type_unified_secondary-suite  type_unified_semi-detached-house  \\\n0                           0.0                               0.0   \n1                           0.0                               0.0   \n2                           0.0                               0.0   \n3                           0.0                               0.0   \n4                           0.0                               0.0   \n\n   type_unified_single-room  type_unified_stepped-apartment  \\\n0                       0.0                             0.0   \n1                       0.0                             0.0   \n2                       0.0                             0.0   \n3                       0.0                             0.0   \n4                       0.0                             0.0   \n\n   type_unified_stepped-house  type_unified_studio  \\\n0                         0.0                  0.0   \n1                         0.0                  0.0   \n2                         0.0                  0.0   \n3                         0.0                  0.0   \n4                         0.0                  0.0   \n\n   type_unified_terrace-house  type_unified_villa  \n0                         0.0                 0.0  \n1                         1.0                 0.0  \n2                         0.0                 0.0  \n3                         0.0                 0.0  \n4                         0.0                 0.0  \n\n[5 rows x 70 columns]",
      "text/html": "<div>\n<style scoped>\n    .dataframe tbody tr th:only-of-type {\n        vertical-align: middle;\n    }\n\n    .dataframe tbody tr th {\n        vertical-align: top;\n    }\n\n    .dataframe thead th {\n        text-align: right;\n    }\n</style>\n<table border=\"1\" class=\"dataframe\">\n  <thead>\n    <tr style=\"text-align: right;\">\n      <th></th>\n      <th>Living space</th>\n      <th>Plot area</th>\n      <th>price_cleaned</th>\n      <th>Floor</th>\n      <th>ForestDensityL</th>\n      <th>ForestDensityM</th>\n      <th>ForestDensityS</th>\n      <th>Latitude</th>\n      <th>Longitude</th>\n      <th>NoisePollutionRailwayL</th>\n      <th>...</th>\n      <th>type_unified_penthouse</th>\n      <th>type_unified_rustico</th>\n      <th>type_unified_secondary-suite</th>\n      <th>type_unified_semi-detached-house</th>\n      <th>type_unified_single-room</th>\n      <th>type_unified_stepped-apartment</th>\n      <th>type_unified_stepped-house</th>\n      <th>type_unified_studio</th>\n      <th>type_unified_terrace-house</th>\n      <th>type_unified_villa</th>\n    </tr>\n  </thead>\n  <tbody>\n    <tr>\n      <th>0</th>\n      <td>0.011759</td>\n      <td>0.000268</td>\n      <td>1150000.0</td>\n      <td>0.285714</td>\n      <td>0.569894</td>\n      <td>0.286608</td>\n      <td>0.090908</td>\n      <td>0.808677</td>\n      <td>0.477811</td>\n      <td>0.0</td>\n      <td>...</td>\n      <td>1.0</td>\n      <td>0.0</td>\n      <td>0.0</td>\n      <td>0.0</td>\n      <td>0.0</td>\n      <td>0.0</td>\n      <td>0.0</td>\n      <td>0.0</td>\n      <td>0.0</td>\n      <td>0.0</td>\n    </tr>\n    <tr>\n      <th>1</th>\n      <td>0.018764</td>\n      <td>0.000616</td>\n      <td>1420000.0</td>\n      <td>0.228021</td>\n      <td>0.569894</td>\n      <td>0.286608</td>\n      <td>0.090908</td>\n      <td>0.808677</td>\n      <td>0.477811</td>\n      <td>0.0</td>\n      <td>...</td>\n      <td>0.0</td>\n      <td>0.0</td>\n      <td>0.0</td>\n      <td>0.0</td>\n      <td>0.0</td>\n      <td>0.0</td>\n      <td>0.0</td>\n      <td>0.0</td>\n      <td>1.0</td>\n      <td>0.0</td>\n    </tr>\n    <tr>\n      <th>2</th>\n      <td>0.010883</td>\n      <td>0.000248</td>\n      <td>720000.0</td>\n      <td>0.214286</td>\n      <td>0.182127</td>\n      <td>0.095930</td>\n      <td>0.001911</td>\n      <td>0.799258</td>\n      <td>0.468164</td>\n      <td>0.0</td>\n      <td>...</td>\n      <td>1.0</td>\n      <td>0.0</td>\n      <td>0.0</td>\n      <td>0.0</td>\n      <td>0.0</td>\n      <td>0.0</td>\n      <td>0.0</td>\n      <td>0.0</td>\n      <td>0.0</td>\n      <td>0.0</td>\n    </tr>\n    <tr>\n      <th>3</th>\n      <td>0.018514</td>\n      <td>0.001037</td>\n      <td>1430000.0</td>\n      <td>0.224006</td>\n      <td>0.569894</td>\n      <td>0.286608</td>\n      <td>0.090908</td>\n      <td>0.808677</td>\n      <td>0.477811</td>\n      <td>0.0</td>\n      <td>...</td>\n      <td>0.0</td>\n      <td>0.0</td>\n      <td>0.0</td>\n      <td>0.0</td>\n      <td>0.0</td>\n      <td>0.0</td>\n      <td>0.0</td>\n      <td>0.0</td>\n      <td>0.0</td>\n      <td>0.0</td>\n    </tr>\n    <tr>\n      <th>4</th>\n      <td>0.017013</td>\n      <td>0.000388</td>\n      <td>995000.0</td>\n      <td>0.142857</td>\n      <td>0.372216</td>\n      <td>0.279429</td>\n      <td>0.145835</td>\n      <td>0.803051</td>\n      <td>0.470341</td>\n      <td>0.0</td>\n      <td>...</td>\n      <td>0.0</td>\n      <td>0.0</td>\n      <td>0.0</td>\n      <td>0.0</td>\n      <td>0.0</td>\n      <td>0.0</td>\n      <td>0.0</td>\n      <td>0.0</td>\n      <td>0.0</td>\n      <td>0.0</td>\n    </tr>\n  </tbody>\n</table>\n<p>5 rows × 70 columns</p>\n</div>"
     },
     "execution_count": 67,
     "metadata": {},
     "output_type": "execute_result"
    }
   ],
   "source": [
    "scaled_df = df.copy()\n",
    "scaler = Scaler()\n",
    "\n",
    "all_columns = scaled_df.columns\n",
    "columns = list(filter(lambda col: col != 'price_cleaned', all_columns))\n",
    "\n",
    "scaler.fit(scaled_df[columns])\n",
    "\n",
    "scaled_df[columns] = scaler.transform(scaled_df[columns])\n",
    "\n",
    "scaled_df.head()"
   ]
  },
  {
   "attachments": {},
   "cell_type": "markdown",
   "metadata": {},
   "source": [
    "### Enhancing the dataset with additional columns with the power of an existing column"
   ]
  },
  {
   "cell_type": "code",
   "execution_count": 68,
   "metadata": {},
   "outputs": [],
   "source": [
    "numeric_columns = scaled_df.select_dtypes(include=np.number).columns.tolist()\n",
    "\n",
    "numeric_df = scaled_df[numeric_columns]\n",
    "\n",
    "numeric_df = numeric_df.drop(columns=[\n",
    "    col\n",
    "    for col in numeric_columns\n",
    "    if 'type_' in col or col == 'price_cleaned'\n",
    "])\n",
    "\n",
    "numeric_columns = numeric_df.columns"
   ]
  },
  {
   "cell_type": "code",
   "execution_count": 69,
   "metadata": {},
   "outputs": [
    {
     "data": {
      "text/plain": "48"
     },
     "execution_count": 69,
     "metadata": {},
     "output_type": "execute_result"
    }
   ],
   "source": [
    "len(numeric_columns)"
   ]
  },
  {
   "cell_type": "code",
   "execution_count": 70,
   "metadata": {},
   "outputs": [],
   "source": [
    "clean_df = scaled_df.copy()\n",
    "\n",
    "for col in numeric_columns:\n",
    "    for p in range(2,7):\n",
    "        clean_df[f'{col}_{p}'] = numeric_df[col]**p\n"
   ]
  },
  {
   "cell_type": "code",
   "execution_count": 71,
   "metadata": {},
   "outputs": [
    {
     "data": {
      "text/plain": "   Living space  Plot area  price_cleaned     Floor  ForestDensityL  \\\n0      0.011759   0.000268      1150000.0  0.285714        0.569894   \n1      0.018764   0.000616      1420000.0  0.228021        0.569894   \n2      0.010883   0.000248       720000.0  0.214286        0.182127   \n3      0.018514   0.001037      1430000.0  0.224006        0.569894   \n4      0.017013   0.000388       995000.0  0.142857        0.372216   \n\n   ForestDensityM  ForestDensityS  Latitude  Longitude  \\\n0        0.286608        0.090908  0.808677   0.477811   \n1        0.286608        0.090908  0.808677   0.477811   \n2        0.095930        0.001911  0.799258   0.468164   \n3        0.286608        0.090908  0.808677   0.477811   \n4        0.279429        0.145835  0.803051   0.470341   \n\n   NoisePollutionRailwayL  ...  gde_workers_total_2  gde_workers_total_3  \\\n0                     0.0  ...         4.489742e-07         3.008376e-10   \n1                     0.0  ...         4.489742e-07         3.008376e-10   \n2                     0.0  ...         5.103043e-03         3.645388e-04   \n3                     0.0  ...         4.489742e-07         3.008376e-10   \n4                     0.0  ...         8.152190e-06         2.327617e-08   \n\n   gde_workers_total_4  gde_workers_total_5  gde_workers_total_6   rooms_2  \\\n0         2.015778e-13         1.350683e-16         9.050323e-20  0.020408   \n1         2.015778e-13         1.350683e-16         9.050323e-20  0.020408   \n2         2.604104e-05         1.860257e-06         1.328885e-07  0.020408   \n3         2.015778e-13         1.350683e-16         9.050323e-20  0.020408   \n4         6.645820e-11         1.897517e-13         5.417799e-16  0.020408   \n\n    rooms_3   rooms_4   rooms_5   rooms_6  \n0  0.002915  0.000416  0.000059  0.000008  \n1  0.002915  0.000416  0.000059  0.000008  \n2  0.002915  0.000416  0.000059  0.000008  \n3  0.002915  0.000416  0.000059  0.000008  \n4  0.002915  0.000416  0.000059  0.000008  \n\n[5 rows x 310 columns]",
      "text/html": "<div>\n<style scoped>\n    .dataframe tbody tr th:only-of-type {\n        vertical-align: middle;\n    }\n\n    .dataframe tbody tr th {\n        vertical-align: top;\n    }\n\n    .dataframe thead th {\n        text-align: right;\n    }\n</style>\n<table border=\"1\" class=\"dataframe\">\n  <thead>\n    <tr style=\"text-align: right;\">\n      <th></th>\n      <th>Living space</th>\n      <th>Plot area</th>\n      <th>price_cleaned</th>\n      <th>Floor</th>\n      <th>ForestDensityL</th>\n      <th>ForestDensityM</th>\n      <th>ForestDensityS</th>\n      <th>Latitude</th>\n      <th>Longitude</th>\n      <th>NoisePollutionRailwayL</th>\n      <th>...</th>\n      <th>gde_workers_total_2</th>\n      <th>gde_workers_total_3</th>\n      <th>gde_workers_total_4</th>\n      <th>gde_workers_total_5</th>\n      <th>gde_workers_total_6</th>\n      <th>rooms_2</th>\n      <th>rooms_3</th>\n      <th>rooms_4</th>\n      <th>rooms_5</th>\n      <th>rooms_6</th>\n    </tr>\n  </thead>\n  <tbody>\n    <tr>\n      <th>0</th>\n      <td>0.011759</td>\n      <td>0.000268</td>\n      <td>1150000.0</td>\n      <td>0.285714</td>\n      <td>0.569894</td>\n      <td>0.286608</td>\n      <td>0.090908</td>\n      <td>0.808677</td>\n      <td>0.477811</td>\n      <td>0.0</td>\n      <td>...</td>\n      <td>4.489742e-07</td>\n      <td>3.008376e-10</td>\n      <td>2.015778e-13</td>\n      <td>1.350683e-16</td>\n      <td>9.050323e-20</td>\n      <td>0.020408</td>\n      <td>0.002915</td>\n      <td>0.000416</td>\n      <td>0.000059</td>\n      <td>0.000008</td>\n    </tr>\n    <tr>\n      <th>1</th>\n      <td>0.018764</td>\n      <td>0.000616</td>\n      <td>1420000.0</td>\n      <td>0.228021</td>\n      <td>0.569894</td>\n      <td>0.286608</td>\n      <td>0.090908</td>\n      <td>0.808677</td>\n      <td>0.477811</td>\n      <td>0.0</td>\n      <td>...</td>\n      <td>4.489742e-07</td>\n      <td>3.008376e-10</td>\n      <td>2.015778e-13</td>\n      <td>1.350683e-16</td>\n      <td>9.050323e-20</td>\n      <td>0.020408</td>\n      <td>0.002915</td>\n      <td>0.000416</td>\n      <td>0.000059</td>\n      <td>0.000008</td>\n    </tr>\n    <tr>\n      <th>2</th>\n      <td>0.010883</td>\n      <td>0.000248</td>\n      <td>720000.0</td>\n      <td>0.214286</td>\n      <td>0.182127</td>\n      <td>0.095930</td>\n      <td>0.001911</td>\n      <td>0.799258</td>\n      <td>0.468164</td>\n      <td>0.0</td>\n      <td>...</td>\n      <td>5.103043e-03</td>\n      <td>3.645388e-04</td>\n      <td>2.604104e-05</td>\n      <td>1.860257e-06</td>\n      <td>1.328885e-07</td>\n      <td>0.020408</td>\n      <td>0.002915</td>\n      <td>0.000416</td>\n      <td>0.000059</td>\n      <td>0.000008</td>\n    </tr>\n    <tr>\n      <th>3</th>\n      <td>0.018514</td>\n      <td>0.001037</td>\n      <td>1430000.0</td>\n      <td>0.224006</td>\n      <td>0.569894</td>\n      <td>0.286608</td>\n      <td>0.090908</td>\n      <td>0.808677</td>\n      <td>0.477811</td>\n      <td>0.0</td>\n      <td>...</td>\n      <td>4.489742e-07</td>\n      <td>3.008376e-10</td>\n      <td>2.015778e-13</td>\n      <td>1.350683e-16</td>\n      <td>9.050323e-20</td>\n      <td>0.020408</td>\n      <td>0.002915</td>\n      <td>0.000416</td>\n      <td>0.000059</td>\n      <td>0.000008</td>\n    </tr>\n    <tr>\n      <th>4</th>\n      <td>0.017013</td>\n      <td>0.000388</td>\n      <td>995000.0</td>\n      <td>0.142857</td>\n      <td>0.372216</td>\n      <td>0.279429</td>\n      <td>0.145835</td>\n      <td>0.803051</td>\n      <td>0.470341</td>\n      <td>0.0</td>\n      <td>...</td>\n      <td>8.152190e-06</td>\n      <td>2.327617e-08</td>\n      <td>6.645820e-11</td>\n      <td>1.897517e-13</td>\n      <td>5.417799e-16</td>\n      <td>0.020408</td>\n      <td>0.002915</td>\n      <td>0.000416</td>\n      <td>0.000059</td>\n      <td>0.000008</td>\n    </tr>\n  </tbody>\n</table>\n<p>5 rows × 310 columns</p>\n</div>"
     },
     "execution_count": 71,
     "metadata": {},
     "output_type": "execute_result"
    }
   ],
   "source": [
    "clean_df.head()"
   ]
  },
  {
   "attachments": {},
   "cell_type": "markdown",
   "metadata": {},
   "source": [
    "### Export the object"
   ]
  },
  {
   "cell_type": "code",
   "execution_count": 72,
   "metadata": {},
   "outputs": [
    {
     "data": {
      "text/plain": "['data/model/02_train_data.pkl']"
     },
     "execution_count": 72,
     "metadata": {},
     "output_type": "execute_result"
    }
   ],
   "source": [
    "target_path = Path(\"./data/model/02_train_data.pkl\")\n",
    "\n",
    "dump({\n",
    "    'scaler': scaler,\n",
    "    'imputer': source_data['imputer'],\n",
    "    'dataset': clean_df\n",
    "}, target_path)"
   ]
  },
  {
   "cell_type": "code",
   "execution_count": 72,
   "outputs": [],
   "source": [],
   "metadata": {
    "collapsed": false
   }
  }
 ],
 "metadata": {
  "kernelspec": {
   "display_name": "Python 3.10.4 64-bit",
   "language": "python",
   "name": "python3"
  },
  "language_info": {
   "codemirror_mode": {
    "name": "ipython",
    "version": 3
   },
   "file_extension": ".py",
   "mimetype": "text/x-python",
   "name": "python",
   "nbconvert_exporter": "python",
   "pygments_lexer": "ipython3",
   "version": "3.10.4"
  },
  "vscode": {
   "interpreter": {
    "hash": "369f2c481f4da34e4445cda3fffd2e751bd1c4d706f27375911949ba6bb62e1c"
   }
  }
 },
 "nbformat": 4,
 "nbformat_minor": 0
}
